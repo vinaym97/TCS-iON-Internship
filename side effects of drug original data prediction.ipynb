{
 "cells": [
  {
   "cell_type": "markdown",
   "metadata": {},
   "source": [
    "### importing libraries"
   ]
  },
  {
   "cell_type": "code",
   "execution_count": 181,
   "metadata": {},
   "outputs": [],
   "source": [
    "import numpy as np\n",
    "import pandas as pd\n",
    "import matplotlib.pyplot as plt\n",
    "import seaborn as sns"
   ]
  },
  {
   "cell_type": "markdown",
   "metadata": {},
   "source": [
    "### importing data"
   ]
  },
  {
   "cell_type": "code",
   "execution_count": 182,
   "metadata": {},
   "outputs": [],
   "source": [
    "df=pd.read_csv(\"drugeffects.csv\",index_col=0)"
   ]
  },
  {
   "cell_type": "code",
   "execution_count": 183,
   "metadata": {},
   "outputs": [
    {
     "data": {
      "text/html": [
       "<div>\n",
       "<style scoped>\n",
       "    .dataframe tbody tr th:only-of-type {\n",
       "        vertical-align: middle;\n",
       "    }\n",
       "\n",
       "    .dataframe tbody tr th {\n",
       "        vertical-align: top;\n",
       "    }\n",
       "\n",
       "    .dataframe thead th {\n",
       "        text-align: right;\n",
       "    }\n",
       "</style>\n",
       "<table border=\"1\" class=\"dataframe\">\n",
       "  <thead>\n",
       "    <tr style=\"text-align: right;\">\n",
       "      <th></th>\n",
       "      <th>urlDrugName</th>\n",
       "      <th>rating</th>\n",
       "      <th>effectiveness</th>\n",
       "      <th>condition</th>\n",
       "      <th>sideEffects</th>\n",
       "    </tr>\n",
       "  </thead>\n",
       "  <tbody>\n",
       "    <tr>\n",
       "      <th>0</th>\n",
       "      <td>enalapril</td>\n",
       "      <td>4</td>\n",
       "      <td>Highly Effective</td>\n",
       "      <td>management of congestive heart failure</td>\n",
       "      <td>Mild Side Effects</td>\n",
       "    </tr>\n",
       "    <tr>\n",
       "      <th>1</th>\n",
       "      <td>ortho-tri-cyclen</td>\n",
       "      <td>1</td>\n",
       "      <td>Highly Effective</td>\n",
       "      <td>birth prevention</td>\n",
       "      <td>Severe Side Effects</td>\n",
       "    </tr>\n",
       "    <tr>\n",
       "      <th>2</th>\n",
       "      <td>ponstel</td>\n",
       "      <td>10</td>\n",
       "      <td>Highly Effective</td>\n",
       "      <td>menstrual cramps</td>\n",
       "      <td>No Side Effects</td>\n",
       "    </tr>\n",
       "    <tr>\n",
       "      <th>3</th>\n",
       "      <td>prilosec</td>\n",
       "      <td>3</td>\n",
       "      <td>Marginally Effective</td>\n",
       "      <td>acid reflux</td>\n",
       "      <td>Mild Side Effects</td>\n",
       "    </tr>\n",
       "    <tr>\n",
       "      <th>4</th>\n",
       "      <td>lyrica</td>\n",
       "      <td>2</td>\n",
       "      <td>Marginally Effective</td>\n",
       "      <td>fibromyalgia</td>\n",
       "      <td>Severe Side Effects</td>\n",
       "    </tr>\n",
       "  </tbody>\n",
       "</table>\n",
       "</div>"
      ],
      "text/plain": [
       "        urlDrugName  rating         effectiveness  \\\n",
       "0         enalapril       4      Highly Effective   \n",
       "1  ortho-tri-cyclen       1      Highly Effective   \n",
       "2           ponstel      10      Highly Effective   \n",
       "3          prilosec       3  Marginally Effective   \n",
       "4            lyrica       2  Marginally Effective   \n",
       "\n",
       "                                condition          sideEffects  \n",
       "0  management of congestive heart failure    Mild Side Effects  \n",
       "1                        birth prevention  Severe Side Effects  \n",
       "2                        menstrual cramps      No Side Effects  \n",
       "3                             acid reflux    Mild Side Effects  \n",
       "4                            fibromyalgia  Severe Side Effects  "
      ]
     },
     "execution_count": 183,
     "metadata": {},
     "output_type": "execute_result"
    }
   ],
   "source": [
    "df.head()"
   ]
  },
  {
   "cell_type": "code",
   "execution_count": 184,
   "metadata": {},
   "outputs": [
    {
     "data": {
      "text/plain": [
       "(3107, 5)"
      ]
     },
     "execution_count": 184,
     "metadata": {},
     "output_type": "execute_result"
    }
   ],
   "source": [
    "df.shape"
   ]
  },
  {
   "cell_type": "code",
   "execution_count": 185,
   "metadata": {},
   "outputs": [
    {
     "name": "stdout",
     "output_type": "stream",
     "text": [
      "<class 'pandas.core.frame.DataFrame'>\n",
      "Int64Index: 3107 entries, 0 to 3106\n",
      "Data columns (total 5 columns):\n",
      " #   Column         Non-Null Count  Dtype \n",
      "---  ------         --------------  ----- \n",
      " 0   urlDrugName    3107 non-null   object\n",
      " 1   rating         3107 non-null   int64 \n",
      " 2   effectiveness  3107 non-null   object\n",
      " 3   condition      3106 non-null   object\n",
      " 4   sideEffects    3107 non-null   object\n",
      "dtypes: int64(1), object(4)\n",
      "memory usage: 145.6+ KB\n"
     ]
    }
   ],
   "source": [
    "df.info()"
   ]
  },
  {
   "cell_type": "markdown",
   "metadata": {},
   "source": [
    "### checking missing values and found that only 1 missing value present"
   ]
  },
  {
   "cell_type": "code",
   "execution_count": 186,
   "metadata": {},
   "outputs": [
    {
     "data": {
      "text/plain": [
       "urlDrugName      0\n",
       "rating           0\n",
       "effectiveness    0\n",
       "condition        1\n",
       "sideEffects      0\n",
       "dtype: int64"
      ]
     },
     "execution_count": 186,
     "metadata": {},
     "output_type": "execute_result"
    }
   ],
   "source": [
    "df.isna().sum()"
   ]
  },
  {
   "cell_type": "code",
   "execution_count": 187,
   "metadata": {},
   "outputs": [],
   "source": [
    "df['condition'] = df['condition'].fillna(df['condition'].mode()[0])"
   ]
  },
  {
   "cell_type": "code",
   "execution_count": 189,
   "metadata": {
    "scrolled": true
   },
   "outputs": [
    {
     "data": {
      "text/plain": [
       "depression             237\n",
       "acne                   165\n",
       "anxiety                 63\n",
       "insomnia                54\n",
       "birth control           49\n",
       "high blood pressure     42\n",
       "allergies               37\n",
       "acid reflux             33\n",
       "asthma                  33\n",
       "migraines               31\n",
       "Name: condition, dtype: int64"
      ]
     },
     "execution_count": 189,
     "metadata": {},
     "output_type": "execute_result"
    }
   ],
   "source": [
    "df['condition'].value_counts().head(10)"
   ]
  },
  {
   "cell_type": "code",
   "execution_count": 161,
   "metadata": {},
   "outputs": [
    {
     "data": {
      "text/plain": [
       "urlDrugName      0\n",
       "rating           0\n",
       "effectiveness    0\n",
       "condition        0\n",
       "sideEffects      0\n",
       "dtype: int64"
      ]
     },
     "execution_count": 161,
     "metadata": {},
     "output_type": "execute_result"
    }
   ],
   "source": [
    "df.isna().sum()"
   ]
  },
  {
   "cell_type": "markdown",
   "metadata": {},
   "source": [
    "### Major  drugs"
   ]
  },
  {
   "cell_type": "code",
   "execution_count": 162,
   "metadata": {},
   "outputs": [
    {
     "data": {
      "text/plain": [
       "lexapro       63\n",
       "prozac        46\n",
       "retin-a       45\n",
       "zoloft        45\n",
       "paxil         38\n",
       "              ..\n",
       "arimidex       1\n",
       "elocon         1\n",
       "clobetasol     1\n",
       "aloprim        1\n",
       "ortho-evra     1\n",
       "Name: urlDrugName, Length: 502, dtype: int64"
      ]
     },
     "execution_count": 162,
     "metadata": {},
     "output_type": "execute_result"
    }
   ],
   "source": [
    "df['urlDrugName'].value_counts()"
   ]
  },
  {
   "cell_type": "markdown",
   "metadata": {},
   "source": [
    "### looking unique values of important columns"
   ]
  },
  {
   "cell_type": "code",
   "execution_count": 163,
   "metadata": {},
   "outputs": [
    {
     "data": {
      "text/plain": [
       "502"
      ]
     },
     "execution_count": 163,
     "metadata": {},
     "output_type": "execute_result"
    }
   ],
   "source": [
    "df['urlDrugName'].nunique()"
   ]
  },
  {
   "cell_type": "code",
   "execution_count": 164,
   "metadata": {
    "scrolled": true
   },
   "outputs": [
    {
     "data": {
      "text/plain": [
       "1426"
      ]
     },
     "execution_count": 164,
     "metadata": {},
     "output_type": "execute_result"
    }
   ],
   "source": [
    "df['condition'].nunique()"
   ]
  },
  {
   "cell_type": "code",
   "execution_count": 165,
   "metadata": {},
   "outputs": [
    {
     "data": {
      "text/plain": [
       "Mild Side Effects                1019\n",
       "No Side Effects                   930\n",
       "Moderate Side Effects             614\n",
       "Severe Side Effects               369\n",
       "Extremely Severe Side Effects     175\n",
       "Name: sideEffects, dtype: int64"
      ]
     },
     "execution_count": 165,
     "metadata": {},
     "output_type": "execute_result"
    }
   ],
   "source": [
    "df['sideEffects'].value_counts()"
   ]
  },
  {
   "cell_type": "markdown",
   "metadata": {},
   "source": [
    "### Data visualization"
   ]
  },
  {
   "cell_type": "code",
   "execution_count": 166,
   "metadata": {},
   "outputs": [
    {
     "data": {
      "text/html": [
       "<div>\n",
       "<style scoped>\n",
       "    .dataframe tbody tr th:only-of-type {\n",
       "        vertical-align: middle;\n",
       "    }\n",
       "\n",
       "    .dataframe tbody tr th {\n",
       "        vertical-align: top;\n",
       "    }\n",
       "\n",
       "    .dataframe thead th {\n",
       "        text-align: right;\n",
       "    }\n",
       "</style>\n",
       "<table border=\"1\" class=\"dataframe\">\n",
       "  <thead>\n",
       "    <tr style=\"text-align: right;\">\n",
       "      <th></th>\n",
       "      <th>Frequency</th>\n",
       "    </tr>\n",
       "  </thead>\n",
       "  <tbody>\n",
       "    <tr>\n",
       "      <th>Mild Side Effects</th>\n",
       "      <td>1019</td>\n",
       "    </tr>\n",
       "    <tr>\n",
       "      <th>No Side Effects</th>\n",
       "      <td>930</td>\n",
       "    </tr>\n",
       "    <tr>\n",
       "      <th>Moderate Side Effects</th>\n",
       "      <td>614</td>\n",
       "    </tr>\n",
       "    <tr>\n",
       "      <th>Severe Side Effects</th>\n",
       "      <td>369</td>\n",
       "    </tr>\n",
       "    <tr>\n",
       "      <th>Extremely Severe Side Effects</th>\n",
       "      <td>175</td>\n",
       "    </tr>\n",
       "  </tbody>\n",
       "</table>\n",
       "</div>"
      ],
      "text/plain": [
       "                               Frequency\n",
       "Mild Side Effects                   1019\n",
       "No Side Effects                      930\n",
       "Moderate Side Effects                614\n",
       "Severe Side Effects                  369\n",
       "Extremely Severe Side Effects        175"
      ]
     },
     "execution_count": 166,
     "metadata": {},
     "output_type": "execute_result"
    }
   ],
   "source": [
    "value=df['sideEffects'].value_counts()\n",
    "# sizes=value[:10]\n",
    "series=pd.DataFrame(value)\n",
    "#series['sideEffects']=series.index\n",
    "series.rename(columns={'sideEffects': 'Frequency'},inplace=True)\n",
    "series"
   ]
  },
  {
   "cell_type": "code",
   "execution_count": 177,
   "metadata": {},
   "outputs": [
    {
     "data": {
      "image/png": "[encoded data removed]",
      "text/plain": [
       "<Figure size 432x288 with 1 Axes>"
      ]
     },
     "metadata": {},
     "output_type": "display_data"
    }
   ],
   "source": [
    "explode = (0.05,0,0,0,0) \n",
    "fig1, ax1 = plt.subplots()\n",
    "ax1.pie(series['Frequency'], labels=series.index,explode=explode, autopct='%1.1f%%',\n",
    "        shadow=True, startangle=90,radius=2)\n",
    "#ax1.axis('equal')  # Equal aspect ratio ensures that pie is drawn as a circle.\n",
    "plt.suptitle('Pie chart - Side Effects of Drugs', x=0.525, y=1.45, ha='center', fontsize=30)\n",
    "# plt.title( \"Side Effects of Drugs\" , size = 5 ) \n",
    "plt.show()"
   ]
  },
  {
   "cell_type": "code",
   "execution_count": 178,
   "metadata": {},
   "outputs": [
    {
     "data": {
      "text/plain": [
       "<matplotlib.axes._subplots.AxesSubplot at 0x1dd305c9a90>"
      ]
     },
     "execution_count": 178,
     "metadata": {},
     "output_type": "execute_result"
    },
    {
     "data": {
      "image/png": "[encoded data removed]",
      "text/plain": [
       "<Figure size 720x504 with 1 Axes>"
      ]
     },
     "metadata": {
      "needs_background": "light"
     },
     "output_type": "display_data"
    }
   ],
   "source": [
    "val=df['urlDrugName'].value_counts().head(10)\n",
    "# sizes=value[:10]\n",
    "series=pd.DataFrame(val)\n",
    "#series['sideEffects']=series.index\n",
    "series.rename(columns={'urlDrugName': 'Frequency'},inplace=True)\n",
    "fig, ax = plt.subplots(figsize=(10,7))\n",
    "# Set label for x-axis \n",
    "ax.set_xlabel( \"Drugs\" , size = 12 ) \n",
    "  \n",
    "# Set label for y-axis \n",
    "ax.set_ylabel( \"Frequency\" , size = 12 ) \n",
    "  \n",
    "# Set title for plot \n",
    "ax.set_title( \"Top Drugs used\" , size = 24 ) \n",
    "sns.barplot(x=series.index,y=series['Frequency'],data=series)"
   ]
  },
  {
   "cell_type": "code",
   "execution_count": 180,
   "metadata": {},
   "outputs": [
    {
     "data": {
      "text/plain": [
       "<matplotlib.axes._subplots.AxesSubplot at 0x1dd307da760>"
      ]
     },
     "execution_count": 180,
     "metadata": {},
     "output_type": "execute_result"
    },
    {
     "data": {
      "image/png": "[encoded data removed]",
      "text/plain": [
       "<Figure size 1080x504 with 1 Axes>"
      ]
     },
     "metadata": {
      "needs_background": "light"
     },
     "output_type": "display_data"
    }
   ],
   "source": [
    "val=df['condition'].value_counts().head(7)\n",
    "# sizes=value[:10]\n",
    "series=pd.DataFrame(val)\n",
    "#series['sideEffects']=series.index\n",
    "series.rename(columns={'condition': 'Frequency'},inplace=True)\n",
    "fig, ax = plt.subplots(figsize=(15,7))\n",
    "# Set label for x-axis \n",
    "ax.set_xlabel( \"condition\" , size = 12 ) \n",
    "  \n",
    "# Set label for y-axis \n",
    "ax.set_ylabel( \"Frequency\" , size = 12 ) \n",
    "  \n",
    "# Set title for plot \n",
    "ax.set_title( \"Major Health Conditions for Drug Use\" , size = 24 ) \n",
    "sns.barplot(x=series.index,y=series['Frequency'],data=series)"
   ]
  },
  {
   "cell_type": "code",
   "execution_count": 154,
   "metadata": {},
   "outputs": [
    {
     "data": {
      "text/plain": [
       "Text(0, 0.5, 'Frequency')"
      ]
     },
     "execution_count": 154,
     "metadata": {},
     "output_type": "execute_result"
    },
    {
     "data": {
      "image/png": "[encoded data removed]",
      "text/plain": [
       "<Figure size 720x720 with 1 Axes>"
      ]
     },
     "metadata": {
      "needs_background": "light"
     },
     "output_type": "display_data"
    }
   ],
   "source": [
    "plt.figure(figsize=(10,10))\n",
    "df['rating'].hist(bins=10,ec='k',color='purple', edgecolor='black')\n",
    "# plt.title('Drug Rating',size=10)\n",
    "plt.suptitle('Drug Rating', x=0.5, y=1.05, ha='center', fontsize=30)\n",
    "plt.xlabel(\"Ratings\")\n",
    "plt.ylabel(\"Frequency\")"
   ]
  },
  {
   "cell_type": "markdown",
   "metadata": {},
   "source": [
    "### label encoding all columns with mapping"
   ]
  },
  {
   "cell_type": "code",
   "execution_count": 12,
   "metadata": {},
   "outputs": [],
   "source": [
    "cols=['urlDrugName','effectiveness','condition','sideEffects']"
   ]
  },
  {
   "cell_type": "code",
   "execution_count": 13,
   "metadata": {},
   "outputs": [],
   "source": [
    "from sklearn.preprocessing import LabelEncoder\n",
    "mappings=list()\n",
    "labelencoder=LabelEncoder()\n",
    "for x in cols:\n",
    "    df[x]=labelencoder.fit_transform(df[x])\n",
    "    mappings_dict={index:label for index, label in enumerate(labelencoder.classes_)}\n",
    "    mappings.append(mappings_dict)"
   ]
  },
  {
   "cell_type": "code",
   "execution_count": 14,
   "metadata": {},
   "outputs": [
    {
     "data": {
      "text/plain": [
       "[{0: 'abilify',\n",
       "  1: 'accolate',\n",
       "  2: 'accupril',\n",
       "  3: 'accutane',\n",
       "  4: 'aciphex',\n",
       "  5: 'actiq',\n",
       "  6: 'actonel',\n",
       "  7: 'actos',\n",
       "  8: 'acyclovir',\n",
       "  9: 'aczone',\n",
       "  10: 'adcirca',\n",
       "  11: 'adderall',\n",
       "  12: 'adderall-xr',\n",
       "  13: 'adipex-p',\n",
       "  14: 'advair-diskus',\n",
       "  15: 'advair-hfa',\n",
       "  16: 'albuterol',\n",
       "  17: 'aldactone',\n",
       "  18: 'aldara',\n",
       "  19: 'alendronate',\n",
       "  20: 'alesse',\n",
       "  21: 'allegra',\n",
       "  22: 'allegra-d',\n",
       "  23: 'aloprim',\n",
       "  24: 'alprazolam',\n",
       "  25: 'ambien',\n",
       "  26: 'ambien-cr',\n",
       "  27: 'amerge',\n",
       "  28: 'amitiza',\n",
       "  29: 'amoxil',\n",
       "  30: 'amphetamine',\n",
       "  31: 'ampicillin',\n",
       "  32: 'anafranil',\n",
       "  33: 'androgel',\n",
       "  34: 'angeliq',\n",
       "  35: 'antivert',\n",
       "  36: 'aralen',\n",
       "  37: 'arava',\n",
       "  38: 'aricept',\n",
       "  39: 'arimidex',\n",
       "  40: 'armour-thyroid',\n",
       "  41: 'aromasin',\n",
       "  42: 'arthrotec',\n",
       "  43: 'asacol',\n",
       "  44: 'asmanex',\n",
       "  45: 'atacand',\n",
       "  46: 'atarax',\n",
       "  47: 'atenolol',\n",
       "  48: 'ativan',\n",
       "  49: 'atripla',\n",
       "  50: 'augmentin',\n",
       "  51: 'avage',\n",
       "  52: 'avapro',\n",
       "  53: 'avelox',\n",
       "  54: 'avita',\n",
       "  55: 'avodart',\n",
       "  56: 'axert',\n",
       "  57: 'aygestin',\n",
       "  58: 'azasan',\n",
       "  59: 'azelex',\n",
       "  60: 'azopt',\n",
       "  61: 'azor',\n",
       "  62: 'baciim',\n",
       "  63: 'baclofen',\n",
       "  64: 'bactrim-ds',\n",
       "  65: 'bactroban',\n",
       "  66: 'baraclude',\n",
       "  67: 'benadryl',\n",
       "  68: 'benicar',\n",
       "  69: 'benicar-hct',\n",
       "  70: 'benzaclin',\n",
       "  71: 'betamethasone',\n",
       "  72: 'betaseron',\n",
       "  73: 'biaxin',\n",
       "  74: 'bisoprolol',\n",
       "  75: 'boniva',\n",
       "  76: 'botox',\n",
       "  77: 'buprenorphine',\n",
       "  78: 'buspar',\n",
       "  79: 'byetta',\n",
       "  80: 'bystolic',\n",
       "  81: 'caduet',\n",
       "  82: 'carac',\n",
       "  83: 'cardura',\n",
       "  84: 'cardura-xl',\n",
       "  85: 'cataflam',\n",
       "  86: 'catapres',\n",
       "  87: 'ceclor',\n",
       "  88: 'cefzil',\n",
       "  89: 'celebrex',\n",
       "  90: 'celexa',\n",
       "  91: 'chantix',\n",
       "  92: 'cialis',\n",
       "  93: 'cipro',\n",
       "  94: 'citalopram',\n",
       "  95: 'clarinex',\n",
       "  96: 'claripel-cream',\n",
       "  97: 'clarithromycin',\n",
       "  98: 'claritin',\n",
       "  99: 'cleocin',\n",
       "  100: 'climara',\n",
       "  101: 'climara-pro',\n",
       "  102: 'clindamycin',\n",
       "  103: 'clindamycin-topical',\n",
       "  104: 'clobetasol',\n",
       "  105: 'clobex',\n",
       "  106: 'clomid',\n",
       "  107: 'clonazepam',\n",
       "  108: 'compazine',\n",
       "  109: 'concerta',\n",
       "  110: 'copaxone',\n",
       "  111: 'coreg',\n",
       "  112: 'corgard',\n",
       "  113: 'cosopt',\n",
       "  114: 'coumadin',\n",
       "  115: 'cozaar',\n",
       "  116: 'crestor',\n",
       "  117: 'cymbalta',\n",
       "  118: 'cyproheptadine',\n",
       "  119: 'cytomel',\n",
       "  120: 'danazol',\n",
       "  121: 'dapsone',\n",
       "  122: 'darvocet-n',\n",
       "  123: 'delestrogen',\n",
       "  124: 'deltasone',\n",
       "  125: 'depakene',\n",
       "  126: 'depakote',\n",
       "  127: 'depo-provera',\n",
       "  128: 'desonide',\n",
       "  129: 'desyrel',\n",
       "  130: 'detrol',\n",
       "  131: 'detrol-la',\n",
       "  132: 'dexamethasone',\n",
       "  133: 'dexedrine',\n",
       "  134: 'dextroamphetamine',\n",
       "  135: 'dextrostat',\n",
       "  136: 'diazepam',\n",
       "  137: 'diclofenac',\n",
       "  138: 'dicyclomine',\n",
       "  139: 'differin',\n",
       "  140: 'diflucan',\n",
       "  141: 'dilantin',\n",
       "  142: 'dilaudid',\n",
       "  143: 'diltiazem',\n",
       "  144: 'diovan',\n",
       "  145: 'dispermox',\n",
       "  146: 'ditropan',\n",
       "  147: 'divigel',\n",
       "  148: 'doryx',\n",
       "  149: 'dostinex',\n",
       "  150: 'dovonex',\n",
       "  151: 'doxepin',\n",
       "  152: 'doxycycline',\n",
       "  153: 'duac',\n",
       "  154: 'duragesic',\n",
       "  155: 'dysport',\n",
       "  156: 'ecotrin',\n",
       "  157: 'effexor',\n",
       "  158: 'effexor-xr',\n",
       "  159: 'efudex',\n",
       "  160: 'elavil',\n",
       "  161: 'elidel',\n",
       "  162: 'elmiron',\n",
       "  163: 'elocon',\n",
       "  164: 'emsam',\n",
       "  165: 'enablex',\n",
       "  166: 'enalapril',\n",
       "  167: 'enbrel',\n",
       "  168: 'erythra-derm',\n",
       "  169: 'erythromycin',\n",
       "  170: 'estrace',\n",
       "  171: 'estrasorb',\n",
       "  172: 'estratest',\n",
       "  173: 'estring',\n",
       "  174: 'estrostep-fe',\n",
       "  175: 'eulexin',\n",
       "  176: 'evista',\n",
       "  177: 'evoclin',\n",
       "  178: 'exelon',\n",
       "  179: 'femara',\n",
       "  180: 'femhrt',\n",
       "  181: 'femring',\n",
       "  182: 'fentanyl',\n",
       "  183: 'fexofenadine',\n",
       "  184: 'finacea',\n",
       "  185: 'fioricet',\n",
       "  186: 'fiorinal',\n",
       "  187: 'flagyl',\n",
       "  188: 'flexeril',\n",
       "  189: 'flomax',\n",
       "  190: 'flonase',\n",
       "  191: 'flovent',\n",
       "  192: 'fluconazole',\n",
       "  193: 'fluvoxamine',\n",
       "  194: 'follistim',\n",
       "  195: 'fortaz',\n",
       "  196: 'fosamax',\n",
       "  197: 'fosamax-plus-d',\n",
       "  198: 'fosinopril',\n",
       "  199: 'frova',\n",
       "  200: 'galzin',\n",
       "  201: 'geodon',\n",
       "  202: 'glucophage',\n",
       "  203: 'glucophage-xr',\n",
       "  204: 'gonal-f-rff',\n",
       "  205: 'grifulvin-v',\n",
       "  206: 'halcion',\n",
       "  207: 'haldol',\n",
       "  208: 'humira',\n",
       "  209: 'hydrochlorothiazide',\n",
       "  210: 'hydrocodone-and-acetaminophen',\n",
       "  211: 'hydrocortisone',\n",
       "  212: 'hyoscyamine',\n",
       "  213: 'hytrin',\n",
       "  214: 'hyzaar',\n",
       "  215: 'imitrex',\n",
       "  216: 'imodium',\n",
       "  217: 'imuran',\n",
       "  218: 'inderal',\n",
       "  219: 'innofem',\n",
       "  220: 'inspra',\n",
       "  221: 'isoniazid',\n",
       "  222: 'keflex',\n",
       "  223: 'kenalog',\n",
       "  224: 'keppra',\n",
       "  225: 'ketoconazole',\n",
       "  226: 'ketorolac',\n",
       "  227: 'klaron',\n",
       "  228: 'klonopin',\n",
       "  229: 'lac-hydrin',\n",
       "  230: 'lamictal',\n",
       "  231: 'lamisil',\n",
       "  232: 'lamotrigine',\n",
       "  233: 'lantus',\n",
       "  234: 'lasix',\n",
       "  235: 'latisse',\n",
       "  236: 'levaquin',\n",
       "  237: 'levetiracetam',\n",
       "  238: 'levitra',\n",
       "  239: 'levora',\n",
       "  240: 'levothroid',\n",
       "  241: 'levoxyl',\n",
       "  242: 'lexapro',\n",
       "  243: 'lidex',\n",
       "  244: 'lidocaine',\n",
       "  245: 'lipitor',\n",
       "  246: 'lithium-carbonate',\n",
       "  247: 'lo-ovral',\n",
       "  248: 'locoid-lipocream',\n",
       "  249: 'lodine',\n",
       "  250: 'lopressor',\n",
       "  251: 'lorazepam',\n",
       "  252: 'lortab',\n",
       "  253: 'lotrel',\n",
       "  254: 'lotronex',\n",
       "  255: 'lumigan',\n",
       "  256: 'lunesta',\n",
       "  257: 'lupron',\n",
       "  258: 'lybrel',\n",
       "  259: 'lyrica',\n",
       "  260: 'macrobid',\n",
       "  261: 'malarone',\n",
       "  262: 'maxalt',\n",
       "  263: 'medroxyprogesterone',\n",
       "  264: 'meperidine',\n",
       "  265: 'mercaptopurine',\n",
       "  266: 'meridia',\n",
       "  267: 'metformin',\n",
       "  268: 'metformin-extended-release',\n",
       "  269: 'methadone',\n",
       "  270: 'methimazole',\n",
       "  271: 'methotrexate',\n",
       "  272: 'metoclopramide',\n",
       "  273: 'metoprolol',\n",
       "  274: 'metrogel',\n",
       "  275: 'metrolotion',\n",
       "  276: 'metronidazole',\n",
       "  277: 'mevacor',\n",
       "  278: 'micardis',\n",
       "  279: 'minocin',\n",
       "  280: 'minocycline',\n",
       "  281: 'minoxidil',\n",
       "  282: 'miralax',\n",
       "  283: 'mirapex',\n",
       "  284: 'mirena',\n",
       "  285: 'mirtazapine',\n",
       "  286: 'mobic',\n",
       "  287: 'morphine',\n",
       "  288: 'motrin',\n",
       "  289: 'naltrexone',\n",
       "  290: 'naprosyn',\n",
       "  291: 'naproxen',\n",
       "  292: 'nardil',\n",
       "  293: 'nasacort',\n",
       "  294: 'nasacort-aq',\n",
       "  295: 'nasarel',\n",
       "  296: 'nasonex',\n",
       "  297: 'neoprofen',\n",
       "  298: 'neurontin',\n",
       "  299: 'nexium',\n",
       "  300: 'niacor',\n",
       "  301: 'niaspan',\n",
       "  302: 'nitrofurantoin',\n",
       "  303: 'nizoral',\n",
       "  304: 'nizoral-shampoo',\n",
       "  305: 'nolvadex',\n",
       "  306: 'noroxin',\n",
       "  307: 'norpramin',\n",
       "  308: 'nortriptyline',\n",
       "  309: 'norvasc',\n",
       "  310: 'nuvaring',\n",
       "  311: 'nuvigil',\n",
       "  312: 'nystatin',\n",
       "  313: 'omacor',\n",
       "  314: 'omnicef',\n",
       "  315: 'omnitrope',\n",
       "  316: 'oracea',\n",
       "  317: 'ortho-evra',\n",
       "  318: 'ortho-novum',\n",
       "  319: 'ortho-tri-cyclen',\n",
       "  320: 'ortho-tri-cyclen-lo',\n",
       "  321: 'oxazepam',\n",
       "  322: 'oxybutynin',\n",
       "  323: 'oxycodone',\n",
       "  324: 'oxycodone-and-acetaminophen',\n",
       "  325: 'oxycontin',\n",
       "  326: 'pamelor',\n",
       "  327: 'panixine-disperdose',\n",
       "  328: 'parlodel',\n",
       "  329: 'paxil',\n",
       "  330: 'paxil-cr',\n",
       "  331: 'penicillin-v',\n",
       "  332: 'penlac',\n",
       "  333: 'pentasa',\n",
       "  334: 'pepcid',\n",
       "  335: 'percocet',\n",
       "  336: 'periogard',\n",
       "  337: 'periostat',\n",
       "  338: 'permapen',\n",
       "  339: 'phendimetrazine',\n",
       "  340: 'phenergan',\n",
       "  341: 'pilocarpine',\n",
       "  342: 'plavix',\n",
       "  343: 'plendil',\n",
       "  344: 'polymyxin-b',\n",
       "  345: 'ponstel',\n",
       "  346: 'pravachol',\n",
       "  347: 'prednisolone',\n",
       "  348: 'prednisone',\n",
       "  349: 'premarin',\n",
       "  350: 'premarin-vaginal',\n",
       "  351: 'prempro',\n",
       "  352: 'prevacid',\n",
       "  353: 'prilosec',\n",
       "  354: 'prinivil',\n",
       "  355: 'pristiq',\n",
       "  356: 'proair-hfa',\n",
       "  357: 'prochlorperazine',\n",
       "  358: 'progesterone',\n",
       "  359: 'prograf',\n",
       "  360: 'proloprim',\n",
       "  361: 'prometrium',\n",
       "  362: 'propecia',\n",
       "  363: 'propranolol',\n",
       "  364: 'proquin-xr',\n",
       "  365: 'proscar',\n",
       "  366: 'protonix',\n",
       "  367: 'protopic',\n",
       "  368: 'provera',\n",
       "  369: 'provigil',\n",
       "  370: 'prozac',\n",
       "  371: 'quibron-t',\n",
       "  372: 'qvar',\n",
       "  373: 'ranitidine',\n",
       "  374: 'rebif',\n",
       "  375: 'reglan',\n",
       "  376: 'relafen',\n",
       "  377: 'relpax',\n",
       "  378: 'remeron',\n",
       "  379: 'remicade',\n",
       "  380: 'renova',\n",
       "  381: 'requip',\n",
       "  382: 'restasis',\n",
       "  383: 'restoril',\n",
       "  384: 'retin-a',\n",
       "  385: 'retin-a-micro',\n",
       "  386: 'rhinocort',\n",
       "  387: 'ribavirin',\n",
       "  388: 'rifadin',\n",
       "  389: 'risperdal',\n",
       "  390: 'risperdal-consta',\n",
       "  391: 'ritalin',\n",
       "  392: 'ritalin-la',\n",
       "  393: 'saizen',\n",
       "  394: 'sanctura-xr',\n",
       "  395: 'sarafem',\n",
       "  396: 'seasonale',\n",
       "  397: 'seasonique',\n",
       "  398: 'selegiline',\n",
       "  399: 'septra',\n",
       "  400: 'seroquel',\n",
       "  401: 'seroquel-xr',\n",
       "  402: 'serzone',\n",
       "  403: 'singulair',\n",
       "  404: 'skelaxin',\n",
       "  405: 'solodyn',\n",
       "  406: 'soltamox',\n",
       "  407: 'soma',\n",
       "  408: 'sonata',\n",
       "  409: 'sotret',\n",
       "  410: 'spiriva',\n",
       "  411: 'spironolactone',\n",
       "  412: 'strattera',\n",
       "  413: 'suboxone',\n",
       "  414: 'sular',\n",
       "  415: 'sulfasalazine',\n",
       "  416: 'sulindac',\n",
       "  417: 'sumatriptan',\n",
       "  418: 'symbicort',\n",
       "  419: 'symbyax',\n",
       "  420: 'synthroid',\n",
       "  421: 'tambocor',\n",
       "  422: 'tamiflu',\n",
       "  423: 'tapazole',\n",
       "  424: 'tarka',\n",
       "  425: 'tazorac',\n",
       "  426: 'tegretol',\n",
       "  427: 'tekturna',\n",
       "  428: 'temovate',\n",
       "  429: 'tenormin',\n",
       "  430: 'tequin',\n",
       "  431: 'tetracycline',\n",
       "  432: 'tirosint',\n",
       "  433: 'tobramycin',\n",
       "  434: 'tofranil-pm',\n",
       "  435: 'topamax',\n",
       "  436: 'topicort',\n",
       "  437: 'toprol-xl',\n",
       "  438: 'toradol',\n",
       "  439: 'tramadol',\n",
       "  440: 'trazodone',\n",
       "  441: 'trental',\n",
       "  442: 'tri-luma',\n",
       "  443: 'triamcinolone',\n",
       "  444: 'triaz',\n",
       "  445: 'trileptal',\n",
       "  446: 'trilipix',\n",
       "  447: 'trimethobenzamide',\n",
       "  448: 'trimethoprim',\n",
       "  449: 'triphasil',\n",
       "  450: 'tussionex',\n",
       "  451: 'tylenol',\n",
       "  452: 'ultracet',\n",
       "  453: 'ultram',\n",
       "  454: 'ultram-er',\n",
       "  455: 'vagifem',\n",
       "  456: 'valium',\n",
       "  457: 'valtrex',\n",
       "  458: 'vaniqa',\n",
       "  459: 'vasotec',\n",
       "  460: 'ventolin-hfa',\n",
       "  461: 'vesicare',\n",
       "  462: 'viagra',\n",
       "  463: 'vicodin',\n",
       "  464: 'vicoprofen',\n",
       "  465: 'vigamox',\n",
       "  466: 'vioxx',\n",
       "  467: 'vistaril',\n",
       "  468: 'vivelle',\n",
       "  469: 'vivelle-dot',\n",
       "  470: 'voltaren',\n",
       "  471: 'vytorin',\n",
       "  472: 'vyvanse',\n",
       "  473: 'warfarin',\n",
       "  474: 'wellbutrin',\n",
       "  475: 'wellbutrin-sr',\n",
       "  476: 'wellbutrin-xl',\n",
       "  477: 'xalatan',\n",
       "  478: 'xanax',\n",
       "  479: 'xanax-xr',\n",
       "  480: 'xenical',\n",
       "  481: 'xyrem',\n",
       "  482: 'xyzal',\n",
       "  483: 'yasmin',\n",
       "  484: 'zantac',\n",
       "  485: 'zegerid',\n",
       "  486: 'zestoretic',\n",
       "  487: 'ziac',\n",
       "  488: 'ziana',\n",
       "  489: 'zithromax',\n",
       "  490: 'zmax',\n",
       "  491: 'zocor',\n",
       "  492: 'zofran',\n",
       "  493: 'zoloft',\n",
       "  494: 'zomig',\n",
       "  495: 'zovirax',\n",
       "  496: 'zovirax-topical',\n",
       "  497: 'zyban',\n",
       "  498: 'zyprexa',\n",
       "  499: 'zyrtec',\n",
       "  500: 'zyrtec-d',\n",
       "  501: 'zyvox'},\n",
       " {0: 'Considerably Effective',\n",
       "  1: 'Highly Effective',\n",
       "  2: 'Ineffective',\n",
       "  3: 'Marginally Effective',\n",
       "  4: 'Moderately Effective'},\n",
       " {0: '2 compressed discs in neck',\n",
       "  1: '20 year pack a day smoker',\n",
       "  2: 'a boil',\n",
       "  3: 'a little bit of osteoporosis in the hips',\n",
       "  4: 'a typical migraines',\n",
       "  5: 'abcessed tooth',\n",
       "  6: 'abdominal pain',\n",
       "  7: 'ac joint dislocation',\n",
       "  8: 'achilles tendonitis',\n",
       "  9: 'acic reflux',\n",
       "  10: 'acid reflex',\n",
       "  11: 'acid reflux',\n",
       "  12: 'acid reflux, gerd',\n",
       "  13: 'acid reflux/chronic bronchitis',\n",
       "  14: 'acl reconstruction',\n",
       "  15: 'acne',\n",
       "  16: 'acne - blackheads and acne scars',\n",
       "  17: 'acne / blackheads / oily skin',\n",
       "  18: 'acne and anti age benefits',\n",
       "  19: 'acne and birth control',\n",
       "  20: 'acne and contraception',\n",
       "  21: 'acne and perioral dermatitis',\n",
       "  22: 'acne and sun damage',\n",
       "  23: 'acne and water retention',\n",
       "  24: 'acne and wrinkles',\n",
       "  25: 'acne cysts',\n",
       "  26: 'acne on my back',\n",
       "  27: 'acne rosacea',\n",
       "  28: 'acne with cystic fibrosis genetic condition',\n",
       "  29: 'acne, anti-aging',\n",
       "  30: 'acne, melasma',\n",
       "  31: 'acne, photoaging',\n",
       "  32: 'acne, wrinkles',\n",
       "  33: 'acne/anti-agin',\n",
       "  34: 'acne/oily skin',\n",
       "  35: 'acne/wrinkles',\n",
       "  36: 'actinic keratoses',\n",
       "  37: 'active chronic gastritis',\n",
       "  38: 'acute and long term chronic and severe back pain',\n",
       "  39: 'acute peptic ulcer',\n",
       "  40: 'acute sinusitis',\n",
       "  41: 'acute sinusitis/bronchitis',\n",
       "  42: 'add',\n",
       "  43: 'add & anxiety',\n",
       "  44: 'add - mild depression',\n",
       "  45: 'add and depression',\n",
       "  46: 'add inattentive, delayed sleep phase syndrome',\n",
       "  47: 'addh',\n",
       "  48: 'adhd',\n",
       "  49: 'adhd (attention deficit hyperactive disorder)',\n",
       "  50: 'adhd (predominantly inattentive)',\n",
       "  51: 'adhd, depression/anxiety',\n",
       "  52: 'adhd, inattentive type',\n",
       "  53: 'adrenal burnout, chronic fatigue & premature agin',\n",
       "  54: 'adult acne',\n",
       "  55: 'adult acne/wrinkles',\n",
       "  56: 'adult add',\n",
       "  57: 'adult adhd',\n",
       "  58: 'adult moderate hormone related acne',\n",
       "  59: 'adult onset acne',\n",
       "  60: 'after 42 years, quit smoking',\n",
       "  61: 'after an angiogram',\n",
       "  62: 'after birth thyroid not working to mormal levelc',\n",
       "  63: 'age spots on hand',\n",
       "  64: 'aging',\n",
       "  65: 'aging skin',\n",
       "  66: 'aging skin, few break-outs, hyperpigmentation',\n",
       "  67: 'aging skin, wrinkles, sag',\n",
       "  68: 'aging wrinkles',\n",
       "  69: 'agitation management r/t lewy body syndrome  demen',\n",
       "  70: 'agoraphobia, panic disorder',\n",
       "  71: 'airplane flight anxiety',\n",
       "  72: 'alcohol abuse',\n",
       "  73: 'alcohol addiction',\n",
       "  74: 'alergies',\n",
       "  75: 'alergy',\n",
       "  76: 'all over and various type pain',\n",
       "  77: 'allegry',\n",
       "  78: 'allergic rash',\n",
       "  79: 'allergic reaction',\n",
       "  80: 'allergic reaction on face to a cosmetic',\n",
       "  81: 'allergic rhinitis',\n",
       "  82: 'allergies',\n",
       "  83: 'allergies and asthma',\n",
       "  84: 'allergies sneezing , watery runny nose',\n",
       "  85: 'allergy',\n",
       "  86: 'allergy induced asthma',\n",
       "  87: 'allergy to trauma to the face.',\n",
       "  88: 'allergy, runny nose, hay fever',\n",
       "  89: 'alopecia',\n",
       "  90: \"alzheimer's\",\n",
       "  91: \"alzheimer's/dementia\",\n",
       "  92: 'alzheimers',\n",
       "  93: 'amputee, constant sores on stump',\n",
       "  94: 'ankle sprain',\n",
       "  95: 'ankylosing spondalytis',\n",
       "  96: 'ankylosing spondylitis',\n",
       "  97: 'anti aging',\n",
       "  98: 'anti malarial',\n",
       "  99: 'anti seizure',\n",
       "  100: 'anti-aging prophilatic',\n",
       "  101: 'anti-aging, acne',\n",
       "  102: 'anti-depressant',\n",
       "  103: 'anti-inflammatory/pain',\n",
       "  104: 'anti-malarial',\n",
       "  105: 'anti-rejection',\n",
       "  106: 'antiaging',\n",
       "  107: 'antibiotic to treat oral infection',\n",
       "  108: 'antidepressant',\n",
       "  109: 'anxeity',\n",
       "  110: 'anxety / depression',\n",
       "  111: 'anxiety',\n",
       "  112: 'anxiety & depression',\n",
       "  113: 'anxiety / restlessness',\n",
       "  114: 'anxiety and depression',\n",
       "  115: 'anxiety and mild depression',\n",
       "  116: 'anxiety and to avoid feeling misrable',\n",
       "  117: 'anxiety attacks',\n",
       "  118: 'anxiety depression',\n",
       "  119: 'anxiety disorder',\n",
       "  120: 'anxiety due to relationship stress',\n",
       "  121: 'anxiety from a reaction',\n",
       "  122: 'anxiety insomnia',\n",
       "  123: 'anxiety rapid onset',\n",
       "  124: 'anxiety related to severe pms',\n",
       "  125: 'anxiety, depresion',\n",
       "  126: 'anxiety, depression',\n",
       "  127: 'anxiety, depression, panic attacks',\n",
       "  128: 'anxiety, hopelessness',\n",
       "  129: 'anxiety, mild depression',\n",
       "  130: 'anxiety, ocd',\n",
       "  131: 'anxiety, panic attack',\n",
       "  132: 'anxiety, panic attck, nervousness',\n",
       "  133: 'anxiety, panic disorder',\n",
       "  134: 'anxiety, stress',\n",
       "  135: 'anxiety,depression',\n",
       "  136: 'anxiety/ depression',\n",
       "  137: 'anxiety/ mild depression',\n",
       "  138: 'anxiety/ ocpd /depression',\n",
       "  139: 'anxiety/ pain',\n",
       "  140: 'anxiety/depreesion',\n",
       "  141: 'anxiety/depression',\n",
       "  142: 'anxiety/insomnia',\n",
       "  143: 'anxiety/insomnia/',\n",
       "  144: 'anxiety/mild ptsd',\n",
       "  145: 'anxiety/panic attacks',\n",
       "  146: 'anxiety/trouble sleeping',\n",
       "  147: 'anxiety/worry',\n",
       "  148: 'appetite control',\n",
       "  149: 'appetite suppression',\n",
       "  150: 'arthritis',\n",
       "  151: 'arthritis in knees',\n",
       "  152: 'arthritis pain',\n",
       "  153: 'arthritis pain, neck injury',\n",
       "  154: 'arthritis/knee pain',\n",
       "  155: 'astham',\n",
       "  156: 'asthma',\n",
       "  157: 'asthma - repeated chest infections',\n",
       "  158: 'asthma \\\\ allergies',\n",
       "  159: 'asthma flares',\n",
       "  160: 'asthma, allergies',\n",
       "  161: 'asthma, emphysema',\n",
       "  162: 'asthma/allergies',\n",
       "  163: 'asthma/copd',\n",
       "  164: 'asthmas/ rhinitis',\n",
       "  165: 'asthmatic bronchitis',\n",
       "  166: 'athletes foot',\n",
       "  167: 'atopic dernatitis',\n",
       "  168: 'atopic eczema',\n",
       "  169: 'atrial fib',\n",
       "  170: 'atrial fibrillation',\n",
       "  171: 'atrial frbulation',\n",
       "  172: 'attention deficit disorder',\n",
       "  173: 'attention deficit disorder (inattentive type)',\n",
       "  174: 'attention deficit problems, concentration difficul',\n",
       "  175: 'atypical breast biopsy',\n",
       "  176: 'atypical hyperplasia in breast and hypothyrodism',\n",
       "  177: 'auto accident, severe whiplash',\n",
       "  178: 'back injury',\n",
       "  179: 'back pain',\n",
       "  180: 'back pain slipped disk',\n",
       "  181: 'back pain/depression',\n",
       "  182: 'back pain; restlessness',\n",
       "  183: 'back stiffness',\n",
       "  184: 'bacterial growth',\n",
       "  185: 'bacterial infection',\n",
       "  186: 'bacterial infection in patient with copd',\n",
       "  187: 'bacterial infectoin',\n",
       "  188: 'bacterial lung infection',\n",
       "  189: 'bacterial vaginosis',\n",
       "  190: \"baker's cysts behind both knees\",\n",
       "  191: 'baldness',\n",
       "  192: 'ballanitis',\n",
       "  193: 'barretts disease',\n",
       "  194: 'basal cell and squamous cancer',\n",
       "  195: 'basal cell carcinoma',\n",
       "  196: 'beginning of osteoporosis of the hip',\n",
       "  197: \"behcet's disease\",\n",
       "  198: 'bi-polar',\n",
       "  199: 'bi-polar 2',\n",
       "  200: 'bi-polar disorder',\n",
       "  201: 'bi-polar mania with anger issues',\n",
       "  202: 'bipolar',\n",
       "  203: 'bipolar 2',\n",
       "  204: 'bipolar 2-extreme moods swings',\n",
       "  205: 'bipolar depression',\n",
       "  206: 'bipolar disorder',\n",
       "  207: 'bipolar disorder / insomnia',\n",
       "  208: 'bipolar disorder and depression',\n",
       "  209: 'bipolar disorder ii',\n",
       "  210: 'bipolar disorder type ii',\n",
       "  211: 'bipolar disorder with severe lows & fatigue,',\n",
       "  212: 'bipolar i',\n",
       "  213: 'bipolar ii',\n",
       "  214: 'bipolar mania',\n",
       "  215: 'bipolar/mixed manic episodes/severe depression',\n",
       "  216: 'bipolar/raciness/insomnia',\n",
       "  217: 'birth control',\n",
       "  218: 'birth control method',\n",
       "  219: 'birth control pill',\n",
       "  220: 'birth control, acne control',\n",
       "  221: 'birth control, menstrual cramps',\n",
       "  222: 'birth control. prevention of pregnacy',\n",
       "  223: 'birth control/ regular periods.',\n",
       "  224: 'birth prevention',\n",
       "  225: 'birthcontrol',\n",
       "  226: 'blackheads,large pores,sun damage',\n",
       "  227: 'bladder control',\n",
       "  228: 'bladder infection',\n",
       "  229: 'bladder infections',\n",
       "  230: 'bladder pressure',\n",
       "  231: 'blepharospasm',\n",
       "  232: 'blood clots',\n",
       "  233: 'blood pressure',\n",
       "  234: 'bone density tests showed early osteo.',\n",
       "  235: 'borderline personality disorder, bi polar',\n",
       "  236: 'bph',\n",
       "  237: 'breast cancer',\n",
       "  238: 'broken collarbone',\n",
       "  239: 'broken ribs',\n",
       "  240: 'bronchial infection',\n",
       "  241: 'bronchitis',\n",
       "  242: 'bronchitus',\n",
       "  243: 'bronkitis',\n",
       "  244: 'brow wrinkles',\n",
       "  245: 'brown spots',\n",
       "  246: 'budging disk in neck',\n",
       "  247: 'buldging/ruptured disc',\n",
       "  248: 'burn from motorcycle accident',\n",
       "  249: 'burning feeling in throat and chest',\n",
       "  250: 'bursitis',\n",
       "  251: 'bursitis and tennis elbow',\n",
       "  252: \"can't sleep\",\n",
       "  253: 'cancer related pain',\n",
       "  254: 'cancer/constant pain',\n",
       "  255: 'candida caused yeast infection',\n",
       "  256: 'candida rashes',\n",
       "  257: 'capsuar contracture of breast implant',\n",
       "  258: 'cardiomyopathy',\n",
       "  259: 'carpal tunnel',\n",
       "  260: 'cat bite',\n",
       "  261: 'cat bite infection',\n",
       "  262: 'cellulitis',\n",
       "  263: 'cellulitis (skin infection on my leg)',\n",
       "  264: 'cervical spondylosis',\n",
       "  265: 'cesarean',\n",
       "  266: 'chest infection',\n",
       "  267: 'chest infection (viral)',\n",
       "  268: 'chest infections',\n",
       "  269: 'cholesterol',\n",
       "  270: 'cholesterol problems',\n",
       "  271: 'cholesterol slightly elevated',\n",
       "  272: 'cholesterol/high blood pressure',\n",
       "  273: 'chronic \"atypical\" depression',\n",
       "  274: 'chronic back pain',\n",
       "  275: 'chronic back pain/depression/anxiety',\n",
       "  276: 'chronic bronch/asthma',\n",
       "  277: 'chronic cold sores',\n",
       "  278: 'chronic cough and allergies',\n",
       "  279: 'chronic cystitis',\n",
       "  280: 'chronic daily headache',\n",
       "  281: 'chronic depression',\n",
       "  282: 'chronic fatigue syndrome',\n",
       "  283: 'chronic headaches',\n",
       "  284: 'chronic heartburn',\n",
       "  285: 'chronic hives',\n",
       "  286: 'chronic insomnia',\n",
       "  287: 'chronic leg pain due to trauma & surgeries',\n",
       "  288: 'chronic musculoskeletal pain (neck/back)',\n",
       "  289: 'chronic neck/back pain, chronic tension headache',\n",
       "  290: 'chronic nerve pain from back surgery',\n",
       "  291: 'chronic pain',\n",
       "  292: 'chronic pain (neck and migraines)',\n",
       "  293: 'chronic pain due to neck injury and surgeries',\n",
       "  294: 'chronic pain from degenerative lumbar disc disease',\n",
       "  295: 'chronic pain, fibromyalgia',\n",
       "  296: 'chronic pelvic pain',\n",
       "  297: 'chronic rhinitis and allergies',\n",
       "  298: 'chronic severe insomnia',\n",
       "  299: 'chronic sinus congestion',\n",
       "  300: 'chronic sinus infection (long term), post nasal dr',\n",
       "  301: 'chronic sinus infections',\n",
       "  302: 'chronic sinusitis',\n",
       "  303: 'chronic tension headache',\n",
       "  304: 'chronic tension headaches/ mild depression',\n",
       "  305: 'chronic urinary and yeast infections due to drynes',\n",
       "  306: 'clamydia',\n",
       "  307: 'clearing skin',\n",
       "  308: 'clinical depression',\n",
       "  309: 'cluster headache',\n",
       "  310: 'cocaine dependency',\n",
       "  311: 'cognitive enhancement',\n",
       "  312: 'cold',\n",
       "  313: 'cold / flu',\n",
       "  314: 'cold chills and hot flashes',\n",
       "  315: 'cold sore',\n",
       "  316: 'cold sore below lip',\n",
       "  317: 'cold sore on side of face',\n",
       "  318: 'cold sore, fever blister',\n",
       "  319: 'cold sore/fever blister (herpes-simplex)',\n",
       "  320: 'cold sores',\n",
       "  321: 'cold sores/ herpes i',\n",
       "  322: 'cold sores/fever blisters',\n",
       "  323: 'coldsores',\n",
       "  324: 'colestrol',\n",
       "  325: 'colitis',\n",
       "  326: 'collar bone injury',\n",
       "  327: 'complete hysterectomy',\n",
       "  328: 'congestion',\n",
       "  329: 'congestive heart failure and edema',\n",
       "  330: 'conjunctivitis',\n",
       "  331: 'conjunctivitus',\n",
       "  332: \"conn's syndrome\",\n",
       "  333: 'constant coughing due to mucous',\n",
       "  334: 'contact dermatitis',\n",
       "  335: 'contraception',\n",
       "  336: 'contraceptive',\n",
       "  337: 'controceptive; help with pmsd',\n",
       "  338: 'copd',\n",
       "  339: 'cornea transplant rejection',\n",
       "  340: 'cosmetic longer lashes',\n",
       "  341: 'cough',\n",
       "  342: 'cramps, birth control',\n",
       "  343: 'crashing fatigue, hot flashes, mood swings',\n",
       "  344: \"crohn's\",\n",
       "  345: \"crohn's disease\",\n",
       "  346: \"crohn's with fistula in ano\",\n",
       "  347: \"crohn's/colitis\",\n",
       "  348: 'crohns disease',\n",
       "  349: 'crohns disease  & colitis',\n",
       "  350: 'crohns disease, psoriatic arthritis',\n",
       "  351: 'cure for acne',\n",
       "  352: 'cut on knee from fall,waited too long to get stmus',\n",
       "  353: 'cyclic vomiting syndrome',\n",
       "  354: 'cystic acne',\n",
       "  355: 'cystic acne on chin and jaw',\n",
       "  356: 'cystic fibrosis',\n",
       "  357: 'daily migraines 2-3 times a day',\n",
       "  358: 'dandruff',\n",
       "  359: 'dark skin spots on face',\n",
       "  360: 'dark spots',\n",
       "  361: 'daytime drowsiness',\n",
       "  362: 'deep gum pockets',\n",
       "  363: 'degenerative disc disorder, spinal stenosis l1-s1',\n",
       "  364: 'delayed gastric emptying-nausea',\n",
       "  365: \"dementia (altzheimer's diesease)\",\n",
       "  366: 'dental surgery',\n",
       "  367: 'depresion anxiety obsessive behavior',\n",
       "  368: 'depressio',\n",
       "  369: 'depression',\n",
       "  370: 'depression & anxiety',\n",
       "  371: 'depression (atypical)',\n",
       "  372: 'depression and anxiety',\n",
       "  373: 'depression and anxiety.',\n",
       "  374: 'depression and generalized anxiety',\n",
       "  375: 'depression anxiety',\n",
       "  376: 'depression not resolved with antidepressant drugs',\n",
       "  377: 'depression pain',\n",
       "  378: 'depression with anxiety',\n",
       "  379: 'depression, a.d.d., mood instability',\n",
       "  380: 'depression, anxiety',\n",
       "  381: 'depression, anxiety & pain',\n",
       "  382: 'depression, anxiety, ocd, nausea',\n",
       "  383: 'depression, axiety',\n",
       "  384: 'depression, fatigue',\n",
       "  385: 'depression, irritability',\n",
       "  386: 'depression, lack of motivation',\n",
       "  387: 'depression, ptsd',\n",
       "  388: 'depression, ptsd fatigue',\n",
       "  389: 'depression, social anxiety disorder',\n",
       "  390: 'depression, tension headache',\n",
       "  391: 'depression-anxiety',\n",
       "  392: 'depression/ anxiety',\n",
       "  393: 'depression/ cfs',\n",
       "  394: 'depression/add',\n",
       "  395: 'depression/anxiety',\n",
       "  396: 'depression/anxiety/ptsd',\n",
       "  397: 'depression/difficulty sleeping',\n",
       "  398: 'depression/dysthymia',\n",
       "  399: 'depression/insomnia',\n",
       "  400: 'depression/panic disorder',\n",
       "  401: 'depression/post-partum',\n",
       "  402: 'depression/stress',\n",
       "  403: 'depression;',\n",
       "  404: 'depression; intrusive suicidal impulses',\n",
       "  405: 'depresson/anxiety',\n",
       "  406: 'dermatitis',\n",
       "  407: 'dermatitis herpetiformis',\n",
       "  408: 'diabetes',\n",
       "  409: 'diabetes type 2',\n",
       "  410: 'diabetes type ii',\n",
       "  411: 'diabetese',\n",
       "  412: 'diabetic',\n",
       "  413: 'diareaha',\n",
       "  414: 'diarrhea',\n",
       "  415: 'diarrhoea/ibs',\n",
       "  416: 'diet',\n",
       "  417: 'difficulty getting/holding erection',\n",
       "  418: 'difficulty sleeping',\n",
       "  419: 'difficulty sleeping because of nervous system prob',\n",
       "  420: 'discoloration',\n",
       "  421: 'dizzyness,, vertigo, nausea,',\n",
       "  422: 'dog bite prophylaxis',\n",
       "  423: 'drug addiction',\n",
       "  424: 'dry eye',\n",
       "  425: 'dry eyes',\n",
       "  426: 'dust allergy',\n",
       "  427: 'dvt',\n",
       "  428: 'dyshidrosis',\n",
       "  429: 'dysthymia',\n",
       "  430: 'dystimia',\n",
       "  431: 'ear and throat infection',\n",
       "  432: 'ear infection',\n",
       "  433: 'ear infection and upper respiratory infection',\n",
       "  434: 'earache',\n",
       "  435: 'earache/sinusitis',\n",
       "  436: 'early onset osteoporosis',\n",
       "  437: 'eczema',\n",
       "  438: 'eczyma',\n",
       "  439: 'ed',\n",
       "  440: 'elarge pores blackheads around nose & cheeks',\n",
       "  441: 'elevated cholesterol',\n",
       "  442: 'elevated glucose',\n",
       "  443: 'endometrial hyperplasia',\n",
       "  444: 'endometriosis',\n",
       "  445: 'environmental allergies',\n",
       "  446: 'eosinophilic esophagitis',\n",
       "  447: 'eostrogen-positive breast cancer',\n",
       "  448: 'epididymitus',\n",
       "  449: 'epidimytis',\n",
       "  450: 'epilepsy',\n",
       "  451: 'epilpsy',\n",
       "  452: 'erectile disfunction',\n",
       "  453: 'erectile dysfunction',\n",
       "  454: 'erictile dysfunction',\n",
       "  455: 'eryhema nodosum',\n",
       "  456: 'esophogeal strictures',\n",
       "  457: 'essential tremor',\n",
       "  458: 'estrogen replacement therapy',\n",
       "  459: 'eustachian tube pain',\n",
       "  460: 'excess stomach acid.',\n",
       "  461: 'excessive coughing, later diagnosed as pneumonia',\n",
       "  462: 'excessive fatigue',\n",
       "  463: 'extra heartbeat',\n",
       "  464: 'extreme hot flashes',\n",
       "  465: 'extremely dry skin',\n",
       "  466: 'extremely severe anxiety',\n",
       "  467: 'extrinsic aging',\n",
       "  468: 'exzema of the face',\n",
       "  469: 'eye infection',\n",
       "  470: 'eyelash growth',\n",
       "  471: 'eyelash loss',\n",
       "  472: 'ezcema',\n",
       "  473: 'facial',\n",
       "  474: 'facial acne',\n",
       "  475: 'facial hair',\n",
       "  476: 'facial herpes simplex',\n",
       "  477: 'facial hyperpigmentation',\n",
       "  478: 'facial lines',\n",
       "  479: 'facial skin',\n",
       "  480: 'familial hypercholesterolaemia',\n",
       "  481: 'family flu outbreak',\n",
       "  482: 'fatigue',\n",
       "  483: 'fatigue / malaise due to infections',\n",
       "  484: 'fatigue from rheumatoid arthiritis',\n",
       "  485: 'fatigue not being able to get up in am',\n",
       "  486: 'fatique, depression',\n",
       "  487: 'female problems, trying to get pregnant, ovulation',\n",
       "  488: 'fertility',\n",
       "  489: 'fever',\n",
       "  490: 'fever and tonsilitis',\n",
       "  491: 'fever blisters',\n",
       "  492: 'fibromyalgia',\n",
       "  493: 'fibromyalgia and depression',\n",
       "  494: 'fibromyalgia and myofacial pain',\n",
       "  495: 'fibromyalgia pain',\n",
       "  496: 'fibromyalgia, failed back syndrome',\n",
       "  497: 'fibromylgia',\n",
       "  498: 'fine lines',\n",
       "  499: 'fine lines around eyes and mouth. between the brow',\n",
       "  500: 'fine lines/wrinkles',\n",
       "  501: 'fine wrinkles',\n",
       "  502: 'fingernail fungus',\n",
       "  503: 'flat warts',\n",
       "  504: 'flu',\n",
       "  505: 'flu symptoms',\n",
       "  506: 'fluid retention increased bp',\n",
       "  507: 'focus',\n",
       "  508: 'folliculitis of scalp',\n",
       "  509: 'foot surgery',\n",
       "  510: 'for  back pain',\n",
       "  511: 'for allergic condition and there after begning of',\n",
       "  512: 'for epilepsy',\n",
       "  513: 'for tramflap surgery,implant removal',\n",
       "  514: 'for treating wrinkles',\n",
       "  515: 'for wrinkle (line) reduction',\n",
       "  516: 'forehead frown lines',\n",
       "  517: 'frequent and urgent  urination',\n",
       "  518: 'frequent urination',\n",
       "  519: 'frozen shoulder',\n",
       "  520: 'fun',\n",
       "  521: 'functional dyspepsia',\n",
       "  522: 'fungal growth on feet',\n",
       "  523: 'fungal toenails',\n",
       "  524: 'fungus',\n",
       "  525: 'fungus on big toes',\n",
       "  526: 'gad - generalised anxiety disorder.',\n",
       "  527: 'gastric esophageal reflux',\n",
       "  528: 'gastritis',\n",
       "  529: 'gastritis, nausea, fullness',\n",
       "  530: 'gastro esophageal reflux disease (gerd)',\n",
       "  531: 'gastrointestinal disorder',\n",
       "  532: 'general depression/perimenopause',\n",
       "  533: 'generalized anxiety disorder',\n",
       "  534: 'genital herpes',\n",
       "  535: 'genitofemoral nerve damage',\n",
       "  536: 'gerd',\n",
       "  537: 'gerd (gastroesophogeal reflux disease)',\n",
       "  538: 'gerd - gastroesophageal reflux disease',\n",
       "  539: 'gerd with laryngeal spasms',\n",
       "  540: 'gerd/acid reflux',\n",
       "  541: \"gerd/barret's esophogus\",\n",
       "  542: 'gi irritation',\n",
       "  543: 'giant cell arteritis',\n",
       "  544: 'giardiasis',\n",
       "  545: 'glacoma',\n",
       "  546: 'glandular fever',\n",
       "  547: 'glaucoma',\n",
       "  548: 'glucoma',\n",
       "  549: 'gonorrhea',\n",
       "  550: 'gout',\n",
       "  551: 'grand mal seizures',\n",
       "  552: \"grave's disease\",\n",
       "  553: 'grow lashes',\n",
       "  554: 'hair growth',\n",
       "  555: 'hair less',\n",
       "  556: 'hair lose',\n",
       "  557: 'hair loss',\n",
       "  558: 'hair loss, receding hairline',\n",
       "  559: 'hair regrowth',\n",
       "  560: 'hair thinning',\n",
       "  561: 'hairloss',\n",
       "  562: 'hand dermatitis',\n",
       "  563: 'hard time getting asleep',\n",
       "  564: \"hashimoto's hypothyroidism\",\n",
       "  565: 'hashimotos disease',\n",
       "  566: 'have not stop bleeding',\n",
       "  567: 'hay fever',\n",
       "  568: 'hay fever type allergy reactions',\n",
       "  569: 'hay fever, allergies',\n",
       "  570: 'hbp',\n",
       "  571: 'head injuries',\n",
       "  572: 'head injury',\n",
       "  573: 'head injury/concussion',\n",
       "  574: 'headache',\n",
       "  575: 'headaches',\n",
       "  576: 'headaches, menstrual aches/cramps, fever',\n",
       "  577: 'heart',\n",
       "  578: 'heart burn',\n",
       "  579: 'heart condition',\n",
       "  580: 'heart murmur/dental procedures',\n",
       "  581: 'heart palpitations',\n",
       "  582: 'heart problem',\n",
       "  583: 'heartburn',\n",
       "  584: 'heartburn/gerd',\n",
       "  585: 'heavy menses',\n",
       "  586: 'heavy period',\n",
       "  587: 'heavy periods',\n",
       "  588: 'heavy periods, thickened endometrium',\n",
       "  589: 'heavy periods/cramping',\n",
       "  590: 'hemorrhagic cystitis',\n",
       "  591: 'hepatitis b',\n",
       "  592: 'hepatitis c',\n",
       "  593: 'heratburn',\n",
       "  594: 'herniated disk in my lower back',\n",
       "  595: 'herpes',\n",
       "  596: 'herpes cold sores around mouth and nose',\n",
       "  597: 'herpes zoster',\n",
       "  598: 'hgh deficiency & hiv',\n",
       "  599: 'hiatal hernia and ileocecal valve syndrome',\n",
       "  600: 'hiatus hernia, indigestion, acid reflux',\n",
       "  601: 'high blood preasure',\n",
       "  602: 'high blood pressue --  diuretic',\n",
       "  603: 'high blood pressure',\n",
       "  604: 'high blood pressure after prewgnancy',\n",
       "  605: 'high blood pressure and',\n",
       "  606: 'high blood presure',\n",
       "  607: 'high bloodpressure',\n",
       "  608: 'high bp',\n",
       "  609: 'high c',\n",
       "  610: 'high chloresteral',\n",
       "  611: 'high cholesteol',\n",
       "  612: 'high cholesteral',\n",
       "  613: 'high cholesterol',\n",
       "  614: 'high cholesterol and triglycerides (21.1!)',\n",
       "  615: 'high cholestoral',\n",
       "  616: 'high cholestral',\n",
       "  617: 'high cholestrol',\n",
       "  618: 'high colesteral',\n",
       "  619: 'high colesterol',\n",
       "  620: 'high colesterol level',\n",
       "  621: 'high colestrol',\n",
       "  622: 'high colorestoral',\n",
       "  623: 'high interoccular pressure',\n",
       "  624: 'high intraocular pressure (glaucoma)',\n",
       "  625: 'high ldl',\n",
       "  626: 'high level anxiety/depression',\n",
       "  627: 'high level of prolactin',\n",
       "  628: 'high lpa',\n",
       "  629: 'hip flexor & back pain',\n",
       "  630: 'hiv',\n",
       "  631: 'hives',\n",
       "  632: 'hives, itching, swelling due to allergies',\n",
       "  633: 'hormonal acne',\n",
       "  634: 'hormonal imbalances and pregnancy prevention',\n",
       "  635: 'hormone and for prevention of osteoporosis',\n",
       "  636: 'hormone replacement',\n",
       "  637: 'hormone replacement therapy',\n",
       "  638: 'hot flash sleep problems',\n",
       "  639: 'hot flashes',\n",
       "  640: 'hot flashes / night sweats',\n",
       "  641: 'hot flashes, depression',\n",
       "  642: 'hot flashes, headaches, fatigue, dry vagina',\n",
       "  643: 'hot flashes, unable to sleep',\n",
       "  644: 'hot flashes/ over all feel better',\n",
       "  645: 'hrt',\n",
       "  646: 'hrt (hormone replacement therapy)',\n",
       "  647: 'hrt hysterectomy',\n",
       "  648: 'hsv 2',\n",
       "  649: 'htn',\n",
       "  650: 'hyper pigmentation, wrinkles',\n",
       "  651: 'hyperactive nerves and chronic small seizures',\n",
       "  652: 'hypercholesteremia',\n",
       "  653: 'hypercholesterolemia',\n",
       "  654: 'hypercholesterolemia w/ low ldl',\n",
       "  655: 'hyperhidrosis',\n",
       "  656: 'hyperlipidemia',\n",
       "  657: 'hyperpigmatation',\n",
       "  658: 'hyperpigmentation',\n",
       "  659: 'hyperpigmentation all over face',\n",
       "  660: 'hyperpigmentation, light breakouts, fine lines',\n",
       "  661: 'hyperpigmentation, photoaging, mild hormonal acne',\n",
       "  662: 'hypertension',\n",
       "  663: 'hypertension (high blood pressure)',\n",
       "  664: 'hypertension/high blood pressure',\n",
       "  665: 'hypertention',\n",
       "  666: 'hyperthyroidism',\n",
       "  667: 'hypothroidism',\n",
       "  668: 'hypothroidism after radioactive iodine',\n",
       "  669: 'hypothryoid-related dry skin',\n",
       "  670: 'hypothryroid',\n",
       "  671: 'hypothyriod',\n",
       "  672: \"hypothyriodism--hashimoto's thyroiditis\",\n",
       "  673: 'hypothyroid',\n",
       "  674: \"hypothyroid - hashimoto's disease\",\n",
       "  675: 'hypothyroid deficiency',\n",
       "  676: 'hypothyroid problem',\n",
       "  677: 'hypothyroidism',\n",
       "  678: 'hypothyroidism after thyroidectomy',\n",
       "  679: 'hypothyroidsm',\n",
       "  680: 'hypthyroidism',\n",
       "  681: 'hypthyroidsim',\n",
       "  682: 'hysterectomy',\n",
       "  683: 'hysterectomy/cessation of menses',\n",
       "  684: 'hysterectomy/menopause',\n",
       "  685: 'i got my toothpulled',\n",
       "  686: 'i kept getting pregnant. no more stairs.... please',\n",
       "  687: 'i took seasonique just  to prevent pregnancy',\n",
       "  688: 'i was in a risk group - frontline pharmacist',\n",
       "  689: 'ibs',\n",
       "  690: 'ibs, panic attacks, depression',\n",
       "  691: 'ibs/anxiety',\n",
       "  692: 'illiotibital tibital syndrom',\n",
       "  693: 'impetigo',\n",
       "  694: 'improvement of skin appearance, very very mild acn',\n",
       "  695: 'improvement of skin appearance/health',\n",
       "  696: 'inability to fall asleep',\n",
       "  697: 'inability to fall asleep easily',\n",
       "  698: 'inattention  and disorganization',\n",
       "  699: 'incontinence',\n",
       "  700: 'increase dopmaine levels',\n",
       "  701: 'increase follicle production prior to iui',\n",
       "  702: 'indigestion',\n",
       "  703: 'indoor allergies',\n",
       "  704: 'infected site of oreal surgery',\n",
       "  705: 'infected throat and lung',\n",
       "  706: 'infection',\n",
       "  707: 'infection from grazing an ankle on coral',\n",
       "  708: 'infection in mandible',\n",
       "  709: 'infertility',\n",
       "  710: 'inflamation at the femoral nerve',\n",
       "  711: 'inflamation resulting from damage to knee during s',\n",
       "  712: 'inflamed neck muscles',\n",
       "  713: 'inflammation of throat during bacteria bronchitis',\n",
       "  714: 'inflammatory arthritis',\n",
       "  715: 'ingrown toenails',\n",
       "  716: 'initially, acne; later, anti-wrinkle',\n",
       "  717: 'inner ear infection',\n",
       "  718: 'insomia',\n",
       "  719: 'insomina',\n",
       "  720: 'insommnia',\n",
       "  721: 'insomnia',\n",
       "  722: 'insomnia - early awakening',\n",
       "  723: 'insomnia and anxiety',\n",
       "  724: 'insomnia due to peri-menopause',\n",
       "  725: 'insomnia, and arthrtis',\n",
       "  726: 'insomnia, anxiety',\n",
       "  727: 'insomnia, bipolar',\n",
       "  728: 'insomnia, chronic pain',\n",
       "  729: 'insomnia, headaches',\n",
       "  730: 'insomnia, migraines',\n",
       "  731: 'insomnia, night sweats, hot flashes',\n",
       "  732: 'insomnia/difficulty sleeping',\n",
       "  733: 'insulin dependent diabetes mellitus',\n",
       "  734: 'interstitial cystitis',\n",
       "  735: 'irregular cycles',\n",
       "  736: 'irregular menses',\n",
       "  737: 'irregularity/no babies!',\n",
       "  738: 'irritability,anxiety',\n",
       "  739: 'irritable bowel syndrom',\n",
       "  740: 'irritable bowel syndrome',\n",
       "  741: 'irritated and sore throat,nose,eyes and sneezing.',\n",
       "  742: 'itching',\n",
       "  743: 'itching/psosiasis',\n",
       "  744: 'itchy and irritated skin',\n",
       "  745: 'itchy, red, irritated skin',\n",
       "  746: 'jaw abscess',\n",
       "  747: 'jaw/tooth pain',\n",
       "  748: 'joint pain',\n",
       "  749: 'joint/muscular issues - fibro',\n",
       "  750: 'juvenile idiopathic arthritis',\n",
       "  751: 'juvenile rheumatoid arthritis',\n",
       "  752: 'kidney infection',\n",
       "  753: 'kidney pain, difficult urination',\n",
       "  754: 'kidney stones',\n",
       "  755: 'klebsiella pneumonia infection',\n",
       "  756: 'knee pain',\n",
       "  757: 'knee pain/inflamation',\n",
       "  758: 'laryngopharyngeal reflux',\n",
       "  759: 'ldl cholesterol',\n",
       "  760: 'leg blood clot, dvt',\n",
       "  761: 'lingering infection - ear, sinus, throat',\n",
       "  762: 'longer eyelashes',\n",
       "  763: 'loose weight',\n",
       "  764: 'lose weight',\n",
       "  765: 'loss of bone density',\n",
       "  766: 'loss of bone density in spine',\n",
       "  767: 'loss of bone mass',\n",
       "  768: 'low back pain due to car accident',\n",
       "  769: 'low back pain, radiating to left leg',\n",
       "  770: 'low back pain/herniated disk/sciatic pain',\n",
       "  771: 'low energy',\n",
       "  772: 'low energy and depression',\n",
       "  773: 'low thyroid',\n",
       "  774: 'low thyroid levels',\n",
       "  775: 'low thyroid production',\n",
       "  776: 'low under active thyroid',\n",
       "  777: 'lower back pain',\n",
       "  778: 'lower back pain and migraine',\n",
       "  779: 'lower respiratory tract infection',\n",
       "  780: 'lupus',\n",
       "  781: 'lupus-like systemic autoimmune condition',\n",
       "  782: 'm to f transformation',\n",
       "  783: 'maigrains',\n",
       "  784: 'major chronic depressive disorder',\n",
       "  785: 'major clinical depression',\n",
       "  786: 'major depression',\n",
       "  787: 'major depression/anxiety',\n",
       "  788: 'major depressive disorder',\n",
       "  789: 'major depressive disorder/ anxiety',\n",
       "  790: 'major sinus infection',\n",
       "  791: 'malaria',\n",
       "  792: 'malaria prevention',\n",
       "  793: 'male andropause',\n",
       "  794: 'male pattern baldness',\n",
       "  795: 'male pattern bladness',\n",
       "  796: 'male pattern hair loss',\n",
       "  797: 'management of congestive heart failure',\n",
       "  798: 'mania',\n",
       "  799: 'manic depression',\n",
       "  800: 'mastitis',\n",
       "  801: 'melasma',\n",
       "  802: 'melasma, unevean skin tone, ocasionally pimples',\n",
       "  803: 'memopause',\n",
       "  804: 'memory',\n",
       "  805: 'menapause',\n",
       "  806: 'menopausal',\n",
       "  807: 'menopausal symptoms',\n",
       "  808: 'menopausal symptoms - hot flashes, sleep disturban',\n",
       "  809: 'menopausal symptoms, especially night sweats',\n",
       "  810: 'menopause',\n",
       "  811: 'menopause - hrt',\n",
       "  812: 'menopause for 2 years, first hormone pill taken',\n",
       "  813: 'menopause problems',\n",
       "  814: 'menopause symptoms',\n",
       "  815: 'menopause symptoms such as hot flashes,sleeplessne',\n",
       "  816: 'menopause, memory loss, night sweats, low libido',\n",
       "  817: 'menopause/hysterectomy',\n",
       "  818: 'menstrual cramping',\n",
       "  819: 'menstrual cramps',\n",
       "  820: 'menstrual cramps/heavey bleeding',\n",
       "  821: 'menstrual migraines',\n",
       "  822: 'metabolic disorder',\n",
       "  823: 'metabolic syndrome x',\n",
       "  824: 'metastasized ovarian cancer/chemotherapy',\n",
       "  825: 'microprolactinoma (benign pituitary tumour)',\n",
       "  826: 'migaine/tension headches',\n",
       "  827: 'migrain',\n",
       "  828: 'migraine',\n",
       "  829: 'migraine + birth control',\n",
       "  830: 'migraine headache',\n",
       "  831: 'migraine headaches',\n",
       "  832: 'migraine in assoc /w upper resp infection',\n",
       "  833: 'migraine prevention',\n",
       "  834: 'migraine relief',\n",
       "  835: 'migraines',\n",
       "  836: 'migraines-hormonal',\n",
       "  837: 'migraines/upper back pain',\n",
       "  838: 'migranes',\n",
       "  839: 'mild acne',\n",
       "  840: 'mild acne, white heads',\n",
       "  841: 'mild arthritis in knees',\n",
       "  842: 'mild bursitis in left hip.',\n",
       "  843: 'mild depression',\n",
       "  844: 'mild depression and anxiety',\n",
       "  845: 'mild hypothyroidism',\n",
       "  846: 'mild local skin infection',\n",
       "  847: 'mild sedative',\n",
       "  848: 'minor acne',\n",
       "  849: 'minor insomnia',\n",
       "  850: 'mitral  valve prolapse',\n",
       "  851: 'moderately severe acne',\n",
       "  852: 'molar extraction',\n",
       "  853: 'mood',\n",
       "  854: 'mood stabilization',\n",
       "  855: 'mood stabilizer taken w/ prozac',\n",
       "  856: 'mood stablizer for bipoler disorder',\n",
       "  857: 'mood swings',\n",
       "  858: 'mood swings, felt by- polar',\n",
       "  859: 'morning sickness/nausea',\n",
       "  860: 'mrsa',\n",
       "  861: 'mrsa abcess',\n",
       "  862: 'mrsa skin infection',\n",
       "  863: 'mucus in stool',\n",
       "  864: 'mulitple sclerosis',\n",
       "  865: 'multiple sclerosis',\n",
       "  866: 'muscle pain and stiffness due to fibromyalgia',\n",
       "  867: 'muscle pain/spasms - legs',\n",
       "  868: 'muscle relaxant - spinal disorder',\n",
       "  869: 'muscle spasm',\n",
       "  870: 'muscle spasms',\n",
       "  871: 'muscle spasms (upper back/neck)',\n",
       "  872: 'muscle stiffness',\n",
       "  873: 'muscle strain',\n",
       "  874: 'muscular pain - arm',\n",
       "  875: 'muslce inflammation',\n",
       "  876: 'mycoplasma bronchitis',\n",
       "  877: 'mytral valve prolapse',\n",
       "  878: 'narcalepsy',\n",
       "  879: 'narcolepsy',\n",
       "  880: 'narcolepsy, fibromyalgia',\n",
       "  881: 'narcolepsy, sleep apnea, bipolar disorder',\n",
       "  882: 'narcolepsy/cataplexy',\n",
       "  883: 'nasal allergies',\n",
       "  884: 'nasal allergy',\n",
       "  885: 'nasal polyps',\n",
       "  886: 'nausea',\n",
       "  887: 'nausea after eating',\n",
       "  888: 'nausea/morning sicness/ongoing vomitting',\n",
       "  889: 'nausea/vomiting',\n",
       "  890: 'neck & arm muscle spasms',\n",
       "  891: 'neck and back pain',\n",
       "  892: 'neck and back pain/  whiplash',\n",
       "  893: 'neck and hip pain',\n",
       "  894: 'neck pain',\n",
       "  895: 'neck pain from car accident whiplash',\n",
       "  896: 'neck/shoulder spasms',\n",
       "  897: 'nerve and muscle pain',\n",
       "  898: 'nerve condition, burning in legs and aching feet',\n",
       "  899: 'nerve damage',\n",
       "  900: 'nerve damage from brachial plexitus',\n",
       "  901: 'nerve damage, 1 nerve near mouth during surgery',\n",
       "  902: 'nerve damage/ acdf surgery',\n",
       "  903: 'nerve disorder',\n",
       "  904: 'nerve pain, fibromyalgia',\n",
       "  905: 'nerve painn',\n",
       "  906: 'nerves',\n",
       "  907: 'nerves, depression',\n",
       "  908: 'neural pain',\n",
       "  909: 'neuropathic pain',\n",
       "  910: 'neuropathic pain aand fibromyalgia',\n",
       "  911: 'neuropathic pain from botched surgery',\n",
       "  912: 'neuropathy / anklosing spondylytis',\n",
       "  913: 'neuropathy back pain',\n",
       "  914: 'nicotine addiction',\n",
       "  915: 'no more period',\n",
       "  916: 'nocturnal myoclonus (like restless leg syndrome)',\n",
       "  917: 'none',\n",
       "  918: 'not sleeping',\n",
       "  919: 'nummular eczema',\n",
       "  920: 'o increase length and fullness of eyelashes',\n",
       "  921: 'obesity',\n",
       "  922: 'obesity and diabetes',\n",
       "  923: 'obsessional thoughts ocd',\n",
       "  924: 'obsessive compulsive disorder',\n",
       "  925: 'obsessive compulsive disorder, panic disorder, gad',\n",
       "  926: 'ocd',\n",
       "  927: 'ocd, bipolor disease',\n",
       "  928: 'opiate addiction',\n",
       "  929: 'opiate dependence',\n",
       "  930: 'opiate/heroin addiction',\n",
       "  931: 'opiod addiction',\n",
       "  932: 'opioid addiction',\n",
       "  933: 'oral infection',\n",
       "  934: 'oral infection and swelling',\n",
       "  935: 'oral surgery',\n",
       "  936: 'originally brain lesions then lower cholesterol',\n",
       "  937: 'originally depression, later for chronic pain',\n",
       "  938: 'originally sleep apnea',\n",
       "  939: 'osteo arthritis',\n",
       "  940: 'osteoarthritis',\n",
       "  941: 'osteochondral injury of the talus, left ankle',\n",
       "  942: 'osteopenia',\n",
       "  943: 'osteopenia and osteoporosis',\n",
       "  944: 'osteoporosis',\n",
       "  945: 'osteoporosis/bone stength',\n",
       "  946: 'osteoporsis',\n",
       "  947: 'osteroporosis',\n",
       "  948: 'ostheoporosis prevention',\n",
       "  949: 'ovarian cyst',\n",
       "  950: 'ovarian cysts/sciatic nerve',\n",
       "  951: 'over weight',\n",
       "  952: 'overactive bladder',\n",
       "  953: 'overeating, weight gain',\n",
       "  954: 'overweight',\n",
       "  955: 'overweight, self confidence',\n",
       "  956: 'pain',\n",
       "  957: 'pain - chronic panceatitis',\n",
       "  958: 'pain after dental surgery',\n",
       "  959: 'pain after foot surgery',\n",
       "  960: 'pain after surgery',\n",
       "  961: 'pain and depression',\n",
       "  962: 'pain control',\n",
       "  963: 'pain from broken arm',\n",
       "  964: 'pain from pinched nerve',\n",
       "  965: 'pain in my legs',\n",
       "  966: 'pain management',\n",
       "  967: 'pain relief  from an infected cat bite wound',\n",
       "  968: 'pain relief (glenohumeral instability correction)',\n",
       "  969: 'pain relief - toothache',\n",
       "  970: 'pain relief after surgery',\n",
       "  971: 'pain relief for arthritis and sleep aid',\n",
       "  972: 'pain, muscle strain',\n",
       "  973: 'pain/arthritis',\n",
       "  974: 'pain/headaches',\n",
       "  975: 'painkiller after surgery',\n",
       "  976: 'palpitations',\n",
       "  977: 'pancreatitis',\n",
       "  978: 'panic attack and anxiety',\n",
       "  979: 'panic attacks',\n",
       "  980: 'panic attacks and depression',\n",
       "  981: 'panic attacks, depression',\n",
       "  982: 'panic attacks/feeling low',\n",
       "  983: 'panic disorder',\n",
       "  984: 'panic disorder, agoraphobia',\n",
       "  985: 'papillary, follicular, tall-cell variant cancer',\n",
       "  986: \"parkinson's\",\n",
       "  987: 'pcos',\n",
       "  988: 'peanut allergy',\n",
       "  989: 'pentasa',\n",
       "  990: 'peptic ulcer',\n",
       "  991: 'perennial rhinitis',\n",
       "  992: 'perenniel rhinitis',\n",
       "  993: 'perepheral neuropathy',\n",
       "  994: 'performance anxiety / social anxiety',\n",
       "  995: 'peri-menopausal syptoms',\n",
       "  996: 'periferal neuropathy',\n",
       "  997: 'perimenopause',\n",
       "  998: 'perimenopause symptoms',\n",
       "  999: 'period cramps',\n",
       "  ...},\n",
       " {0: 'Extremely Severe Side Effects',\n",
       "  1: 'Mild Side Effects',\n",
       "  2: 'Moderate Side Effects',\n",
       "  3: 'No Side Effects',\n",
       "  4: 'Severe Side Effects'}]"
      ]
     },
     "execution_count": 14,
     "metadata": {},
     "output_type": "execute_result"
    }
   ],
   "source": [
    "mappings"
   ]
  },
  {
   "cell_type": "markdown",
   "metadata": {},
   "source": [
    "### Checking Correlation"
   ]
  },
  {
   "cell_type": "code",
   "execution_count": 132,
   "metadata": {},
   "outputs": [
    {
     "data": {
      "text/plain": [
       "<matplotlib.axes._subplots.AxesSubplot at 0x1f6617778b0>"
      ]
     },
     "execution_count": 132,
     "metadata": {},
     "output_type": "execute_result"
    },
    {
     "data": {
      "image/png": "[encoded data removed]",
      "text/plain": [
       "<Figure size 432x288 with 2 Axes>"
      ]
     },
     "metadata": {
      "needs_background": "light"
     },
     "output_type": "display_data"
    }
   ],
   "source": [
    "corr=df.corr()\n",
    "sns.heatmap(corr)"
   ]
  },
  {
   "cell_type": "markdown",
   "metadata": {},
   "source": [
    "### Selecting Dependent and independent values"
   ]
  },
  {
   "cell_type": "code",
   "execution_count": 133,
   "metadata": {},
   "outputs": [],
   "source": [
    "x=df.drop('sideEffects',axis=1)\n",
    "y=df['sideEffects']"
   ]
  },
  {
   "cell_type": "code",
   "execution_count": 134,
   "metadata": {},
   "outputs": [
    {
     "data": {
      "text/html": [
       "<div>\n",
       "<style scoped>\n",
       "    .dataframe tbody tr th:only-of-type {\n",
       "        vertical-align: middle;\n",
       "    }\n",
       "\n",
       "    .dataframe tbody tr th {\n",
       "        vertical-align: top;\n",
       "    }\n",
       "\n",
       "    .dataframe thead th {\n",
       "        text-align: right;\n",
       "    }\n",
       "</style>\n",
       "<table border=\"1\" class=\"dataframe\">\n",
       "  <thead>\n",
       "    <tr style=\"text-align: right;\">\n",
       "      <th></th>\n",
       "      <th>urlDrugName</th>\n",
       "      <th>rating</th>\n",
       "      <th>effectiveness</th>\n",
       "      <th>condition</th>\n",
       "    </tr>\n",
       "  </thead>\n",
       "  <tbody>\n",
       "    <tr>\n",
       "      <th>0</th>\n",
       "      <td>0</td>\n",
       "      <td>4</td>\n",
       "      <td>0</td>\n",
       "      <td>0</td>\n",
       "    </tr>\n",
       "    <tr>\n",
       "      <th>1</th>\n",
       "      <td>1</td>\n",
       "      <td>1</td>\n",
       "      <td>0</td>\n",
       "      <td>1</td>\n",
       "    </tr>\n",
       "    <tr>\n",
       "      <th>2</th>\n",
       "      <td>2</td>\n",
       "      <td>10</td>\n",
       "      <td>0</td>\n",
       "      <td>2</td>\n",
       "    </tr>\n",
       "    <tr>\n",
       "      <th>3</th>\n",
       "      <td>3</td>\n",
       "      <td>3</td>\n",
       "      <td>1</td>\n",
       "      <td>3</td>\n",
       "    </tr>\n",
       "    <tr>\n",
       "      <th>4</th>\n",
       "      <td>4</td>\n",
       "      <td>2</td>\n",
       "      <td>1</td>\n",
       "      <td>4</td>\n",
       "    </tr>\n",
       "  </tbody>\n",
       "</table>\n",
       "</div>"
      ],
      "text/plain": [
       "   urlDrugName  rating  effectiveness  condition\n",
       "0            0       4              0          0\n",
       "1            1       1              0          1\n",
       "2            2      10              0          2\n",
       "3            3       3              1          3\n",
       "4            4       2              1          4"
      ]
     },
     "execution_count": 134,
     "metadata": {},
     "output_type": "execute_result"
    }
   ],
   "source": [
    "x.head()"
   ]
  },
  {
   "cell_type": "markdown",
   "metadata": {},
   "source": [
    "### Standard scaling the data"
   ]
  },
  {
   "cell_type": "code",
   "execution_count": 135,
   "metadata": {},
   "outputs": [],
   "source": [
    "from sklearn.preprocessing import StandardScaler\n",
    "scaler=StandardScaler()\n",
    "x=scaler.fit_transform(x)"
   ]
  },
  {
   "cell_type": "code",
   "execution_count": 136,
   "metadata": {},
   "outputs": [],
   "source": [
    "from sklearn.model_selection import train_test_split\n",
    "X_train,X_test,y_train,y_test = train_test_split(x,y,random_state=42,test_size=0.3)"
   ]
  },
  {
   "cell_type": "code",
   "execution_count": 137,
   "metadata": {},
   "outputs": [],
   "source": [
    "# dtale.show(x)"
   ]
  },
  {
   "cell_type": "markdown",
   "metadata": {},
   "source": [
    "## Data modeling"
   ]
  },
  {
   "cell_type": "code",
   "execution_count": 138,
   "metadata": {},
   "outputs": [],
   "source": [
    "from sklearn.naive_bayes import GaussianNB\n",
    "from sklearn.naive_bayes import BernoulliNB\n",
    "from sklearn.linear_model import LogisticRegression\n",
    "from sklearn.svm import SVC\n",
    "from sklearn.ensemble import RandomForestClassifier\n",
    "from sklearn.tree import DecisionTreeClassifier\n",
    "from sklearn.neighbors import KNeighborsClassifier\n",
    "from sklearn.metrics import confusion_matrix,accuracy_score,classification_report\n",
    "from sklearn.ensemble import GradientBoostingClassifier\n",
    "from xgboost import XGBClassifier"
   ]
  },
  {
   "cell_type": "markdown",
   "metadata": {},
   "source": [
    "### Logistic regression"
   ]
  },
  {
   "cell_type": "code",
   "execution_count": 139,
   "metadata": {},
   "outputs": [],
   "source": [
    "#logistic regression\n",
    "from sklearn.linear_model import LogisticRegression\n",
    "logit_model = LogisticRegression()\n",
    "logit_model.fit(X_train,y_train)\n",
    "y_pred = logit_model.predict(X_test)"
   ]
  },
  {
   "cell_type": "code",
   "execution_count": 140,
   "metadata": {},
   "outputs": [
    {
     "name": "stdout",
     "output_type": "stream",
     "text": [
      "Classification report :\n",
      "               precision    recall  f1-score   support\n",
      "\n",
      "           0       0.44      0.66      0.53       298\n",
      "           1       0.38      0.40      0.39       115\n",
      "           2       0.58      0.45      0.51       301\n",
      "           3       0.38      0.22      0.28        50\n",
      "           4       0.42      0.24      0.31       169\n",
      "\n",
      "    accuracy                           0.46       933\n",
      "   macro avg       0.44      0.39      0.40       933\n",
      "weighted avg       0.47      0.46      0.45       933\n",
      "\n"
     ]
    }
   ],
   "source": [
    "from sklearn.metrics import confusion_matrix,accuracy_score,classification_report\n",
    "# print('Confusion_matrix is :\\n',confusion_matrix(y_test,y_pred))\n",
    "print('Classification report :\\n' ,classification_report(y_test,y_pred))"
   ]
  },
  {
   "cell_type": "markdown",
   "metadata": {},
   "source": [
    "### Gussian Naive Bayes Classifier"
   ]
  },
  {
   "cell_type": "code",
   "execution_count": 25,
   "metadata": {},
   "outputs": [
    {
     "data": {
      "text/plain": [
       "GaussianNB()"
      ]
     },
     "execution_count": 25,
     "metadata": {},
     "output_type": "execute_result"
    }
   ],
   "source": [
    "classifier=GaussianNB()\n",
    "classifier.fit(X_train,y_train)"
   ]
  },
  {
   "cell_type": "code",
   "execution_count": 26,
   "metadata": {},
   "outputs": [
    {
     "name": "stdout",
     "output_type": "stream",
     "text": [
      "Classification report :\n",
      "                                precision    recall  f1-score   support\n",
      "\n",
      "Extremely Severe Side Effects       0.34      0.36      0.35        50\n",
      "            Mild Side Effects       0.45      0.68      0.54       298\n",
      "        Moderate Side Effects       0.43      0.27      0.33       169\n",
      "              No Side Effects       0.56      0.38      0.45       301\n",
      "          Severe Side Effects       0.37      0.37      0.37       115\n",
      "\n",
      "                     accuracy                           0.45       933\n",
      "                    macro avg       0.43      0.41      0.41       933\n",
      "                 weighted avg       0.47      0.45      0.44       933\n",
      "\n"
     ]
    }
   ],
   "source": [
    "y_pred=classifier.predict(X_test)\n",
    "print('Classification report :\\n' ,classification_report(y_test,y_pred))"
   ]
  },
  {
   "cell_type": "markdown",
   "metadata": {},
   "source": [
    "**Bernouli Naive Bayes Classifier**"
   ]
  },
  {
   "cell_type": "code",
   "execution_count": 27,
   "metadata": {},
   "outputs": [
    {
     "name": "stdout",
     "output_type": "stream",
     "text": [
      "classification report : \n",
      "                                precision    recall  f1-score   support\n",
      "\n",
      "Extremely Severe Side Effects       0.00      0.00      0.00        50\n",
      "            Mild Side Effects       0.29      0.54      0.38       298\n",
      "        Moderate Side Effects       0.00      0.00      0.00       169\n",
      "              No Side Effects       0.44      0.55      0.49       301\n",
      "          Severe Side Effects       0.00      0.00      0.00       115\n",
      "\n",
      "                     accuracy                           0.35       933\n",
      "                    macro avg       0.15      0.22      0.17       933\n",
      "                 weighted avg       0.24      0.35      0.28       933\n",
      "\n"
     ]
    },
    {
     "name": "stderr",
     "output_type": "stream",
     "text": [
      "C:\\Users\\Vinay\\anaconda3\\lib\\site-packages\\sklearn\\metrics\\_classification.py:1221: UndefinedMetricWarning: Precision and F-score are ill-defined and being set to 0.0 in labels with no predicted samples. Use `zero_division` parameter to control this behavior.\n",
      "  _warn_prf(average, modifier, msg_start, len(result))\n"
     ]
    }
   ],
   "source": [
    "classifier=BernoulliNB()\n",
    "classifier.fit(X_train,y_train)\n",
    "y_pred=classifier.predict(X_test)\n",
    "print(\"classification report : \\n\",classification_report(y_test,y_pred))"
   ]
  },
  {
   "cell_type": "markdown",
   "metadata": {},
   "source": [
    "**SVM**"
   ]
  },
  {
   "cell_type": "markdown",
   "metadata": {},
   "source": [
    "**Linear SVM**"
   ]
  },
  {
   "cell_type": "code",
   "execution_count": 28,
   "metadata": {},
   "outputs": [
    {
     "name": "stdout",
     "output_type": "stream",
     "text": [
      "Classification report:\n",
      "                                precision    recall  f1-score   support\n",
      "\n",
      "Extremely Severe Side Effects       0.00      0.00      0.00        50\n",
      "            Mild Side Effects       0.43      0.69      0.53       298\n",
      "        Moderate Side Effects       0.41      0.20      0.27       169\n",
      "              No Side Effects       0.56      0.39      0.46       301\n",
      "          Severe Side Effects       0.39      0.57      0.46       115\n",
      "\n",
      "                     accuracy                           0.45       933\n",
      "                    macro avg       0.36      0.37      0.34       933\n",
      "                 weighted avg       0.44      0.45      0.42       933\n",
      "\n"
     ]
    },
    {
     "name": "stderr",
     "output_type": "stream",
     "text": [
      "C:\\Users\\Vinay\\anaconda3\\lib\\site-packages\\sklearn\\metrics\\_classification.py:1221: UndefinedMetricWarning: Precision and F-score are ill-defined and being set to 0.0 in labels with no predicted samples. Use `zero_division` parameter to control this behavior.\n",
      "  _warn_prf(average, modifier, msg_start, len(result))\n"
     ]
    }
   ],
   "source": [
    "classifier=SVC(kernel=\"linear\",random_state=123)\n",
    "classifier.fit(X_train,y_train)\n",
    "y_pred=classifier.predict(X_test)\n",
    "print(\"Classification report:\\n\",classification_report(y_test,y_pred))"
   ]
  },
  {
   "cell_type": "markdown",
   "metadata": {},
   "source": [
    "**POLYNOMIAL SVM**"
   ]
  },
  {
   "cell_type": "code",
   "execution_count": 29,
   "metadata": {},
   "outputs": [
    {
     "name": "stdout",
     "output_type": "stream",
     "text": [
      "Classification report :\n",
      "                                precision    recall  f1-score   support\n",
      "\n",
      "Extremely Severe Side Effects       0.00      0.00      0.00        50\n",
      "            Mild Side Effects       0.32      0.91      0.47       298\n",
      "        Moderate Side Effects       0.00      0.00      0.00       169\n",
      "              No Side Effects       0.38      0.12      0.18       301\n",
      "          Severe Side Effects       0.00      0.00      0.00       115\n",
      "\n",
      "                     accuracy                           0.33       933\n",
      "                    macro avg       0.14      0.21      0.13       933\n",
      "                 weighted avg       0.23      0.33      0.21       933\n",
      "\n"
     ]
    },
    {
     "name": "stderr",
     "output_type": "stream",
     "text": [
      "C:\\Users\\Vinay\\anaconda3\\lib\\site-packages\\sklearn\\metrics\\_classification.py:1221: UndefinedMetricWarning: Precision and F-score are ill-defined and being set to 0.0 in labels with no predicted samples. Use `zero_division` parameter to control this behavior.\n",
      "  _warn_prf(average, modifier, msg_start, len(result))\n"
     ]
    }
   ],
   "source": [
    "svm_po=SVC(kernel='poly',degree=3,random_state=123)\n",
    "svm_po.fit(X_train,y_train)\n",
    "y_pred=svm_po.predict(X_test)\n",
    "print(\"Classification report :\\n\",classification_report(y_test,y_pred))"
   ]
  },
  {
   "cell_type": "markdown",
   "metadata": {},
   "source": [
    "**Radial SVM**"
   ]
  },
  {
   "cell_type": "code",
   "execution_count": 30,
   "metadata": {},
   "outputs": [
    {
     "name": "stdout",
     "output_type": "stream",
     "text": [
      "Classification report \n",
      "                                precision    recall  f1-score   support\n",
      "\n",
      "Extremely Severe Side Effects       0.00      0.00      0.00        50\n",
      "            Mild Side Effects       0.33      0.80      0.47       298\n",
      "        Moderate Side Effects       0.00      0.00      0.00       169\n",
      "              No Side Effects       0.40      0.29      0.34       301\n",
      "          Severe Side Effects       0.00      0.00      0.00       115\n",
      "\n",
      "                     accuracy                           0.35       933\n",
      "                    macro avg       0.15      0.22      0.16       933\n",
      "                 weighted avg       0.23      0.35      0.26       933\n",
      "\n"
     ]
    },
    {
     "name": "stderr",
     "output_type": "stream",
     "text": [
      "C:\\Users\\Vinay\\anaconda3\\lib\\site-packages\\sklearn\\metrics\\_classification.py:1221: UndefinedMetricWarning: Precision and F-score are ill-defined and being set to 0.0 in labels with no predicted samples. Use `zero_division` parameter to control this behavior.\n",
      "  _warn_prf(average, modifier, msg_start, len(result))\n"
     ]
    }
   ],
   "source": [
    "svm_ra=SVC(kernel='rbf',random_state=123)\n",
    "svm_ra.fit(X_train,y_train)\n",
    "y_pred=svm_ra.predict(X_test)\n",
    "print(\"Classification report \\n\",classification_report(y_test,y_pred))"
   ]
  },
  {
   "cell_type": "markdown",
   "metadata": {},
   "source": [
    "**KNN algorithm**"
   ]
  },
  {
   "cell_type": "code",
   "execution_count": 31,
   "metadata": {},
   "outputs": [],
   "source": [
    "acc_values=[]\n",
    "neighbors=np.arange(1,16)\n",
    "for i in neighbors:\n",
    "    classifier=KNeighborsClassifier(n_neighbors=i,metric='minkowski')\n",
    "    classifier.fit(X_train,y_train)\n",
    "    y_pred=classifier.predict(X_test)\n",
    "    acc=accuracy_score(y_test,y_pred)\n",
    "    acc_values.append(acc)"
   ]
  },
  {
   "cell_type": "code",
   "execution_count": 32,
   "metadata": {},
   "outputs": [
    {
     "data": {
      "image/png": "[encoded data removed]",
      "text/plain": [
       "<Figure size 432x288 with 1 Axes>"
      ]
     },
     "metadata": {
      "needs_background": "light"
     },
     "output_type": "display_data"
    }
   ],
   "source": [
    "plt.plot(range(1,16),acc_values,'-o')\n",
    "plt.show()"
   ]
  },
  {
   "cell_type": "code",
   "execution_count": 41,
   "metadata": {},
   "outputs": [
    {
     "name": "stdout",
     "output_type": "stream",
     "text": [
      "Classification report\n",
      "                                precision    recall  f1-score   support\n",
      "\n",
      "Extremely Severe Side Effects       0.12      0.22      0.16        50\n",
      "            Mild Side Effects       0.39      0.61      0.48       298\n",
      "        Moderate Side Effects       0.25      0.20      0.22       169\n",
      "              No Side Effects       0.47      0.34      0.40       301\n",
      "          Severe Side Effects       0.40      0.10      0.17       115\n",
      "\n",
      "                     accuracy                           0.37       933\n",
      "                    macro avg       0.33      0.30      0.28       933\n",
      "                 weighted avg       0.38      0.37      0.35       933\n",
      "\n"
     ]
    }
   ],
   "source": [
    "classifier=KNeighborsClassifier(n_neighbors=3,metric='minkowski')\n",
    "classifier.fit(X_train,y_train)\n",
    "y_pred=classifier.predict(X_test)\n",
    "print(\"Classification report\\n\",classification_report(y_test,y_pred))"
   ]
  },
  {
   "cell_type": "markdown",
   "metadata": {},
   "source": [
    "**Decision Tree**"
   ]
  },
  {
   "cell_type": "code",
   "execution_count": 145,
   "metadata": {},
   "outputs": [
    {
     "name": "stdout",
     "output_type": "stream",
     "text": [
      "Classification report: \n",
      "               precision    recall  f1-score   support\n",
      "\n",
      "           0       0.39      0.42      0.41       298\n",
      "           1       0.32      0.30      0.31       115\n",
      "           2       0.50      0.46      0.47       301\n",
      "           3       0.39      0.48      0.43        50\n",
      "           4       0.30      0.31      0.31       169\n",
      "\n",
      "    accuracy                           0.40       933\n",
      "   macro avg       0.38      0.39      0.39       933\n",
      "weighted avg       0.40      0.40      0.40       933\n",
      "\n"
     ]
    }
   ],
   "source": [
    "clf=DecisionTreeClassifier(random_state=123)\n",
    "clf.fit(X_train,y_train)\n",
    "y_pred=clf.predict(X_test)\n",
    "print(\"Classification report: \\n\",classification_report(y_test,y_pred))"
   ]
  },
  {
   "cell_type": "code",
   "execution_count": 146,
   "metadata": {},
   "outputs": [
    {
     "name": "stdout",
     "output_type": "stream",
     "text": [
      "Classification matrix: \n",
      "               precision    recall  f1-score   support\n",
      "\n",
      "           0       0.45      0.61      0.52       298\n",
      "           1       0.41      0.32      0.36       115\n",
      "           2       0.56      0.47      0.51       301\n",
      "           3       0.56      0.58      0.57        50\n",
      "           4       0.37      0.31      0.34       169\n",
      "\n",
      "    accuracy                           0.47       933\n",
      "   macro avg       0.47      0.46      0.46       933\n",
      "weighted avg       0.47      0.47      0.47       933\n",
      "\n"
     ]
    }
   ],
   "source": [
    "clf=DecisionTreeClassifier(criterion='entropy',random_state=123,min_samples_split=30,max_depth=300)\n",
    "clf.fit(X_train,y_train)\n",
    "y_pred=clf.predict(X_test)\n",
    "print(\"Classification matrix: \\n\",classification_report(y_test,y_pred))"
   ]
  },
  {
   "cell_type": "markdown",
   "metadata": {},
   "source": [
    "**Random forest Classifier**"
   ]
  },
  {
   "cell_type": "code",
   "execution_count": 147,
   "metadata": {},
   "outputs": [
    {
     "name": "stdout",
     "output_type": "stream",
     "text": [
      "Classification report : \n",
      "               precision    recall  f1-score   support\n",
      "\n",
      "           0       0.43      0.45      0.44       298\n",
      "           1       0.34      0.30      0.31       115\n",
      "           2       0.55      0.52      0.53       301\n",
      "           3       0.44      0.50      0.47        50\n",
      "           4       0.32      0.34      0.33       169\n",
      "\n",
      "    accuracy                           0.44       933\n",
      "   macro avg       0.41      0.42      0.42       933\n",
      "weighted avg       0.44      0.44      0.44       933\n",
      "\n"
     ]
    }
   ],
   "source": [
    "rf=RandomForestClassifier(random_state=123)\n",
    "rf.fit(X_train,y_train)\n",
    "y_pred=rf.predict(X_test)\n",
    "print(\"Classification report : \\n\",classification_report(y_test,y_pred))"
   ]
  },
  {
   "cell_type": "markdown",
   "metadata": {},
   "source": [
    "### **Gradient Boosting**"
   ]
  },
  {
   "cell_type": "code",
   "execution_count": 211,
   "metadata": {},
   "outputs": [
    {
     "name": "stdout",
     "output_type": "stream",
     "text": [
      "Classification report :\n",
      "               precision    recall  f1-score   support\n",
      "\n",
      "           0       0.52      0.62      0.56       298\n",
      "           1       0.43      0.37      0.40       115\n",
      "           2       0.65      0.58      0.61       301\n",
      "           3       0.45      0.66      0.53        50\n",
      "           4       0.41      0.32      0.36       169\n",
      "\n",
      "    accuracy                           0.53       933\n",
      "   macro avg       0.49      0.51      0.49       933\n",
      "weighted avg       0.53      0.53      0.52       933\n",
      "\n"
     ]
    }
   ],
   "source": [
    "classifier=GradientBoostingClassifier(random_state=123,n_estimators =58,min_samples_split=0.07)\n",
    "classifier.fit(X_train,y_train)\n",
    "y_pred=classifier.predict(X_test)\n",
    "print(\"Classification report :\\n\",classification_report(y_test,y_pred))"
   ]
  },
  {
   "cell_type": "markdown",
   "metadata": {},
   "source": [
    "### Evaluating using kFold Crossvalidation"
   ]
  },
  {
   "cell_type": "code",
   "execution_count": 214,
   "metadata": {},
   "outputs": [],
   "source": [
    "seed = 123\n",
    "num_trees = 58"
   ]
  },
  {
   "cell_type": "code",
   "execution_count": 215,
   "metadata": {},
   "outputs": [
    {
     "name": "stderr",
     "output_type": "stream",
     "text": [
      "C:\\Users\\Vinay\\anaconda3\\lib\\site-packages\\sklearn\\model_selection\\_split.py:293: FutureWarning: Setting a random_state has no effect since shuffle is False. This will raise an error in 0.24. You should leave random_state to its default (None), or set shuffle=True.\n",
      "  warnings.warn(\n"
     ]
    }
   ],
   "source": [
    "from sklearn import model_selection\n",
    "kfold = model_selection.KFold(n_splits=7, random_state=seed)\n",
    "model = GradientBoostingClassifier(n_estimators=num_trees, random_state=seed,min_samples_split=0.07)\n",
    "results = model_selection.cross_val_score(model, x, y, cv=kfold)"
   ]
  },
  {
   "cell_type": "code",
   "execution_count": 216,
   "metadata": {},
   "outputs": [
    {
     "name": "stdout",
     "output_type": "stream",
     "text": [
      "0.4959748526339948\n"
     ]
    }
   ],
   "source": [
    "print(results.mean())"
   ]
  },
  {
   "cell_type": "markdown",
   "metadata": {},
   "source": [
    "**Xg Boost**"
   ]
  },
  {
   "cell_type": "code",
   "execution_count": 38,
   "metadata": {},
   "outputs": [
    {
     "name": "stderr",
     "output_type": "stream",
     "text": [
      "C:\\Users\\Vinay\\anaconda3\\lib\\site-packages\\xgboost\\sklearn.py:888: UserWarning: The use of label encoder in XGBClassifier is deprecated and will be removed in a future release. To remove this warning, do the following: 1) Pass option use_label_encoder=False when constructing XGBClassifier object; and 2) Encode your labels (y) as integers starting with 0, i.e. 0, 1, 2, ..., [num_class - 1].\n",
      "  warnings.warn(label_encoder_deprecation_msg, UserWarning)\n"
     ]
    },
    {
     "name": "stdout",
     "output_type": "stream",
     "text": [
      "[22:55:16] WARNING: C:/Users/Administrator/workspace/xgboost-win64_release_1.3.0/src/learner.cc:1061: Starting in XGBoost 1.3.0, the default evaluation metric used with the objective 'multi:softprob' was changed from 'merror' to 'mlogloss'. Explicitly set eval_metric if you'd like to restore the old behavior.\n",
      "Classification report : \n",
      "                                precision    recall  f1-score   support\n",
      "\n",
      "Extremely Severe Side Effects       0.45      0.52      0.48        50\n",
      "            Mild Side Effects       0.48      0.53      0.51       298\n",
      "        Moderate Side Effects       0.38      0.36      0.37       169\n",
      "              No Side Effects       0.59      0.57      0.58       301\n",
      "          Severe Side Effects       0.34      0.29      0.31       115\n",
      "\n",
      "                     accuracy                           0.48       933\n",
      "                    macro avg       0.45      0.45      0.45       933\n",
      "                 weighted avg       0.48      0.48      0.48       933\n",
      "\n"
     ]
    }
   ],
   "source": [
    "xgbc=XGBClassifier(random_state=123)\n",
    "xgbc.fit(X_train,y_train)\n",
    "y_pred=xgbc.predict(X_test)\n",
    "print(\"Classification report : \\n\",classification_report(y_test,y_pred))"
   ]
  },
  {
   "cell_type": "markdown",
   "metadata": {},
   "source": [
    "### Extra Tree Classifier"
   ]
  },
  {
   "cell_type": "code",
   "execution_count": 51,
   "metadata": {},
   "outputs": [
    {
     "name": "stdout",
     "output_type": "stream",
     "text": [
      "Classification report \n",
      "                                precision    recall  f1-score   support\n",
      "\n",
      "Extremely Severe Side Effects       0.37      0.44      0.40        50\n",
      "            Mild Side Effects       0.43      0.46      0.45       298\n",
      "        Moderate Side Effects       0.34      0.33      0.33       169\n",
      "              No Side Effects       0.56      0.53      0.55       301\n",
      "          Severe Side Effects       0.33      0.29      0.31       115\n",
      "\n",
      "                     accuracy                           0.44       933\n",
      "                    macro avg       0.40      0.41      0.41       933\n",
      "                 weighted avg       0.44      0.44      0.44       933\n",
      "\n"
     ]
    }
   ],
   "source": [
    "from sklearn.ensemble import ExtraTreesClassifier\n",
    "model = ExtraTreesClassifier(n_estimators=100,max_features=3)\n",
    "model.fit(X_train,y_train)\n",
    "y_pred=model.predict(X_test)\n",
    "print(\"Classification report \\n\",classification_report(y_test,y_pred))"
   ]
  },
  {
   "cell_type": "markdown",
   "metadata": {},
   "source": [
    "### AdaBoost Classifier"
   ]
  },
  {
   "cell_type": "code",
   "execution_count": 52,
   "metadata": {},
   "outputs": [
    {
     "name": "stdout",
     "output_type": "stream",
     "text": [
      "Classification report \n",
      "                                precision    recall  f1-score   support\n",
      "\n",
      "Extremely Severe Side Effects       0.41      0.52      0.46        50\n",
      "            Mild Side Effects       0.44      0.63      0.52       298\n",
      "        Moderate Side Effects       0.38      0.30      0.34       169\n",
      "              No Side Effects       0.61      0.41      0.49       301\n",
      "          Severe Side Effects       0.34      0.33      0.34       115\n",
      "\n",
      "                     accuracy                           0.46       933\n",
      "                    macro avg       0.44      0.44      0.43       933\n",
      "                 weighted avg       0.47      0.46      0.45       933\n",
      "\n"
     ]
    }
   ],
   "source": [
    "from sklearn.ensemble import AdaBoostClassifier\n",
    "model = AdaBoostClassifier(n_estimators=100, random_state=123)\n",
    "model.fit(X_train,y_train)\n",
    "y_pred=model.predict(X_test)\n",
    "print(\"Classification report \\n\",classification_report(y_test,y_pred))"
   ]
  },
  {
   "cell_type": "code",
   "execution_count": null,
   "metadata": {},
   "outputs": [],
   "source": []
  },
  {
   "cell_type": "code",
   "execution_count": null,
   "metadata": {},
   "outputs": [],
   "source": []
  },
  {
   "cell_type": "code",
   "execution_count": null,
   "metadata": {},
   "outputs": [],
   "source": []
  }
 ],
 "metadata": {
  "kernelspec": {
   "display_name": "Python 3",
   "language": "python",
   "name": "python3"
  },
  "language_info": {
   "codemirror_mode": {
    "name": "ipython",
    "version": 3
   },
   "file_extension": ".py",
   "mimetype": "text/x-python",
   "name": "python",
   "nbconvert_exporter": "python",
   "pygments_lexer": "ipython3",
   "version": "3.8.3"
  }
 },
 "nbformat": 4,
 "nbformat_minor": 4
}
