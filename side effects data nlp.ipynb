{
 "cells": [
  {
   "cell_type": "code",
   "execution_count": 1,
   "metadata": {},
   "outputs": [],
   "source": [
    "import numpy as np\n",
    "import pandas as pd\n",
    "import matplotlib.pyplot as plt\n",
    "import seaborn as sns"
   ]
  },
  {
   "cell_type": "code",
   "execution_count": 2,
   "metadata": {},
   "outputs": [],
   "source": [
    "df=pd.read_csv(\"drugeffects.csv\",index_col=0)"
   ]
  },
  {
   "cell_type": "code",
   "execution_count": 3,
   "metadata": {},
   "outputs": [
    {
     "data": {
      "text/html": [
       "<div>\n",
       "<style scoped>\n",
       "    .dataframe tbody tr th:only-of-type {\n",
       "        vertical-align: middle;\n",
       "    }\n",
       "\n",
       "    .dataframe tbody tr th {\n",
       "        vertical-align: top;\n",
       "    }\n",
       "\n",
       "    .dataframe thead th {\n",
       "        text-align: right;\n",
       "    }\n",
       "</style>\n",
       "<table border=\"1\" class=\"dataframe\">\n",
       "  <thead>\n",
       "    <tr style=\"text-align: right;\">\n",
       "      <th></th>\n",
       "      <th>urlDrugName</th>\n",
       "      <th>rating</th>\n",
       "      <th>effectiveness</th>\n",
       "      <th>condition</th>\n",
       "      <th>sideEffects</th>\n",
       "    </tr>\n",
       "  </thead>\n",
       "  <tbody>\n",
       "    <tr>\n",
       "      <th>0</th>\n",
       "      <td>enalapril</td>\n",
       "      <td>4</td>\n",
       "      <td>Highly Effective</td>\n",
       "      <td>management of congestive heart failure</td>\n",
       "      <td>Mild Side Effects</td>\n",
       "    </tr>\n",
       "    <tr>\n",
       "      <th>1</th>\n",
       "      <td>ortho-tri-cyclen</td>\n",
       "      <td>1</td>\n",
       "      <td>Highly Effective</td>\n",
       "      <td>birth prevention</td>\n",
       "      <td>Severe Side Effects</td>\n",
       "    </tr>\n",
       "    <tr>\n",
       "      <th>2</th>\n",
       "      <td>ponstel</td>\n",
       "      <td>10</td>\n",
       "      <td>Highly Effective</td>\n",
       "      <td>menstrual cramps</td>\n",
       "      <td>No Side Effects</td>\n",
       "    </tr>\n",
       "    <tr>\n",
       "      <th>3</th>\n",
       "      <td>prilosec</td>\n",
       "      <td>3</td>\n",
       "      <td>Marginally Effective</td>\n",
       "      <td>acid reflux</td>\n",
       "      <td>Mild Side Effects</td>\n",
       "    </tr>\n",
       "    <tr>\n",
       "      <th>4</th>\n",
       "      <td>lyrica</td>\n",
       "      <td>2</td>\n",
       "      <td>Marginally Effective</td>\n",
       "      <td>fibromyalgia</td>\n",
       "      <td>Severe Side Effects</td>\n",
       "    </tr>\n",
       "  </tbody>\n",
       "</table>\n",
       "</div>"
      ],
      "text/plain": [
       "        urlDrugName  rating         effectiveness  \\\n",
       "0         enalapril       4      Highly Effective   \n",
       "1  ortho-tri-cyclen       1      Highly Effective   \n",
       "2           ponstel      10      Highly Effective   \n",
       "3          prilosec       3  Marginally Effective   \n",
       "4            lyrica       2  Marginally Effective   \n",
       "\n",
       "                                condition          sideEffects  \n",
       "0  management of congestive heart failure    Mild Side Effects  \n",
       "1                        birth prevention  Severe Side Effects  \n",
       "2                        menstrual cramps      No Side Effects  \n",
       "3                             acid reflux    Mild Side Effects  \n",
       "4                            fibromyalgia  Severe Side Effects  "
      ]
     },
     "execution_count": 3,
     "metadata": {},
     "output_type": "execute_result"
    }
   ],
   "source": [
    "df.head()"
   ]
  },
  {
   "cell_type": "code",
   "execution_count": 4,
   "metadata": {},
   "outputs": [
    {
     "data": {
      "text/plain": [
       "(3107, 5)"
      ]
     },
     "execution_count": 4,
     "metadata": {},
     "output_type": "execute_result"
    }
   ],
   "source": [
    "df.shape"
   ]
  },
  {
   "cell_type": "code",
   "execution_count": 8,
   "metadata": {},
   "outputs": [],
   "source": [
    "da=df[df['sideEffects']=='No Side Effects']"
   ]
  },
  {
   "cell_type": "code",
   "execution_count": 9,
   "metadata": {},
   "outputs": [
    {
     "data": {
      "text/html": [
       "<div>\n",
       "<style scoped>\n",
       "    .dataframe tbody tr th:only-of-type {\n",
       "        vertical-align: middle;\n",
       "    }\n",
       "\n",
       "    .dataframe tbody tr th {\n",
       "        vertical-align: top;\n",
       "    }\n",
       "\n",
       "    .dataframe thead th {\n",
       "        text-align: right;\n",
       "    }\n",
       "</style>\n",
       "<table border=\"1\" class=\"dataframe\">\n",
       "  <thead>\n",
       "    <tr style=\"text-align: right;\">\n",
       "      <th></th>\n",
       "      <th>urlDrugName</th>\n",
       "      <th>rating</th>\n",
       "      <th>effectiveness</th>\n",
       "      <th>condition</th>\n",
       "      <th>sideEffects</th>\n",
       "    </tr>\n",
       "  </thead>\n",
       "  <tbody>\n",
       "    <tr>\n",
       "      <th>2</th>\n",
       "      <td>ponstel</td>\n",
       "      <td>10</td>\n",
       "      <td>Highly Effective</td>\n",
       "      <td>menstrual cramps</td>\n",
       "      <td>No Side Effects</td>\n",
       "    </tr>\n",
       "    <tr>\n",
       "      <th>7</th>\n",
       "      <td>elavil</td>\n",
       "      <td>10</td>\n",
       "      <td>Considerably Effective</td>\n",
       "      <td>depression</td>\n",
       "      <td>No Side Effects</td>\n",
       "    </tr>\n",
       "    <tr>\n",
       "      <th>8</th>\n",
       "      <td>xanax</td>\n",
       "      <td>10</td>\n",
       "      <td>Highly Effective</td>\n",
       "      <td>panic disorder</td>\n",
       "      <td>No Side Effects</td>\n",
       "    </tr>\n",
       "    <tr>\n",
       "      <th>15</th>\n",
       "      <td>effexor-xr</td>\n",
       "      <td>8</td>\n",
       "      <td>Highly Effective</td>\n",
       "      <td>anxiety</td>\n",
       "      <td>No Side Effects</td>\n",
       "    </tr>\n",
       "    <tr>\n",
       "      <th>16</th>\n",
       "      <td>neurontin</td>\n",
       "      <td>6</td>\n",
       "      <td>Moderately Effective</td>\n",
       "      <td>nerve disorder</td>\n",
       "      <td>No Side Effects</td>\n",
       "    </tr>\n",
       "  </tbody>\n",
       "</table>\n",
       "</div>"
      ],
      "text/plain": [
       "   urlDrugName  rating           effectiveness         condition  \\\n",
       "2      ponstel      10        Highly Effective  menstrual cramps   \n",
       "7       elavil      10  Considerably Effective        depression   \n",
       "8        xanax      10        Highly Effective    panic disorder   \n",
       "15  effexor-xr       8        Highly Effective           anxiety   \n",
       "16   neurontin       6    Moderately Effective    nerve disorder   \n",
       "\n",
       "        sideEffects  \n",
       "2   No Side Effects  \n",
       "7   No Side Effects  \n",
       "8   No Side Effects  \n",
       "15  No Side Effects  \n",
       "16  No Side Effects  "
      ]
     },
     "execution_count": 9,
     "metadata": {},
     "output_type": "execute_result"
    }
   ],
   "source": [
    "da.head()"
   ]
  },
  {
   "cell_type": "code",
   "execution_count": 10,
   "metadata": {},
   "outputs": [
    {
     "data": {
      "text/plain": [
       "array(['ponstel', 'elavil', 'xanax', 'effexor-xr', 'neurontin', 'dovonex',\n",
       "       'symbicort', 'ativan', 'doxycycline', 'levitra', 'lamictal',\n",
       "       'aldara', 'ortho-tri-cyclen', 'minocycline', 'prevacid', 'sular',\n",
       "       'crestor', 'metformin', 'synthroid', 'zantac', 'fosamax',\n",
       "       'tirosint', 'angeliq', 'imitrex', 'prempro', 'lipitor', 'valtrex',\n",
       "       'femring', 'ultram-er', 'allegra', 'nasonex', 'zoloft', 'serzone',\n",
       "       'naprosyn', 'propecia', 'protonix', 'dexamethasone', 'diazepam',\n",
       "       'celebrex', 'mobic', 'provigil', 'zestoretic', 'spiriva',\n",
       "       'enalapril', 'claritin', 'vivelle-dot', 'augmentin', 'finacea',\n",
       "       'saizen', 'clonazepam', 'tequin', 'lamisil', 'abilify',\n",
       "       'wellbutrin-sr', 'yasmin', 'mirapex', 'clindamycin-topical',\n",
       "       'ambien', 'zmax', 'renova', 'valium', 'ranitidine', 'cymbalta',\n",
       "       'voltaren', 'tetracycline', 'zovirax', 'cipro', 'relpax',\n",
       "       'climara', 'accutane', 'restasis', 'levoxyl', 'buprenorphine',\n",
       "       'fiorinal', 'cytomel', 'premarin', 'topicort', 'fluconazole',\n",
       "       'grifulvin-v', 'triphasil', 'motrin', 'metrogel', 'naproxen',\n",
       "       'tylenol', 'flonase', 'lunesta', 'tambocor', 'clomid',\n",
       "       'armour-thyroid', 'citalopram', 'chantix', 'elidel', 'proscar',\n",
       "       'permapen', 'trimethobenzamide', 'prednisone', 'azopt',\n",
       "       'selegiline', 'retin-a-micro', 'norvasc', 'wellbutrin', 'remeron',\n",
       "       'enbrel', 'differin', 'singulair', 'lexapro', 'macrobid',\n",
       "       'fioricet', 'albuterol', 'trimethoprim', 'baraclude', 'eulexin',\n",
       "       'klaron', 'prinivil', 'accupril', 'remicade', 'galzin', 'ritalin',\n",
       "       'oracea', 'avapro', 'ketorolac', 'zofran', 'meridia', 'innofem',\n",
       "       'retin-a', 'axert', 'ambien-cr', 'prilosec', 'zithromax',\n",
       "       'zyprexa', 'botox', 'adderall', 'reglan', 'micardis', 'clobetasol',\n",
       "       'flexeril', 'prozac', 'nexium', 'hydrocortisone', 'zyrtec',\n",
       "       'niaspan', 'paxil', 'premarin-vaginal', 'fosamax-plus-d', 'hytrin',\n",
       "       'imodium', 'effexor', 'tobramycin', 'ecotrin', 'evista',\n",
       "       'diclofenac', 'hydrochlorothiazide', 'elocon', 'acyclovir',\n",
       "       'estrasorb', 'qvar', 'halcion', 'sonata', 'miralax', 'clarinex',\n",
       "       'evoclin', 'panixine-disperdose', 'ultracet', 'advair-hfa',\n",
       "       'vytorin', 'pristiq', 'amoxil', 'vicodin', 'lorazepam',\n",
       "       'estratest', 'pentasa', 'avita', 'vaniqa', 'tramadol', 'strattera',\n",
       "       'fexofenadine', 'noroxin', 'glucophage', 'zegerid', 'trazodone',\n",
       "       'tenormin', 'naltrexone', 'actos', 'nuvigil', 'ampicillin',\n",
       "       'claripel-cream', 'pravachol', 'atarax', 'isoniazid', 'omnitrope',\n",
       "       'percocet', 'cataflam', 'nasacort', 'prometrium', 'aygestin',\n",
       "       'avelox', 'flovent', 'vasotec', 'morphine', 'rifadin', 'humira',\n",
       "       'asmanex', 'proquin-xr', 'tamiflu', 'sulfasalazine', 'carac',\n",
       "       'diflucan', 'spironolactone', 'vigamox', 'vagifem', 'exelon',\n",
       "       'benicar', 'zocor', 'adipex-p', 'divigel', 'estrace', 'aciphex',\n",
       "       'delestrogen', 'inderal', 'clobex', 'skelaxin', 'zomig',\n",
       "       'adderall-xr', 'polymyxin-b', 'benicar-hct', 'accolate', 'cardura',\n",
       "       'progesterone', 'coreg', 'maxalt', 'cozaar', 'aromasin', 'vyvanse',\n",
       "       'lidex', 'duac', 'wellbutrin-xl', 'nuvaring', 'plavix', 'penlac',\n",
       "       'ventolin-hfa', 'erythra-derm', 'bisoprolol', 'asacol',\n",
       "       'hyoscyamine', 'sarafem', 'emsam', 'alprazolam', 'requip',\n",
       "       'ultram', 'restoril', 'proair-hfa', 'buspar', 'toprol-xl',\n",
       "       'locoid-lipocream', 'actonel', 'metoprolol', 'lotronex',\n",
       "       'sumatriptan', 'zovirax-topical', 'relafen', 'triamcinolone',\n",
       "       'diovan', 'xenical', 'dispermox', 'keflex', 'arimidex', 'azasan',\n",
       "       'quibron-t', 'clarithromycin', 'aricept', 'advair-diskus',\n",
       "       'periogard', 'levothroid', 'lac-hydrin', 'latisse', 'lidocaine',\n",
       "       'depo-provera', 'triaz', 'haldol', 'lumigan', 'temovate',\n",
       "       'nortriptyline', 'metrolotion', 'seasonale', 'neoprofen',\n",
       "       'nystatin', 'catapres', 'methotrexate', 'nizoral', 'provera',\n",
       "       'methadone', 'tapazole', 'cyproheptadine', 'estrostep-fe',\n",
       "       'flomax', 'soltamox', 'efudex', 'nizoral-shampoo', 'doryx',\n",
       "       'metformin-extended-release', 'betamethasone', 'pepcid',\n",
       "       'fluvoxamine', 'ziac', 'desyrel', 'minocin', 'estring',\n",
       "       'aldactone', 'vesicare', 'nasarel', 'seroquel', 'nitrofurantoin',\n",
       "       'cardura-xl', 'enablex', 'deltasone', 'protopic', 'methimazole',\n",
       "       'levaquin', 'topamax', 'zyrtec-d', 'seroquel-xr', 'atenolol',\n",
       "       'nasacort-aq', 'propranolol', 'risperdal-consta'], dtype=object)"
      ]
     },
     "execution_count": 10,
     "metadata": {},
     "output_type": "execute_result"
    }
   ],
   "source": [
    "da['urlDrugName'].unique()"
   ]
  },
  {
   "cell_type": "code",
   "execution_count": 11,
   "metadata": {},
   "outputs": [],
   "source": [
    "db=df[df['sideEffects']=='Mild Side Effects']"
   ]
  },
  {
   "cell_type": "code",
   "execution_count": 13,
   "metadata": {},
   "outputs": [
    {
     "data": {
      "text/plain": [
       "array(['enalapril', 'prilosec', 'vyvanse', 'sarafem', 'latisse',\n",
       "       'klonopin', 'effexor', 'lamotrigine', 'lamictal', 'doxycycline',\n",
       "       'actonel', 'provigil', 'ambien', 'wellbutrin', 'propecia',\n",
       "       'imitrex', 'prozac', 'topamax', 'oxycodone', 'oxycontin',\n",
       "       'vicodin', 'zocor', 'estrace', 'meridia', 'cosopt', 'tekturna',\n",
       "       'renova', 'lexapro', 'naproxen', 'levoxyl', 'paxil', 'ambien-cr',\n",
       "       'wellbutrin-xl', 'biaxin', 'spironolactone', 'alendronate',\n",
       "       'tylenol', 'ultram', 'ziana', 'effexor-xr', 'seasonale',\n",
       "       'differin', 'nuvaring', 'motrin', 'mirapex', 'accutane', 'zoloft',\n",
       "       'ortho-tri-cyclen', 'zofran', 'enbrel', 'atarax', 'evista',\n",
       "       'lopressor', 'cymbalta', 'allegra', 'seroquel-xr', 'flexeril',\n",
       "       'alprazolam', 'zomig', 'vagifem', 'benzaclin', 'citalopram',\n",
       "       'chantix', 'prempro', 'mobic', 'valtrex', 'valium', 'tri-luma',\n",
       "       'provera', 'adipex-p', 'seroquel', 'xenical', 'baclofen',\n",
       "       'depo-provera', 'suboxone', 'metformin', 'paxil-cr', 'prevacid',\n",
       "       'amoxil', 'septra', 'tamiflu', 'celebrex', 'claripel-cream',\n",
       "       'lyrica', 'retin-a', 'follistim', 'lortab', 'requip', 'trazodone',\n",
       "       'xalatan', 'percocet', 'oxazepam', 'atenolol', 'norpramin',\n",
       "       'protonix', 'lumigan', 'zithromax', 'celexa', 'prinivil',\n",
       "       'antivert', 'xanax', 'solodyn', 'fexofenadine', 'ritalin-la',\n",
       "       'ventolin-hfa', 'flonase', 'sumatriptan', 'pentasa', 'zyrtec',\n",
       "       'climara', 'ditropan', 'tramadol', 'zegerid', 'wellbutrin-sr',\n",
       "       'remicade', 'retin-a-micro', 'desyrel', 'niaspan', 'avita',\n",
       "       'dysport', 'tarka', 'lo-ovral', 'yasmin', 'hydrochlorothiazide',\n",
       "       'concerta', 'finacea', 'rhinocort', 'synthroid', 'claritin',\n",
       "       'oxybutynin', 'remeron', 'strattera', 'cialis', 'tetracycline',\n",
       "       'amitiza', 'neurontin', 'viagra', 'minocycline', 'plavix',\n",
       "       'lithium-carbonate', 'hyzaar', 'mirtazapine', 'aczone', 'nexium',\n",
       "       'advair-diskus', 'soma', 'premarin', 'metronidazole', 'prednisone',\n",
       "       'tazorac', 'geodon', 'catapres', 'diazepam', 'niacor', 'botox',\n",
       "       'albuterol', 'avodart', 'elavil', 'nasonex', 'coumadin',\n",
       "       'ortho-tri-cyclen-lo', 'voltaren', 'zyrtec-d', 'keppra',\n",
       "       'tussionex', 'adderall', 'plendil', 'ativan', 'aldactone',\n",
       "       'acyclovir', 'nortriptyline', 'minoxidil', 'sulfasalazine',\n",
       "       'avage', 'byetta', 'panixine-disperdose', 'buspar', 'dextrostat',\n",
       "       'triaz', 'fosamax', 'clonazepam', 'metrogel', 'maxalt',\n",
       "       'darvocet-n', 'lorazepam', 'frova', 'tenormin', 'allegra-d',\n",
       "       'ketoconazole', 'selegiline', 'arava', 'methotrexate', 'lunesta',\n",
       "       'proscar', 'xanax-xr', 'prometrium', 'seasonique', 'copaxone',\n",
       "       'restoril', 'duac', 'zmax', 'cefzil', 'doryx', 'cozaar',\n",
       "       'levaquin', 'elidel', 'imuran', 'cipro', 'prograf', 'asacol',\n",
       "       'fluvoxamine', 'zyban', 'proloprim', 'augmentin', 'humira',\n",
       "       'ritalin', 'methadone', 'benicar', 'glucophage', 'estratest',\n",
       "       'lipitor', 'diclofenac', 'hydrocodone-and-acetaminophen',\n",
       "       'propranolol', 'anafranil', 'skelaxin', 'adderall-xr',\n",
       "       'fluconazole', 'restasis', 'prednisolone', 'levora',\n",
       "       'dextroamphetamine', 'elmiron', 'trental', 'symbicort', 'relpax',\n",
       "       'mercaptopurine', 'singulair', 'clarinex', 'omacor', 'lamisil',\n",
       "       'ortho-novum', 'nolvadex', 'vivelle-dot', 'lotrel', 'sotret',\n",
       "       'meperidine', 'climara-pro', 'gonal-f-rff', 'atacand', 'arthrotec',\n",
       "       'pristiq', 'androgel', 'xyrem', 'tirosint', 'innofem',\n",
       "       'penicillin-v', 'detrol-la', 'bystolic', 'sanctura-xr',\n",
       "       'amphetamine', 'depakote', 'detrol', 'azor', 'fiorinal', 'flomax',\n",
       "       'keflex', 'fentanyl', 'lantus', 'metoprolol', 'diflucan',\n",
       "       'vicoprofen', 'ultracet', 'alesse', 'amerge', 'zovirax',\n",
       "       'tofranil-pm', 'dostinex', 'parlodel', 'doxepin',\n",
       "       'medroxyprogesterone', 'carac', 'dilantin', 'trilipix', 'minocin',\n",
       "       'dicyclomine', 'duragesic', 'macrobid', 'levothroid', 'trileptal'],\n",
       "      dtype=object)"
      ]
     },
     "execution_count": 13,
     "metadata": {},
     "output_type": "execute_result"
    }
   ],
   "source": [
    "db['urlDrugName'].unique()"
   ]
  },
  {
   "cell_type": "code",
   "execution_count": 17,
   "metadata": {},
   "outputs": [],
   "source": [
    "dc=df[df['sideEffects']=='Moderate Side Effects']"
   ]
  },
  {
   "cell_type": "code",
   "execution_count": 15,
   "metadata": {},
   "outputs": [
    {
     "data": {
      "text/plain": [
       "array(['flagyl', 'dextroamphetamine', 'protopic', 'sotret',\n",
       "       'retin-a-micro', 'rebif', 'accutane', 'renova', 'celexa',\n",
       "       'spironolactone', 'oracea', 'lexapro', 'tazorac', 'vyvanse',\n",
       "       'claripel-cream', 'neurontin', 'soma', 'lipitor', 'chantix',\n",
       "       'viagra', 'wellbutrin-sr', 'ambien-cr', 'fortaz', 'xyrem',\n",
       "       'anafranil', 'effexor', 'flomax', 'percocet', 'tegretol',\n",
       "       'malarone', 'elavil', 'retin-a', 'phenergan', 'glucophage',\n",
       "       'flexeril', 'topamax', 'keflex', 'biaxin', 'citalopram',\n",
       "       'prilosec', 'aloprim', 'metrogel', 'methotrexate', 'provigil',\n",
       "       'ultracet', 'lorazepam', 'relafen', 'klonopin', 'aldara',\n",
       "       'wellbutrin', 'dispermox', 'zoloft', 'prinivil', 'darvocet-n',\n",
       "       'soltamox', 'zyprexa', 'yasmin', 'cleocin', 'oxycodone', 'prozac',\n",
       "       'maxalt', 'hyzaar', 'allegra', 'cymbalta', 'cipro', 'lyrica',\n",
       "       'seroquel', 'tirosint', 'nystatin', 'adipex-p', 'sulindac',\n",
       "       'valtrex', 'adderall', 'mirtazapine', 'cialis', 'remicade',\n",
       "       'propecia', 'xenical', 'concerta', 'risperdal', 'keppra',\n",
       "       'wellbutrin-xl', 'lunesta', 'paxil', 'imitrex', 'avage', 'zocor',\n",
       "       'avita', 'singulair', 'norvasc', 'advair-diskus', 'armour-thyroid',\n",
       "       'oxycontin', 'seasonique', 'requip', 'effexor-xr', 'zomig',\n",
       "       'asacol', 'alendronate', 'xanax', 'tetracycline', 'claritin',\n",
       "       'tramadol', 'depo-provera', 'diclofenac', 'aromasin', 'lortab',\n",
       "       'clonazepam', 'proquin-xr', 'prempro', 'levora', 'ultram',\n",
       "       'nolvadex', 'sarafem', 'differin', 'doryx', 'strattera',\n",
       "       'diazepam', 'toradol', 'zyrtec', 'amoxil', 'levoxyl',\n",
       "       'doxycycline', 'meridia', 'desyrel', 'nuvaring', 'baclofen',\n",
       "       'panixine-disperdose', 'zegerid', 'zovirax', 'lamisil', 'enbrel',\n",
       "       'vicodin', 'zyrtec-d', 'prednisone', 'diovan', 'efudex', 'nexium',\n",
       "       'warfarin', 'lybrel', 'oxycodone-and-acetaminophen', 'proscar',\n",
       "       'tri-luma', 'periostat', 'carac', 'actonel', 'dostinex',\n",
       "       'dexedrine', 'paxil-cr', 'dapsone', 'diflucan', 'pristiq',\n",
       "       'lamotrigine', 'benzaclin', 'clindamycin', 'minocycline', 'plavix',\n",
       "       'naproxen', 'femhrt', 'prevacid', 'coreg', 'kenalog', 'niaspan',\n",
       "       'evista', 'provera', 'lumigan', 'fosinopril', 'metformin',\n",
       "       'ambien', 'ritalin', 'symbicort', 'nortriptyline', 'flonase',\n",
       "       'lithium-carbonate', 'fioricet', 'depakene', 'corgard', 'copaxone',\n",
       "       'femara', 'prednisolone', 'erythromycin', 'nitrofurantoin',\n",
       "       'symbyax', 'restasis', 'synthroid', 'aricept', 'dilantin', 'zyvox',\n",
       "       'micardis', 'naprosyn', 'vioxx', 'nasonex', 'abilify', 'fosamax',\n",
       "       'tussionex', 'solodyn', 'emsam', 'azelex', 'ortho-tri-cyclen',\n",
       "       'lamictal', 'ecotrin', 'lupron', 'methadone', 'parlodel', 'ativan',\n",
       "       'minocin', 'dilaudid', 'nardil', 'atripla', 'detrol-la', 'triaz',\n",
       "       'benadryl', 'acyclovir', 'sulfasalazine', 'dysport', 'mobic',\n",
       "       'voltaren', 'deltasone', 'periogard', 'climara-pro', 'selegiline',\n",
       "       'clomid', 'zyban', 'sumatriptan', 'adcirca', 'avelox', 'desonide',\n",
       "       'zofran', 'celebrex', 'adderall-xr', 'climara'], dtype=object)"
      ]
     },
     "execution_count": 15,
     "metadata": {},
     "output_type": "execute_result"
    }
   ],
   "source": [
    "dc['urlDrugName'].unique()"
   ]
  },
  {
   "cell_type": "code",
   "execution_count": 18,
   "metadata": {},
   "outputs": [],
   "source": [
    "dd=df[df['sideEffects']=='Severe Side Effects']"
   ]
  },
  {
   "cell_type": "code",
   "execution_count": 19,
   "metadata": {},
   "outputs": [
    {
     "data": {
      "text/plain": [
       "array(['ortho-tri-cyclen', 'lyrica', 'propecia', 'aldara', 'omnicef',\n",
       "       'nortriptyline', 'depakote', 'zegerid', 'cymbalta', 'vivelle-dot',\n",
       "       'lotrel', 'lipitor', 'accutane', 'singulair', 'zyban', 'caduet',\n",
       "       'prevacid', 'actiq', 'doxycycline', 'topamax', 'lunesta', 'oracea',\n",
       "       'prozac', 'pilocarpine', 'paxil', 'crestor', 'lexapro', 'vivelle',\n",
       "       'renova', 'zyprexa', 'retin-a', 'flexeril', 'solodyn',\n",
       "       'effexor-xr', 'neurontin', 'ativan', 'risperdal', 'xyzal',\n",
       "       'percocet', 'seasonique', 'remeron', 'effexor', 'climara',\n",
       "       'vicodin', 'proscar', 'prednisone', 'biaxin', 'ambien',\n",
       "       'clarithromycin', 'klonopin', 'danazol', 'imitrex',\n",
       "       'phendimetrazine', 'ditropan', 'azelex', 'cleocin', 'aricept',\n",
       "       'amoxil', 'ortho-evra', 'atenolol', 'botox', 'cipro',\n",
       "       'retin-a-micro', 'keflex', 'soma', 'metoclopramide', 'elidel',\n",
       "       'betamethasone', 'levaquin', 'tazorac', 'metronidazole',\n",
       "       'augmentin', 'trazodone', 'minocycline', 'dispermox', 'vyvanse',\n",
       "       'tramadol', 'prinivil', 'levoxyl', 'remicade', 'seroquel',\n",
       "       'vagifem', 'chantix', 'tri-luma', 'symbicort', 'humira',\n",
       "       'nolvadex', 'citalopram', 'zomig', 'voltaren', 'naproxen',\n",
       "       'estrace', 'abilify', 'metformin', 'clindamycin', 'lamictal',\n",
       "       'erythromycin', 'claritin', 'symbyax', 'tamiflu', 'celexa',\n",
       "       'strattera', 'lamisil', 'mirena', 'depo-provera', 'nitrofurantoin',\n",
       "       'byetta', 'zmax', 'desyrel', 'fosamax', 'inspra', 'evista',\n",
       "       'concerta', 'zoloft', 'diltiazem', 'macrobid', 'sotret', 'actonel',\n",
       "       'nuvaring', 'serzone', 'prednisolone', 'cyproheptadine',\n",
       "       'lamotrigine', 'nexium', 'benadryl', 'ribavirin', 'yasmin',\n",
       "       'adipex-p', 'celebrex', 'lasix', 'flagyl', 'micardis', 'niacor',\n",
       "       'oxycodone', 'premarin', 'bactrim-ds', 'malarone', 'allegra',\n",
       "       'fluconazole', 'finacea', 'spironolactone', 'ortho-tri-cyclen-lo',\n",
       "       'wellbutrin-xl', 'betaseron', 'prochlorperazine', 'pristiq',\n",
       "       'aralen', 'lorazepam', 'septra', 'boniva', 'zantac', 'lodine',\n",
       "       'diazepam', 'tegretol', 'mobic', 'zofran', 'xanax', 'pamelor',\n",
       "       'paxil-cr', 'ambien-cr', 'nuvigil', 'elavil', 'zyrtec',\n",
       "       'duragesic', 'panixine-disperdose', 'zithromax', 'ritalin',\n",
       "       'ceclor', 'lupron', 'baciim', 'galzin', 'reglan', 'vistaril',\n",
       "       'methotrexate', 'niaspan', 'detrol-la', 'glucophage-xr'],\n",
       "      dtype=object)"
      ]
     },
     "execution_count": 19,
     "metadata": {},
     "output_type": "execute_result"
    }
   ],
   "source": [
    "dd['urlDrugName'].unique()"
   ]
  },
  {
   "cell_type": "code",
   "execution_count": 20,
   "metadata": {},
   "outputs": [],
   "source": [
    "de=df[df['sideEffects']=='Extremely Severe Side Effects']"
   ]
  },
  {
   "cell_type": "code",
   "execution_count": 21,
   "metadata": {},
   "outputs": [
    {
     "data": {
      "text/plain": [
       "array(['claritin', 'omnicef', 'toradol', 'abilify', 'lyrica', 'provigil',\n",
       "       'spironolactone', 'depo-provera', 'chantix', 'metronidazole',\n",
       "       'celebrex', 'levaquin', 'macrobid', 'prinivil', 'cipro', 'remeron',\n",
       "       'prozac', 'nasonex', 'zoloft', 'avelox', 'paxil', 'lexapro',\n",
       "       'seasonique', 'tramadol', 'permapen', 'fosamax', 'zyban',\n",
       "       'seroquel', 'flagyl', 'norvasc', 'compazine', 'mobic',\n",
       "       'advair-hfa', 'atarax', 'clindamycin', 'noroxin', 'dilaudid',\n",
       "       'yasmin', 'accutane', 'effexor', 'zocor', 'premarin', 'actonel',\n",
       "       'tri-luma', 'cymbalta', 'cleocin', 'zegerid', 'levoxyl', 'asacol',\n",
       "       'mevacor', 'risperdal', 'proquin-xr', 'femring', 'propecia',\n",
       "       'protopic', 'nuvaring', 'zyrtec', 'prednisolone', 'wellbutrin',\n",
       "       'prilosec', 'prednisone', 'prevacid', 'adipex-p', 'topamax',\n",
       "       'neurontin', 'lamotrigine', 'protonix', 'strattera', 'symbicort',\n",
       "       'prempro', 'oxazepam', 'effexor-xr', 'fluconazole', 'naproxen',\n",
       "       'adderall-xr', 'lopressor', 'ceclor', 'klonopin', 'coumadin',\n",
       "       'ambien-cr', 'levetiracetam', 'keflex', 'minocycline', 'vytorin',\n",
       "       'morphine', 'ultracet', 'metrogel', 'enbrel', 'bactroban',\n",
       "       'ativan', 'keppra', 'solodyn', 'aricept', 'synthroid', 'inderal',\n",
       "       'lamictal', 'zomig', 'imitrex', 'lipitor', 'xyrem', 'tegretol',\n",
       "       'wellbutrin-xl', 'oxycontin', 'amoxil', 'remicade', 'doxycycline',\n",
       "       'advair-diskus', 'boniva', 'singulair', 'albuterol', 'mirapex'],\n",
       "      dtype=object)"
      ]
     },
     "execution_count": 21,
     "metadata": {},
     "output_type": "execute_result"
    }
   ],
   "source": [
    "de['urlDrugName'].unique()"
   ]
  },
  {
   "cell_type": "code",
   "execution_count": 7,
   "metadata": {},
   "outputs": [
    {
     "name": "stdout",
     "output_type": "stream",
     "text": [
      "<class 'pandas.core.frame.DataFrame'>\n",
      "Int64Index: 3107 entries, 0 to 3106\n",
      "Data columns (total 5 columns):\n",
      " #   Column         Non-Null Count  Dtype \n",
      "---  ------         --------------  ----- \n",
      " 0   urlDrugName    3107 non-null   object\n",
      " 1   rating         3107 non-null   int64 \n",
      " 2   effectiveness  3107 non-null   object\n",
      " 3   condition      3106 non-null   object\n",
      " 4   sideEffects    3107 non-null   object\n",
      "dtypes: int64(1), object(4)\n",
      "memory usage: 145.6+ KB\n"
     ]
    }
   ],
   "source": [
    "df.info()"
   ]
  },
  {
   "cell_type": "code",
   "execution_count": 6,
   "metadata": {},
   "outputs": [
    {
     "data": {
      "text/plain": [
       "urlDrugName      0\n",
       "rating           0\n",
       "effectiveness    0\n",
       "condition        1\n",
       "sideEffects      0\n",
       "dtype: int64"
      ]
     },
     "execution_count": 6,
     "metadata": {},
     "output_type": "execute_result"
    }
   ],
   "source": [
    "df.isna().sum()"
   ]
  },
  {
   "cell_type": "code",
   "execution_count": 7,
   "metadata": {},
   "outputs": [
    {
     "data": {
      "text/plain": [
       "lexapro             63\n",
       "prozac              46\n",
       "zoloft              45\n",
       "retin-a             45\n",
       "propecia            38\n",
       "                    ..\n",
       "risperdal-consta     1\n",
       "bisoprolol           1\n",
       "dapsone              1\n",
       "aygestin             1\n",
       "hydrocortisone       1\n",
       "Name: urlDrugName, Length: 502, dtype: int64"
      ]
     },
     "execution_count": 7,
     "metadata": {},
     "output_type": "execute_result"
    }
   ],
   "source": [
    "df['urlDrugName'].value_counts()"
   ]
  },
  {
   "cell_type": "code",
   "execution_count": 8,
   "metadata": {},
   "outputs": [
    {
     "data": {
      "text/plain": [
       "502"
      ]
     },
     "execution_count": 8,
     "metadata": {},
     "output_type": "execute_result"
    }
   ],
   "source": [
    "df['urlDrugName'].nunique()"
   ]
  },
  {
   "cell_type": "code",
   "execution_count": 9,
   "metadata": {},
   "outputs": [
    {
     "data": {
      "text/plain": [
       "1426"
      ]
     },
     "execution_count": 9,
     "metadata": {},
     "output_type": "execute_result"
    }
   ],
   "source": [
    "df['condition'].nunique()"
   ]
  },
  {
   "cell_type": "code",
   "execution_count": 10,
   "metadata": {},
   "outputs": [
    {
     "data": {
      "text/plain": [
       "0       management of congestive heart failure\n",
       "1                             birth prevention\n",
       "2                             menstrual cramps\n",
       "3                                  acid reflux\n",
       "4                                 fibromyalgia\n",
       "                         ...                  \n",
       "3102                                      adhd\n",
       "3103                                depression\n",
       "3104                         total hysterctomy\n",
       "3105                                  epilepsy\n",
       "3106                       high blood pressure\n",
       "Name: condition, Length: 3107, dtype: object"
      ]
     },
     "execution_count": 10,
     "metadata": {},
     "output_type": "execute_result"
    }
   ],
   "source": [
    "df['condition']"
   ]
  },
  {
   "cell_type": "code",
   "execution_count": null,
   "metadata": {},
   "outputs": [],
   "source": []
  },
  {
   "cell_type": "markdown",
   "metadata": {},
   "source": [
    "Preprocessing step"
   ]
  },
  {
   "cell_type": "markdown",
   "metadata": {},
   "source": [
    "1)=Removing numbers, punctuations, emojis, etc.\n",
    "2)=Removing stop words\n",
    "3)=Lemmatizing or stemming words"
   ]
  },
  {
   "cell_type": "code",
   "execution_count": 11,
   "metadata": {},
   "outputs": [
    {
     "data": {
      "text/html": [
       "<div>\n",
       "<style scoped>\n",
       "    .dataframe tbody tr th:only-of-type {\n",
       "        vertical-align: middle;\n",
       "    }\n",
       "\n",
       "    .dataframe tbody tr th {\n",
       "        vertical-align: top;\n",
       "    }\n",
       "\n",
       "    .dataframe thead th {\n",
       "        text-align: right;\n",
       "    }\n",
       "</style>\n",
       "<table border=\"1\" class=\"dataframe\">\n",
       "  <thead>\n",
       "    <tr style=\"text-align: right;\">\n",
       "      <th></th>\n",
       "      <th>urlDrugName</th>\n",
       "      <th>rating</th>\n",
       "      <th>effectiveness</th>\n",
       "      <th>condition</th>\n",
       "      <th>sideEffects</th>\n",
       "    </tr>\n",
       "  </thead>\n",
       "  <tbody>\n",
       "    <tr>\n",
       "      <th>0</th>\n",
       "      <td>enalapril</td>\n",
       "      <td>4</td>\n",
       "      <td>Highly Effective</td>\n",
       "      <td>management of congestive heart failure</td>\n",
       "      <td>Mild Side Effects</td>\n",
       "    </tr>\n",
       "    <tr>\n",
       "      <th>1</th>\n",
       "      <td>ortho-tri-cyclen</td>\n",
       "      <td>1</td>\n",
       "      <td>Highly Effective</td>\n",
       "      <td>birth prevention</td>\n",
       "      <td>Severe Side Effects</td>\n",
       "    </tr>\n",
       "    <tr>\n",
       "      <th>2</th>\n",
       "      <td>ponstel</td>\n",
       "      <td>10</td>\n",
       "      <td>Highly Effective</td>\n",
       "      <td>menstrual cramps</td>\n",
       "      <td>No Side Effects</td>\n",
       "    </tr>\n",
       "    <tr>\n",
       "      <th>3</th>\n",
       "      <td>prilosec</td>\n",
       "      <td>3</td>\n",
       "      <td>Marginally Effective</td>\n",
       "      <td>acid reflux</td>\n",
       "      <td>Mild Side Effects</td>\n",
       "    </tr>\n",
       "    <tr>\n",
       "      <th>4</th>\n",
       "      <td>lyrica</td>\n",
       "      <td>2</td>\n",
       "      <td>Marginally Effective</td>\n",
       "      <td>fibromyalgia</td>\n",
       "      <td>Severe Side Effects</td>\n",
       "    </tr>\n",
       "  </tbody>\n",
       "</table>\n",
       "</div>"
      ],
      "text/plain": [
       "        urlDrugName  rating         effectiveness  \\\n",
       "0         enalapril       4      Highly Effective   \n",
       "1  ortho-tri-cyclen       1      Highly Effective   \n",
       "2           ponstel      10      Highly Effective   \n",
       "3          prilosec       3  Marginally Effective   \n",
       "4            lyrica       2  Marginally Effective   \n",
       "\n",
       "                                condition          sideEffects  \n",
       "0  management of congestive heart failure    Mild Side Effects  \n",
       "1                        birth prevention  Severe Side Effects  \n",
       "2                        menstrual cramps      No Side Effects  \n",
       "3                             acid reflux    Mild Side Effects  \n",
       "4                            fibromyalgia  Severe Side Effects  "
      ]
     },
     "execution_count": 11,
     "metadata": {},
     "output_type": "execute_result"
    }
   ],
   "source": [
    "df=pd.read_csv(\"drugeffects.csv\",index_col=0)\n",
    "df.head()"
   ]
  },
  {
   "cell_type": "code",
   "execution_count": 12,
   "metadata": {},
   "outputs": [
    {
     "data": {
      "text/plain": [
       "urlDrugName      0\n",
       "rating           0\n",
       "effectiveness    0\n",
       "condition        1\n",
       "sideEffects      0\n",
       "dtype: int64"
      ]
     },
     "execution_count": 12,
     "metadata": {},
     "output_type": "execute_result"
    }
   ],
   "source": [
    "df.isna().sum()"
   ]
  },
  {
   "cell_type": "code",
   "execution_count": 13,
   "metadata": {},
   "outputs": [
    {
     "data": {
      "text/plain": [
       "0     management of congestive heart failure\n",
       "1                           birth prevention\n",
       "2                           menstrual cramps\n",
       "3                                acid reflux\n",
       "4                               fibromyalgia\n",
       "5                                  hair loss\n",
       "6                                        add\n",
       "7                                 depression\n",
       "8                             panic disorder\n",
       "9                                  allergies\n",
       "10                       bacterial vaginosis\n",
       "11                                       add\n",
       "12                                depression\n",
       "13                          sparse eyelashes\n",
       "14                               skin cancer\n",
       "15                                   anxiety\n",
       "16                            nerve disorder\n",
       "17                sore throat ear infections\n",
       "18              generalized anxiety disorder\n",
       "19                                 psoriasis\n",
       "20                                    ezcema\n",
       "21              panic attacks and depression\n",
       "22                                      acne\n",
       "23                          anti-aging, acne\n",
       "24                                   epilpsy\n",
       "25                        multiple sclerosis\n",
       "26                         asthma, emphysema\n",
       "27           bipolar disorder and depression\n",
       "28        fibromyalgia, failed back syndrome\n",
       "29                                      acne\n",
       "30                                      adhd\n",
       "31                              osteoporosis\n",
       "32                                   fatigue\n",
       "33                                  insomnia\n",
       "34                                depression\n",
       "35                     male pattern baldness\n",
       "36                       a typical migraines\n",
       "37                        migraine headaches\n",
       "38                                   anxiety\n",
       "39                 severe peridontal disease\n",
       "40                                depression\n",
       "41                 seizures,migraines,fibro.\n",
       "42                                        ed\n",
       "43             possible lymphoma/kidney pain\n",
       "44                          seizure disorder\n",
       "45                        post surgical pain\n",
       "46                         broken collarbone\n",
       "47                                      acne\n",
       "48                          high cholestoral\n",
       "49                      basal cell carcinoma\n",
       "50                             birth control\n",
       "51                         treatment of acne\n",
       "52                       replacement thearpy\n",
       "53                               over weight\n",
       "54                                      acne\n",
       "Name: condition, dtype: object"
      ]
     },
     "execution_count": 13,
     "metadata": {},
     "output_type": "execute_result"
    }
   ],
   "source": [
    "df['condition'].head(55)"
   ]
  },
  {
   "cell_type": "code",
   "execution_count": 14,
   "metadata": {},
   "outputs": [
    {
     "data": {
      "text/plain": [
       "Highly Effective          1330\n",
       "Considerably Effective     928\n",
       "Moderately Effective       415\n",
       "Ineffective                247\n",
       "Marginally Effective       187\n",
       "Name: effectiveness, dtype: int64"
      ]
     },
     "execution_count": 14,
     "metadata": {},
     "output_type": "execute_result"
    }
   ],
   "source": [
    "df.effectiveness.value_counts()# 5 different type of words"
   ]
  },
  {
   "cell_type": "code",
   "execution_count": 15,
   "metadata": {},
   "outputs": [
    {
     "data": {
      "text/plain": [
       "lexapro             63\n",
       "prozac              46\n",
       "zoloft              45\n",
       "retin-a             45\n",
       "propecia            38\n",
       "                    ..\n",
       "risperdal-consta     1\n",
       "bisoprolol           1\n",
       "dapsone              1\n",
       "aygestin             1\n",
       "hydrocortisone       1\n",
       "Name: urlDrugName, Length: 502, dtype: int64"
      ]
     },
     "execution_count": 15,
     "metadata": {},
     "output_type": "execute_result"
    }
   ],
   "source": [
    "df.urlDrugName.value_counts()"
   ]
  },
  {
   "cell_type": "code",
   "execution_count": 16,
   "metadata": {
    "scrolled": true
   },
   "outputs": [
    {
     "data": {
      "text/plain": [
       "Mild Side Effects                1019\n",
       "No Side Effects                   930\n",
       "Moderate Side Effects             614\n",
       "Severe Side Effects               369\n",
       "Extremely Severe Side Effects     175\n",
       "Name: sideEffects, dtype: int64"
      ]
     },
     "execution_count": 16,
     "metadata": {},
     "output_type": "execute_result"
    }
   ],
   "source": [
    "df.sideEffects.value_counts()# their are 5 categery "
   ]
  },
  {
   "cell_type": "code",
   "execution_count": 17,
   "metadata": {},
   "outputs": [
    {
     "data": {
      "text/html": [
       "<div>\n",
       "<style scoped>\n",
       "    .dataframe tbody tr th:only-of-type {\n",
       "        vertical-align: middle;\n",
       "    }\n",
       "\n",
       "    .dataframe tbody tr th {\n",
       "        vertical-align: top;\n",
       "    }\n",
       "\n",
       "    .dataframe thead th {\n",
       "        text-align: right;\n",
       "    }\n",
       "</style>\n",
       "<table border=\"1\" class=\"dataframe\">\n",
       "  <thead>\n",
       "    <tr style=\"text-align: right;\">\n",
       "      <th></th>\n",
       "      <th>urlDrugName</th>\n",
       "      <th>rating</th>\n",
       "      <th>effectiveness</th>\n",
       "      <th>condition</th>\n",
       "      <th>sideEffects</th>\n",
       "      <th>text_lower</th>\n",
       "    </tr>\n",
       "  </thead>\n",
       "  <tbody>\n",
       "    <tr>\n",
       "      <th>0</th>\n",
       "      <td>enalapril</td>\n",
       "      <td>4</td>\n",
       "      <td>Highly Effective</td>\n",
       "      <td>management of congestive heart failure</td>\n",
       "      <td>Mild Side Effects</td>\n",
       "      <td>HIGHLY EFFECTIVE</td>\n",
       "    </tr>\n",
       "    <tr>\n",
       "      <th>1</th>\n",
       "      <td>ortho-tri-cyclen</td>\n",
       "      <td>1</td>\n",
       "      <td>Highly Effective</td>\n",
       "      <td>birth prevention</td>\n",
       "      <td>Severe Side Effects</td>\n",
       "      <td>HIGHLY EFFECTIVE</td>\n",
       "    </tr>\n",
       "    <tr>\n",
       "      <th>2</th>\n",
       "      <td>ponstel</td>\n",
       "      <td>10</td>\n",
       "      <td>Highly Effective</td>\n",
       "      <td>menstrual cramps</td>\n",
       "      <td>No Side Effects</td>\n",
       "      <td>HIGHLY EFFECTIVE</td>\n",
       "    </tr>\n",
       "    <tr>\n",
       "      <th>3</th>\n",
       "      <td>prilosec</td>\n",
       "      <td>3</td>\n",
       "      <td>Marginally Effective</td>\n",
       "      <td>acid reflux</td>\n",
       "      <td>Mild Side Effects</td>\n",
       "      <td>MARGINALLY EFFECTIVE</td>\n",
       "    </tr>\n",
       "    <tr>\n",
       "      <th>4</th>\n",
       "      <td>lyrica</td>\n",
       "      <td>2</td>\n",
       "      <td>Marginally Effective</td>\n",
       "      <td>fibromyalgia</td>\n",
       "      <td>Severe Side Effects</td>\n",
       "      <td>MARGINALLY EFFECTIVE</td>\n",
       "    </tr>\n",
       "  </tbody>\n",
       "</table>\n",
       "</div>"
      ],
      "text/plain": [
       "        urlDrugName  rating         effectiveness  \\\n",
       "0         enalapril       4      Highly Effective   \n",
       "1  ortho-tri-cyclen       1      Highly Effective   \n",
       "2           ponstel      10      Highly Effective   \n",
       "3          prilosec       3  Marginally Effective   \n",
       "4            lyrica       2  Marginally Effective   \n",
       "\n",
       "                                condition          sideEffects  \\\n",
       "0  management of congestive heart failure    Mild Side Effects   \n",
       "1                        birth prevention  Severe Side Effects   \n",
       "2                        menstrual cramps      No Side Effects   \n",
       "3                             acid reflux    Mild Side Effects   \n",
       "4                            fibromyalgia  Severe Side Effects   \n",
       "\n",
       "             text_lower  \n",
       "0      HIGHLY EFFECTIVE  \n",
       "1      HIGHLY EFFECTIVE  \n",
       "2      HIGHLY EFFECTIVE  \n",
       "3  MARGINALLY EFFECTIVE  \n",
       "4  MARGINALLY EFFECTIVE  "
      ]
     },
     "execution_count": 17,
     "metadata": {},
     "output_type": "execute_result"
    }
   ],
   "source": [
    "df[\"text_lower\"] = df[\"effectiveness\"].str.upper()\n",
    "df.head()"
   ]
  },
  {
   "cell_type": "code",
   "execution_count": 18,
   "metadata": {},
   "outputs": [],
   "source": [
    "df['pre_clean_len'] = [len(t) for t in df.effectiveness]"
   ]
  },
  {
   "cell_type": "code",
   "execution_count": 19,
   "metadata": {},
   "outputs": [
    {
     "data": {
      "text/plain": [
       "0       16\n",
       "1       16\n",
       "2       16\n",
       "3       20\n",
       "4       20\n",
       "        ..\n",
       "3102    16\n",
       "3103    11\n",
       "3104    20\n",
       "3105    22\n",
       "3106    20\n",
       "Name: pre_clean_len, Length: 3107, dtype: int64"
      ]
     },
     "execution_count": 19,
     "metadata": {},
     "output_type": "execute_result"
    }
   ],
   "source": [
    "df['pre_clean_len']"
   ]
  },
  {
   "cell_type": "code",
   "execution_count": 20,
   "metadata": {},
   "outputs": [
    {
     "name": "stderr",
     "output_type": "stream",
     "text": [
      "[nltk_data] Downloading package punkt to\n",
      "[nltk_data]     C:\\Users\\Vinay\\AppData\\Roaming\\nltk_data...\n",
      "[nltk_data]   Unzipping tokenizers\\punkt.zip.\n"
     ]
    }
   ],
   "source": [
    "from nltk.stem import LancasterStemmer, SnowballStemmer, RegexpStemmer, WordNetLemmatizer \n",
    "#this was part of the NLP notebook\n",
    "import nltk\n",
    "nltk.download('punkt')\n",
    "#import sentence tokenizer\n",
    "from nltk import sent_tokenize\n",
    "#import word tokenizer\n",
    "from nltk import word_tokenize\n",
    "#list of stopwords\n",
    "from nltk.corpus import stopwords\n",
    "import string"
   ]
  },
  {
   "cell_type": "code",
   "execution_count": 21,
   "metadata": {},
   "outputs": [],
   "source": [
    "punct =[]\n",
    "punct += list(string.punctuation)\n",
    "punct += '’'\n",
    "punct.remove(\"'\")\n",
    "def remove_punctuations(df):\n",
    "    for punctuation in punct:\n",
    "        text = text.replace(punctuation, ' ')\n",
    "    return text"
   ]
  },
  {
   "cell_type": "markdown",
   "metadata": {},
   "source": [
    "# counter vectorizer for NLP.¶"
   ]
  },
  {
   "cell_type": "code",
   "execution_count": 25,
   "metadata": {},
   "outputs": [
    {
     "name": "stdout",
     "output_type": "stream",
     "text": [
      "{'urldrugname': 4878, 'rating': 4500, 'effectiveness': 548, 'condition': 362, 'sideeffects0': 4630, 'enalapril': 3670, 'highly': 3900, 'effective': 547, 'management': 4131, 'of': 4279, 'congestive': 365, 'heart': 3877, 'failure': 3734, 'mild': 4176, 'side': 4629, 'effects1': 550, 'ortho': 4296, 'tri': 4836, 'cyclen': 403, 'birth': 213, 'prevention': 4438, 'severe': 4617, 'effects2': 1661, 'ponstel': 4412, '10': 0, 'menstrual': 4151, 'cramps': 393, 'no': 4255, 'effects3': 2772, 'prilosec': 4440, 'marginally': 4135, 'acid': 27, 'reflux': 4516, 'effects4': 2990, 'lyrica': 4121, 'fibromyalgia': 3761, 'effects5': 3101, 'propecia': 4462, 'ineffective': 3983, 'hair': 3855, 'loss': 4105, 'effects6': 3212, 'vyvanse': 4912, 'add': 41, 'effects7': 3323, 'elavil': 3659, 'considerably': 369, 'depression': 445, 'effects8': 3434, 'xanax': 4939, 'panic': 4333, 'disorder': 493, 'effects9': 3545, 'claritin': 327, 'allergies': 72, 'extremely': 3722, 'effects10': 551, 'flagyl': 3771, 'bacterial': 175, 'vaginosis': 4886, 'moderate': 4190, 'effects11': 662, 'dextroamphetamine': 458, 'effects12': 773, 'sarafem': 4590, 'effects13': 884, 'latisse': 4059, 'sparse': 4666, 'eyelashes': 3727, 'effects14': 995, 'aldara': 63, 'skin': 4642, 'cancer': 272, 'effects15': 1106, 'effexor': 3656, 'xr': 4942, 'anxiety': 108, 'effects16': 1217, 'neurontin': 4245, 'moderately': 4191, 'nerve': 4237, 'effects17': 1328, 'omnicef': 4282, 'sore': 4663, 'throat': 4784, 'ear': 537, 'infections': 3986, 'effects18': 1439, 'klonopin': 4040, 'generalized': 3823, 'effects19': 1550, 'dovonex': 511, 'psoriasis': 4475, 'effects20': 1662, 'protopic': 4471, 'ezcema': 3729, 'effects21': 1773, 'attacks': 149, 'and': 90, 'effects22': 1884, 'sotret': 4665, 'acne': 31, 'effects23': 1995, 'retin': 4553, 'micro': 4169, 'anti': 101, 'aging': 55, 'effects24': 2106, 'lamotrigine': 4050, 'epilpsy': 3684, 'effects25': 2217, 'rebif': 4505, 'multiple': 4210, 'sclerosis': 4600, 'effects26': 2328, 'symbicort': 4735, 'asthma': 135, 'emphysema': 3666, 'effects27': 2439, 'lamictal': 4048, 'bipolar': 210, 'effects28': 2550, 'failed': 3733, 'back': 172, 'syndrome': 4740, 'effects29': 2661, 'doxycycline': 514, 'effects30': 2773, 'adhd': 45, 'effects31': 2884, 'actonel': 35, 'osteoporosis': 4302, 'effects32': 2902, 'provigil': 4473, 'fatigue': 3739, 'effects33': 2913, 'ambien': 81, 'insomnia': 4004, 'effects34': 2924, 'wellbutrin': 4923, 'effects35': 2935, 'male': 4130, 'pattern': 4342, 'baldness': 181, 'effects36': 2946, 'nortriptyline': 4264, 'typical': 4857, 'migraines': 4174, 'effects37': 2957, 'imitrex': 3962, 'migraine': 4173, 'headaches': 3872, 'effects38': 2968, 'ativan': 143, 'effects39': 2979, 'peridontal': 4359, 'disease': 488, 'effects40': 2991, 'prozac': 4474, 'effects41': 3002, 'topamax': 4815, 'seizures': 4607, 'fibro': 3759, 'effects42': 3013, 'levitra': 4072, 'ed': 545, 'effects43': 3024, 'oxycodone': 4320, 'possible': 4416, 'lymphoma': 4120, 'kidney': 4037, 'pain': 4324, 'effects44': 3035, 'seizure': 4606, 'effects45': 3046, 'oxycontin': 4321, 'post': 4417, 'surgical': 4727, 'effects46': 3057, 'vicodin': 4901, 'broken': 245, 'collarbone': 351, 'effects47': 3068, 'accutane': 19, 'effects48': 3079, 'zocor': 4956, 'high': 3899, 'cholestoral': 313, 'effects49': 3090, 'basal': 188, 'cell': 293, 'carcinoma': 279, 'effects50': 3102, 'control': 377, 'effects51': 3113, 'minocycline': 4179, 'treatment': 4832, 'effects52': 3124, 'estrace': 3701, 'replacement': 4541, 'thearpy': 4776, 'effects53': 3135, 'meridia': 4154, 'over': 4311, 'weight': 4921, 'effects54': 3146, 'effects55': 3157, 'prevacid': 4435, 'stomach': 4697, 'effects56': 3168, 'cosopt': 386, 'glaucoma': 3836, 'effects57': 3179, 'renova': 4538, 'sun': 4720, 'damage': 415, 'fine': 3765, 'lines': 4085, 'effects58': 3190, 'depakote': 435, 'effects59': 3201, 'tekturna': 4759, 'hypertension': 3935, 'effects60': 3213, 'wrinkles': 4936, 'effects61': 3224, 'zegerid': 4950, 'effects62': 3235, 'sular': 4716, 'effects63': 3246, 'crestor': 396, 'cholesterol': 312, 'effects64': 3257, 'metformin': 4157, 'prophilatic': 4463, 'effects65': 3268, 'celexa': 292, 'effects66': 3279, 'lexapro': 4077, 'effects67': 3290, 'naproxen': 4225, 'auto': 154, 'accident': 16, 'whiplash': 4926, 'effects68': 3301, 'levoxyl': 4075, 'low': 4108, 'thyroid': 4786, 'levels': 4070, 'effects69': 3312, 'synthroid': 4741, 'hypothyroidism': 3946, 'effects70': 3324, 'spironolactone': 4673, 'effects71': 3335, 'effects72': 3346, 'oracea': 4292, 'effects73': 3357, 'paxil': 4343, 'effects74': 3368, 'zantac': 4949, 'heratburn': 3888, 'effects75': 3379, 'fosamax': 3797, 'little': 4091, 'bit': 216, 'in': 3970, 'the': 4775, 'hips': 3902, 'effects76': 3390, 'gerd': 3828, 'effects77': 3401, 'tirosint': 4797, 'tsh': 4849, 'level': 4068, 'was': 4918, 'clinical': 332, 'symtoms': 4738, 'effects78': 3412, 'cymbalta': 407, 'effects79': 3423, 'cr': 391, 'effects80': 3435, 'angeliq': 93, 'menopause': 4148, 'for': 3794, 'years': 4947, 'first': 3769, 'hormone': 3911, 'pill': 4382, 'taken': 4747, 'effects81': 3446, 'effects82': 3457, 'prempro': 4431, 'effects83': 3468, 'effects84': 3479, 'effects85': 3490, 'xl': 4941, 'effects86': 3501, 'biaxin': 207, 'pneumonia': 4400, 'effects87': 3512, 'effects88': 3523, 'facial': 3731, 'effects89': 3534, 'lipitor': 4088, 'colorestoral': 352, 'effects90': 3546, 'effects91': 3557, 'tazorac': 4755, 'antiaging': 102, 'effects92': 3568, 'alendronate': 64, 'osteopenia': 4300, 'effects93': 3579, 'fun': 3807, 'effects94': 3590, 'claripel': 325, 'cream': 395, 'discoloration': 485, 'effects95': 3601, 'valtrex': 4888, 'cold': 343, 'fever': 3754, 'blister': 223, 'herpes': 3893, 'simplex': 4632, 'effects96': 3612, 'femring': 3751, 'effects97': 3623, 'neck': 4235, 'lasting': 4057, 'mons': 4194, 'effects98': 3634, 'soma': 4661, 'injury': 3998, 'effects99': 3645, 'effects100': 552, 'tylenol': 4855, 'effects101': 563, 'ultram': 4862, 'ovarian': 4309, 'cysts': 412, 'sciatic': 4598, 'effects102': 574, 'chantix': 301, 'stop': 4700, 'smoking': 4655, 'aid': 58, 'effects103': 585, 'ziana': 4953, 'effects104': 596, 'vivelle': 4907, 'dot': 509, 'effects105': 607, 'ocpd': 4278, 'effects106': 618, 'er': 3686, 'relief': 4531, 'from': 3801, 'an': 88, 'infected': 3984, 'cat': 283, 'bite': 217, 'wound': 4934, 'effects107': 629, 'lotrel': 4106, 'blood': 225, 'pressure': 4433, 'effects108': 640, 'viagra': 4900, 'erectile': 3687, 'disfunction': 489, 'effects109': 651, 'seasonale': 4603, 'effects110': 663, 'sr': 4684, 'effects111': 674, 'slightly': 4650, 'elevated': 3661, 'effects112': 685, 'allegra': 69, 'hay': 3867, 'effects113': 696, 'effects114': 707, 'effects115': 718, 'nasonex': 4232, 'congestion': 364, 'effects116': 729, 'fortaz': 3796, 'uti': 4880, 'effects117': 740, 'singulair': 4633, 'effects118': 751, 'xyrem': 4943, 'effects119': 762, 'not': 4267, 'being': 195, 'able': 12, 'to': 4799, 'get': 3829, 'up': 4870, 'am': 80, 'effects120': 774, 'tia': 4789, 'effects121': 785, 'major': 4124, 'effects122': 796, 'periodontal': 4363, 'surgery': 4726, 'effects123': 807, 'zoloft': 4958, 'effects124': 818, 'differin': 473, 'effects125': 829, 'zyban': 4962, 'effects126': 840, 'anafranil': 89, 'ocd': 4277, 'effects127': 851, 'nuvaring': 4270, 'effects128': 862, 'motrin': 4203, 'cramping': 392, 'effects129': 873, 'effects130': 885, 'serzone': 4615, 'effects131': 896, 'naprosyn': 4224, 'ankylosing': 99, 'spondylitis': 4675, 'effects132': 907, 'flomax': 3779, 'difficult': 475, 'urination': 4877, 'effects133': 918, 'percocet': 4353, 'shoulder': 4625, 'effects134': 929, 'effects135': 940, 'protonix': 4470, 'effects136': 951, 'mirapex': 4183, 'restless': 4548, 'leg': 4062, 'effects137': 962, 'dexamethasone': 456, 'bronchial': 247, 'infection': 3985, 'effects138': 973, 'effects139': 984, 'toradol': 4819, 'effects140': 996, 'caduet': 268, 'effects141': 1007, 'diazepam': 468, 'stress': 4705, 'effects142': 1018, 'celebrex': 291, 'arthritis': 125, 'effects143': 1029, 'effects144': 1040, 'effects145': 1051, 'effects146': 1062, 'actiq': 33, 'chronic': 317, 'effects147': 1073, 'epididymitus': 3681, 'effects148': 1084, 'effects149': 1095, 'mobic': 4189, 'effects150': 1107, 'excessive': 3714, 'effects151': 1118, 'method': 4160, 'effects152': 1129, 'tegretol': 4758, 'epilepsy': 3683, 'effects153': 1140, 'zestoretic': 4951, 'effects154': 1151, 'malarone': 4129, 'malaria': 4127, 'effects155': 1162, 'under': 4864, 'active': 34, 'effects156': 1173, 'zofran': 4957, 'nausea': 4233, 'vomiting': 4909, 'effects157': 1184, 'effects158': 1195, 'hyperpigmentation': 3932, 'photoaging': 4379, 'hormonal': 3910, 'effects159': 1206, 'tourette': 4821, 'effects160': 1218, 'lunesta': 4115, 'insomina': 4002, 'effects161': 1229, 'rosacea': 4577, 'effects162': 1240, 'spiriva': 4672, 'effects163': 1251, 'effects164': 1262, 'enbrel': 3671, 'effects165': 1273, 'atarax': 140, 'effects166': 1284, 'pilocarpine': 4383, 'intraocular': 4010, 'effects167': 1295, 'effects168': 1306, 'effects169': 1317, 'phenergan': 4377, 'effects170': 1329, 'effects171': 1340, 'effects172': 1351, 'glucophage': 3839, 'diabetes': 460, 'effects173': 1362, 'evista': 3710, 'slight': 4649, 'calcium': 269, 'hip': 3901, 'area': 115, 'effects174': 1373, 'effects175': 1384, 'lopressor': 4101, 'effects176': 1395, 'eczema': 543, 'effects177': 1406, 'menopausal': 4147, 'symptoms': 4737, 'effects178': 1417, 'effects179': 1428, 'cystic': 410, 'on': 4284, 'chin': 308, 'jaw': 4026, 'effects180': 1440, 'flexeril': 3776, 'muscle': 4212, 'spasms': 4668, 'effects181': 1451, 'tension': 4768, 'effects182': 1462, 'effects183': 1473, 'effects184': 1484, 'effects185': 1495, 'seroquel': 4613, 'effects186': 1506, 'effects187': 1517, 'agin': 53, 'effects188': 1528, 'sinus': 4634, 'effects189': 1539, 'abilify': 11, 'resolved': 4543, 'with': 4930, 'antidepressant': 104, 'drugs': 519, 'effects190': 1551, 'sinusitis': 4635, 'effects191': 1562, 'augmentin': 153, 'effects192': 1573, 'effects193': 1584, 'finacea': 3764, 'effects194': 1595, 'effects195': 1606, 'effects196': 1617, 'inflamed': 3990, 'muscles': 4213, 'effects197': 1628, 'alprazolam': 76, 'agoraphobia': 57, 'effects198': 1639, 'effects199': 1650, 'effects200': 1663, 'saizen': 4588, 'adrenal': 47, 'burnout': 261, 'premature': 4430, 'effects201': 1674, 'clonazepam': 336, 'hyperactive': 3924, 'nerves': 4238, 'small': 4652, 'effects202': 1685, 'effects203': 1696, 'total': 4820, 'hist': 3904, 'effects204': 1707, 'effects205': 1718, 'effects206': 1729, 'melasma': 4142, 'unevean': 4867, 'tone': 4806, 'ocasionally': 4276, 'pimples': 4384, 'effects207': 1740, 'effects208': 1751, 'keflex': 4030, 'pre': 4421, 'effects209': 1762, 'effects210': 1774, 'tequin': 4769, 'effects211': 1785, 'zomig': 4959, 'effects212': 1796, 'effects213': 1807, 'vagifem': 4883, 'postmenopausal': 4418, 'vaginal': 4885, 'atrophy': 147, 'effects214': 1818, 'citalopram': 322, 'effects215': 1829, 'benzaclin': 201, 'effects216': 1840, 'regulate': 4521, 'periods': 4364, 'effects217': 1851, 'effects218': 1862, 'effects219': 1873, 'effects220': 1885, 'heartburn': 3879, 'effects221': 1896, 'dysfunction': 530, 'effects222': 1907, 'perepheral': 4356, 'neuropathy': 4247, 'effects223': 1918, 'effects224': 1929, 'early': 539, 'awakening': 162, 'effects225': 1940, 'aloprim': 75, 'gout': 3845, 'effects226': 1951, 'effects227': 1962, 'metrogel': 4164, 'effects228': 1973, 'effects229': 1984, 'zyprexa': 4963, 'agitation': 56, 'lewy': 4076, 'body': 227, 'demen': 430, 'effects230': 1996, 'methotrexate': 4161, 'rhematory': 4557, 'effects231': 2007, 'cessation': 298, 'effects232': 2018, 'effects233': 2029, 'avoid': 161, 'feeling': 3743, 'misrable': 4186, 'effects234': 2040, 'effects235': 2051, 'knee': 4041, 'effects236': 2062, 'lamisil': 4049, 'fungal': 3809, 'growth': 3853, 'feet': 3745, 'effects237': 2073, 'effects238': 2084, 'ultracet': 4861, 'herniated': 3890, 'disk': 490, 'my': 4217, 'lower': 4109, 'effects239': 2095, 'sores': 4664, 'effects240': 2107, 'effects241': 2118, 'effects242': 2129, 'effects243': 2140, 'lorazepam': 4102, 'effects244': 2151, 'hysterectomy': 3951, 'effects245': 2162, 'lack': 4047, 'motivation': 4201, 'effects246': 2173, 'effects247': 2184, 'relafen': 4524, 'sciatica': 4599, 'effects248': 2195, 'valium': 4887, 'effects249': 2206, 'yasmin': 4945, 'effects250': 2218, 'type': 4856, 'effects251': 2229, 'luma': 4112, 'dark': 419, 'spots': 4679, 'face': 3730, 'effects252': 2240, 'effects253': 2251, 'legs': 4063, 'effects254': 2262, 'effects255': 2273, 'provera': 4472, 'irregular': 4013, 'menses': 4149, 'effects256': 2284, 'adipex': 46, 'weightloss': 4922, 'effects257': 2295, 'shift': 4620, 'work': 4931, 'effects258': 2306, 'effects259': 2317, 'effects260': 2329, 'scar': 4593, 'revision': 4555, 'effects261': 2340, 'xenical': 4940, 'effects262': 2351, 'baclofen': 173, 'effects263': 2362, 'effects264': 2373, 'effects265': 2384, 'triglycerides': 4840, '21': 3, 'effects266': 2395, 'clindamycin': 331, 'topical': 4816, 'effects267': 2406, 'effects268': 2417, 'depo': 439, 'contraception': 373, 'effects269': 2428, 'effects270': 2440, 'effects271': 2451, 'metronidazole': 4166, 'tooth': 4812, 'abscess': 13, 'effects272': 2462, 'dispermox': 496, 'tonsillitis': 4809, 'strep': 4704, 'effects273': 2473, 'sleep': 4644, 'effects274': 2484, 'effects275': 2495, 'imbalances': 3961, 'pregnancy': 4427, 'effects276': 2506, 'deep': 423, 'gum': 3854, 'pockets': 4401, 'effects277': 2517, 'solodyn': 4659, 'effects278': 2528, 'suboxone': 4711, 'opioid': 4291, 'addiction': 44, 'effects279': 2539, 'effects280': 2551, 'zmax': 4955, 'lingering': 4086, 'effects281': 2562, 'effects282': 2573, 'metabolic': 4155, 'effects283': 2584, 'prinivil': 4442, 'effects284': 2595, 'effects285': 2606, 'effects286': 2617, 'effects287': 2628, 'obsessive': 4275, 'compulsive': 358, 'effects288': 2639, 'problem': 4448, 'effects289': 2650, 'effects290': 2662, 'hot': 3912, 'flashes': 3774, 'effects291': 2673, 'darvocet': 420, 'after': 51, 'effects292': 2684, 'ranitidine': 4495, 'rash': 4498, 'effects293': 2695, 'barrett': 186, 'errosion': 3690, 'esophagus': 3696, 'effects294': 2706, 'amoxil': 84, 'grazing': 3848, 'ankle': 97, 'coral': 380, 'effects295': 2717, 'septra': 4611, 'mrsa': 4205, 'effects296': 2728, 'tamiflu': 4752, 'swine': 4731, 'flu': 3782, 'effects297': 2739, 'risperdal': 4573, 'psychosis': 4478, 'effects298': 2750, 'soltamox': 4660, 'breast': 243, 'effects299': 2761, 'effects300': 2774, 'fibromylgia': 3762, 'effects301': 2785, 'effects302': 2796, 'schizophrenia': 4597, 'effects303': 2807, 'effects304': 2818, 'effects305': 2829, 'effects306': 2840, 'levaquin': 4067, 'acute': 37, 'bronchitis': 248, 'effects307': 2851, 'xyzal': 4944, 'effects308': 2862, 'cleocin': 329, 'effects309': 2873, 'pigmentation': 4381, 'effects310': 2885, 'effects311': 2893, 'effects312': 2894, 'sever': 4616, 'effects313': 2895, 'effects314': 2896, 'voltaren': 4908, 'osteo': 4297, 'effects315': 2897, 'tetracycline': 4773, 'razor': 4502, 'bumps': 257, 'effects316': 2898, 'genital': 3825, 'effects317': 2899, 'zovirax': 4961, 'blisters': 224, 'effects318': 2900, 'cipro': 321, 'urinary': 4875, 'tract': 4822, 'effects319': 2901, 'effects320': 2903, 'effects321': 2904, 'relpax': 4532, 'effects322': 2905, 'follistim': 3791, 'infertility': 3988, 'effects323': 2906, 'effects324': 2907, 'lortab': 4103, 'effects325': 2908, 'climara': 330, 'flash': 3773, 'problems': 4449, 'effects326': 2909, 'requip': 4542, 'effects327': 2910, 'effects328': 2911, 'effects329': 2912, 'irritability': 4015, 'effects330': 2914, 'restasis': 4547, 'dry': 520, 'eyes': 3728, 'effects331': 2915, 'effects332': 2916, 'seasonique': 4604, 'effects333': 2917, 'effects334': 2918, 'remeron': 4534, 'effects335': 2919, 'effects336': 2920, 'effects337': 2921, 'macrobid': 4122, 'effects338': 2922, 'buprenorphine': 258, 'effects339': 2923, 'fiorinal': 3768, 'effects340': 2925, 'effects341': 2926, 'effects342': 2927, 'trazodone': 4829, 'difficulty': 476, 'sleeping': 4646, 'effects343': 2928, 'persistant': 4370, 'effects344': 2929, 'memory': 4145, 'night': 4252, 'sweats': 4729, 'libido': 4078, 'effects345': 2930, 'effects346': 2931, 'effects347': 2932, 'effects348': 2933, 'xalatan': 4938, 'effects349': 2934, 'prostatitis': 4469, 'chronically': 318, 'effects350': 2936, 'effects351': 2937, 'effects352': 2938, 'effects353': 2939, 'effects354': 2940, 'asthmatic': 137, 'effects355': 2941, 'cytomel': 413, 'hypothyroid': 3945, 'effects356': 2942, 'effects357': 2943, 'effects358': 2944, 'oxazepam': 4318, 'due': 525, 'relationship': 4527, 'effects359': 2945, 'effects360': 2947, 'atenolol': 141, 'effects361': 2948, 'premarin': 4429, 'effects362': 2949, 'norpramin': 4263, 'effects363': 2950, 'effects364': 2951, 'gi': 3831, 'irritation': 4018, 'effects365': 2952, 'topicort': 4817, 'itchy': 4023, 'irritated': 4017, 'effects366': 2953, 'dysthymia': 535, 'effects367': 2954, 'lumigan': 4114, 'effects368': 2955, 'effects369': 2956, 'effects370': 2958, 'fluconazole': 3783, 'yeast': 4948, 'effects371': 2959, 'effects372': 2960, 'zithromax': 4954, 'effects373': 2961, 'grifulvin': 3849, 'fungus': 3810, 'effects374': 2962, 'longer': 4099, 'effects375': 2963, 'effects376': 2964, 'got': 3844, 'toothpulled': 4814, 'effects377': 2965, 'proscar': 4467, 'effects378': 2966, 'effects379': 2967, 'triphasil': 4845, 'effects380': 2969, 'effects381': 2970, 'effects382': 2971, 'bi': 206, 'polar': 4405, 'mania': 4133, 'anger': 94, 'issues': 4021, 'effects383': 2972, 'effects384': 2973, 'depresson': 447, 'effects385': 2974, 'headache': 3871, 'effects386': 2975, 'focus': 3787, 'effects387': 2976, 'effects388': 2977, 'malaise': 4126, 'effects389': 2978, 'tennis': 4766, 'elbow': 3660, 'effects390': 2980, 'hbp': 3868, 'effects391': 2981, 'rosecea': 4579, 'effects392': 2982, 'maxalt': 4138, 'effects393': 2983, 'effects394': 2984, 'antivert': 105, 'dizzyness': 504, 'vertigo': 4897, 'effects395': 2985, 'effects396': 2986, 'effects397': 2987, 'effects398': 2988, 'flonase': 3780, 'nasal': 4230, 'allergy': 73, 'effects399': 2989, 'effects400': 2992, 'hyzaar': 3953, 'effects401': 2993, 'effects402': 2994, 'effects403': 2995, 'effects404': 2996, 'hives': 3907, 'effects405': 2997, 'fexofenadine': 3756, 'allergic': 71, 'rhinitis': 4561, 'effects406': 2998, 'ptsd': 4481, 'effects407': 2999, 'ritalin': 4574, 'la': 4044, 'effects408': 3000, 'tambocor': 4751, 'tachycardia': 4746, 'effects409': 3001, 'clomid': 335, 'fertility': 3753, 'effects410': 3003, 'cholesteral': 311, 'effects411': 3004, 'prednisone': 4424, 'angiodema': 95, 'effects412': 3005, 'ventolin': 4895, 'hfa': 3895, 'effects413': 3006, 'effects414': 3007, 'effects415': 3008, 'effects416': 3009, 'hairloss': 3857, 'effects417': 3010, 'armour': 120, 'effects418': 3011, 'effects419': 3012, 'recurring': 4510, 'effects420': 3014, 'effects421': 3015, 'dystimia': 536, 'effects422': 3016, 'effects423': 3017, 'sumatriptan': 4719, 'effects424': 3018, 'buldging': 255, 'ruptured': 4584, 'disc': 483, 'effects425': 3019, 'pentasa': 4350, 'effects426': 3020, 'effects427': 3021, 'epidimytis': 3682, 'effects428': 3022, 'clarithromycin': 326, 'effects429': 3023, 'effects430': 3025, 'effects431': 3026, 'pms': 4398, 'effects432': 3027, 'effects433': 3028, 'effects434': 3029, 'effects435': 3030, 'effects436': 3031, 'effects437': 3032, 'zyrtec': 4964, 'there': 4779, 'begning': 191, 'effects438': 3033, 'elidel': 3662, 'effects439': 3034, 'effects440': 3036, 'effects441': 3037, 'ii': 3956, 'effects442': 3038, 'excess': 3713, 'effects443': 3039, 'bph': 237, 'effects444': 3040, 'effects445': 3041, 'danazol': 416, 'cyst': 409, 'effects446': 3042, 'effects447': 3043, 'ditropan': 500, 'incontinence': 3974, 'effects448': 3044, 'effects449': 3045, 'tramadol': 4823, 'effects450': 3047, 'permapen': 4369, 'viral': 4905, 'effects451': 3048, 'trimethobenzamide': 4843, 'effects452': 3049, 'effects453': 3050, 'effects454': 3051, 'thyroidectomy': 4787, 'effects455': 3052, 'effects456': 3053, 'nystatin': 4272, 'diaper': 464, 'effects457': 3054, 'effects458': 3055, 'effects459': 3056, 'effects460': 3058, 'effects461': 3059, 'effects462': 3060, 'effects463': 3061, 'effects464': 3062, 'effects465': 3063, 'effects466': 3064, 'remicade': 4535, 'crohn': 397, 'fistula': 3770, 'ano': 100, 'effects467': 3065, 'neuropathic': 4246, 'aand': 7, 'effects468': 3066, 'phendimetrazine': 4376, 'effects469': 3067, 'effects470': 3069, 'azopt': 168, 'effects471': 3070, 'hypothryroid': 3941, 'effects472': 3071, 'desyrel': 454, 'poor': 4413, 'quality': 4484, 'effects473': 3072, 'effects474': 3073, 'niaspan': 4250, 'hyperlipidemia': 3930, 'effects475': 3074, 'hyperhidrosis': 3929, 'effects476': 3075, 'swollen': 4733, 'passages': 4340, 'effects477': 3076, 'effects478': 3077, 'effects479': 3078, 'effects480': 3080, 'effects481': 3081, 'azelex': 167, 'effects482': 3082, 'selegiline': 4608, 'increase': 3975, 'dopmaine': 506, 'effects483': 3083, 'ulcer': 4858, 'effects484': 3084, 'effects485': 3085, 'effects486': 3086, 'norvasc': 4265, 'effects487': 3087, 'intrusive': 4011, 'suicidal': 4715, 'impulses': 3968, 'effects488': 3088, 'effects489': 3089, 'effects490': 3091, 'avita': 159, 'effects491': 3092, 'effects492': 3093, 'effects493': 3094, 'effects494': 3095, 'sulindac': 4718, 'baker': 178, 'behind': 194, 'both': 233, 'knees': 4042, 'effects495': 3096, 'bacteria': 174, 'effects496': 3097, 'effects497': 3098, 'effects498': 3099, 'effects499': 3100, 'effects500': 3103, 'adderall': 42, 'effects501': 3104, 'aricept': 117, 'short': 4623, 'term': 4770, 'effects502': 3105, 'effects503': 3106, 'effects504': 3107, 'effects505': 3108, 'adult': 48, 'effects506': 3109, 'cough': 387, 'effects507': 3110, 'effects508': 3111, 'effects509': 3112, 'mirtazapine': 4185, 'effects510': 3114, 'dysport': 534, 'effects511': 3115, 'cialis': 319, 'effects512': 3116, 'puncture': 4482, 'effects513': 3117, 'effects514': 3118, 'tarka': 4754, 'effects515': 3119, 'lo': 4093, 'ovral': 4316, 'effects516': 3120, 'effects517': 3121, 'hydrochlorothiazide': 3919, 'effects518': 3122, 'attck': 150, 'nervousness': 4240, 'effects519': 3123, 'effects520': 3125, 'effects521': 3126, 'peri': 4358, 'syptoms': 4742, 'effects522': 3127, 'ulcerative': 4859, 'colitis': 349, 'effects523': 3128, 'effects524': 3129, 'effects525': 3130, 'effects526': 3131, 'avelox': 158, 'effects527': 3132, 'effects528': 3133, 'concerta': 360, 'effects529': 3134, 'thinning': 4782, 'effects530': 3136, 'effects531': 3137, 'persistent': 4371, 'chest': 306, 'effects532': 3138, 'effects533': 3139, 'evra': 3712, 'effects534': 3140, 'effects535': 3141, 'effects536': 3142, 'effects537': 3143, 'effects538': 3144, 'rhinocort': 4562, 'effects539': 3145, 'effects540': 3147, 'narcolepsy': 4227, 'effects541': 3148, 'removal': 4537, 'effects542': 3149, 'atrial': 145, 'fibrillation': 3758, 'effects543': 3150, 'effects544': 3151, 'oxybutynin': 4319, 'spastic': 4669, 'bladder': 219, 'effects545': 3152, 'effects546': 3153, 'effects547': 3154, 'effects548': 3155, 'effects549': 3156, 'effects550': 3158, 'hyper': 3923, 'effects551': 3159, 'effects552': 3160, 'effects553': 3161, 'effects554': 3162, 'fioricet': 3767, 'effects555': 3163, 'effects556': 3164, 'sprain': 4680, 'effects557': 3165, 'effects558': 3166, 'effects559': 3167, 'strattera': 4703, 'effects560': 3169, 'effects561': 3170, 'effects562': 3171, 'hypercholesterolemia': 3928, 'effects563': 3172, 'effects564': 3173, 'botox': 234, 'wrinkle': 4935, 'line': 4084, 'reduction': 4514, 'effects565': 3174, 'effects566': 3175, 'effects567': 3176, 'effects568': 3177, 'effects569': 3178, 'effects570': 3180, 'albuterol': 60, 'effects571': 3181, 'effects572': 3182, 'effects573': 3183, 'have': 3865, 'bleeding': 221, 'effects574': 3184, 'effects575': 3185, 'effects576': 3186, 'effects577': 3187, 'effects578': 3188, 'trimethoprim': 4844, 'effects579': 3189, 'keppra': 4032, 'effects580': 3191, 'effects581': 3192, 'effects582': 3193, 'baraclude': 183, 'hepatitis': 3887, 'effects583': 3194, 'effects584': 3195, 'amitiza': 83, 'ibs': 3954, 'effects585': 3196, 'effects586': 3197, 'effects587': 3198, 'eulexin': 3708, 'effects588': 3199, 'primary': 4441, 'hypersomnia': 3934, 'effects589': 3200, 'daily': 414, 'effects590': 3202, 'klaron': 4038, 'effects591': 3203, 'effects592': 3204, 'effects593': 3205, 'effects594': 3206, 'shortness': 4624, 'breath': 244, 'itching': 4022, 'all': 68, 'effects595': 3207, 'effects596': 3208, 'effects597': 3209, 'effects598': 3210, 'effects599': 3211, 'effects600': 3214, 'sydrome': 4734, 'effects601': 3215, 'effects602': 3216, 'sprained': 4681, 'effects603': 3217, 'accupril': 18, 'effects604': 3218, 'bulging': 256, 'discs': 486, 'effects605': 3219, 'effects606': 3220, 'effects607': 3221, 'effects608': 3222, 'plavix': 4390, 'angiogram': 96, 'effects609': 3223, 'social': 4658, 'effects610': 3225, 'galzin': 3814, 'mucus': 4208, 'stool': 4699, 'effects611': 3226, 'effects612': 3227, 'effects613': 3228, 'effects614': 3229, 'effects615': 3230, 'effects616': 3231, 'effects617': 3232, 'effects618': 3233, 'effects619': 3234, 'serious': 4612, 'food': 3792, 'poisoning': 4404, 'effects620': 3236, 'effects621': 3237, 'effects622': 3238, 'effects623': 3239, 'upper': 4871, 'effects624': 3240, 'effects625': 3241, 'lithium': 4090, 'carbonate': 278, 'effects626': 3242, 'metoclopramide': 4162, 'effects627': 3243, 'effects628': 3244, 'effects629': 3245, 'energy': 3675, 'effects630': 3247, 'effects631': 3248, 'effects632': 3249, 'effects633': 3250, 'avapro': 157, 'effects634': 3251, 'effects635': 3252, 'effects636': 3253, 'around': 122, 'effects637': 3254, 'effects638': 3255, 'effects639': 3256, 'effects640': 3258, 'ketorolac': 4036, 'strain': 4702, 'effects641': 3259, 'effects642': 3260, 'effects643': 3261, 'effects644': 3262, 'shingles': 4621, 'effects645': 3263, 'subungal': 4712, 'hematoma': 3884, 'effects646': 3264, 'effects647': 3265, 'atopic': 144, 'dernatitis': 452, 'effects648': 3266, 'effects649': 3267, 'effects650': 3269, 'raynaud': 4501, 'effects651': 3270, 'effects652': 3271, 'effects653': 3272, 'innofem': 4000, 'effects654': 3273, 'ingrown': 3995, 'toenails': 4803, 'effects655': 3274, 'effects656': 3275, 'axert': 163, 'effects657': 3276, 'effects658': 3277, 'effects659': 3278, 'help': 3883, 'effects660': 3280, 'effects661': 3281, 'hemorrhoidectomy': 3886, 'effects662': 3282, 'achilles': 24, 'tendonitis': 4765, 'effects663': 3283, 'effects664': 3284, 'effects665': 3285, 'effects666': 3286, 'effects667': 3287, 'effects668': 3288, 'effects669': 3289, 'effects670': 3291, 'effects671': 3292, 'effects672': 3293, 'effects673': 3294, 'regrowth': 4519, 'effects674': 3295, 'avage': 156, 'effects675': 3296, 'betamethasone': 202, 'trochanteric': 4846, 'bursitis': 262, 'effects676': 3297, 'quit': 4487, 'effects677': 3298, 'treating': 4831, 'effects678': 3299, 'colestrol': 348, 'effects679': 3300, 'effects680': 3302, 'effects681': 3303, 'effects682': 3304, 'effects683': 3305, 'infectoin': 3987, 'effects684': 3306, 'effects685': 3307, 'effects686': 3308, 'aczone': 39, 'effects687': 3309, 'effects688': 3310, 'tinea': 4793, 'barbae': 184, 'effects689': 3311, 'oily': 4280, 'effects690': 3313, 'compazine': 353, 'morning': 4199, 'sickness': 4627, 'effects691': 3314, 'nexium': 4248, 'effects692': 3315, 'advair': 49, 'diskus': 491, 'effects693': 3316, 'effects694': 3317, 'effects695': 3318, 'effects696': 3319, 'effects697': 3320, 'effects698': 3321, 'schizoaffective': 4596, 'effects699': 3322, 'overwhelmed': 4315, 'effects700': 3325, 'uveitis': 4881, 'inflmmatory': 3993, 'arhtiritis': 116, 'hands': 3861, 'effects701': 3326, 'lows': 4110, 'effects702': 3327, 'effects703': 3328, 'compressed': 356, 'effects704': 3329, 'cycle': 402, 'regulation': 4522, 'effects705': 3330, 'allegry': 70, 'effects706': 3331, 'effects707': 3332, 'laryngeal': 4053, 'effects708': 3333, 'fatique': 3740, 'effects709': 3334, 'effects710': 3336, 'pigmentatation': 4380, 'effects711': 3337, 'effects712': 3338, 'dog': 505, 'prophylaxis': 4464, 'effects713': 3339, 'nocturnal': 4256, 'myoclonus': 4219, 'like': 4083, 'effects714': 3340, 'asthmas': 136, 'effects715': 3341, 'effects716': 3342, 'effects717': 3343, 'effects718': 3344, 'effects719': 3345, 'effects720': 3347, 'effects721': 3348, 'effects722': 3349, 'effects723': 3350, 'depressive': 446, 'effects724': 3351, 'effects725': 3352, 'neural': 4241, 'effects726': 3353, 'effects727': 3354, 'effects728': 3355, 'effects729': 3356, 'brachial': 238, 'plexitus': 4393, 'effects730': 3358, 'reglan': 4518, 'delayed': 427, 'gastric': 3815, 'emptying': 3667, 'effects731': 3359, 'effects732': 3360, 'effects733': 3361, 'effects734': 3362, 'effects735': 3363, 'micardis': 4168, 'effects736': 3364, 'effects737': 3365, 'effects738': 3366, 'unable': 4863, 'because': 189, 'effects739': 3367, 'effects740': 3369, 'receding': 4506, 'hairline': 3856, 'effects741': 3370, 'ac': 15, 'joint': 4027, 'dislocation': 492, 'effects742': 3371, 'clobetasol': 333, 'effects743': 3372, 'muslce': 4216, 'inflammation': 3991, 'effects744': 3373, 'effects745': 3374, 'goiter': 3841, 'effects746': 3375, 'effects747': 3376, 'esophogeal': 3697, 'strictures': 4707, 'effects748': 3377, 'effects749': 3378, 'effects750': 3380, 'hydrocortisone': 3921, 'effects751': 3381, 'abcessed': 9, 'effects752': 3382, 'effects753': 3383, 'staphf': 4690, 'effects754': 3384, 'effects755': 3385, 'effects756': 3386, 'effects757': 3387, 'effects758': 3388, 'effects759': 3389, 'effects760': 3391, 'that': 4774, 'spread': 4682, 'effects761': 3392, 'effects762': 3393, 'long': 4098, 'effects763': 3394, 'took': 4811, 'just': 4028, 'prevent': 4436, 'effects764': 3395, 'reduce': 4513, 'effects765': 3396, 'effects766': 3397, 'rls': 4575, 'effects767': 3398, 'effects768': 3399, 'effects769': 3400, 'effects770': 3402, 'effects771': 3403, 'effects772': 3404, 'effects773': 3405, 'sggression': 4618, 'hyperactivity': 3925, 'effects774': 3406, 'obesity': 4273, 'effects775': 3407, 'effects776': 3408, 'effects777': 3409, 'effects778': 3410, 'effects779': 3411, 'geodon': 3827, 'effects780': 3413, 'catapres': 286, 'effects781': 3414, 'dryness': 522, 'inflamation': 3989, 'irritations': 4019, 'effects782': 3415, 'airplane': 59, 'flight': 3778, 'effects783': 3416, 'effects784': 3417, 'effects785': 3418, 'effects786': 3419, 'glenohumeral': 3837, 'instability': 4006, 'correction': 384, 'effects787': 3420, 'niacor': 4249, 'ldl': 4060, 'effects788': 3421, 'effects789': 3422, 'effects790': 3424, 'plus': 4395, 'effects791': 3425, 'effects792': 3426, 'effects793': 3427, 'noroxin': 4262, 'effects794': 3428, 'effects795': 3429, 'overweight': 4314, 'self': 4609, 'confidence': 363, 'effects796': 3430, 'overeating': 4313, 'gain': 3813, 'effects797': 3431, 'effects798': 3432, 'hytrin': 3952, 'presure': 4434, 'effects799': 3433, 'asacol': 129, 'effects800': 3436, 'bone': 229, 'density': 432, 'tests': 4772, 'showed': 4626, 'effects801': 3437, 'effects802': 3438, 'extreme': 3721, 'moods': 4196, 'swings': 4732, 'effects803': 3439, 'effects804': 3440, 'imodium': 3963, 'diarrhea': 466, 'effects805': 3441, 'effects806': 3442, 'effects807': 3443, 'polyps': 4411, 'effects808': 3444, 'effects809': 3445, 'effects810': 3447, 'effects811': 3448, 'effects812': 3449, 'effects813': 3450, 'effects814': 3451, 'effects815': 3452, 'spinal': 4670, 'effects816': 3453, 'effects817': 3454, 'effects818': 3455, 'repeated': 4540, 'effects819': 3456, 'dilaudid': 480, 'effects820': 3458, 'effects821': 3459, 'effects822': 3460, 'effects823': 3461, 'effects824': 3462, 'effects825': 3463, 'effects826': 3464, 'effects827': 3465, 'recurrent': 4509, 'effects828': 3466, 'malarial': 4128, 'effects829': 3467, 'tobramycin': 4800, 'pink': 4386, 'eye': 3725, 'effects830': 3469, 'effects831': 3470, 'ecotrin': 542, 'effects832': 3471, 'seasonal': 4602, 'effects833': 3472, 'at': 138, 'femoral': 3750, 'effects834': 3473, 'effects835': 3474, 'transformation': 4825, 'effects836': 3475, 'effects837': 3476, 'avodart': 160, 'effects838': 3477, 'effects839': 3478, 'effects840': 3480, 'flat': 3775, 'warts': 4917, 'effects841': 3481, 'effects842': 3482, 'ostheoporosis': 4305, 'effects843': 3483, 'effects844': 3484, 'effects845': 3485, 'effects846': 3486, 'fibrosis': 3763, 'effects847': 3487, 'disturban': 499, 'effects848': 3488, 'effects849': 3489, 'effects850': 3491, 'effects851': 3492, 'controceptive': 376, 'pmsd': 4399, 'effects852': 3493, 'coumadin': 389, 'dvt': 529, 'effects853': 3494, 'toenail': 4802, 'effects854': 3495, 'effects855': 3496, 'inner': 3999, 'effects856': 3497, 'effects857': 3498, 'effects858': 3499, 'effects859': 3500, 'diclofenac': 469, 'muscular': 4214, 'arm': 119, 'effects860': 3502, 'effects861': 3503, 'effects862': 3504, 'effects863': 3505, 'fluid': 3784, 'retention': 4552, 'increased': 3976, 'bp': 236, 'effects864': 3506, 'mass': 4136, 'effects865': 3507, 'effects866': 3508, 'effects867': 3509, 'effects868': 3510, 'effects869': 3511, 'elocon': 3665, 'effects870': 3513, 'stiffness': 4695, 'effects871': 3514, 'supra': 4723, 'ventricular': 4896, 'effects872': 3515, 'effects873': 3516, 'effects874': 3517, 'effects875': 3518, 'effects876': 3519, 'effects877': 3520, 'effects878': 3521, 'effects879': 3522, 'effects880': 3524, 'ribs': 4568, 'effects881': 3525, 'effects882': 3526, 'effects883': 3527, 'respitory': 4546, 'effects884': 3528, 'effects885': 3529, 'effects886': 3530, 'hopelessness': 3909, 'effects887': 3531, 'effects888': 3532, 'aromasin': 121, 'eostrogen': 3679, 'positive': 4415, 'effects889': 3533, 'hrt': 3914, 'effects890': 3535, 'effects891': 3536, 'effects892': 3537, 'refractory': 4517, 'effects893': 3538, 'effects894': 3539, 'effects895': 3540, 'acyclovir': 38, 'effects896': 3541, 'diabetese': 461, 'effects897': 3542, 'effects898': 3543, 'effects899': 3544, 'effects900': 3547, 'effects901': 3548, 'estrasorb': 3702, 'effects902': 3549, 'effects903': 3550, 'effects904': 3551, 'effects905': 3552, 'effects906': 3553, 'effects907': 3554, 'effects908': 3555, 'effects909': 3556, 'osteoporose': 4301, 'effects910': 3558, 'effects911': 3559, 'effects912': 3560, 'effects913': 3561, 'effects914': 3562, 'attack': 148, 'effects915': 3563, 'effects916': 3564, 'forehead': 3795, 'frown': 3804, 'effects917': 3565, 'effects918': 3566, 'effects919': 3567, 'copd': 379, 'effects920': 3569, 'effects921': 3570, 'tussionex': 4854, 'respiratory': 4545, 'effects922': 3571, 'effects923': 3572, 'blackheads': 218, 'scars': 4594, 'effects924': 3573, 'qvar': 4489, 'effects925': 3574, 'effects926': 3575, 'perimenopause': 4361, 'effects927': 3576, 'humira': 3917, 'ra': 4490, 'sjï': 4640, '½gren': 4966, 'effects928': 3577, 'effects929': 3578, 'proquin': 4466, 'effects930': 3580, 'effects931': 3581, 'effects932': 3582, 'especially': 3699, 'effects933': 3583, 'effects934': 3584, 'effects935': 3585, 'effects936': 3586, 'effects937': 3587, 'nolvadex': 4259, 'effects938': 3588, 'levora': 4073, 'effects939': 3589, 'plendil': 4392, 'hypertention': 3936, 'effects940': 3591, 'effects941': 3592, 'effects942': 3593, 'age': 52, 'hand': 3860, 'effects943': 3594, 'effects944': 3595, 'halcion': 3858, 'effects945': 3596, 'effects946': 3597, 'effects947': 3598, 'gastro': 3817, 'esophageal': 3694, 'effects948': 3599, 'gastroesophogeal': 3819, 'effects949': 3600, 'mandible': 4132, 'effects950': 3602, 'inability': 3971, 'fall': 3735, 'asleep': 130, 'effects951': 3603, 'sonata': 4662, 'effects952': 3604, 'aldactone': 62, 'effects953': 3605, 'effects954': 3606, 'effects955': 3607, 'effects956': 3608, 'miralax': 4182, 'irritable': 4016, 'bowel': 235, 'effects957': 3609, 'clarinex': 324, 'induced': 3981, 'effects958': 3610, 'effects959': 3611, 'effects960': 3613, 'effects961': 3614, 'sleeplessness': 4648, 'effects962': 3615, 'effects963': 3616, 'effects964': 3617, 'appetite': 111, 'effects965': 3618, 'effects966': 3619, 'std': 4692, 'clamydia': 323, 'effects967': 3620, 'depressant': 443, 'effects968': 3621, 'effects969': 3622, 'effects970': 3624, 'minoxidil': 4181, 'effects971': 3625, 'effects972': 3626, 'genitofemoral': 3826, 'effects973': 3627, 'effects974': 3628, 'evoclin': 3711, 'effects975': 3629, 'effects976': 3630, 'effects977': 3631, 'sulfasalazine': 4717, 'inflammatory': 3992, 'effects978': 3632, 'effects979': 3633, 'effects980': 3635, 'effects981': 3636, 'production': 4454, 'effects982': 3637, 'achieve': 23, 'smoother': 4656, 'surface': 4724, 'effects983': 3638, 'effects984': 3639, 'rhuematoid': 4563, 'effects985': 3640, 'burn': 259, 'effects986': 3641, 'effects987': 3642, 'byetta': 265, 'effects988': 3643, 'effects989': 3644, 'panixine': 4334, 'disperdose': 495, 'effects990': 3646, 'effects991': 3647, 'effects992': 3648, 'effects993': 3649, 'effects994': 3650, 'effects995': 3651, 'effects996': 3652, 'roseasa': 4578, 'effects997': 3653, 'effects998': 3654, 'vytorin': 4911, 'effects999': 3655, 'effects1000': 553, 'pristiq': 4444, 'effects1001': 554, 'effects1002': 555, 'bruxism': 253, 'grinding': 3850, 'teeth': 4757, 'effects1003': 556, 'effects1004': 557, 'axiety': 164, 'effects1005': 558, 'effects1006': 559, 'effects1007': 560, 'tonsilitis': 4808, 'effects1008': 561, 'effects1009': 562, 'effects1010': 564, 'doryx': 507, 'effects1011': 565, 'buspar': 263, 'gad': 3812, 'generalised': 3822, 'effects1012': 566, 'effects1013': 567, 'quitting': 4488, 'effects1014': 568, 'effects1015': 569, 'effects1016': 570, 'mevacor': 4167, 'originally': 4295, 'brain': 239, 'lesions': 4065, 'then': 4777, 'effects1017': 571, 'effects1018': 572, 'effects1019': 573, 'effects1020': 575, 'dextrostat': 459, 'effects1021': 576, 'barret': 185, 'esophogus': 3698, 'effects1022': 577, 'effects1023': 578, 'triaz': 4838, 'effects1024': 579, 'effects1025': 580, 'effects1026': 581, 'effects1027': 582, 'effects1028': 583, 'effects1029': 584, 'effects1030': 586, 'mood': 4195, 'felt': 3746, 'by': 264, 'effects1031': 587, 'degenerative': 426, 'stenosis': 4694, 'l1': 4043, 's1': 4585, 'effects1032': 588, 'osteoporsis': 4303, 'effects1033': 589, 'effects1034': 590, 'sedative': 4605, 'effects1035': 591, 'root': 4576, 'canal': 271, 'procedure': 4451, 'effects1036': 592, 'effects1037': 593, 'estratest': 3703, 'effects1038': 594, 'effects1039': 595, 'effects1040': 597, 'effects1041': 598, 'effects1042': 599, 'effects1043': 600, 'lighter': 4082, 'effects1044': 601, 'effects1045': 602, 'effects1046': 603, 'effects1047': 604, 'effects1048': 605, 'vaniqa': 4890, 'effects1049': 606, 'effects1050': 608, 'effects1051': 609, 'effects1052': 610, 'effects1053': 611, 'improve': 3966, 'effects1054': 612, 'effects1055': 613, 'panceatitis': 4330, 'effects1056': 614, 'effects1057': 615, 'effects1058': 616, 'effects1059': 617, 'effects1060': 619, 'effects1061': 620, 'effects1062': 621, 'effects1063': 622, 'effects1064': 623, 'effects1065': 624, 'effects1066': 625, 'effects1067': 626, 'effects1068': 627, 'effects1069': 628, 'effects1070': 630, 'effects1071': 631, 'effects1072': 632, 'effects1073': 633, 'effects1074': 634, 'effects1075': 635, 'effects1076': 636, 'effects1077': 637, 'pcos': 4344, 'effects1078': 638, 'effects1079': 639, 'effects1080': 641, 'effects1081': 642, 'rhytids': 4565, 'effects1082': 643, 'effects1083': 644, 'effects1084': 645, 'effects1085': 646, 'effects1086': 647, 'working': 4932, 'mormal': 4198, 'levelc': 4069, 'effects1087': 648, 'effects1088': 649, 'effects1089': 650, 'effects1090': 652, 'effects1091': 653, 'effects1092': 654, 'coughing': 388, 'later': 4058, 'diagnosed': 463, 'as': 128, 'effects1093': 655, 'effects1094': 656, 'effects1095': 657, 'various': 4892, 'effects1096': 658, 'rheumatoid': 4560, 'effects1097': 659, 'effects1098': 660, 'extrinsic': 3723, 'effects1099': 661, 'effects1100': 664, 'effects1101': 665, 'effects1102': 666, 'effects1103': 667, 'effects1104': 668, 'effects1105': 669, 'effects1106': 670, 'effects1107': 671, 'erythromycin': 3693, 'effects1108': 672, 'lose': 4104, 'effects1109': 673, 'effects1110': 675, 'effects1111': 676, 'effects1112': 677, 'effects1113': 678, 'effects1114': 679, 'effects1115': 680, 'effects1116': 681, 'effects1117': 682, 'effects1118': 683, 'effects1119': 684, 'effects1120': 686, 'effects1121': 687, 'effects1122': 688, 'abdominal': 10, 'effects1123': 689, 'effects1124': 690, 'effects1125': 691, 'effects1126': 692, 'alcohol': 61, 'effects1127': 693, 'effects1128': 694, 'frova': 3803, 'effects1129': 695, 'effects1130': 697, 'effects1131': 698, 'tenormin': 4767, 'effects1132': 699, 'effects1133': 700, 'effects1134': 701, 'effects1135': 702, 'effects1136': 703, 'tempromandibular': 4763, 'tmj': 4798, 'effects1137': 704, 'effects1138': 705, 'effects1139': 706, 'effects1140': 708, 'effects1141': 709, 'effects1142': 710, 'effects1143': 711, 'effects1144': 712, 'effects1145': 713, 'naltrexone': 4223, 'effects1146': 714, 'effects1147': 715, 'clots': 339, 'effects1148': 716, 'nose': 4266, 'sneezing': 4657, 'effects1149': 717, 'effects1150': 719, 'effects1151': 720, 'symbyax': 4736, 'effects1152': 721, 'effects1153': 722, 'effects1154': 723, 'ketoconazole': 4035, 'ringworm': 4571, 'pityriasis': 4388, 'effects1155': 724, 'effects1156': 725, 'effects1157': 726, 'cognitive': 342, 'enhancement': 3676, 'effects1158': 727, 'effects1159': 728, 'interoccular': 4008, 'effects1160': 730, 'effects1161': 731, 'effects1162': 732, 'arava': 114, 'effects1163': 733, 'effects1164': 734, 'risk': 4572, 'group': 3851, 'frontline': 3802, 'pharmacist': 4374, 'effects1165': 735, 'effects1166': 736, 'effects1167': 737, 'effects1168': 738, 'undiagnosed': 4866, 'effects1169': 739, 'effects1170': 741, 'actos': 36, 'effects1171': 742, 'psoriatic': 4476, 'effects1172': 743, 'effects1173': 744, 'effects1174': 745, 'effects1175': 746, 'effects1176': 747, 'effects1177': 748, 'effects1178': 749, 'rhumitoid': 4564, 'effects1179': 750, 'effects1180': 752, 'effects1181': 753, 'nuvigil': 4271, 'cocaine': 341, 'dependency': 437, 'effects1182': 754, 'effects1183': 755, 'effects1184': 756, 'effects1185': 757, 'effects1186': 758, 'effects1187': 759, 'effects1188': 760, 'effects1189': 761, 'effects1190': 763, 'effects1191': 764, 'ampicillin': 86, 'effects1192': 765, '30': 4, 'pounds': 4419, 'effects1193': 766, 'budging': 254, 'effects1194': 767, 'effects1195': 768, 'effects1196': 769, 'head': 3870, 'injuries': 3997, 'effects1197': 770, 'effects1198': 771, 'effects1199': 772, 'pravachol': 4420, 'effects1200': 775, 'relapsing': 4525, 'remitting': 4536, 'ms': 4206, 'neuro': 4244, 'sarcoidosis': 4591, 'effects1201': 776, 'times': 4792, 'day': 421, 'effects1202': 777, 'effects1203': 778, 'effects1204': 779, 'effects1205': 780, 'effects1206': 781, 'bronch': 246, 'effects1207': 782, 'effects1208': 783, 'effects1209': 784, 'psosiasis': 4477, 'effects1210': 786, 'attention': 151, 'deficit': 425, 'effects1211': 787, 'frbulation': 3799, 'effects1212': 788, 'effects1213': 789, 'effects1214': 790, 'watery': 4920, 'runny': 4583, 'effects1215': 791, 'glucoma': 3838, 'effects1216': 792, 'effects1217': 793, 'effects1218': 794, 'isoniazid': 4020, 'tuberculosis': 4851, 'effects1219': 795, 'effects1220': 797, 'colesteral': 346, 'effects1221': 798, 'boil': 228, 'effects1222': 799, 'effects1223': 800, 'mirena': 4184, 'effects1224': 801, 'rapid': 4496, 'onset': 4287, 'effects1225': 802, 'cure': 400, 'effects1226': 803, 'omnitrope': 4283, 'hgh': 3896, 'deficiency': 424, 'hiv': 3906, 'effects1227': 804, 'effects1228': 805, 'effects1229': 806, 'effects1230': 808, 'reflex': 4515, 'effects1231': 809, 'prometrium': 4461, 'effects1232': 810, 'effects1233': 811, 'effects1234': 812, 'trouble': 4847, 'effects1235': 813, 'effects1236': 814, 'effects1237': 815, 'effects1238': 816, 'menstral': 4150, 'migranes': 4175, 'effects1239': 817, 'can': 270, 'effects1240': 819, 'cataflam': 284, 'effects1241': 820, 'effects1242': 821, 'effects1243': 822, 'nitrofurantoin': 4253, 'effects1244': 823, 'effects1245': 824, 'effects1246': 825, 'effects1247': 826, 'effects1248': 827, 'effects1249': 828, 'copaxone': 378, 'mulitple': 4209, 'effects1250': 830, 'effects1251': 831, 'effects1252': 832, 'effects1253': 833, 'effects1254': 834, 'effects1255': 835, 'effects1256': 836, 'effects1257': 837, 'wakefulness': 4914, 'falling': 3736, 'effects1258': 838, 'restoril': 4550, 'effects1259': 839, 'effects1260': 841, 'nasacort': 4229, 'perennial': 4354, 'effects1261': 842, 'effects1262': 843, 'effects1263': 844, 'effects1264': 845, 'effects1265': 846, 'effects1266': 847, 'aygestin': 165, 'progesterone': 4455, 'balance': 179, 'effects1267': 848, 'diovan': 482, 'effects1268': 849, 'effects1269': 850, 'narcalepsy': 4226, 'effects1270': 852, 'clearing': 328, 'effects1271': 853, 'duac': 524, 'effects1272': 854, 'constant': 371, 'drip': 516, 'effects1273': 855, 'effects1274': 856, 'effects1275': 857, 'effects1276': 858, 'effects1277': 859, 'effects1278': 860, 'effects1279': 861, 'effects1280': 863, 'effects1281': 864, 'effects1282': 865, 'effects1283': 866, 'effects1284': 867, 'effects1285': 868, 'efudex': 3657, 'effects1286': 869, 'prednisolone': 4423, 'tendinatis': 4764, 'effects1287': 870, 'effects1288': 871, 'effects1289': 872, 'effects1290': 874, 'effects1291': 875, 'effects1292': 876, 'effects1293': 877, 'whiteheads': 4928, 'effects1294': 878, 'effects1295': 879, 'effects1296': 880, 'effects1297': 881, 'anxety': 107, 'effects1298': 882, 'effects1299': 883, 'cefzil': 290, 'effects1300': 886, 'effects1301': 887, 'minor': 4180, 'effects1302': 888, 'effects1303': 889, 'effects1304': 890, 'birthcontrol': 214, 'effects1305': 891, 'initially': 3996, 'effects1306': 892, 'effects1307': 893, 'stabilizer': 4686, 'effects1308': 894, 'effects1309': 895, 'effects1310': 897, 'effects1311': 898, 'effects1312': 899, 'flovent': 3781, 'effects1313': 900, 'vasotec': 4893, 'effects1314': 901, 'effects1315': 902, 'effects1316': 903, 'warfarin': 4916, 'effects1317': 904, 'musculoskeletal': 4215, 'effects1318': 905, 'frequent': 3800, 'effects1319': 906, 'effects1320': 908, 'effects1321': 909, 'morphine': 4200, 'effects1322': 910, 'effects1323': 911, 'spine': 4671, 'effects1324': 912, 'rifadin': 4569, 'abcess': 8, 'effects1325': 913, 'lybrel': 4119, 'more': 4197, 'period': 4362, 'effects1326': 914, 'effects1327': 915, 'effects1328': 916, 'cosmetic': 385, 'complications': 355, 'effects1329': 917, 'effects1330': 919, 'effects1331': 920, 'effects1332': 921, 'effects1333': 922, 'effects1334': 923, 'effects1335': 924, 'effects1336': 925, 'effects1337': 926, 'effects1338': 927, 'effects1339': 928, 'mucous': 4207, 'effects1340': 930, 'effects1341': 931, 'effects1342': 932, 'cozaar': 390, 'effects1343': 933, 'effects1344': 934, 'effects1345': 935, 'coldsores': 345, 'effects1346': 936, 'effects1347': 937, 'cfs': 299, 'effects1348': 938, 'effects1349': 939, 'effects1350': 941, 'effects1351': 942, 'effects1352': 943, 'effects1353': 944, 'effects1354': 945, 'effects1355': 946, 'effects1356': 947, 'acetaminophen': 21, 'effects1357': 948, 'effects1358': 949, 'lung': 4116, 'effects1359': 950, 'hashimoto': 3863, 'effects1360': 952, 'perioral': 4366, 'dermatitis': 451, 'effects1361': 953, 'effects1362': 954, 'effects1363': 955, 'asmanex': 131, 'effects1364': 956, 'effects1365': 957, 'effects1366': 958, 'effects1367': 959, 'effects1368': 960, 'effects1369': 961, 'hyperpigmatation': 3931, 'effects1370': 963, 'effects1371': 964, 'infrection': 3994, 'effects1372': 965, 'effects1373': 966, 'effects1374': 967, 'assoc': 132, 'resp': 4544, 'effects1375': 968, 'effects1376': 969, 'effects1377': 970, 'effects1378': 971, 'effects1379': 972, 'cholestrol': 315, 'effects1380': 974, 'effects1381': 975, 'effects1382': 976, 'illness': 3959, 'pandemic': 4332, 'effects1383': 977, 'inspra': 4005, 'conn': 368, 'effects1384': 978, 'effects1385': 979, 'effects1386': 980, 'effects1387': 981, 'effects1388': 982, 'carac': 277, 'actinic': 32, 'keratoses': 4034, 'effects1389': 983, 'effects1390': 985, 'effects1391': 986, 'effects1392': 987, 'effects1393': 988, 'effects1394': 989, 'imuran': 3969, 'lupus': 4118, 'effects1395': 990, 'diflucan': 477, 'effects1396': 991, 'effects1397': 992, 'effects1398': 993, 'effects1399': 994, 'water': 4919, 'effects1400': 997, 'mellitus': 4143, 'effects1401': 998, 'effects1402': 999, 'effects1403': 1000, 'vigamox': 4903, 'conjunctivitus': 367, 'effects1404': 1001, 'effects1405': 1002, 'effects1406': 1003, 'effects1407': 1004, 'effects1408': 1005, 'rare': 4497, 'effects1409': 1006, 'benefits': 198, 'effects1410': 1008, 'effects1411': 1009, 'drynes': 521, 'effects1412': 1010, 'diltiazem': 481, 'fib': 3757, 'effects1413': 1011, 'effects1414': 1012, 'effects1415': 1013, 'effects1416': 1014, 'effects1417': 1015, 'effects1418': 1016, 'prograf': 4456, 'rejection': 4523, 'effects1419': 1017, 'periostat': 4367, 'effects1420': 1019, 'effects1421': 1020, 'effects1422': 1021, 'effects1423': 1022, 'effects1424': 1023, 'cells': 294, 'effects1425': 1024, 'effects1426': 1025, 'effects1427': 1026, 'exelon': 3715, 'effects1428': 1027, 'effects1429': 1028, 'effects1430': 1030, 'benicar': 199, 'effects1431': 1031, 'effects1432': 1032, 'effects1433': 1033, 'effects1434': 1034, 'effects1435': 1035, 'effects1436': 1036, 'divigel': 502, 'effects1437': 1037, 'dostinex': 508, 'microprolactinoma': 4170, 'benign': 200, 'pituitary': 4387, 'tumour': 4852, 'effects1438': 1038, 'related': 4526, 'effects1439': 1039, 'effects1440': 1041, 'effects1441': 1042, 'effects1442': 1043, 'effects1443': 1044, 'aciphex': 28, 'effects1444': 1045, 'effects1445': 1046, 'effects1446': 1047, 'effects1447': 1048, 'glandular': 3835, 'effects1448': 1049, 'effects1449': 1050, 'effects1450': 1052, 'extractions': 3720, 'effects1451': 1053, 'effects1452': 1054, 'effects1453': 1055, 'effects1454': 1056, 'delestrogen': 428, 'effects1455': 1057, 'mitral': 4187, 'valve': 4889, 'prolapse': 4459, 'effects1456': 1058, 'inderal': 3977, 'performance': 4357, 'effects1457': 1059, 'effects1458': 1060, 'effects1459': 1061, 'clobex': 334, 'effects1460': 1063, 'fluvoxamine': 3786, 'worry': 4933, 'effects1461': 1064, 'improvement': 3967, 'appearance': 110, 'very': 4898, 'acn': 30, 'effects1462': 1065, 'effects1463': 1066, 'opiate': 4289, 'heroin': 3891, 'effects1464': 1067, 'effects1465': 1068, 'effects1466': 1069, 'spondalytis': 4674, 'effects1467': 1070, 'effects1468': 1071, 'preventing': 4437, 'effects1469': 1072, 'effects1470': 1074, 'effects1471': 1075, 'effects1472': 1076, 'effects1473': 1077, 'effects1474': 1078, 'effects1475': 1079, 'effects1476': 1080, 'skelaxin': 4641, 'effects1477': 1081, 'effects1478': 1082, 'effects1479': 1083, 'effects1480': 1085, 'effects1481': 1086, 'effects1482': 1087, 'effects1483': 1088, 'effects1484': 1089, 'environmental': 3677, 'effects1485': 1090, 'effects1486': 1091, 'effects1487': 1092, 'effects1488': 1093, 'migrain': 4172, 'effects1489': 1094, 'dexedrine': 457, 'effects1490': 1096, 'effects1491': 1097, 'inattentive': 3973, 'effects1492': 1098, 'effects1493': 1099, 'effects1494': 1100, 'effects1495': 1101, 'pelvic': 4347, 'effects1496': 1102, 'underactive': 4865, 'effects1497': 1103, 'effects1498': 1104, 'effects1499': 1105, 'effects1500': 1108, 'effects1501': 1109, 'cholestral': 314, 'effects1502': 1110, 'daytime': 422, 'drowsiness': 517, 'effects1503': 1111, 'poison': 4403, 'ivy': 4025, 'effects1504': 1112, 'effects1505': 1113, 'molar': 4192, 'extraction': 3719, 'effects1506': 1114, 'effects1507': 1115, 'effects1508': 1116, 'polymyxin': 4410, 'conjunctivitis': 366, 'effects1509': 1117, 'effects1510': 1119, 'hct': 3869, 'pressue': 4432, 'diuretic': 501, 'effects1511': 1120, 'effects1512': 1121, 'associated': 133, 'effects1513': 1122, 'effects1514': 1123, 'effects1515': 1124, 'recovery': 4508, 'effects1516': 1125, 'effects1517': 1126, 'effects1518': 1127, 'effects1519': 1128, 'effects1520': 1130, 'effects1521': 1131, 'agind': 54, 'effects1522': 1132, 'effects1523': 1133, 'effects1524': 1134, 'effects1525': 1135, 'effects1526': 1136, 'effects1527': 1137, 'proloprim': 4460, 'effects1528': 1138, 'earache': 538, 'effects1529': 1139, 'effects1530': 1141, 'effects1531': 1142, 'accolate': 17, 'capsuar': 275, 'contracture': 375, 'implant': 3965, 'effects1532': 1143, 'cardura': 281, 'prostate': 4468, 'effects1533': 1144, 'effects1534': 1145, 'length': 4064, 'fullness': 3806, 'effects1535': 1146, 'effects1536': 1147, 'scoliosis': 4601, 'effects1537': 1148, 'effects1538': 1149, 'effects1539': 1150, 'effects1540': 1152, 'kept': 4033, 'getting': 3830, 'pregnant': 4428, 'stairs': 4688, 'please': 4391, 'effects1541': 1153, 'effects1542': 1154, 'effects1543': 1155, 'effects1544': 1156, 'effects1545': 1157, 'pains': 4327, 'dizziness': 503, 'effects1546': 1158, 'effects1547': 1159, 'effects1548': 1160, 'effects1549': 1161, 'coreg': 381, 'effects1550': 1163, 'effects1551': 1164, 'effects1552': 1165, 'dapsone': 418, 'herpetiformis': 3894, 'effects1553': 1166, 'effects1554': 1167, 'few': 3755, 'break': 241, 'outs': 4308, 'effects1555': 1168, 'athletes': 142, 'foot': 3793, 'effects1556': 1169, 'effects1557': 1170, 'effects1558': 1171, 'klebsiella': 4039, 'effects1559': 1172, 'lumbar': 4113, 'effects1560': 1174, 'effects1561': 1175, 'effects1562': 1176, 'effects1563': 1177, 'effects1564': 1178, 'cyproheptadine': 408, 'effects1565': 1179, 'effects1566': 1180, 'effects1567': 1181, 'effects1568': 1182, 'effects1569': 1183, 'effects1570': 1185, 'staying': 4691, 'effects1571': 1186, 'effects1572': 1187, 'effects1573': 1188, 'effects1574': 1189, 'effects1575': 1190, 'effects1576': 1191, 'effects1577': 1192, 'effects1578': 1193, 'effects1579': 1194, 'effects1580': 1196, 'effects1581': 1197, 'effects1582': 1198, 'effects1583': 1199, 'qit': 4483, 'effects1584': 1200, 'methadone': 4158, 'opiod': 4290, 'effects1585': 1201, 'cornea': 383, 'transplant': 4826, 'effects1586': 1202, 'inattention': 3972, 'disorganization': 494, 'effects1587': 1203, 'effects1588': 1204, 'radiating': 4492, 'left': 4061, 'effects1589': 1205, 'effects1590': 1207, 'effects1591': 1208, 'glucose': 3840, 'effects1592': 1209, 'effects1593': 1210, 'dental': 433, 'effects1594': 1211, 'effects1595': 1212, 'lidex': 4079, 'effects1596': 1213, 'effects1597': 1214, 'effects1598': 1215, 'effects1599': 1216, 'effects1600': 1219, 'indigestion': 3978, 'effects1601': 1220, 'hypthyroidsim': 3949, 'effects1602': 1221, 'effects1603': 1222, 'effects1604': 1223, 'probles': 4450, 'balckheads': 180, 'effects1605': 1224, 'pinched': 4385, 'disseminated': 498, 'pai': 4323, 'effects1606': 1225, 'raciness': 4491, 'effects1607': 1226, 'effects1608': 1227, 'effects1609': 1228, 'effects1610': 1230, 'addh': 43, 'effects1611': 1231, 'effects1612': 1232, 'effects1613': 1233, 'effects1614': 1234, 'simple': 4631, 'partial': 4338, 'effects1615': 1235, 'effects1616': 1236, 'effects1617': 1237, 'effects1618': 1238, 'effects1619': 1239, 'effects1620': 1241, 'effects1621': 1242, 'effects1622': 1243, 'hypothyriodism': 3943, 'thyroiditis': 4788, 'effects1623': 1244, 'effects1624': 1245, 'effects1625': 1246, 'effects1626': 1247, 'borderline': 231, 'personality': 4372, 'effects1627': 1248, 'effects1628': 1249, 'effects1629': 1250, 'effects1630': 1252, 'smelly': 4653, 'discharge': 484, 'effects1631': 1253, 'effects1632': 1254, 'effects1633': 1255, 'effects1634': 1256, 'effects1635': 1257, 'illiotibital': 3958, 'tibital': 4790, 'syndrom': 4739, 'effects1636': 1258, 'cluster': 340, 'effects1637': 1259, 'gonorrhea': 3843, 'effects1638': 1260, 'effects1639': 1261, 'effects1640': 1263, 'effects1641': 1264, 'effects1642': 1265, 'effects1643': 1266, 'effects1644': 1267, 'effects1645': 1268, 'effects1646': 1269, 'effects1647': 1270, 'effects1648': 1271, 'effects1649': 1272, 'effects1650': 1274, 'burning': 260, 'effects1651': 1275, 'staph': 4689, 'effects1652': 1276, 'effects1653': 1277, 'effects1654': 1278, 'effects1655': 1279, 'penlac': 4349, 'toe': 4801, 'nail': 4222, 'effects1656': 1280, 'hydrocodone': 3920, 'cervical': 296, 'spondylosis': 4676, 'effects1657': 1281, 'effects1658': 1282, 'effects1659': 1283, 'menapause': 4146, 'effects1660': 1285, 'effects1661': 1286, 'propranolol': 4465, 'effects1662': 1287, 'effects1663': 1288, 'effects1664': 1289, 'effects1665': 1290, 'effects1666': 1291, 'effects1667': 1292, 'aching': 25, 'effects1668': 1293, 'effects1669': 1294, 'effects1670': 1296, 'effects1671': 1297, 'effects1672': 1298, 'effects1673': 1299, 'botched': 232, 'effects1674': 1300, 'perenniel': 4355, 'effects1675': 1301, 'erythra': 3692, 'derm': 449, 'effects1676': 1302, 'bisoprolol': 215, 'palpitations': 4328, 'effects1677': 1303, 'effects1678': 1304, 'effects1679': 1305, 'effects1680': 1307, 'effects1681': 1308, 'effects1682': 1309, 'effects1683': 1310, 'effects1684': 1311, 'effects1685': 1312, 'effects1686': 1313, 'effects1687': 1314, 'effects1688': 1315, 'cholitis': 316, 'effects1689': 1316, 'effects1690': 1318, 'effects1691': 1319, 'effects1692': 1320, 'effects1693': 1321, 'effects1694': 1322, 'apnea': 109, 'effects1695': 1323, 'effects1696': 1324, 'effects1697': 1325, 'effects1698': 1326, 'effects1699': 1327, 'effects1700': 1330, 'essential': 3700, 'tremor': 4834, 'effects1701': 1331, 'strokes': 4709, 'effects1702': 1332, 'effects1703': 1333, 'effects1704': 1334, 'juvenile': 4029, 'idiopathic': 3955, 'effects1705': 1335, 'none': 4261, 'effects1706': 1336, 'effects1707': 1337, 'gastrointestinal': 3820, 'effects1708': 1338, 'family': 3738, 'outbreak': 4307, 'effects1709': 1339, 'effects1710': 1341, 'effects1711': 1342, 'hyoscyamine': 3922, 'effects1712': 1343, 'effects1713': 1344, 'effects1714': 1345, 'contraceptive': 374, 'effects1715': 1346, 'effects1716': 1347, 'effects1717': 1348, 'effects1718': 1349, 'effects1719': 1350, 'effects1720': 1352, 'furrows': 3811, 'effects1721': 1353, 'effects1722': 1354, 'emsam': 3668, 'effects1723': 1355, 'effects1724': 1356, 'migaine': 4171, 'headches': 3873, 'effects1725': 1357, 'effects1726': 1358, 'effects1727': 1359, 'effects1728': 1360, 'effects1729': 1361, 'effects1730': 1363, 'effects1731': 1364, 'effects1732': 1365, 'atypical': 152, 'biopsy': 209, 'effects1733': 1366, 'ceasation': 288, 'effects1734': 1367, 'femhrt': 3749, 'effects1735': 1368, 'effects1736': 1369, 'effects1737': 1370, 'partum': 4339, 'effects1738': 1371, 'effects1739': 1372, 'effects1740': 1374, 'effects1741': 1375, 'benadryl': 197, 'reaction': 4503, 'effects1742': 1376, 'effects1743': 1377, 'redness': 4512, 'effects1744': 1378, 'pmd': 4397, 'effects1745': 1379, 'effects1746': 1380, 'candida': 274, 'caused': 287, 'effects1747': 1381, 'effects1748': 1382, 'effects1749': 1383, 'effects1750': 1385, 'effects1751': 1386, 'effects1752': 1387, 'effects1753': 1388, 'effects1754': 1389, 'effects1755': 1390, 'effects1756': 1391, 'effects1757': 1392, 'effects1758': 1393, 'effects1759': 1394, 'effects1760': 1396, 'peptic': 4352, 'effects1761': 1397, 'rashes': 4499, 'effects1762': 1398, 'effects1763': 1399, 'proair': 4446, 'flares': 3772, 'effects1764': 1400, 'effects1765': 1401, 'effects1766': 1402, 'effects1767': 1403, 'effects1768': 1404, 'effects1769': 1405, 'effects1770': 1407, 'effects1771': 1408, 'effects1772': 1409, 'kenalog': 4031, 'effects1773': 1410, 'effects1774': 1411, 'effects1775': 1412, 'lpa': 4111, 'effects1776': 1413, 'effects1777': 1414, 'effects1778': 1415, 'effects1779': 1416, 'collar': 350, 'effects1780': 1418, 'effects1781': 1419, 'effects1782': 1420, 'effects1783': 1421, 'effects1784': 1422, 'effects1785': 1423, 'effects1786': 1424, 'effects1787': 1425, 'effects1788': 1426, 'complete': 354, 'effects1789': 1427, 'tinnitus': 4794, 'effects1790': 1429, 'effects1791': 1430, 'effects1792': 1431, 'schizo': 4595, 'affective': 50, 'effects1793': 1432, 'effects1794': 1433, 'effects1795': 1434, 'effects1796': 1435, 'vein': 4894, 'effects1797': 1436, 'effects1798': 1437, 'effects1799': 1438, 'ribavirin': 4567, 'effects1800': 1441, 'effects1801': 1442, 'effects1802': 1443, 'effects1803': 1444, 'effects1804': 1445, 'effects1805': 1446, 'effects1806': 1447, 'effects1807': 1448, 'effects1808': 1449, 'effects1809': 1450, 'effects1810': 1452, 'cesarean': 297, 'effects1811': 1453, 'effects1812': 1454, 'effects1813': 1455, 'effects1814': 1456, 'effects1815': 1457, 'effects1816': 1458, 'crohns': 398, 'effects1817': 1459, 'effects1818': 1460, 'endometrial': 3672, 'hyperplasia': 3933, 'effects1819': 1461, 'effects1820': 1463, 'effects1821': 1464, 'effects1822': 1465, 'effects1823': 1466, 'eyelash': 3726, 'effects1824': 1467, 'effects1825': 1468, 'indoor': 3979, 'effects1826': 1469, 'effects1827': 1470, 'heavy': 3881, 'effects1828': 1471, 'effects1829': 1472, 'effects1830': 1474, 'effects1831': 1475, 'chills': 307, 'effects1832': 1476, 'effects1833': 1477, 'effects1834': 1478, 'effects1835': 1479, 'effects1836': 1480, 'toprol': 4818, 'effects1837': 1481, 'locoid': 4096, 'lipocream': 4089, 'nummular': 4269, 'effects1838': 1482, 'effects1839': 1483, 'effects1840': 1485, 'effects1841': 1486, 'effects1842': 1487, 'sle': 4643, 'effects1843': 1488, 'effects1844': 1489, 'effects1845': 1490, 'effects1846': 1491, 'effects1847': 1492, 'metoprolol': 4163, 'tachacarrdia': 4745, 'heartbeat': 3878, 'effects1848': 1493, 'lotronex': 4107, 'effects1849': 1494, 'effects1850': 1496, 'effects1851': 1497, 'effects1852': 1498, 'hard': 3862, 'time': 4791, 'effects1853': 1499, 'effects1854': 1500, 'maigrains': 4123, 'effects1855': 1501, 'effects1856': 1502, 'estrogen': 3705, 'therapy': 4778, 'effects1857': 1503, 'effects1858': 1504, 'effects1859': 1505, 'vagina': 4884, 'effects1860': 1507, 'effects1861': 1508, 'irregularity': 4014, 'babies': 170, 'effects1862': 1509, 'effects1863': 1510, 'effects1864': 1511, 'effects1865': 1512, 'effects1866': 1513, 'effects1867': 1514, 'fosinopril': 3798, 'effects1868': 1515, 'effects1869': 1516, 'effects1870': 1518, 'elmiron': 3664, 'interstitial': 4009, 'cystitis': 411, 'effects1871': 1519, 'lasix': 4056, 'edema': 546, 'effects1872': 1520, 'effects1873': 1521, 'effects1874': 1522, 'effects1875': 1523, 'effects1876': 1524, 'effects1877': 1525, 'effects1878': 1526, 'effects1879': 1527, 'effects1880': 1529, 'effects1881': 1530, 'effects1882': 1531, 'effects1883': 1532, 'effects1884': 1533, 'effects1885': 1534, 'effects1886': 1535, 'effects1887': 1536, 'effects1888': 1537, 'effects1889': 1538, 'erictile': 3689, 'effects1890': 1540, 'effects1891': 1541, 'effects1892': 1542, 'effects1893': 1543, 'effects1894': 1544, 'effects1895': 1545, 'effects1896': 1546, 'pertusis': 4373, 'effects1897': 1547, 'effects1898': 1548, 'effects1899': 1549, 'depprssion': 440, 'remembering': 4533, 'effects1900': 1552, 'peripheral': 4368, 'effects1901': 1553, 'alopecia': 74, 'effects1902': 1554, 'effects1903': 1555, 'effects1904': 1556, 'effects1905': 1557, 'effects1906': 1558, 'deprivation': 448, 'effects1907': 1559, 'effects1908': 1560, 'effects1909': 1561, 'temporary': 4762, 'effects1910': 1563, 'pregnacy': 4426, 'effects1911': 1564, 'effects1912': 1565, 'effects1913': 1566, 'preasure': 4422, 'effects1914': 1567, 'effects1915': 1568, 'effects1916': 1569, 'effects1917': 1570, 'effects1918': 1571, 'effects1919': 1572, 'effects1920': 1574, 'effects1921': 1575, 'effects1922': 1576, 'memopause': 4144, 'effects1923': 1577, 'trental': 4835, 'behcet': 193, 'effects1924': 1578, 'big': 208, 'toes': 4804, 'effects1925': 1579, 'effects1926': 1580, 'mouth': 4204, 'effects1927': 1581, 'effects1928': 1582, 'triamcinolone': 4837, 'exema': 3716, 'effects1929': 1583, 'effects1930': 1585, 'effects1931': 1586, 'effects1932': 1587, 'effects1933': 1588, 'effects1934': 1589, 'effects1935': 1590, 'effects1936': 1591, 'effects1937': 1592, 'lashes': 4055, 'effects1938': 1593, 'effects1939': 1594, 'effects1940': 1596, 'effects1941': 1597, 'effects1942': 1598, 'bactrim': 176, 'ds': 523, 'ballanitis': 182, 'effects1943': 1599, 'non': 4260, 'effects1944': 1600, 'effects1945': 1601, 'effects1946': 1602, 'effects1947': 1603, 'diet': 472, 'effects1948': 1604, 'effects1949': 1605, 'systemic': 4744, 'effects1950': 1607, 'effects1951': 1608, 'effects1952': 1609, 'effects1953': 1610, 'effects1954': 1611, 'effects1955': 1612, 'mastitis': 4137, 'effects1956': 1613, 'effects1957': 1614, 'effects1958': 1615, 'effects1959': 1616, 'effects1960': 1618, 'effects1961': 1619, 'shooting': 4622, 'effects1962': 1620, 'effects1963': 1621, 'effects1964': 1622, 'effects1965': 1623, 'effects1966': 1624, 'general': 3821, 'effects1967': 1625, 'mercaptopurine': 4153, 'effects1968': 1626, 'dust': 528, 'effects1969': 1627, 'effects1970': 1629, 'trauma': 4827, 'surgeries': 4725, 'effects1971': 1630, 'effects1972': 1631, 'effects1973': 1632, 'effects1974': 1633, 'effects1975': 1634, 'health': 3875, 'effects1976': 1635, 'effects1977': 1636, 'effects1978': 1637, 'effects1979': 1638, 'polinoidal': 4406, 'effects1980': 1640, 'effects1981': 1641, 'effects1982': 1642, 'effects1983': 1643, 'effects1984': 1644, 'effects1985': 1645, 'effects1986': 1646, 'effects1987': 1647, 'effects1988': 1648, 'omacor': 4281, 'effects1989': 1649, 'effects1990': 1651, 'effects1991': 1652, 'effects1992': 1653, 'effects1993': 1654, 'effects1994': 1655, 'effects1995': 1656, 'effects1996': 1657, 'effects1997': 1658, 'fingernail': 3766, 'effects1998': 1659, 'effects1999': 1660, 'effects2000': 1664, 'effects2001': 1665, 'effects2002': 1666, 'oral': 4293, 'effects2003': 1667, 'murmur': 4211, 'procedures': 4452, 'effects2004': 1668, 'repair': 4539, 'effects2005': 1669, 'effects2006': 1670, 'effects2007': 1671, 'effects2008': 1672, 'effects2009': 1673, 'effects2010': 1675, 'arimidex': 118, 'effects2011': 1676, 'effects2012': 1677, 'between': 205, 'brow': 251, 'effects2013': 1678, 'effects2014': 1679, 'effects2015': 1680, 'effects2016': 1681, 'sag': 4587, 'effects2017': 1682, 'effects2018': 1683, 'novum': 4268, 'effects2019': 1684, 'effects2020': 1686, 'effects2021': 1687, 'effects2022': 1688, 'effects2023': 1689, 'effects2024': 1690, 'effects2025': 1691, 'depakene': 434, 'tonic': 4807, 'clonic': 337, 'effects2026': 1692, 'effects2027': 1693, 'acic': 26, 'effects2028': 1694, 'ceclor': 289, 'vacation': 4882, 'effects2029': 1695, 'effects2030': 1697, 'herpatic': 3892, 'neuralga': 4242, 'effects2031': 1698, 'effects2032': 1699, 'effects2033': 1700, 'effects2034': 1701, 'effects2035': 1702, 'feel': 3742, 'better': 204, 'effects2036': 1703, 'azasan': 166, 'effects2037': 1704, 'cholesteol': 310, 'effects2038': 1705, 'effects2039': 1706, 'effects2040': 1708, 'effects2041': 1709, 'effects2042': 1710, '1st': 1, 'only': 4286, '41': 5, 'effects2043': 1711, 'effects2044': 1712, 'effects2045': 1713, 'effects2046': 1714, 'stength': 4693, 'effects2047': 1715, 'depresion': 442, 'behavior': 192, 'effects2048': 1716, 'effects2049': 1717, 'effects2050': 1719, 'contact': 372, 'effects2051': 1720, 'brown': 252, 'effects2052': 1721, 'rheumatiod': 4558, 'effects2053': 1722, 'effects2054': 1723, 'effects2055': 1724, 'pocs': 4402, 'testosterone': 4771, 'hirsutism': 3903, 'effects2056': 1725, 'effects2057': 1726, 'effects2058': 1727, 'quibron': 4485, 'effects2059': 1728, 'effects2060': 1730, 'corgard': 382, 'mytral': 4221, 'effects2061': 1731, 'effects2062': 1732, 'effects2063': 1733, 'effects2064': 1734, 'effects2065': 1735, 'effects2066': 1736, 'effects2067': 1737, 'effects2068': 1738, 'effects2069': 1739, 'effects2070': 1741, 'effects2071': 1742, 'effects2072': 1743, 'effects2073': 1744, 'phase': 4375, 'effects2074': 1745, 'effects2075': 1746, 'femara': 3748, 'effects2076': 1747, 'effects2077': 1748, 'squamous': 4683, 'effects2078': 1749, 'autoimmune': 155, 'effects2079': 1750, 'antibiotic': 103, 'treat': 4830, 'effects2080': 1752, 'effects2081': 1753, 'meperidine': 4152, 'painkiller': 4325, 'effects2082': 1754, 'effects2083': 1755, 'effects2084': 1756, 'hiatus': 3898, 'hernia': 3889, 'effects2085': 1757, 'effects2086': 1758, 'effects2087': 1759, 'effects2088': 1760, 'effects2089': 1761, 'effects2090': 1763, 'effects2091': 1764, 'alzheimers': 79, 'effects2092': 1765, 'effects2093': 1766, 'effects2094': 1767, 'effects2095': 1768, 'effects2096': 1769, 'effects2097': 1770, 'effects2098': 1771, 'eczyma': 544, 'effects2099': 1772, 'effects2100': 1775, 'effects2101': 1776, 'rotator': 4580, 'cuff': 399, 'tear': 4756, 'effects2102': 1777, 'effects2103': 1778, 'effects2104': 1779, 'effects2105': 1780, '42': 6, 'effects2106': 1781, 'effects2107': 1782, 'effects2108': 1783, 'effects2109': 1784, 'effects2110': 1786, 'effects2111': 1787, 'effects2112': 1788, 'effects2113': 1789, 'betaseron': 203, 'effects2114': 1790, 'effects2115': 1791, 'effects2116': 1792, 'effects2117': 1793, 'effects2118': 1794, 'feelings': 3744, 'effects2119': 1795, 'effects2120': 1797, 'effects2121': 1798, 'effects2122': 1799, 'insommnia': 4003, 'effects2123': 1800, 'effects2124': 1801, 'hypothyriod': 3942, 'effects2125': 1802, 'effects2126': 1803, 'effects2127': 1804, 'effects2128': 1805, 'clot': 338, 'effects2129': 1806, 'effects2130': 1808, 'effects2131': 1809, 'effects2132': 1810, 'effects2133': 1811, 'effects2134': 1812, 'pro': 4445, 'effects2135': 1813, 'sleepiness': 4645, 'effects2136': 1814, 'gonal': 3842, 'rff': 4556, 'follicle': 3788, 'prior': 4443, 'iui': 4024, 'effects2137': 1815, 'effects2138': 1816, 'history': 3905, 'effects2139': 1817, 'effects2140': 1819, 'effects2141': 1820, 'effects2142': 1821, 'effects2143': 1822, 'beginning': 190, 'effects2144': 1823, 'effects2145': 1824, 'stabilization': 4685, 'effects2146': 1825, 'atacand': 139, 'effects2147': 1826, 'effects2148': 1827, 'effects2149': 1828, 'effects2150': 1830, 'effects2151': 1831, 'digestive': 478, 'effects2152': 1832, 'effects2153': 1833, 'effects2154': 1834, 'stones': 4698, 'effects2155': 1835, 'effects2156': 1836, 'effects2157': 1837, 'effects2158': 1838, 'effects2159': 1839, 'effects2160': 1841, 'effects2161': 1842, 'effects2162': 1843, 'bronchitus': 249, 'effects2163': 1844, 'effects2164': 1845, 'effects2165': 1846, 'arthrotec': 126, 'effects2166': 1847, 'concussion': 361, 'effects2167': 1848, 'effects2168': 1849, 'effects2169': 1850, 'effects2170': 1852, 'effects2171': 1853, 'levetiracetam': 4071, 'right': 4570, 'temporal': 4761, 'lobe': 4094, 'effects2172': 1854, 'effects2173': 1855, 'effects2174': 1856, 'effects2175': 1857, 'effects2176': 1858, 'effects2177': 1859, 'effects2178': 1860, 'effects2179': 1861, 'dilantin': 479, 'effects2180': 1863, 'effects2181': 1864, 'effects2182': 1865, 'effects2183': 1866, 'barretts': 187, 'effects2184': 1867, 'hypothroidism': 3939, 'radioactive': 4494, 'iodine': 4012, 'effects2185': 1868, 'effects2186': 1869, 'effects2187': 1870, 'large': 4052, 'pores': 4414, 'effects2188': 1871, 'slipped': 4651, 'effects2189': 1872, 'effects2190': 1874, 'effects2191': 1875, 'effects2192': 1876, 'effects2193': 1877, 'effects2194': 1878, 'effects2195': 1879, 'effects2196': 1880, 'effects2197': 1881, 'effects2198': 1882, 'periogard': 4365, 'effects2199': 1883, 'effects2200': 1886, 'effects2201': 1887, 'effects2202': 1888, 'effects2203': 1889, 'site': 4637, 'oreal': 4294, 'effects2204': 1890, 'double': 510, 'effects2205': 1891, 'effects2206': 1892, 'androgel': 91, 'andropause': 92, 'effects2207': 1893, 'effects2208': 1894, 'chloresteral': 309, 'effects2209': 1895, 'effects2210': 1897, 'effects2211': 1898, 'effects2212': 1899, 'effects2213': 1900, 'effects2214': 1901, 'effects2215': 1902, 'levothroid': 4074, 'effects2216': 1903, 'effects2217': 1904, 'effects2218': 1905, 'effects2219': 1906, 'effects2220': 1908, 'effects2221': 1909, 'nicotine': 4251, 'effects2222': 1910, 'zyvox': 4965, 'effects2223': 1911, 'effects2224': 1912, 'effects2225': 1913, 'effects2226': 1914, 'effects2227': 1915, 'effects2228': 1916, 'effects2229': 1917, 'effects2230': 1919, 'effects2231': 1920, 'genetic': 3824, 'effects2232': 1921, 'prochlorperazine': 4453, 'effects2233': 1922, 'lac': 4045, 'hydrin': 3918, 'effects2234': 1923, 'effects2235': 1924, 'effects2236': 1925, 'effects2237': 1926, 'effects2238': 1927, 'effects2239': 1928, 'effects2240': 1930, 'effects2241': 1931, 'effects2242': 1932, 'vioxx': 4904, 'effects2243': 1933, 'effects2244': 1934, 'hypothyroidsm': 3947, 'effects2245': 1935, 'effects2246': 1936, 'effects2247': 1937, 'effects2248': 1938, 'effects2249': 1939, 'effects2250': 1941, 'effects2251': 1942, 'effects2252': 1943, 'pancreatitis': 4331, 'effects2253': 1944, 'effects2254': 1945, 'effects2255': 1946, 'effects2256': 1947, 'effects2257': 1948, 'effects2258': 1949, 'effects2259': 1950, 'effects2260': 1952, 'effects2261': 1953, 'effects2262': 1954, 'effects2263': 1955, 'effects2264': 1956, 'effects2265': 1957, 'effects2266': 1958, 'penicillin': 4348, 'effects2267': 1959, 'effects2268': 1960, 'effects2269': 1961, 'effects2270': 1963, 'effects2271': 1964, 'carpal': 282, 'tunnel': 4853, 'effects2272': 1965, 'effects2273': 1966, 'toothache': 4813, 'effects2274': 1967, 'effects2275': 1968, 'effects2276': 1969, 'effects2277': 1970, 'osteroporosis': 4304, 'effects2278': 1971, 'effects2279': 1972, 'effects2280': 1974, 'tramflap': 4824, 'effects2281': 1975, 'effects2282': 1976, 'effects2283': 1977, 'effects2284': 1978, 'effects2285': 1979, 'lidocaine': 4080, 'effects2286': 1980, 'effects2287': 1981, 'polymyalgia': 4409, 'effects2288': 1982, 'effects2289': 1983, 'effects2290': 1985, 'effects2291': 1986, 'year': 4946, 'round': 4581, 'effects2292': 1987, 'effects2293': 1988, 'obsessional': 4274, 'thoughts': 4783, 'effects2294': 1989, 'haldol': 3859, 'psychotic': 4480, 'out': 4306, 'nof': 4258, 'patient': 4341, 'effects2295': 1990, 'bladness': 220, 'effects2296': 1991, 'effects2297': 1992, 'effects2298': 1993, 'effects2299': 1994, 'effects2300': 1997, 'effects2301': 1998, 'thin': 4781, 'effects2302': 1999, 'temovate': 4760, 'dyshidrosis': 531, 'effects2303': 2000, 'effects2304': 2001, 'effects2305': 2002, 'mycoplasma': 4218, 'effects2306': 2003, 'restlessness': 4549, 'effects2307': 2004, 'effects2308': 2005, 'detrol': 455, 'overactive': 4312, 'effects2309': 2006, 'effects2310': 2008, 'flexor': 3777, 'effects2311': 2009, 'impetigo': 3964, 'effects2312': 2010, 'effects2313': 2011, 'folliculitis': 3790, 'scalp': 4592, 'effects2314': 2012, 'depressio': 444, 'effects2315': 2013, 'effects2316': 2014, 'effects2317': 2015, 'metrolotion': 4165, 'dermamtitis': 450, 'effects2318': 2016, 'effects2319': 2017, 'aralen': 113, 'effects2320': 2019, 'dr': 515, 'effects2321': 2020, 'effects2322': 2021, 'effects2323': 2022, 'effects2324': 2023, 'effects2325': 2024, 'periferal': 4360, 'effects2326': 2025, 'effects2327': 2026, 'effects2328': 2027, 'effects2329': 2028, 'effects2330': 2030, 'effects2331': 2031, 'effects2332': 2032, 'effects2333': 2033, 'trigeminal': 4839, 'neuralgia': 4243, 'etc': 3707, 'effects2334': 2034, 'effects2335': 2035, 'effects2336': 2036, 'effects2337': 2037, 'effects2338': 2038, 'effects2339': 2039, 'effects2340': 2041, 'effects2341': 2042, 'effects2342': 2043, 'cycles': 404, 'effects2343': 2044, 'effects2344': 2045, 'effects2345': 2046, 'eustachian': 3709, 'tube': 4850, 'effects2346': 2047, 'boniva': 230, 'effects2347': 2048, 'abuse': 14, 'effects2348': 2049, 'effects2349': 2050, 'effects2350': 2052, 'neoprofen': 4236, 'effects2351': 2053, 'effects2352': 2054, 'effects2353': 2055, 'effects2354': 2056, 'sudden': 4714, 'sensorineural': 4610, 'hearing': 3876, 'effects2355': 2057, 'effects2356': 2058, 'effects2357': 2059, 'effects2358': 2060, 'effects2359': 2061, 'effects2360': 2063, 'effects2361': 2064, 'effects2362': 2065, 'effects2363': 2066, 'effects2364': 2067, 'effects2365': 2068, 'effects2366': 2069, 'effects2367': 2070, 'bystolic': 266, 'effects2368': 2071, 'effects2369': 2072, 'effects2370': 2074, 'sanctura': 4589, 'effects2371': 2075, 'effects2372': 2076, 'effects2373': 2077, 'effects2374': 2078, 'effects2375': 2079, 'effects2376': 2080, 'effects2377': 2081, 'ulcers': 4860, 'throwing': 4785, 'effects2378': 2082, 'gastritis': 3816, 'effects2379': 2083, 'gastroesophageal': 3818, 'effects2380': 2085, 'anklosing': 98, 'spondylytis': 4677, 'effects2381': 2086, 'effects2382': 2087, 'effects2383': 2088, 'effects2384': 2089, 'lupron': 4117, 'uterine': 4879, 'fibroids': 3760, 'effects2385': 2090, 'dependence': 436, 'effects2386': 2091, 'effects2387': 2092, 'amphetamine': 85, 'effects2388': 2093, 'swelling': 4730, 'effects2389': 2094, 'lodine': 4097, 'effects2390': 2096, 'effects2391': 2097, 'effects2392': 2098, 'painn': 4326, 'effects2393': 2099, 'effects2394': 2100, 'effects2395': 2101, 'effects2396': 2102, 'parlodel': 4337, 'effects2397': 2103, 'effects2398': 2104, 'effects2399': 2105, 'effects2400': 2108, 'effects2401': 2109, 'effects2402': 2110, 'effects2403': 2111, 'effects2404': 2112, 'effects2405': 2113, 'effects2406': 2114, 'effects2407': 2115, 'effects2408': 2116, 'effects2409': 2117, 'effects2410': 2119, 'flushing': 3785, 'effects2411': 2120, 'effects2412': 2121, 'effects2413': 2122, 'effects2414': 2123, 'effects2415': 2124, 'minocin': 4178, 'effects2416': 2125, 'effects2417': 2126, 'effects2418': 2127, 'stressfull': 4706, 'live': 4092, 'change': 300, 'effects2419': 2128, 'effects2420': 2130, 'effects2421': 2131, 'bactroban': 177, 'amputee': 87, 'stump': 4710, 'effects2422': 2132, 'disruption': 497, 'hotflashes': 3913, 'effects2423': 2133, 'effects2424': 2134, 'nervous': 4239, 'system': 4743, 'prob': 4447, 'effects2425': 2135, 'rib': 4566, 'effects2426': 2136, 'effects2427': 2137, 'effects2428': 2138, 'effects2429': 2139, 'effects2430': 2141, 'effects2431': 2142, 'relax': 4528, 'effects2432': 2143, 'urgency': 4873, 'urinate': 4876, 'effects2433': 2144, 'effects2434': 2145, 'effects2435': 2146, 'effects2436': 2147, 'plantar': 4389, 'faciatis': 3732, 'effects2437': 2148, 'effects2438': 2149, 'effects2439': 2150, 'effects2440': 2152, 'effects2441': 2153, 'white': 4927, 'heads': 3874, 'effects2442': 2154, 'effects2443': 2155, 'effects2444': 2156, 'effects2445': 2157, 'effects2446': 2158, 'effects2447': 2159, 'effects2448': 2160, 'effects2449': 2161, 'effects2450': 2163, 'effects2451': 2164, 'effects2452': 2165, 'effects2453': 2166, 'nizoral': 4254, 'effects2454': 2167, 'cut': 401, 'waited': 4913, 'too': 4810, 'stmus': 4696, 'effects2455': 2168, 'diareaha': 465, 'effects2456': 2169, 'effects2457': 2170, 'effects2458': 2171, 'effects2459': 2172, 'effects2460': 2174, 'effects2461': 2175, 'superfacial': 4721, 'effects2462': 2176, 'effects2463': 2177, 'effects2464': 2178, 'effects2465': 2179, 'nardil': 4228, 'effects2466': 2180, 'effects2467': 2181, 'traumatic': 4828, 'effects2468': 2182, 'atripla': 146, 'effects2469': 2183, 'effects2470': 2185, 'effects2471': 2186, 'effects2472': 2187, 'effects2473': 2188, 'reverse': 4554, 'medication': 4140, 'effects2474': 2189, 'effects2475': 2190, 'effects2476': 2191, 'effects2477': 2192, 'effects2478': 2193, 'effects2479': 2194, 'effects2480': 2196, 'aches': 22, 'effects2481': 2197, 'depreesion': 441, 'effects2482': 2198, 'effects2483': 2199, 'effects2484': 2200, 'effects2485': 2201, 'effects2486': 2202, 'effects2487': 2203, 'effects2488': 2204, 'effects2489': 2205, 'effects2490': 2207, 'effects2491': 2208, 'grand': 3846, 'mal': 4125, 'effects2492': 2209, 'cataplexy': 285, 'effects2493': 2210, 'acl': 29, 'reconstruction': 4507, 'effects2494': 2211, 'effects2495': 2212, 'effects2496': 2213, 'effects2497': 2214, 'effects2498': 2215, 'situational': 4638, 'effects2499': 2216, 'during': 527, 'effects2500': 2219, 'effects2501': 2220, 'effects2502': 2221, 'effects2503': 2222, 'such': 4713, 'sleeplessne': 4647, 'effects2504': 2223, 'azor': 169, 'effects2505': 2224, 'effects2506': 2225, 'effects2507': 2226, 'effects2508': 2227, 'hiatal': 3897, 'ileocecal': 3957, 'effects2509': 2228, 'effects2510': 2230, 'effects2511': 2231, 'effects2512': 2232, 'effects2513': 2233, 'effects2514': 2234, 'eryhema': 3691, 'nodosum': 4257, 'effects2515': 2235, 'effects2516': 2236, 'tapazole': 4753, 'hyperthyroidism': 3937, 'effects2517': 2237, 'effects2518': 2238, 'effects2519': 2239, 'effects2520': 2241, 'alzheimer': 78, 'dementia': 431, 'effects2521': 2242, 'effects2522': 2243, 'effects2523': 2244, 'hypnotic': 3938, 'induce': 3980, 'effects2524': 2245, 'cyclic': 405, 'effects2525': 2246, 'suspected': 4728, 'ca': 267, 'effects2526': 2247, 'effects2527': 2248, 'effects2528': 2249, 'effects2529': 2250, 'effects2530': 2252, 'effects2531': 2253, 'effects2532': 2254, 'effects2533': 2255, 'effects2534': 2256, 'effects2535': 2257, 'effects2536': 2258, 'effects2537': 2259, 'effects2538': 2260, 'effects2539': 2261, 'psychosomatic': 4479, 'effects2540': 2263, 'effects2541': 2264, 'colesterol': 347, 'effects2542': 2265, 'effects2543': 2266, 'effects2544': 2267, 'effects2545': 2268, 'effects2546': 2269, 'effects2547': 2270, 'effects2548': 2271, 'effects2549': 2272, 'effects2550': 2274, 'effects2551': 2275, 'diarrhoea': 467, 'effects2552': 2276, 'effects2553': 2277, 'effects2554': 2278, 'estrostep': 3706, 'fe': 3741, 'effects2555': 2279, 'effects2556': 2280, 'hashimotos': 3864, 'effects2557': 2281, 'eating': 541, 'effects2558': 2282, 'effects2559': 2283, 'effects2560': 2285, 'myofacial': 4220, 'effects2561': 2286, 'effects2562': 2287, 'effects2563': 2288, 'effects2564': 2289, 'effects2565': 2290, 'effects2566': 2291, 'effects2567': 2292, 'effects2568': 2293, 'effects2569': 2294, 'effects2570': 2296, 'effects2571': 2297, 'effects2572': 2298, 'heavey': 3880, 'effects2573': 2299, 'spasm': 4667, 'effects2574': 2300, 'effects2575': 2301, 'effects2576': 2302, 'effects2577': 2303, 'pamelor': 4329, 'effects2578': 2304, 'effects2579': 2305, 'effects2580': 2307, 'peanut': 4346, 'effects2581': 2308, 'effects2582': 2309, 'effects2583': 2310, 'familial': 3737, 'hypercholesterolaemia': 3927, 'effects2584': 2311, 'effects2585': 2312, 'went': 4924, 'down': 512, 'effects2586': 2313, 'hsv': 3915, 'effects2587': 2314, 'effects2588': 2315, 'effects2589': 2316, 'effects2590': 2318, 'hypothyrodism': 3944, 'effects2591': 2319, 'effects2592': 2320, 'effects2593': 2321, 'effects2594': 2322, 'effects2595': 2323, 'effects2596': 2324, 'prewgnancy': 4439, 'effects2597': 2325, 'effects2598': 2326, 'operative': 4288, 'effects2599': 2327, 'effects2600': 2330, 'effects2601': 2331, 'effects2602': 2332, 'cellulitis': 295, 'effects2603': 2333, 'cancers': 273, 'effects2604': 2334, 'effects2605': 2335, 'effects2606': 2336, 'glacoma': 3834, 'effects2607': 2337, 'effects2608': 2338, 'sjogren': 4639, 'effects2609': 2339, 'effects2610': 2341, 'papillary': 4335, 'follicular': 3789, 'tall': 4749, 'variant': 4891, 'effects2611': 2342, 'effects2612': 2343, 'shampoo': 4619, 'dandruff': 417, 'effects2613': 2344, 'effects2614': 2345, 'effects2615': 2346, 'effects2616': 2347, 'effects2617': 2348, 'fentanyl': 3752, 'effects2618': 2349, 'effects2619': 2350, 'effects2620': 2352, 'unrestful': 4868, 'effects2621': 2353, 'effects2622': 2354, 'cigarettes': 320, 'effects2623': 2355, 'effects2624': 2356, 'lantus': 4051, 'insulin': 4007, 'dependent': 438, 'effects2625': 2357, 'cardiomyopathy': 280, 'effects2626': 2358, 'effects2627': 2359, 'effects2628': 2360, 'effects2629': 2361, 'effects2630': 2363, 'effects2631': 2364, 'effects2632': 2365, 'effects2633': 2366, 'effects2634': 2367, 'effects2635': 2368, 'effects2636': 2369, 'effects2637': 2370, 'crashing': 394, 'effects2638': 2371, 'effects2639': 2372, 'alergy': 66, 'effects2640': 2374, 'effects2641': 2375, 'effects2642': 2376, 'effects2643': 2377, 'rheumatoi': 4559, 'effects2644': 2378, 'effects2645': 2379, 'extended': 3717, 'release': 4530, 'effects2646': 2380, 'effects2647': 2381, 'red': 4511, 'effects2648': 2382, 'effects2649': 2383, 'effects2650': 2385, 'pepcid': 4351, 'effects2651': 2386, 'effects2652': 2387, 'effects2653': 2388, 'effects2654': 2389, 'effects2655': 2390, 'effects2656': 2391, 'effects2657': 2392, 'bipolor': 212, 'effects2658': 2393, 'effects2659': 2394, 'effects2660': 2396, 'osteochondral': 4299, 'talus': 4750, 'effects2661': 2397, 'effects2662': 2398, 'bronkitis': 250, 'effects2663': 2399, 'effects2664': 2400, 'effects2665': 2401, 'phneumonia': 4378, 'effects2666': 2402, 'effects2667': 2403, 'effects2668': 2404, 'effects2669': 2405, 'effects2670': 2407, 'effects2671': 2408, 'effects2672': 2409, 'effects2673': 2410, 'effects2674': 2411, 'anxeity': 106, 'effects2675': 2412, 'effects2676': 2413, 'effects2677': 2414, 'quinsy': 4486, 'effects2678': 2415, 'below': 196, 'lip': 4087, 'effects2679': 2416, 'effects2680': 2418, 'effects2681': 2419, 'effects2682': 2420, 'ziac': 4952, 'effects2683': 2421, 'effects2684': 2422, 'effects2685': 2423, 'effects2686': 2424, 'effects2687': 2425, 'effects2688': 2426, 'car': 276, 'effects2689': 2427, 'effects2690': 2429, 'effects2691': 2430, 'manic': 4134, 'effects2692': 2431, 'effects2693': 2432, 'vicoprofen': 4902, 'effects2694': 2433, 'effects2695': 2434, 'arthiritis': 124, 'effects2696': 2435, 'effects2697': 2436, 'altzheimer': 77, 'diesease': 471, 'effects2698': 2437, 'effects2699': 2438, 'effects2700': 2441, 'effects2701': 2442, 'effects2702': 2443, 'effects2703': 2444, 'tired': 4795, 'effects2704': 2445, 'effects2705': 2446, 'plugged': 4394, 'effects2706': 2447, 'effects2707': 2448, 'effects2708': 2449, 'effects2709': 2450, 'dysmenorrhea': 532, 'effects2710': 2452, 'diabetic': 462, 'effects2711': 2453, 'radical': 4493, 'effects2712': 2454, 'effects2713': 2455, 'effects2714': 2456, 'giardiasis': 3833, 'effects2715': 2457, 'effects2716': 2458, 'colds': 344, 'effects2717': 2459, 'effects2718': 2460, 'effects2719': 2461, 'effects2720': 2463, 'effects2721': 2464, 'effects2722': 2465, 'insomia': 4001, 'effects2723': 2466, 'effects2724': 2467, 'effects2725': 2468, 'osteoarthritis': 4298, 'effects2726': 2469, 'effects2727': 2470, 'effects2728': 2471, 'effects2729': 2472, 'effects2730': 2474, 'effects2731': 2475, 'effects2732': 2476, 'effects2733': 2477, 'effects2734': 2478, 'effects2735': 2479, 'effects2736': 2480, 'effects2737': 2481, 'bloodpressure': 226, 'effects2738': 2482, 'effects2739': 2483, 'effects2740': 2485, 'effects2741': 2486, 'effects2742': 2487, 'effects2743': 2488, 'effects2744': 2489, 'effects2745': 2490, 'effects2746': 2491, 'effects2747': 2492, 'effects2748': 2493, 'easily': 540, 'effects2749': 2494, 'effects2750': 2496, 'effects2751': 2497, 'effects2752': 2498, 'effects2753': 2499, 'deltasone': 429, 'effects2754': 2500, 'effects2755': 2501, 'sinusitus': 4636, 'effects2756': 2502, 'effects2757': 2503, 'effects2758': 2504, 'effects2759': 2505, 'effects2760': 2507, 'effects2761': 2508, 'effects2762': 2509, 'effects2763': 2510, 'stablizer': 4687, 'bipoler': 211, 'effects2764': 2511, 'effects2765': 2512, 'reactions': 4504, 'effects2766': 2513, 'effects2767': 2514, 'effects2768': 2515, 'effects2769': 2516, 'alesse': 67, 'effects2770': 2518, 'effects2771': 2519, 'effects2772': 2520, 'effects2773': 2521, 'effects2774': 2522, 'sadd': 4586, 'effects2775': 2523, 'effects2776': 2524, 'effects2777': 2525, 'effects2778': 2526, 'cycling': 406, 'effects2779': 2527, 'effects2780': 2529, 'effects2781': 2530, 'effects2782': 2531, 'effects2783': 2532, 'amerge': 82, 'effects2784': 2533, 'effects2785': 2534, 'effects2786': 2535, 'estring': 3704, 'effects2787': 2536, 'effects2788': 2537, 'effects2789': 2538, 'effects2790': 2540, 'effects2791': 2541, 'loose': 4100, 'effects2792': 2542, '20': 2, 'pack': 4322, 'smoker': 4654, 'effects2793': 2543, 'effects2794': 2544, 'effects2795': 2545, 'near': 4234, 'effects2796': 2546, 'zoster': 4960, 'effects2797': 2547, 'effects2798': 2548, 'effects2799': 2549, 'effects2800': 2552, 'effects2801': 2553, 'effects2802': 2554, 'effects2803': 2555, 'effects2804': 2556, 'less': 4066, 'effects2805': 2557, 'effects2806': 2558, 'effects2807': 2559, 'effects2808': 2560, 'effects2809': 2561, 'effects2810': 2563, 'effects2811': 2564, 'effects2812': 2565, 'effects2813': 2566, 'effects2814': 2567, 'effects2815': 2568, 'duragesic': 526, 'effects2816': 2569, 'effects2817': 2570, 'hypthyroidism': 3948, 'effects2818': 2571, 'effects2819': 2572, 'effects2820': 2574, 'effects2821': 2575, 'effects2822': 2576, 'effects2823': 2577, 'effects2824': 2578, 'effects2825': 2579, 'effects2826': 2580, 'effects2827': 2581, 'tofranil': 4805, 'pm': 4396, 'effects2828': 2582, 'effects2829': 2583, 'effects2830': 2585, 'effects2831': 2586, 'vesicare': 4899, 'urge': 4872, 'effects2832': 2587, 'effects2833': 2588, 'effects2834': 2589, 'effects2835': 2590, 'effects2836': 2591, 'effects2837': 2592, 'effects2838': 2593, 'effects2839': 2594, 'effects2840': 2596, 'effects2841': 2597, 'effects2842': 2598, 'laryngopharyngeal': 4054, 'effects2843': 2599, 'effects2844': 2600, 'effects2845': 2601, 'me': 4139, 'having': 3866, 'ep': 3680, 'effects2846': 2602, 'effects2847': 2603, 'effects2848': 2604, 'effects2849': 2605, 'effects2850': 2607, 'mixed': 4188, 'episodes': 3685, 'effects2851': 2608, 'effects2852': 2609, 'effects2853': 2610, 'nasarel': 4231, 'effects2854': 2611, 'effects2855': 2612, 'htn': 3916, 'effects2856': 2613, 'effects2857': 2614, 'effects2858': 2615, 'effects2859': 2616, 'effects2860': 2618, 'prolactinoma': 4458, 'effects2861': 2619, 'prolactin': 4457, 'effects2862': 2620, 'effects2863': 2621, 'effects2864': 2622, 'local': 4095, 'effects2865': 2623, 'effects2866': 2624, 'effects2867': 2625, 'effects2868': 2626, 'effects2869': 2627, 'effects2870': 2629, 'effects2871': 2630, 'arthrtis': 127, 'effects2872': 2631, 'effects2873': 2632, 'effects2874': 2633, 'doxepin': 513, 'effects2875': 2634, 'effects2876': 2635, 'medroxyprogesterone': 4141, 'thickened': 4780, 'endometrium': 3674, 'effects2877': 2636, 'effects2878': 2637, 'effects2879': 2638, 'light': 4081, 'breakouts': 242, 'effects2880': 2640, 'effects2881': 2641, 'effects2882': 2642, 'stopping': 4701, 'effects2883': 2643, 'effects2884': 2644, 'effects2885': 2645, 'effects2886': 2646, 'effects2887': 2647, 'effects2888': 2648, 'effects2889': 2649, 'effects2890': 2651, 'effects2891': 2652, 'effects2892': 2653, 'effects2893': 2654, 'effects2894': 2655, 'effects2895': 2656, 'hypercholesteremia': 3926, 'effects2896': 2657, 'spot': 4678, 'cheek': 302, 'effects2897': 2658, 'effects2898': 2659, 'effects2899': 2660, 'effects2900': 2663, 'effects2901': 2664, 'effects2902': 2665, 'effects2903': 2666, 'effects2904': 2667, 'effects2905': 2668, 'effects2906': 2669, 'effects2907': 2670, 'effects2908': 2671, 'effects2909': 2672, 'effects2910': 2674, 'effects2911': 2675, 'drug': 518, 'effects2912': 2676, 'effects2913': 2677, 'grow': 3852, 'effects2914': 2678, 'effects2915': 2679, 'trilipix': 4842, 'effects2916': 2680, 'effects2917': 2681, 'effects2918': 2682, 'female': 3747, 'trying': 4848, 'ovulation': 4317, 'effects2919': 2683, 'effects2920': 2685, 'effects2921': 2686, 'effects2922': 2687, 'effects2923': 2688, 'effects2924': 2689, 'effects2925': 2690, 'effects2926': 2691, 'effects2927': 2692, 'effects2928': 2693, 'effects2929': 2694, 'metastasized': 4156, 'chemotherapy': 305, 'effects2930': 2696, 'tiredness': 4796, 'effects2931': 2697, 'effects2932': 2698, 'effects2933': 2699, 'effects2934': 2700, 'effects2935': 2701, 'effects2936': 2702, 'effects2937': 2703, 'effects2938': 2704, 'endometriosis': 3673, 'effects2939': 2705, 'effects2940': 2707, 'effects2941': 2708, 'effects2942': 2709, 'inection': 3982, 'effects2943': 2710, 'baciim': 171, 'laceration': 4046, 'effects2944': 2711, 'effects2945': 2712, 'effects2946': 2713, 'frozen': 3805, 'effects2947': 2714, 'effects2948': 2715, 'enablex': 3669, 'effects2949': 2716, 'effects2950': 2718, 'effects2951': 2719, 'wilson': 4929, 'diseaes': 487, 'effects2952': 2720, 'dicyclomine': 470, 'effects2953': 2721, 'effects2954': 2722, 'suppression': 4722, 'effects2955': 2723, 'effects2956': 2724, 'effects2957': 2725, 'effects2958': 2726, 'effects2959': 2727, 'pcp': 4345, 'while': 4925, 'chemo': 304, 'effects2960': 2729, 'effects2961': 2730, 'concentration': 359, 'difficul': 474, 'effects2962': 2731, 'effects2963': 2732, 'effects2964': 2733, 'effects2965': 2734, 'effects2966': 2735, 'brainstem': 240, 'stroke': 4708, 'effects2967': 2736, 'effects2968': 2737, 'methimazole': 4159, 'effects2969': 2738, 'effects2970': 2740, 'effects2971': 2741, 'effects2972': 2742, 'effects2973': 2743, 'effects2974': 2744, 'effects2975': 2745, 'effects2976': 2746, 'effects2977': 2747, 'hypothryoid': 3940, 'effects2978': 2748, 'effects2979': 2749, 'effects2980': 2751, 'effects2981': 2752, 'effects2982': 2753, 'motorcycle': 4202, 'effects2983': 2754, 'blepharospasm': 222, 'effects2984': 2755, 'effects2985': 2756, 'hemorrhagic': 3885, 'effects2986': 2757, 'effects2987': 2758, 'effects2988': 2759, 'effects2989': 2760, 'effects2990': 2762, 'effects2991': 2763, 'polycystic': 4408, 'effects2992': 2764, 'effects2993': 2765, 'effects2994': 2766, 'effects2995': 2767, 'effects2996': 2768, 'vistaril': 4906, 'effects2997': 2769, 'effects2998': 2770, 'effects2999': 2771, 'effects3000': 2775, 'predominantly': 4425, 'effects3001': 2776, 'effects3002': 2777, 'effects3003': 2778, 'effects3004': 2779, 'effects3005': 2780, 'effects3006': 2781, 'adcirca': 40, 'holding': 3908, 'erection': 3688, 'effects3007': 2782, 'effects3008': 2783, 'pollen': 4407, 'mold': 4193, 'tree': 4833, 'effects3009': 2784, 'compression': 357, 'effects3010': 2786, 'eosinophilic': 3678, 'esophagitis': 3695, 'effects3011': 2787, 'effects3012': 2788, 'effects3013': 2789, 'effects3014': 2790, 'effects3015': 2791, 'effects3016': 2792, 'effects3017': 2793, 'effects3018': 2794, 'effects3019': 2795, 'effects3020': 2797, 'effects3021': 2798, 'effects3022': 2799, 'extra': 3718, 'effects3023': 2800, 'effects3024': 2801, 'effects3025': 2802, 'effects3026': 2803, 'effects3027': 2804, 'astham': 134, 'effects3028': 2805, 'effects3029': 2806, 'desonide': 453, 'exzema': 3724, 'effects3030': 2808, 'eliminate': 3663, 'wrinkling': 4937, 'effects3031': 2809, 'effects3032': 2810, 'effects3033': 2811, 'functional': 3808, 'dyspepsia': 533, 'effects3034': 2812, 'effects3035': 2813, 'effects3036': 2814, 'effects3037': 2815, 'sicness': 4628, 'ongoing': 4285, 'vomitting': 4910, 'effects3038': 2816, 'effects3039': 2817, 'effects3040': 2819, 'effects3041': 2820, 'mind': 4177, 'effects3042': 2821, 'acdf': 20, 'effects3043': 2822, 'effects3044': 2823, 'effects3045': 2824, 'grave': 3847, 'effects3046': 2825, 'effects3047': 2826, 'urgent': 4874, 'effects3048': 2827, 'effects3049': 2828, 'effects3050': 2830, 'effects3051': 2831, 'aq': 112, 'effects3052': 2832, 'effects3053': 2833, 'effects3054': 2834, 'giant': 3832, 'arteritis': 123, 'effects3055': 2835, 'effects3056': 2836, 'effects3057': 2837, 'effects3058': 2838, 'effects3059': 2839, 'effects3060': 2841, 'effects3061': 2842, 'ovary': 4310, 'effects3062': 2843, 'heel': 3882, 'effects3063': 2844, 'effects3064': 2845, 'effects3065': 2846, 'alergies': 65, 'effects3066': 2847, 'elarge': 3658, 'cheeks': 303, 'effects3067': 2848, 'effects3068': 2849, 'effects3069': 2850, 'effects3070': 2852, 'walking': 4915, 'talking': 4748, 'effects3071': 2853, 'effects3072': 2854, 'serotonin': 4614, 'imbalance': 3960, 'effects3073': 2855, 'parkinson': 4336, 'effects3074': 2856, 'effects3075': 2857, 'effects3076': 2858, 'effects3077': 2859, 'effects3078': 2860, 'effects3079': 2861, 'effects3080': 2863, 'consta': 370, 'effects3081': 2864, 'effects3082': 2865, 'effects3083': 2866, 'regular': 4520, 'effects3084': 2867, 'effects3085': 2868, 'effects3086': 2869, 'running': 4582, 'effects3087': 2870, 'effects3088': 2871, 'resulting': 4551, 'effects3089': 2872, 'effects3090': 2874, 'effects3091': 2875, 'unusual': 4869, 'effects3092': 2876, 'effects3093': 2877, 'effects3094': 2878, 'effects3095': 2879, 'effects3096': 2880, 'effects3097': 2881, 'effects3098': 2882, 'effects3099': 2883, 'effects3100': 2886, 'effects3101': 2887, 'relaxant': 4529, 'effects3102': 2888, 'effects3103': 2889, 'effects3104': 2890, 'hysterctomy': 3950, 'effects3105': 2891, 'trileptal': 4841, 'effects3106': 2892, 'effects': 549}\n",
      "['10', '1st', '20', '21', '30', '41', '42', 'aand', 'abcess', 'abcessed', 'abdominal', 'abilify', 'able', 'abscess', 'abuse', 'ac', 'accident', 'accolate', 'accupril', 'accutane', 'acdf', 'acetaminophen', 'aches', 'achieve', 'achilles', 'aching', 'acic', 'acid', 'aciphex', 'acl', 'acn', 'acne', 'actinic', 'actiq', 'active', 'actonel', 'actos', 'acute', 'acyclovir', 'aczone', 'adcirca', 'add', 'adderall', 'addh', 'addiction', 'adhd', 'adipex', 'adrenal', 'adult', 'advair', 'affective', 'after', 'age', 'agin', 'agind', 'aging', 'agitation', 'agoraphobia', 'aid', 'airplane', 'albuterol', 'alcohol', 'aldactone', 'aldara', 'alendronate', 'alergies', 'alergy', 'alesse', 'all', 'allegra', 'allegry', 'allergic', 'allergies', 'allergy', 'alopecia', 'aloprim', 'alprazolam', 'altzheimer', 'alzheimer', 'alzheimers', 'am', 'ambien', 'amerge', 'amitiza', 'amoxil', 'amphetamine', 'ampicillin', 'amputee', 'an', 'anafranil', 'and', 'androgel', 'andropause', 'angeliq', 'anger', 'angiodema', 'angiogram', 'ankle', 'anklosing', 'ankylosing', 'ano', 'anti', 'antiaging', 'antibiotic', 'antidepressant', 'antivert', 'anxeity', 'anxety', 'anxiety', 'apnea', 'appearance', 'appetite', 'aq', 'aralen', 'arava', 'area', 'arhtiritis', 'aricept', 'arimidex', 'arm', 'armour', 'aromasin', 'around', 'arteritis', 'arthiritis', 'arthritis', 'arthrotec', 'arthrtis', 'as', 'asacol', 'asleep', 'asmanex', 'assoc', 'associated', 'astham', 'asthma', 'asthmas', 'asthmatic', 'at', 'atacand', 'atarax', 'atenolol', 'athletes', 'ativan', 'atopic', 'atrial', 'atripla', 'atrophy', 'attack', 'attacks', 'attck', 'attention', 'atypical', 'augmentin', 'auto', 'autoimmune', 'avage', 'avapro', 'avelox', 'avita', 'avodart', 'avoid', 'awakening', 'axert', 'axiety', 'aygestin', 'azasan', 'azelex', 'azopt', 'azor', 'babies', 'baciim', 'back', 'baclofen', 'bacteria', 'bacterial', 'bactrim', 'bactroban', 'baker', 'balance', 'balckheads', 'baldness', 'ballanitis', 'baraclude', 'barbae', 'barret', 'barrett', 'barretts', 'basal', 'because', 'beginning', 'begning', 'behavior', 'behcet', 'behind', 'being', 'below', 'benadryl', 'benefits', 'benicar', 'benign', 'benzaclin', 'betamethasone', 'betaseron', 'better', 'between', 'bi', 'biaxin', 'big', 'biopsy', 'bipolar', 'bipoler', 'bipolor', 'birth', 'birthcontrol', 'bisoprolol', 'bit', 'bite', 'blackheads', 'bladder', 'bladness', 'bleeding', 'blepharospasm', 'blister', 'blisters', 'blood', 'bloodpressure', 'body', 'boil', 'bone', 'boniva', 'borderline', 'botched', 'both', 'botox', 'bowel', 'bp', 'bph', 'brachial', 'brain', 'brainstem', 'break', 'breakouts', 'breast', 'breath', 'broken', 'bronch', 'bronchial', 'bronchitis', 'bronchitus', 'bronkitis', 'brow', 'brown', 'bruxism', 'budging', 'buldging', 'bulging', 'bumps', 'buprenorphine', 'burn', 'burning', 'burnout', 'bursitis', 'buspar', 'by', 'byetta', 'bystolic', 'ca', 'caduet', 'calcium', 'can', 'canal', 'cancer', 'cancers', 'candida', 'capsuar', 'car', 'carac', 'carbonate', 'carcinoma', 'cardiomyopathy', 'cardura', 'carpal', 'cat', 'cataflam', 'cataplexy', 'catapres', 'caused', 'ceasation', 'ceclor', 'cefzil', 'celebrex', 'celexa', 'cell', 'cells', 'cellulitis', 'cervical', 'cesarean', 'cessation', 'cfs', 'change', 'chantix', 'cheek', 'cheeks', 'chemo', 'chemotherapy', 'chest', 'chills', 'chin', 'chloresteral', 'cholesteol', 'cholesteral', 'cholesterol', 'cholestoral', 'cholestral', 'cholestrol', 'cholitis', 'chronic', 'chronically', 'cialis', 'cigarettes', 'cipro', 'citalopram', 'clamydia', 'clarinex', 'claripel', 'clarithromycin', 'claritin', 'clearing', 'cleocin', 'climara', 'clindamycin', 'clinical', 'clobetasol', 'clobex', 'clomid', 'clonazepam', 'clonic', 'clot', 'clots', 'cluster', 'cocaine', 'cognitive', 'cold', 'colds', 'coldsores', 'colesteral', 'colesterol', 'colestrol', 'colitis', 'collar', 'collarbone', 'colorestoral', 'compazine', 'complete', 'complications', 'compressed', 'compression', 'compulsive', 'concentration', 'concerta', 'concussion', 'condition', 'confidence', 'congestion', 'congestive', 'conjunctivitis', 'conjunctivitus', 'conn', 'considerably', 'consta', 'constant', 'contact', 'contraception', 'contraceptive', 'contracture', 'controceptive', 'control', 'copaxone', 'copd', 'coral', 'coreg', 'corgard', 'cornea', 'correction', 'cosmetic', 'cosopt', 'cough', 'coughing', 'coumadin', 'cozaar', 'cr', 'cramping', 'cramps', 'crashing', 'cream', 'crestor', 'crohn', 'crohns', 'cuff', 'cure', 'cut', 'cycle', 'cyclen', 'cycles', 'cyclic', 'cycling', 'cymbalta', 'cyproheptadine', 'cyst', 'cystic', 'cystitis', 'cysts', 'cytomel', 'daily', 'damage', 'danazol', 'dandruff', 'dapsone', 'dark', 'darvocet', 'day', 'daytime', 'deep', 'deficiency', 'deficit', 'degenerative', 'delayed', 'delestrogen', 'deltasone', 'demen', 'dementia', 'density', 'dental', 'depakene', 'depakote', 'dependence', 'dependency', 'dependent', 'depo', 'depprssion', 'depreesion', 'depresion', 'depressant', 'depressio', 'depression', 'depressive', 'depresson', 'deprivation', 'derm', 'dermamtitis', 'dermatitis', 'dernatitis', 'desonide', 'desyrel', 'detrol', 'dexamethasone', 'dexedrine', 'dextroamphetamine', 'dextrostat', 'diabetes', 'diabetese', 'diabetic', 'diagnosed', 'diaper', 'diareaha', 'diarrhea', 'diarrhoea', 'diazepam', 'diclofenac', 'dicyclomine', 'diesease', 'diet', 'differin', 'difficul', 'difficult', 'difficulty', 'diflucan', 'digestive', 'dilantin', 'dilaudid', 'diltiazem', 'diovan', 'disc', 'discharge', 'discoloration', 'discs', 'diseaes', 'disease', 'disfunction', 'disk', 'diskus', 'dislocation', 'disorder', 'disorganization', 'disperdose', 'dispermox', 'disruption', 'disseminated', 'disturban', 'ditropan', 'diuretic', 'divigel', 'dizziness', 'dizzyness', 'dog', 'dopmaine', 'doryx', 'dostinex', 'dot', 'double', 'dovonex', 'down', 'doxepin', 'doxycycline', 'dr', 'drip', 'drowsiness', 'drug', 'drugs', 'dry', 'drynes', 'dryness', 'ds', 'duac', 'due', 'duragesic', 'during', 'dust', 'dvt', 'dysfunction', 'dyshidrosis', 'dysmenorrhea', 'dyspepsia', 'dysport', 'dysthymia', 'dystimia', 'ear', 'earache', 'early', 'easily', 'eating', 'ecotrin', 'eczema', 'eczyma', 'ed', 'edema', 'effective', 'effectiveness', 'effects', 'effects1', 'effects10', 'effects100', 'effects1000', 'effects1001', 'effects1002', 'effects1003', 'effects1004', 'effects1005', 'effects1006', 'effects1007', 'effects1008', 'effects1009', 'effects101', 'effects1010', 'effects1011', 'effects1012', 'effects1013', 'effects1014', 'effects1015', 'effects1016', 'effects1017', 'effects1018', 'effects1019', 'effects102', 'effects1020', 'effects1021', 'effects1022', 'effects1023', 'effects1024', 'effects1025', 'effects1026', 'effects1027', 'effects1028', 'effects1029', 'effects103', 'effects1030', 'effects1031', 'effects1032', 'effects1033', 'effects1034', 'effects1035', 'effects1036', 'effects1037', 'effects1038', 'effects1039', 'effects104', 'effects1040', 'effects1041', 'effects1042', 'effects1043', 'effects1044', 'effects1045', 'effects1046', 'effects1047', 'effects1048', 'effects1049', 'effects105', 'effects1050', 'effects1051', 'effects1052', 'effects1053', 'effects1054', 'effects1055', 'effects1056', 'effects1057', 'effects1058', 'effects1059', 'effects106', 'effects1060', 'effects1061', 'effects1062', 'effects1063', 'effects1064', 'effects1065', 'effects1066', 'effects1067', 'effects1068', 'effects1069', 'effects107', 'effects1070', 'effects1071', 'effects1072', 'effects1073', 'effects1074', 'effects1075', 'effects1076', 'effects1077', 'effects1078', 'effects1079', 'effects108', 'effects1080', 'effects1081', 'effects1082', 'effects1083', 'effects1084', 'effects1085', 'effects1086', 'effects1087', 'effects1088', 'effects1089', 'effects109', 'effects1090', 'effects1091', 'effects1092', 'effects1093', 'effects1094', 'effects1095', 'effects1096', 'effects1097', 'effects1098', 'effects1099', 'effects11', 'effects110', 'effects1100', 'effects1101', 'effects1102', 'effects1103', 'effects1104', 'effects1105', 'effects1106', 'effects1107', 'effects1108', 'effects1109', 'effects111', 'effects1110', 'effects1111', 'effects1112', 'effects1113', 'effects1114', 'effects1115', 'effects1116', 'effects1117', 'effects1118', 'effects1119', 'effects112', 'effects1120', 'effects1121', 'effects1122', 'effects1123', 'effects1124', 'effects1125', 'effects1126', 'effects1127', 'effects1128', 'effects1129', 'effects113', 'effects1130', 'effects1131', 'effects1132', 'effects1133', 'effects1134', 'effects1135', 'effects1136', 'effects1137', 'effects1138', 'effects1139', 'effects114', 'effects1140', 'effects1141', 'effects1142', 'effects1143', 'effects1144', 'effects1145', 'effects1146', 'effects1147', 'effects1148', 'effects1149', 'effects115', 'effects1150', 'effects1151', 'effects1152', 'effects1153', 'effects1154', 'effects1155', 'effects1156', 'effects1157', 'effects1158', 'effects1159', 'effects116', 'effects1160', 'effects1161', 'effects1162', 'effects1163', 'effects1164', 'effects1165', 'effects1166', 'effects1167', 'effects1168', 'effects1169', 'effects117', 'effects1170', 'effects1171', 'effects1172', 'effects1173', 'effects1174', 'effects1175', 'effects1176', 'effects1177', 'effects1178', 'effects1179', 'effects118', 'effects1180', 'effects1181', 'effects1182', 'effects1183', 'effects1184', 'effects1185', 'effects1186', 'effects1187', 'effects1188', 'effects1189', 'effects119', 'effects1190', 'effects1191', 'effects1192', 'effects1193', 'effects1194', 'effects1195', 'effects1196', 'effects1197', 'effects1198', 'effects1199', 'effects12', 'effects120', 'effects1200', 'effects1201', 'effects1202', 'effects1203', 'effects1204', 'effects1205', 'effects1206', 'effects1207', 'effects1208', 'effects1209', 'effects121', 'effects1210', 'effects1211', 'effects1212', 'effects1213', 'effects1214', 'effects1215', 'effects1216', 'effects1217', 'effects1218', 'effects1219', 'effects122', 'effects1220', 'effects1221', 'effects1222', 'effects1223', 'effects1224', 'effects1225', 'effects1226', 'effects1227', 'effects1228', 'effects1229', 'effects123', 'effects1230', 'effects1231', 'effects1232', 'effects1233', 'effects1234', 'effects1235', 'effects1236', 'effects1237', 'effects1238', 'effects1239', 'effects124', 'effects1240', 'effects1241', 'effects1242', 'effects1243', 'effects1244', 'effects1245', 'effects1246', 'effects1247', 'effects1248', 'effects1249', 'effects125', 'effects1250', 'effects1251', 'effects1252', 'effects1253', 'effects1254', 'effects1255', 'effects1256', 'effects1257', 'effects1258', 'effects1259', 'effects126', 'effects1260', 'effects1261', 'effects1262', 'effects1263', 'effects1264', 'effects1265', 'effects1266', 'effects1267', 'effects1268', 'effects1269', 'effects127', 'effects1270', 'effects1271', 'effects1272', 'effects1273', 'effects1274', 'effects1275', 'effects1276', 'effects1277', 'effects1278', 'effects1279', 'effects128', 'effects1280', 'effects1281', 'effects1282', 'effects1283', 'effects1284', 'effects1285', 'effects1286', 'effects1287', 'effects1288', 'effects1289', 'effects129', 'effects1290', 'effects1291', 'effects1292', 'effects1293', 'effects1294', 'effects1295', 'effects1296', 'effects1297', 'effects1298', 'effects1299', 'effects13', 'effects130', 'effects1300', 'effects1301', 'effects1302', 'effects1303', 'effects1304', 'effects1305', 'effects1306', 'effects1307', 'effects1308', 'effects1309', 'effects131', 'effects1310', 'effects1311', 'effects1312', 'effects1313', 'effects1314', 'effects1315', 'effects1316', 'effects1317', 'effects1318', 'effects1319', 'effects132', 'effects1320', 'effects1321', 'effects1322', 'effects1323', 'effects1324', 'effects1325', 'effects1326', 'effects1327', 'effects1328', 'effects1329', 'effects133', 'effects1330', 'effects1331', 'effects1332', 'effects1333', 'effects1334', 'effects1335', 'effects1336', 'effects1337', 'effects1338', 'effects1339', 'effects134', 'effects1340', 'effects1341', 'effects1342', 'effects1343', 'effects1344', 'effects1345', 'effects1346', 'effects1347', 'effects1348', 'effects1349', 'effects135', 'effects1350', 'effects1351', 'effects1352', 'effects1353', 'effects1354', 'effects1355', 'effects1356', 'effects1357', 'effects1358', 'effects1359', 'effects136', 'effects1360', 'effects1361', 'effects1362', 'effects1363', 'effects1364', 'effects1365', 'effects1366', 'effects1367', 'effects1368', 'effects1369', 'effects137', 'effects1370', 'effects1371', 'effects1372', 'effects1373', 'effects1374', 'effects1375', 'effects1376', 'effects1377', 'effects1378', 'effects1379', 'effects138', 'effects1380', 'effects1381', 'effects1382', 'effects1383', 'effects1384', 'effects1385', 'effects1386', 'effects1387', 'effects1388', 'effects1389', 'effects139', 'effects1390', 'effects1391', 'effects1392', 'effects1393', 'effects1394', 'effects1395', 'effects1396', 'effects1397', 'effects1398', 'effects1399', 'effects14', 'effects140', 'effects1400', 'effects1401', 'effects1402', 'effects1403', 'effects1404', 'effects1405', 'effects1406', 'effects1407', 'effects1408', 'effects1409', 'effects141', 'effects1410', 'effects1411', 'effects1412', 'effects1413', 'effects1414', 'effects1415', 'effects1416', 'effects1417', 'effects1418', 'effects1419', 'effects142', 'effects1420', 'effects1421', 'effects1422', 'effects1423', 'effects1424', 'effects1425', 'effects1426', 'effects1427', 'effects1428', 'effects1429', 'effects143', 'effects1430', 'effects1431', 'effects1432', 'effects1433', 'effects1434', 'effects1435', 'effects1436', 'effects1437', 'effects1438', 'effects1439', 'effects144', 'effects1440', 'effects1441', 'effects1442', 'effects1443', 'effects1444', 'effects1445', 'effects1446', 'effects1447', 'effects1448', 'effects1449', 'effects145', 'effects1450', 'effects1451', 'effects1452', 'effects1453', 'effects1454', 'effects1455', 'effects1456', 'effects1457', 'effects1458', 'effects1459', 'effects146', 'effects1460', 'effects1461', 'effects1462', 'effects1463', 'effects1464', 'effects1465', 'effects1466', 'effects1467', 'effects1468', 'effects1469', 'effects147', 'effects1470', 'effects1471', 'effects1472', 'effects1473', 'effects1474', 'effects1475', 'effects1476', 'effects1477', 'effects1478', 'effects1479', 'effects148', 'effects1480', 'effects1481', 'effects1482', 'effects1483', 'effects1484', 'effects1485', 'effects1486', 'effects1487', 'effects1488', 'effects1489', 'effects149', 'effects1490', 'effects1491', 'effects1492', 'effects1493', 'effects1494', 'effects1495', 'effects1496', 'effects1497', 'effects1498', 'effects1499', 'effects15', 'effects150', 'effects1500', 'effects1501', 'effects1502', 'effects1503', 'effects1504', 'effects1505', 'effects1506', 'effects1507', 'effects1508', 'effects1509', 'effects151', 'effects1510', 'effects1511', 'effects1512', 'effects1513', 'effects1514', 'effects1515', 'effects1516', 'effects1517', 'effects1518', 'effects1519', 'effects152', 'effects1520', 'effects1521', 'effects1522', 'effects1523', 'effects1524', 'effects1525', 'effects1526', 'effects1527', 'effects1528', 'effects1529', 'effects153', 'effects1530', 'effects1531', 'effects1532', 'effects1533', 'effects1534', 'effects1535', 'effects1536', 'effects1537', 'effects1538', 'effects1539', 'effects154', 'effects1540', 'effects1541', 'effects1542', 'effects1543', 'effects1544', 'effects1545', 'effects1546', 'effects1547', 'effects1548', 'effects1549', 'effects155', 'effects1550', 'effects1551', 'effects1552', 'effects1553', 'effects1554', 'effects1555', 'effects1556', 'effects1557', 'effects1558', 'effects1559', 'effects156', 'effects1560', 'effects1561', 'effects1562', 'effects1563', 'effects1564', 'effects1565', 'effects1566', 'effects1567', 'effects1568', 'effects1569', 'effects157', 'effects1570', 'effects1571', 'effects1572', 'effects1573', 'effects1574', 'effects1575', 'effects1576', 'effects1577', 'effects1578', 'effects1579', 'effects158', 'effects1580', 'effects1581', 'effects1582', 'effects1583', 'effects1584', 'effects1585', 'effects1586', 'effects1587', 'effects1588', 'effects1589', 'effects159', 'effects1590', 'effects1591', 'effects1592', 'effects1593', 'effects1594', 'effects1595', 'effects1596', 'effects1597', 'effects1598', 'effects1599', 'effects16', 'effects160', 'effects1600', 'effects1601', 'effects1602', 'effects1603', 'effects1604', 'effects1605', 'effects1606', 'effects1607', 'effects1608', 'effects1609', 'effects161', 'effects1610', 'effects1611', 'effects1612', 'effects1613', 'effects1614', 'effects1615', 'effects1616', 'effects1617', 'effects1618', 'effects1619', 'effects162', 'effects1620', 'effects1621', 'effects1622', 'effects1623', 'effects1624', 'effects1625', 'effects1626', 'effects1627', 'effects1628', 'effects1629', 'effects163', 'effects1630', 'effects1631', 'effects1632', 'effects1633', 'effects1634', 'effects1635', 'effects1636', 'effects1637', 'effects1638', 'effects1639', 'effects164', 'effects1640', 'effects1641', 'effects1642', 'effects1643', 'effects1644', 'effects1645', 'effects1646', 'effects1647', 'effects1648', 'effects1649', 'effects165', 'effects1650', 'effects1651', 'effects1652', 'effects1653', 'effects1654', 'effects1655', 'effects1656', 'effects1657', 'effects1658', 'effects1659', 'effects166', 'effects1660', 'effects1661', 'effects1662', 'effects1663', 'effects1664', 'effects1665', 'effects1666', 'effects1667', 'effects1668', 'effects1669', 'effects167', 'effects1670', 'effects1671', 'effects1672', 'effects1673', 'effects1674', 'effects1675', 'effects1676', 'effects1677', 'effects1678', 'effects1679', 'effects168', 'effects1680', 'effects1681', 'effects1682', 'effects1683', 'effects1684', 'effects1685', 'effects1686', 'effects1687', 'effects1688', 'effects1689', 'effects169', 'effects1690', 'effects1691', 'effects1692', 'effects1693', 'effects1694', 'effects1695', 'effects1696', 'effects1697', 'effects1698', 'effects1699', 'effects17', 'effects170', 'effects1700', 'effects1701', 'effects1702', 'effects1703', 'effects1704', 'effects1705', 'effects1706', 'effects1707', 'effects1708', 'effects1709', 'effects171', 'effects1710', 'effects1711', 'effects1712', 'effects1713', 'effects1714', 'effects1715', 'effects1716', 'effects1717', 'effects1718', 'effects1719', 'effects172', 'effects1720', 'effects1721', 'effects1722', 'effects1723', 'effects1724', 'effects1725', 'effects1726', 'effects1727', 'effects1728', 'effects1729', 'effects173', 'effects1730', 'effects1731', 'effects1732', 'effects1733', 'effects1734', 'effects1735', 'effects1736', 'effects1737', 'effects1738', 'effects1739', 'effects174', 'effects1740', 'effects1741', 'effects1742', 'effects1743', 'effects1744', 'effects1745', 'effects1746', 'effects1747', 'effects1748', 'effects1749', 'effects175', 'effects1750', 'effects1751', 'effects1752', 'effects1753', 'effects1754', 'effects1755', 'effects1756', 'effects1757', 'effects1758', 'effects1759', 'effects176', 'effects1760', 'effects1761', 'effects1762', 'effects1763', 'effects1764', 'effects1765', 'effects1766', 'effects1767', 'effects1768', 'effects1769', 'effects177', 'effects1770', 'effects1771', 'effects1772', 'effects1773', 'effects1774', 'effects1775', 'effects1776', 'effects1777', 'effects1778', 'effects1779', 'effects178', 'effects1780', 'effects1781', 'effects1782', 'effects1783', 'effects1784', 'effects1785', 'effects1786', 'effects1787', 'effects1788', 'effects1789', 'effects179', 'effects1790', 'effects1791', 'effects1792', 'effects1793', 'effects1794', 'effects1795', 'effects1796', 'effects1797', 'effects1798', 'effects1799', 'effects18', 'effects180', 'effects1800', 'effects1801', 'effects1802', 'effects1803', 'effects1804', 'effects1805', 'effects1806', 'effects1807', 'effects1808', 'effects1809', 'effects181', 'effects1810', 'effects1811', 'effects1812', 'effects1813', 'effects1814', 'effects1815', 'effects1816', 'effects1817', 'effects1818', 'effects1819', 'effects182', 'effects1820', 'effects1821', 'effects1822', 'effects1823', 'effects1824', 'effects1825', 'effects1826', 'effects1827', 'effects1828', 'effects1829', 'effects183', 'effects1830', 'effects1831', 'effects1832', 'effects1833', 'effects1834', 'effects1835', 'effects1836', 'effects1837', 'effects1838', 'effects1839', 'effects184', 'effects1840', 'effects1841', 'effects1842', 'effects1843', 'effects1844', 'effects1845', 'effects1846', 'effects1847', 'effects1848', 'effects1849', 'effects185', 'effects1850', 'effects1851', 'effects1852', 'effects1853', 'effects1854', 'effects1855', 'effects1856', 'effects1857', 'effects1858', 'effects1859', 'effects186', 'effects1860', 'effects1861', 'effects1862', 'effects1863', 'effects1864', 'effects1865', 'effects1866', 'effects1867', 'effects1868', 'effects1869', 'effects187', 'effects1870', 'effects1871', 'effects1872', 'effects1873', 'effects1874', 'effects1875', 'effects1876', 'effects1877', 'effects1878', 'effects1879', 'effects188', 'effects1880', 'effects1881', 'effects1882', 'effects1883', 'effects1884', 'effects1885', 'effects1886', 'effects1887', 'effects1888', 'effects1889', 'effects189', 'effects1890', 'effects1891', 'effects1892', 'effects1893', 'effects1894', 'effects1895', 'effects1896', 'effects1897', 'effects1898', 'effects1899', 'effects19', 'effects190', 'effects1900', 'effects1901', 'effects1902', 'effects1903', 'effects1904', 'effects1905', 'effects1906', 'effects1907', 'effects1908', 'effects1909', 'effects191', 'effects1910', 'effects1911', 'effects1912', 'effects1913', 'effects1914', 'effects1915', 'effects1916', 'effects1917', 'effects1918', 'effects1919', 'effects192', 'effects1920', 'effects1921', 'effects1922', 'effects1923', 'effects1924', 'effects1925', 'effects1926', 'effects1927', 'effects1928', 'effects1929', 'effects193', 'effects1930', 'effects1931', 'effects1932', 'effects1933', 'effects1934', 'effects1935', 'effects1936', 'effects1937', 'effects1938', 'effects1939', 'effects194', 'effects1940', 'effects1941', 'effects1942', 'effects1943', 'effects1944', 'effects1945', 'effects1946', 'effects1947', 'effects1948', 'effects1949', 'effects195', 'effects1950', 'effects1951', 'effects1952', 'effects1953', 'effects1954', 'effects1955', 'effects1956', 'effects1957', 'effects1958', 'effects1959', 'effects196', 'effects1960', 'effects1961', 'effects1962', 'effects1963', 'effects1964', 'effects1965', 'effects1966', 'effects1967', 'effects1968', 'effects1969', 'effects197', 'effects1970', 'effects1971', 'effects1972', 'effects1973', 'effects1974', 'effects1975', 'effects1976', 'effects1977', 'effects1978', 'effects1979', 'effects198', 'effects1980', 'effects1981', 'effects1982', 'effects1983', 'effects1984', 'effects1985', 'effects1986', 'effects1987', 'effects1988', 'effects1989', 'effects199', 'effects1990', 'effects1991', 'effects1992', 'effects1993', 'effects1994', 'effects1995', 'effects1996', 'effects1997', 'effects1998', 'effects1999', 'effects2', 'effects20', 'effects200', 'effects2000', 'effects2001', 'effects2002', 'effects2003', 'effects2004', 'effects2005', 'effects2006', 'effects2007', 'effects2008', 'effects2009', 'effects201', 'effects2010', 'effects2011', 'effects2012', 'effects2013', 'effects2014', 'effects2015', 'effects2016', 'effects2017', 'effects2018', 'effects2019', 'effects202', 'effects2020', 'effects2021', 'effects2022', 'effects2023', 'effects2024', 'effects2025', 'effects2026', 'effects2027', 'effects2028', 'effects2029', 'effects203', 'effects2030', 'effects2031', 'effects2032', 'effects2033', 'effects2034', 'effects2035', 'effects2036', 'effects2037', 'effects2038', 'effects2039', 'effects204', 'effects2040', 'effects2041', 'effects2042', 'effects2043', 'effects2044', 'effects2045', 'effects2046', 'effects2047', 'effects2048', 'effects2049', 'effects205', 'effects2050', 'effects2051', 'effects2052', 'effects2053', 'effects2054', 'effects2055', 'effects2056', 'effects2057', 'effects2058', 'effects2059', 'effects206', 'effects2060', 'effects2061', 'effects2062', 'effects2063', 'effects2064', 'effects2065', 'effects2066', 'effects2067', 'effects2068', 'effects2069', 'effects207', 'effects2070', 'effects2071', 'effects2072', 'effects2073', 'effects2074', 'effects2075', 'effects2076', 'effects2077', 'effects2078', 'effects2079', 'effects208', 'effects2080', 'effects2081', 'effects2082', 'effects2083', 'effects2084', 'effects2085', 'effects2086', 'effects2087', 'effects2088', 'effects2089', 'effects209', 'effects2090', 'effects2091', 'effects2092', 'effects2093', 'effects2094', 'effects2095', 'effects2096', 'effects2097', 'effects2098', 'effects2099', 'effects21', 'effects210', 'effects2100', 'effects2101', 'effects2102', 'effects2103', 'effects2104', 'effects2105', 'effects2106', 'effects2107', 'effects2108', 'effects2109', 'effects211', 'effects2110', 'effects2111', 'effects2112', 'effects2113', 'effects2114', 'effects2115', 'effects2116', 'effects2117', 'effects2118', 'effects2119', 'effects212', 'effects2120', 'effects2121', 'effects2122', 'effects2123', 'effects2124', 'effects2125', 'effects2126', 'effects2127', 'effects2128', 'effects2129', 'effects213', 'effects2130', 'effects2131', 'effects2132', 'effects2133', 'effects2134', 'effects2135', 'effects2136', 'effects2137', 'effects2138', 'effects2139', 'effects214', 'effects2140', 'effects2141', 'effects2142', 'effects2143', 'effects2144', 'effects2145', 'effects2146', 'effects2147', 'effects2148', 'effects2149', 'effects215', 'effects2150', 'effects2151', 'effects2152', 'effects2153', 'effects2154', 'effects2155', 'effects2156', 'effects2157', 'effects2158', 'effects2159', 'effects216', 'effects2160', 'effects2161', 'effects2162', 'effects2163', 'effects2164', 'effects2165', 'effects2166', 'effects2167', 'effects2168', 'effects2169', 'effects217', 'effects2170', 'effects2171', 'effects2172', 'effects2173', 'effects2174', 'effects2175', 'effects2176', 'effects2177', 'effects2178', 'effects2179', 'effects218', 'effects2180', 'effects2181', 'effects2182', 'effects2183', 'effects2184', 'effects2185', 'effects2186', 'effects2187', 'effects2188', 'effects2189', 'effects219', 'effects2190', 'effects2191', 'effects2192', 'effects2193', 'effects2194', 'effects2195', 'effects2196', 'effects2197', 'effects2198', 'effects2199', 'effects22', 'effects220', 'effects2200', 'effects2201', 'effects2202', 'effects2203', 'effects2204', 'effects2205', 'effects2206', 'effects2207', 'effects2208', 'effects2209', 'effects221', 'effects2210', 'effects2211', 'effects2212', 'effects2213', 'effects2214', 'effects2215', 'effects2216', 'effects2217', 'effects2218', 'effects2219', 'effects222', 'effects2220', 'effects2221', 'effects2222', 'effects2223', 'effects2224', 'effects2225', 'effects2226', 'effects2227', 'effects2228', 'effects2229', 'effects223', 'effects2230', 'effects2231', 'effects2232', 'effects2233', 'effects2234', 'effects2235', 'effects2236', 'effects2237', 'effects2238', 'effects2239', 'effects224', 'effects2240', 'effects2241', 'effects2242', 'effects2243', 'effects2244', 'effects2245', 'effects2246', 'effects2247', 'effects2248', 'effects2249', 'effects225', 'effects2250', 'effects2251', 'effects2252', 'effects2253', 'effects2254', 'effects2255', 'effects2256', 'effects2257', 'effects2258', 'effects2259', 'effects226', 'effects2260', 'effects2261', 'effects2262', 'effects2263', 'effects2264', 'effects2265', 'effects2266', 'effects2267', 'effects2268', 'effects2269', 'effects227', 'effects2270', 'effects2271', 'effects2272', 'effects2273', 'effects2274', 'effects2275', 'effects2276', 'effects2277', 'effects2278', 'effects2279', 'effects228', 'effects2280', 'effects2281', 'effects2282', 'effects2283', 'effects2284', 'effects2285', 'effects2286', 'effects2287', 'effects2288', 'effects2289', 'effects229', 'effects2290', 'effects2291', 'effects2292', 'effects2293', 'effects2294', 'effects2295', 'effects2296', 'effects2297', 'effects2298', 'effects2299', 'effects23', 'effects230', 'effects2300', 'effects2301', 'effects2302', 'effects2303', 'effects2304', 'effects2305', 'effects2306', 'effects2307', 'effects2308', 'effects2309', 'effects231', 'effects2310', 'effects2311', 'effects2312', 'effects2313', 'effects2314', 'effects2315', 'effects2316', 'effects2317', 'effects2318', 'effects2319', 'effects232', 'effects2320', 'effects2321', 'effects2322', 'effects2323', 'effects2324', 'effects2325', 'effects2326', 'effects2327', 'effects2328', 'effects2329', 'effects233', 'effects2330', 'effects2331', 'effects2332', 'effects2333', 'effects2334', 'effects2335', 'effects2336', 'effects2337', 'effects2338', 'effects2339', 'effects234', 'effects2340', 'effects2341', 'effects2342', 'effects2343', 'effects2344', 'effects2345', 'effects2346', 'effects2347', 'effects2348', 'effects2349', 'effects235', 'effects2350', 'effects2351', 'effects2352', 'effects2353', 'effects2354', 'effects2355', 'effects2356', 'effects2357', 'effects2358', 'effects2359', 'effects236', 'effects2360', 'effects2361', 'effects2362', 'effects2363', 'effects2364', 'effects2365', 'effects2366', 'effects2367', 'effects2368', 'effects2369', 'effects237', 'effects2370', 'effects2371', 'effects2372', 'effects2373', 'effects2374', 'effects2375', 'effects2376', 'effects2377', 'effects2378', 'effects2379', 'effects238', 'effects2380', 'effects2381', 'effects2382', 'effects2383', 'effects2384', 'effects2385', 'effects2386', 'effects2387', 'effects2388', 'effects2389', 'effects239', 'effects2390', 'effects2391', 'effects2392', 'effects2393', 'effects2394', 'effects2395', 'effects2396', 'effects2397', 'effects2398', 'effects2399', 'effects24', 'effects240', 'effects2400', 'effects2401', 'effects2402', 'effects2403', 'effects2404', 'effects2405', 'effects2406', 'effects2407', 'effects2408', 'effects2409', 'effects241', 'effects2410', 'effects2411', 'effects2412', 'effects2413', 'effects2414', 'effects2415', 'effects2416', 'effects2417', 'effects2418', 'effects2419', 'effects242', 'effects2420', 'effects2421', 'effects2422', 'effects2423', 'effects2424', 'effects2425', 'effects2426', 'effects2427', 'effects2428', 'effects2429', 'effects243', 'effects2430', 'effects2431', 'effects2432', 'effects2433', 'effects2434', 'effects2435', 'effects2436', 'effects2437', 'effects2438', 'effects2439', 'effects244', 'effects2440', 'effects2441', 'effects2442', 'effects2443', 'effects2444', 'effects2445', 'effects2446', 'effects2447', 'effects2448', 'effects2449', 'effects245', 'effects2450', 'effects2451', 'effects2452', 'effects2453', 'effects2454', 'effects2455', 'effects2456', 'effects2457', 'effects2458', 'effects2459', 'effects246', 'effects2460', 'effects2461', 'effects2462', 'effects2463', 'effects2464', 'effects2465', 'effects2466', 'effects2467', 'effects2468', 'effects2469', 'effects247', 'effects2470', 'effects2471', 'effects2472', 'effects2473', 'effects2474', 'effects2475', 'effects2476', 'effects2477', 'effects2478', 'effects2479', 'effects248', 'effects2480', 'effects2481', 'effects2482', 'effects2483', 'effects2484', 'effects2485', 'effects2486', 'effects2487', 'effects2488', 'effects2489', 'effects249', 'effects2490', 'effects2491', 'effects2492', 'effects2493', 'effects2494', 'effects2495', 'effects2496', 'effects2497', 'effects2498', 'effects2499', 'effects25', 'effects250', 'effects2500', 'effects2501', 'effects2502', 'effects2503', 'effects2504', 'effects2505', 'effects2506', 'effects2507', 'effects2508', 'effects2509', 'effects251', 'effects2510', 'effects2511', 'effects2512', 'effects2513', 'effects2514', 'effects2515', 'effects2516', 'effects2517', 'effects2518', 'effects2519', 'effects252', 'effects2520', 'effects2521', 'effects2522', 'effects2523', 'effects2524', 'effects2525', 'effects2526', 'effects2527', 'effects2528', 'effects2529', 'effects253', 'effects2530', 'effects2531', 'effects2532', 'effects2533', 'effects2534', 'effects2535', 'effects2536', 'effects2537', 'effects2538', 'effects2539', 'effects254', 'effects2540', 'effects2541', 'effects2542', 'effects2543', 'effects2544', 'effects2545', 'effects2546', 'effects2547', 'effects2548', 'effects2549', 'effects255', 'effects2550', 'effects2551', 'effects2552', 'effects2553', 'effects2554', 'effects2555', 'effects2556', 'effects2557', 'effects2558', 'effects2559', 'effects256', 'effects2560', 'effects2561', 'effects2562', 'effects2563', 'effects2564', 'effects2565', 'effects2566', 'effects2567', 'effects2568', 'effects2569', 'effects257', 'effects2570', 'effects2571', 'effects2572', 'effects2573', 'effects2574', 'effects2575', 'effects2576', 'effects2577', 'effects2578', 'effects2579', 'effects258', 'effects2580', 'effects2581', 'effects2582', 'effects2583', 'effects2584', 'effects2585', 'effects2586', 'effects2587', 'effects2588', 'effects2589', 'effects259', 'effects2590', 'effects2591', 'effects2592', 'effects2593', 'effects2594', 'effects2595', 'effects2596', 'effects2597', 'effects2598', 'effects2599', 'effects26', 'effects260', 'effects2600', 'effects2601', 'effects2602', 'effects2603', 'effects2604', 'effects2605', 'effects2606', 'effects2607', 'effects2608', 'effects2609', 'effects261', 'effects2610', 'effects2611', 'effects2612', 'effects2613', 'effects2614', 'effects2615', 'effects2616', 'effects2617', 'effects2618', 'effects2619', 'effects262', 'effects2620', 'effects2621', 'effects2622', 'effects2623', 'effects2624', 'effects2625', 'effects2626', 'effects2627', 'effects2628', 'effects2629', 'effects263', 'effects2630', 'effects2631', 'effects2632', 'effects2633', 'effects2634', 'effects2635', 'effects2636', 'effects2637', 'effects2638', 'effects2639', 'effects264', 'effects2640', 'effects2641', 'effects2642', 'effects2643', 'effects2644', 'effects2645', 'effects2646', 'effects2647', 'effects2648', 'effects2649', 'effects265', 'effects2650', 'effects2651', 'effects2652', 'effects2653', 'effects2654', 'effects2655', 'effects2656', 'effects2657', 'effects2658', 'effects2659', 'effects266', 'effects2660', 'effects2661', 'effects2662', 'effects2663', 'effects2664', 'effects2665', 'effects2666', 'effects2667', 'effects2668', 'effects2669', 'effects267', 'effects2670', 'effects2671', 'effects2672', 'effects2673', 'effects2674', 'effects2675', 'effects2676', 'effects2677', 'effects2678', 'effects2679', 'effects268', 'effects2680', 'effects2681', 'effects2682', 'effects2683', 'effects2684', 'effects2685', 'effects2686', 'effects2687', 'effects2688', 'effects2689', 'effects269', 'effects2690', 'effects2691', 'effects2692', 'effects2693', 'effects2694', 'effects2695', 'effects2696', 'effects2697', 'effects2698', 'effects2699', 'effects27', 'effects270', 'effects2700', 'effects2701', 'effects2702', 'effects2703', 'effects2704', 'effects2705', 'effects2706', 'effects2707', 'effects2708', 'effects2709', 'effects271', 'effects2710', 'effects2711', 'effects2712', 'effects2713', 'effects2714', 'effects2715', 'effects2716', 'effects2717', 'effects2718', 'effects2719', 'effects272', 'effects2720', 'effects2721', 'effects2722', 'effects2723', 'effects2724', 'effects2725', 'effects2726', 'effects2727', 'effects2728', 'effects2729', 'effects273', 'effects2730', 'effects2731', 'effects2732', 'effects2733', 'effects2734', 'effects2735', 'effects2736', 'effects2737', 'effects2738', 'effects2739', 'effects274', 'effects2740', 'effects2741', 'effects2742', 'effects2743', 'effects2744', 'effects2745', 'effects2746', 'effects2747', 'effects2748', 'effects2749', 'effects275', 'effects2750', 'effects2751', 'effects2752', 'effects2753', 'effects2754', 'effects2755', 'effects2756', 'effects2757', 'effects2758', 'effects2759', 'effects276', 'effects2760', 'effects2761', 'effects2762', 'effects2763', 'effects2764', 'effects2765', 'effects2766', 'effects2767', 'effects2768', 'effects2769', 'effects277', 'effects2770', 'effects2771', 'effects2772', 'effects2773', 'effects2774', 'effects2775', 'effects2776', 'effects2777', 'effects2778', 'effects2779', 'effects278', 'effects2780', 'effects2781', 'effects2782', 'effects2783', 'effects2784', 'effects2785', 'effects2786', 'effects2787', 'effects2788', 'effects2789', 'effects279', 'effects2790', 'effects2791', 'effects2792', 'effects2793', 'effects2794', 'effects2795', 'effects2796', 'effects2797', 'effects2798', 'effects2799', 'effects28', 'effects280', 'effects2800', 'effects2801', 'effects2802', 'effects2803', 'effects2804', 'effects2805', 'effects2806', 'effects2807', 'effects2808', 'effects2809', 'effects281', 'effects2810', 'effects2811', 'effects2812', 'effects2813', 'effects2814', 'effects2815', 'effects2816', 'effects2817', 'effects2818', 'effects2819', 'effects282', 'effects2820', 'effects2821', 'effects2822', 'effects2823', 'effects2824', 'effects2825', 'effects2826', 'effects2827', 'effects2828', 'effects2829', 'effects283', 'effects2830', 'effects2831', 'effects2832', 'effects2833', 'effects2834', 'effects2835', 'effects2836', 'effects2837', 'effects2838', 'effects2839', 'effects284', 'effects2840', 'effects2841', 'effects2842', 'effects2843', 'effects2844', 'effects2845', 'effects2846', 'effects2847', 'effects2848', 'effects2849', 'effects285', 'effects2850', 'effects2851', 'effects2852', 'effects2853', 'effects2854', 'effects2855', 'effects2856', 'effects2857', 'effects2858', 'effects2859', 'effects286', 'effects2860', 'effects2861', 'effects2862', 'effects2863', 'effects2864', 'effects2865', 'effects2866', 'effects2867', 'effects2868', 'effects2869', 'effects287', 'effects2870', 'effects2871', 'effects2872', 'effects2873', 'effects2874', 'effects2875', 'effects2876', 'effects2877', 'effects2878', 'effects2879', 'effects288', 'effects2880', 'effects2881', 'effects2882', 'effects2883', 'effects2884', 'effects2885', 'effects2886', 'effects2887', 'effects2888', 'effects2889', 'effects289', 'effects2890', 'effects2891', 'effects2892', 'effects2893', 'effects2894', 'effects2895', 'effects2896', 'effects2897', 'effects2898', 'effects2899', 'effects29', 'effects290', 'effects2900', 'effects2901', 'effects2902', 'effects2903', 'effects2904', 'effects2905', 'effects2906', 'effects2907', 'effects2908', 'effects2909', 'effects291', 'effects2910', 'effects2911', 'effects2912', 'effects2913', 'effects2914', 'effects2915', 'effects2916', 'effects2917', 'effects2918', 'effects2919', 'effects292', 'effects2920', 'effects2921', 'effects2922', 'effects2923', 'effects2924', 'effects2925', 'effects2926', 'effects2927', 'effects2928', 'effects2929', 'effects293', 'effects2930', 'effects2931', 'effects2932', 'effects2933', 'effects2934', 'effects2935', 'effects2936', 'effects2937', 'effects2938', 'effects2939', 'effects294', 'effects2940', 'effects2941', 'effects2942', 'effects2943', 'effects2944', 'effects2945', 'effects2946', 'effects2947', 'effects2948', 'effects2949', 'effects295', 'effects2950', 'effects2951', 'effects2952', 'effects2953', 'effects2954', 'effects2955', 'effects2956', 'effects2957', 'effects2958', 'effects2959', 'effects296', 'effects2960', 'effects2961', 'effects2962', 'effects2963', 'effects2964', 'effects2965', 'effects2966', 'effects2967', 'effects2968', 'effects2969', 'effects297', 'effects2970', 'effects2971', 'effects2972', 'effects2973', 'effects2974', 'effects2975', 'effects2976', 'effects2977', 'effects2978', 'effects2979', 'effects298', 'effects2980', 'effects2981', 'effects2982', 'effects2983', 'effects2984', 'effects2985', 'effects2986', 'effects2987', 'effects2988', 'effects2989', 'effects299', 'effects2990', 'effects2991', 'effects2992', 'effects2993', 'effects2994', 'effects2995', 'effects2996', 'effects2997', 'effects2998', 'effects2999', 'effects3', 'effects30', 'effects300', 'effects3000', 'effects3001', 'effects3002', 'effects3003', 'effects3004', 'effects3005', 'effects3006', 'effects3007', 'effects3008', 'effects3009', 'effects301', 'effects3010', 'effects3011', 'effects3012', 'effects3013', 'effects3014', 'effects3015', 'effects3016', 'effects3017', 'effects3018', 'effects3019', 'effects302', 'effects3020', 'effects3021', 'effects3022', 'effects3023', 'effects3024', 'effects3025', 'effects3026', 'effects3027', 'effects3028', 'effects3029', 'effects303', 'effects3030', 'effects3031', 'effects3032', 'effects3033', 'effects3034', 'effects3035', 'effects3036', 'effects3037', 'effects3038', 'effects3039', 'effects304', 'effects3040', 'effects3041', 'effects3042', 'effects3043', 'effects3044', 'effects3045', 'effects3046', 'effects3047', 'effects3048', 'effects3049', 'effects305', 'effects3050', 'effects3051', 'effects3052', 'effects3053', 'effects3054', 'effects3055', 'effects3056', 'effects3057', 'effects3058', 'effects3059', 'effects306', 'effects3060', 'effects3061', 'effects3062', 'effects3063', 'effects3064', 'effects3065', 'effects3066', 'effects3067', 'effects3068', 'effects3069', 'effects307', 'effects3070', 'effects3071', 'effects3072', 'effects3073', 'effects3074', 'effects3075', 'effects3076', 'effects3077', 'effects3078', 'effects3079', 'effects308', 'effects3080', 'effects3081', 'effects3082', 'effects3083', 'effects3084', 'effects3085', 'effects3086', 'effects3087', 'effects3088', 'effects3089', 'effects309', 'effects3090', 'effects3091', 'effects3092', 'effects3093', 'effects3094', 'effects3095', 'effects3096', 'effects3097', 'effects3098', 'effects3099', 'effects31', 'effects310', 'effects3100', 'effects3101', 'effects3102', 'effects3103', 'effects3104', 'effects3105', 'effects3106', 'effects311', 'effects312', 'effects313', 'effects314', 'effects315', 'effects316', 'effects317', 'effects318', 'effects319', 'effects32', 'effects320', 'effects321', 'effects322', 'effects323', 'effects324', 'effects325', 'effects326', 'effects327', 'effects328', 'effects329', 'effects33', 'effects330', 'effects331', 'effects332', 'effects333', 'effects334', 'effects335', 'effects336', 'effects337', 'effects338', 'effects339', 'effects34', 'effects340', 'effects341', 'effects342', 'effects343', 'effects344', 'effects345', 'effects346', 'effects347', 'effects348', 'effects349', 'effects35', 'effects350', 'effects351', 'effects352', 'effects353', 'effects354', 'effects355', 'effects356', 'effects357', 'effects358', 'effects359', 'effects36', 'effects360', 'effects361', 'effects362', 'effects363', 'effects364', 'effects365', 'effects366', 'effects367', 'effects368', 'effects369', 'effects37', 'effects370', 'effects371', 'effects372', 'effects373', 'effects374', 'effects375', 'effects376', 'effects377', 'effects378', 'effects379', 'effects38', 'effects380', 'effects381', 'effects382', 'effects383', 'effects384', 'effects385', 'effects386', 'effects387', 'effects388', 'effects389', 'effects39', 'effects390', 'effects391', 'effects392', 'effects393', 'effects394', 'effects395', 'effects396', 'effects397', 'effects398', 'effects399', 'effects4', 'effects40', 'effects400', 'effects401', 'effects402', 'effects403', 'effects404', 'effects405', 'effects406', 'effects407', 'effects408', 'effects409', 'effects41', 'effects410', 'effects411', 'effects412', 'effects413', 'effects414', 'effects415', 'effects416', 'effects417', 'effects418', 'effects419', 'effects42', 'effects420', 'effects421', 'effects422', 'effects423', 'effects424', 'effects425', 'effects426', 'effects427', 'effects428', 'effects429', 'effects43', 'effects430', 'effects431', 'effects432', 'effects433', 'effects434', 'effects435', 'effects436', 'effects437', 'effects438', 'effects439', 'effects44', 'effects440', 'effects441', 'effects442', 'effects443', 'effects444', 'effects445', 'effects446', 'effects447', 'effects448', 'effects449', 'effects45', 'effects450', 'effects451', 'effects452', 'effects453', 'effects454', 'effects455', 'effects456', 'effects457', 'effects458', 'effects459', 'effects46', 'effects460', 'effects461', 'effects462', 'effects463', 'effects464', 'effects465', 'effects466', 'effects467', 'effects468', 'effects469', 'effects47', 'effects470', 'effects471', 'effects472', 'effects473', 'effects474', 'effects475', 'effects476', 'effects477', 'effects478', 'effects479', 'effects48', 'effects480', 'effects481', 'effects482', 'effects483', 'effects484', 'effects485', 'effects486', 'effects487', 'effects488', 'effects489', 'effects49', 'effects490', 'effects491', 'effects492', 'effects493', 'effects494', 'effects495', 'effects496', 'effects497', 'effects498', 'effects499', 'effects5', 'effects50', 'effects500', 'effects501', 'effects502', 'effects503', 'effects504', 'effects505', 'effects506', 'effects507', 'effects508', 'effects509', 'effects51', 'effects510', 'effects511', 'effects512', 'effects513', 'effects514', 'effects515', 'effects516', 'effects517', 'effects518', 'effects519', 'effects52', 'effects520', 'effects521', 'effects522', 'effects523', 'effects524', 'effects525', 'effects526', 'effects527', 'effects528', 'effects529', 'effects53', 'effects530', 'effects531', 'effects532', 'effects533', 'effects534', 'effects535', 'effects536', 'effects537', 'effects538', 'effects539', 'effects54', 'effects540', 'effects541', 'effects542', 'effects543', 'effects544', 'effects545', 'effects546', 'effects547', 'effects548', 'effects549', 'effects55', 'effects550', 'effects551', 'effects552', 'effects553', 'effects554', 'effects555', 'effects556', 'effects557', 'effects558', 'effects559', 'effects56', 'effects560', 'effects561', 'effects562', 'effects563', 'effects564', 'effects565', 'effects566', 'effects567', 'effects568', 'effects569', 'effects57', 'effects570', 'effects571', 'effects572', 'effects573', 'effects574', 'effects575', 'effects576', 'effects577', 'effects578', 'effects579', 'effects58', 'effects580', 'effects581', 'effects582', 'effects583', 'effects584', 'effects585', 'effects586', 'effects587', 'effects588', 'effects589', 'effects59', 'effects590', 'effects591', 'effects592', 'effects593', 'effects594', 'effects595', 'effects596', 'effects597', 'effects598', 'effects599', 'effects6', 'effects60', 'effects600', 'effects601', 'effects602', 'effects603', 'effects604', 'effects605', 'effects606', 'effects607', 'effects608', 'effects609', 'effects61', 'effects610', 'effects611', 'effects612', 'effects613', 'effects614', 'effects615', 'effects616', 'effects617', 'effects618', 'effects619', 'effects62', 'effects620', 'effects621', 'effects622', 'effects623', 'effects624', 'effects625', 'effects626', 'effects627', 'effects628', 'effects629', 'effects63', 'effects630', 'effects631', 'effects632', 'effects633', 'effects634', 'effects635', 'effects636', 'effects637', 'effects638', 'effects639', 'effects64', 'effects640', 'effects641', 'effects642', 'effects643', 'effects644', 'effects645', 'effects646', 'effects647', 'effects648', 'effects649', 'effects65', 'effects650', 'effects651', 'effects652', 'effects653', 'effects654', 'effects655', 'effects656', 'effects657', 'effects658', 'effects659', 'effects66', 'effects660', 'effects661', 'effects662', 'effects663', 'effects664', 'effects665', 'effects666', 'effects667', 'effects668', 'effects669', 'effects67', 'effects670', 'effects671', 'effects672', 'effects673', 'effects674', 'effects675', 'effects676', 'effects677', 'effects678', 'effects679', 'effects68', 'effects680', 'effects681', 'effects682', 'effects683', 'effects684', 'effects685', 'effects686', 'effects687', 'effects688', 'effects689', 'effects69', 'effects690', 'effects691', 'effects692', 'effects693', 'effects694', 'effects695', 'effects696', 'effects697', 'effects698', 'effects699', 'effects7', 'effects70', 'effects700', 'effects701', 'effects702', 'effects703', 'effects704', 'effects705', 'effects706', 'effects707', 'effects708', 'effects709', 'effects71', 'effects710', 'effects711', 'effects712', 'effects713', 'effects714', 'effects715', 'effects716', 'effects717', 'effects718', 'effects719', 'effects72', 'effects720', 'effects721', 'effects722', 'effects723', 'effects724', 'effects725', 'effects726', 'effects727', 'effects728', 'effects729', 'effects73', 'effects730', 'effects731', 'effects732', 'effects733', 'effects734', 'effects735', 'effects736', 'effects737', 'effects738', 'effects739', 'effects74', 'effects740', 'effects741', 'effects742', 'effects743', 'effects744', 'effects745', 'effects746', 'effects747', 'effects748', 'effects749', 'effects75', 'effects750', 'effects751', 'effects752', 'effects753', 'effects754', 'effects755', 'effects756', 'effects757', 'effects758', 'effects759', 'effects76', 'effects760', 'effects761', 'effects762', 'effects763', 'effects764', 'effects765', 'effects766', 'effects767', 'effects768', 'effects769', 'effects77', 'effects770', 'effects771', 'effects772', 'effects773', 'effects774', 'effects775', 'effects776', 'effects777', 'effects778', 'effects779', 'effects78', 'effects780', 'effects781', 'effects782', 'effects783', 'effects784', 'effects785', 'effects786', 'effects787', 'effects788', 'effects789', 'effects79', 'effects790', 'effects791', 'effects792', 'effects793', 'effects794', 'effects795', 'effects796', 'effects797', 'effects798', 'effects799', 'effects8', 'effects80', 'effects800', 'effects801', 'effects802', 'effects803', 'effects804', 'effects805', 'effects806', 'effects807', 'effects808', 'effects809', 'effects81', 'effects810', 'effects811', 'effects812', 'effects813', 'effects814', 'effects815', 'effects816', 'effects817', 'effects818', 'effects819', 'effects82', 'effects820', 'effects821', 'effects822', 'effects823', 'effects824', 'effects825', 'effects826', 'effects827', 'effects828', 'effects829', 'effects83', 'effects830', 'effects831', 'effects832', 'effects833', 'effects834', 'effects835', 'effects836', 'effects837', 'effects838', 'effects839', 'effects84', 'effects840', 'effects841', 'effects842', 'effects843', 'effects844', 'effects845', 'effects846', 'effects847', 'effects848', 'effects849', 'effects85', 'effects850', 'effects851', 'effects852', 'effects853', 'effects854', 'effects855', 'effects856', 'effects857', 'effects858', 'effects859', 'effects86', 'effects860', 'effects861', 'effects862', 'effects863', 'effects864', 'effects865', 'effects866', 'effects867', 'effects868', 'effects869', 'effects87', 'effects870', 'effects871', 'effects872', 'effects873', 'effects874', 'effects875', 'effects876', 'effects877', 'effects878', 'effects879', 'effects88', 'effects880', 'effects881', 'effects882', 'effects883', 'effects884', 'effects885', 'effects886', 'effects887', 'effects888', 'effects889', 'effects89', 'effects890', 'effects891', 'effects892', 'effects893', 'effects894', 'effects895', 'effects896', 'effects897', 'effects898', 'effects899', 'effects9', 'effects90', 'effects900', 'effects901', 'effects902', 'effects903', 'effects904', 'effects905', 'effects906', 'effects907', 'effects908', 'effects909', 'effects91', 'effects910', 'effects911', 'effects912', 'effects913', 'effects914', 'effects915', 'effects916', 'effects917', 'effects918', 'effects919', 'effects92', 'effects920', 'effects921', 'effects922', 'effects923', 'effects924', 'effects925', 'effects926', 'effects927', 'effects928', 'effects929', 'effects93', 'effects930', 'effects931', 'effects932', 'effects933', 'effects934', 'effects935', 'effects936', 'effects937', 'effects938', 'effects939', 'effects94', 'effects940', 'effects941', 'effects942', 'effects943', 'effects944', 'effects945', 'effects946', 'effects947', 'effects948', 'effects949', 'effects95', 'effects950', 'effects951', 'effects952', 'effects953', 'effects954', 'effects955', 'effects956', 'effects957', 'effects958', 'effects959', 'effects96', 'effects960', 'effects961', 'effects962', 'effects963', 'effects964', 'effects965', 'effects966', 'effects967', 'effects968', 'effects969', 'effects97', 'effects970', 'effects971', 'effects972', 'effects973', 'effects974', 'effects975', 'effects976', 'effects977', 'effects978', 'effects979', 'effects98', 'effects980', 'effects981', 'effects982', 'effects983', 'effects984', 'effects985', 'effects986', 'effects987', 'effects988', 'effects989', 'effects99', 'effects990', 'effects991', 'effects992', 'effects993', 'effects994', 'effects995', 'effects996', 'effects997', 'effects998', 'effects999', 'effexor', 'efudex', 'elarge', 'elavil', 'elbow', 'elevated', 'elidel', 'eliminate', 'elmiron', 'elocon', 'emphysema', 'emptying', 'emsam', 'enablex', 'enalapril', 'enbrel', 'endometrial', 'endometriosis', 'endometrium', 'energy', 'enhancement', 'environmental', 'eosinophilic', 'eostrogen', 'ep', 'epididymitus', 'epidimytis', 'epilepsy', 'epilpsy', 'episodes', 'er', 'erectile', 'erection', 'erictile', 'errosion', 'eryhema', 'erythra', 'erythromycin', 'esophageal', 'esophagitis', 'esophagus', 'esophogeal', 'esophogus', 'especially', 'essential', 'estrace', 'estrasorb', 'estratest', 'estring', 'estrogen', 'estrostep', 'etc', 'eulexin', 'eustachian', 'evista', 'evoclin', 'evra', 'excess', 'excessive', 'exelon', 'exema', 'extended', 'extra', 'extraction', 'extractions', 'extreme', 'extremely', 'extrinsic', 'exzema', 'eye', 'eyelash', 'eyelashes', 'eyes', 'ezcema', 'face', 'facial', 'faciatis', 'failed', 'failure', 'fall', 'falling', 'familial', 'family', 'fatigue', 'fatique', 'fe', 'feel', 'feeling', 'feelings', 'feet', 'felt', 'female', 'femara', 'femhrt', 'femoral', 'femring', 'fentanyl', 'fertility', 'fever', 'few', 'fexofenadine', 'fib', 'fibrillation', 'fibro', 'fibroids', 'fibromyalgia', 'fibromylgia', 'fibrosis', 'finacea', 'fine', 'fingernail', 'fioricet', 'fiorinal', 'first', 'fistula', 'flagyl', 'flares', 'flash', 'flashes', 'flat', 'flexeril', 'flexor', 'flight', 'flomax', 'flonase', 'flovent', 'flu', 'fluconazole', 'fluid', 'flushing', 'fluvoxamine', 'focus', 'follicle', 'follicular', 'folliculitis', 'follistim', 'food', 'foot', 'for', 'forehead', 'fortaz', 'fosamax', 'fosinopril', 'frbulation', 'frequent', 'from', 'frontline', 'frova', 'frown', 'frozen', 'fullness', 'fun', 'functional', 'fungal', 'fungus', 'furrows', 'gad', 'gain', 'galzin', 'gastric', 'gastritis', 'gastro', 'gastroesophageal', 'gastroesophogeal', 'gastrointestinal', 'general', 'generalised', 'generalized', 'genetic', 'genital', 'genitofemoral', 'geodon', 'gerd', 'get', 'getting', 'gi', 'giant', 'giardiasis', 'glacoma', 'glandular', 'glaucoma', 'glenohumeral', 'glucoma', 'glucophage', 'glucose', 'goiter', 'gonal', 'gonorrhea', 'got', 'gout', 'grand', 'grave', 'grazing', 'grifulvin', 'grinding', 'group', 'grow', 'growth', 'gum', 'hair', 'hairline', 'hairloss', 'halcion', 'haldol', 'hand', 'hands', 'hard', 'hashimoto', 'hashimotos', 'have', 'having', 'hay', 'hbp', 'hct', 'head', 'headache', 'headaches', 'headches', 'heads', 'health', 'hearing', 'heart', 'heartbeat', 'heartburn', 'heavey', 'heavy', 'heel', 'help', 'hematoma', 'hemorrhagic', 'hemorrhoidectomy', 'hepatitis', 'heratburn', 'hernia', 'herniated', 'heroin', 'herpatic', 'herpes', 'herpetiformis', 'hfa', 'hgh', 'hiatal', 'hiatus', 'high', 'highly', 'hip', 'hips', 'hirsutism', 'hist', 'history', 'hiv', 'hives', 'holding', 'hopelessness', 'hormonal', 'hormone', 'hot', 'hotflashes', 'hrt', 'hsv', 'htn', 'humira', 'hydrin', 'hydrochlorothiazide', 'hydrocodone', 'hydrocortisone', 'hyoscyamine', 'hyper', 'hyperactive', 'hyperactivity', 'hypercholesteremia', 'hypercholesterolaemia', 'hypercholesterolemia', 'hyperhidrosis', 'hyperlipidemia', 'hyperpigmatation', 'hyperpigmentation', 'hyperplasia', 'hypersomnia', 'hypertension', 'hypertention', 'hyperthyroidism', 'hypnotic', 'hypothroidism', 'hypothryoid', 'hypothryroid', 'hypothyriod', 'hypothyriodism', 'hypothyrodism', 'hypothyroid', 'hypothyroidism', 'hypothyroidsm', 'hypthyroidism', 'hypthyroidsim', 'hysterctomy', 'hysterectomy', 'hytrin', 'hyzaar', 'ibs', 'idiopathic', 'ii', 'ileocecal', 'illiotibital', 'illness', 'imbalance', 'imbalances', 'imitrex', 'imodium', 'impetigo', 'implant', 'improve', 'improvement', 'impulses', 'imuran', 'in', 'inability', 'inattention', 'inattentive', 'incontinence', 'increase', 'increased', 'inderal', 'indigestion', 'indoor', 'induce', 'induced', 'inection', 'ineffective', 'infected', 'infection', 'infections', 'infectoin', 'infertility', 'inflamation', 'inflamed', 'inflammation', 'inflammatory', 'inflmmatory', 'infrection', 'ingrown', 'initially', 'injuries', 'injury', 'inner', 'innofem', 'insomia', 'insomina', 'insommnia', 'insomnia', 'inspra', 'instability', 'insulin', 'interoccular', 'interstitial', 'intraocular', 'intrusive', 'iodine', 'irregular', 'irregularity', 'irritability', 'irritable', 'irritated', 'irritation', 'irritations', 'isoniazid', 'issues', 'itching', 'itchy', 'iui', 'ivy', 'jaw', 'joint', 'just', 'juvenile', 'keflex', 'kenalog', 'keppra', 'kept', 'keratoses', 'ketoconazole', 'ketorolac', 'kidney', 'klaron', 'klebsiella', 'klonopin', 'knee', 'knees', 'l1', 'la', 'lac', 'laceration', 'lack', 'lamictal', 'lamisil', 'lamotrigine', 'lantus', 'large', 'laryngeal', 'laryngopharyngeal', 'lashes', 'lasix', 'lasting', 'later', 'latisse', 'ldl', 'left', 'leg', 'legs', 'length', 'lesions', 'less', 'levaquin', 'level', 'levelc', 'levels', 'levetiracetam', 'levitra', 'levora', 'levothroid', 'levoxyl', 'lewy', 'lexapro', 'libido', 'lidex', 'lidocaine', 'light', 'lighter', 'like', 'line', 'lines', 'lingering', 'lip', 'lipitor', 'lipocream', 'lithium', 'little', 'live', 'lo', 'lobe', 'local', 'locoid', 'lodine', 'long', 'longer', 'loose', 'lopressor', 'lorazepam', 'lortab', 'lose', 'loss', 'lotrel', 'lotronex', 'low', 'lower', 'lows', 'lpa', 'luma', 'lumbar', 'lumigan', 'lunesta', 'lung', 'lupron', 'lupus', 'lybrel', 'lymphoma', 'lyrica', 'macrobid', 'maigrains', 'major', 'mal', 'malaise', 'malaria', 'malarial', 'malarone', 'male', 'management', 'mandible', 'mania', 'manic', 'marginally', 'mass', 'mastitis', 'maxalt', 'me', 'medication', 'medroxyprogesterone', 'melasma', 'mellitus', 'memopause', 'memory', 'menapause', 'menopausal', 'menopause', 'menses', 'menstral', 'menstrual', 'meperidine', 'mercaptopurine', 'meridia', 'metabolic', 'metastasized', 'metformin', 'methadone', 'methimazole', 'method', 'methotrexate', 'metoclopramide', 'metoprolol', 'metrogel', 'metrolotion', 'metronidazole', 'mevacor', 'micardis', 'micro', 'microprolactinoma', 'migaine', 'migrain', 'migraine', 'migraines', 'migranes', 'mild', 'mind', 'minocin', 'minocycline', 'minor', 'minoxidil', 'miralax', 'mirapex', 'mirena', 'mirtazapine', 'misrable', 'mitral', 'mixed', 'mobic', 'moderate', 'moderately', 'molar', 'mold', 'mons', 'mood', 'moods', 'more', 'mormal', 'morning', 'morphine', 'motivation', 'motorcycle', 'motrin', 'mouth', 'mrsa', 'ms', 'mucous', 'mucus', 'mulitple', 'multiple', 'murmur', 'muscle', 'muscles', 'muscular', 'musculoskeletal', 'muslce', 'my', 'mycoplasma', 'myoclonus', 'myofacial', 'mytral', 'nail', 'naltrexone', 'naprosyn', 'naproxen', 'narcalepsy', 'narcolepsy', 'nardil', 'nasacort', 'nasal', 'nasarel', 'nasonex', 'nausea', 'near', 'neck', 'neoprofen', 'nerve', 'nerves', 'nervous', 'nervousness', 'neural', 'neuralga', 'neuralgia', 'neuro', 'neurontin', 'neuropathic', 'neuropathy', 'nexium', 'niacor', 'niaspan', 'nicotine', 'night', 'nitrofurantoin', 'nizoral', 'no', 'nocturnal', 'nodosum', 'nof', 'nolvadex', 'non', 'none', 'noroxin', 'norpramin', 'nortriptyline', 'norvasc', 'nose', 'not', 'novum', 'nummular', 'nuvaring', 'nuvigil', 'nystatin', 'obesity', 'obsessional', 'obsessive', 'ocasionally', 'ocd', 'ocpd', 'of', 'oily', 'omacor', 'omnicef', 'omnitrope', 'on', 'ongoing', 'only', 'onset', 'operative', 'opiate', 'opiod', 'opioid', 'oracea', 'oral', 'oreal', 'originally', 'ortho', 'osteo', 'osteoarthritis', 'osteochondral', 'osteopenia', 'osteoporose', 'osteoporosis', 'osteoporsis', 'osteroporosis', 'ostheoporosis', 'out', 'outbreak', 'outs', 'ovarian', 'ovary', 'over', 'overactive', 'overeating', 'overweight', 'overwhelmed', 'ovral', 'ovulation', 'oxazepam', 'oxybutynin', 'oxycodone', 'oxycontin', 'pack', 'pai', 'pain', 'painkiller', 'painn', 'pains', 'palpitations', 'pamelor', 'panceatitis', 'pancreatitis', 'pandemic', 'panic', 'panixine', 'papillary', 'parkinson', 'parlodel', 'partial', 'partum', 'passages', 'patient', 'pattern', 'paxil', 'pcos', 'pcp', 'peanut', 'pelvic', 'penicillin', 'penlac', 'pentasa', 'pepcid', 'peptic', 'percocet', 'perennial', 'perenniel', 'perepheral', 'performance', 'peri', 'peridontal', 'periferal', 'perimenopause', 'period', 'periodontal', 'periods', 'periogard', 'perioral', 'periostat', 'peripheral', 'permapen', 'persistant', 'persistent', 'personality', 'pertusis', 'pharmacist', 'phase', 'phendimetrazine', 'phenergan', 'phneumonia', 'photoaging', 'pigmentatation', 'pigmentation', 'pill', 'pilocarpine', 'pimples', 'pinched', 'pink', 'pituitary', 'pityriasis', 'plantar', 'plavix', 'please', 'plendil', 'plexitus', 'plugged', 'plus', 'pm', 'pmd', 'pms', 'pmsd', 'pneumonia', 'pockets', 'pocs', 'poison', 'poisoning', 'polar', 'polinoidal', 'pollen', 'polycystic', 'polymyalgia', 'polymyxin', 'polyps', 'ponstel', 'poor', 'pores', 'positive', 'possible', 'post', 'postmenopausal', 'pounds', 'pravachol', 'pre', 'preasure', 'prednisolone', 'prednisone', 'predominantly', 'pregnacy', 'pregnancy', 'pregnant', 'premarin', 'premature', 'prempro', 'pressue', 'pressure', 'presure', 'prevacid', 'prevent', 'preventing', 'prevention', 'prewgnancy', 'prilosec', 'primary', 'prinivil', 'prior', 'pristiq', 'pro', 'proair', 'prob', 'problem', 'problems', 'probles', 'procedure', 'procedures', 'prochlorperazine', 'production', 'progesterone', 'prograf', 'prolactin', 'prolactinoma', 'prolapse', 'proloprim', 'prometrium', 'propecia', 'prophilatic', 'prophylaxis', 'propranolol', 'proquin', 'proscar', 'prostate', 'prostatitis', 'protonix', 'protopic', 'provera', 'provigil', 'prozac', 'psoriasis', 'psoriatic', 'psosiasis', 'psychosis', 'psychosomatic', 'psychotic', 'ptsd', 'puncture', 'qit', 'quality', 'quibron', 'quinsy', 'quit', 'quitting', 'qvar', 'ra', 'raciness', 'radiating', 'radical', 'radioactive', 'ranitidine', 'rapid', 'rare', 'rash', 'rashes', 'rating', 'raynaud', 'razor', 'reaction', 'reactions', 'rebif', 'receding', 'reconstruction', 'recovery', 'recurrent', 'recurring', 'red', 'redness', 'reduce', 'reduction', 'reflex', 'reflux', 'refractory', 'reglan', 'regrowth', 'regular', 'regulate', 'regulation', 'rejection', 'relafen', 'relapsing', 'related', 'relationship', 'relax', 'relaxant', 'release', 'relief', 'relpax', 'remembering', 'remeron', 'remicade', 'remitting', 'removal', 'renova', 'repair', 'repeated', 'replacement', 'requip', 'resolved', 'resp', 'respiratory', 'respitory', 'restasis', 'restless', 'restlessness', 'restoril', 'resulting', 'retention', 'retin', 'reverse', 'revision', 'rff', 'rhematory', 'rheumatiod', 'rheumatoi', 'rheumatoid', 'rhinitis', 'rhinocort', 'rhuematoid', 'rhumitoid', 'rhytids', 'rib', 'ribavirin', 'ribs', 'rifadin', 'right', 'ringworm', 'risk', 'risperdal', 'ritalin', 'rls', 'root', 'rosacea', 'roseasa', 'rosecea', 'rotator', 'round', 'running', 'runny', 'ruptured', 's1', 'sadd', 'sag', 'saizen', 'sanctura', 'sarafem', 'sarcoidosis', 'scalp', 'scar', 'scars', 'schizo', 'schizoaffective', 'schizophrenia', 'sciatic', 'sciatica', 'sclerosis', 'scoliosis', 'seasonal', 'seasonale', 'seasonique', 'sedative', 'seizure', 'seizures', 'selegiline', 'self', 'sensorineural', 'septra', 'serious', 'seroquel', 'serotonin', 'serzone', 'sever', 'severe', 'sggression', 'shampoo', 'shift', 'shingles', 'shooting', 'short', 'shortness', 'shoulder', 'showed', 'sickness', 'sicness', 'side', 'sideeffects0', 'simple', 'simplex', 'singulair', 'sinus', 'sinusitis', 'sinusitus', 'site', 'situational', 'sjogren', 'sjï', 'skelaxin', 'skin', 'sle', 'sleep', 'sleepiness', 'sleeping', 'sleeplessne', 'sleeplessness', 'slight', 'slightly', 'slipped', 'small', 'smelly', 'smoker', 'smoking', 'smoother', 'sneezing', 'social', 'solodyn', 'soltamox', 'soma', 'sonata', 'sore', 'sores', 'sotret', 'sparse', 'spasm', 'spasms', 'spastic', 'spinal', 'spine', 'spiriva', 'spironolactone', 'spondalytis', 'spondylitis', 'spondylosis', 'spondylytis', 'spot', 'spots', 'sprain', 'sprained', 'spread', 'squamous', 'sr', 'stabilization', 'stabilizer', 'stablizer', 'stairs', 'staph', 'staphf', 'staying', 'std', 'stength', 'stenosis', 'stiffness', 'stmus', 'stomach', 'stones', 'stool', 'stop', 'stopping', 'strain', 'strattera', 'strep', 'stress', 'stressfull', 'strictures', 'stroke', 'strokes', 'stump', 'suboxone', 'subungal', 'such', 'sudden', 'suicidal', 'sular', 'sulfasalazine', 'sulindac', 'sumatriptan', 'sun', 'superfacial', 'suppression', 'supra', 'surface', 'surgeries', 'surgery', 'surgical', 'suspected', 'sweats', 'swelling', 'swine', 'swings', 'swollen', 'sydrome', 'symbicort', 'symbyax', 'symptoms', 'symtoms', 'syndrom', 'syndrome', 'synthroid', 'syptoms', 'system', 'systemic', 'tachacarrdia', 'tachycardia', 'taken', 'talking', 'tall', 'talus', 'tambocor', 'tamiflu', 'tapazole', 'tarka', 'tazorac', 'tear', 'teeth', 'tegretol', 'tekturna', 'temovate', 'temporal', 'temporary', 'tempromandibular', 'tendinatis', 'tendonitis', 'tennis', 'tenormin', 'tension', 'tequin', 'term', 'testosterone', 'tests', 'tetracycline', 'that', 'the', 'thearpy', 'then', 'therapy', 'there', 'thickened', 'thin', 'thinning', 'thoughts', 'throat', 'throwing', 'thyroid', 'thyroidectomy', 'thyroiditis', 'tia', 'tibital', 'time', 'times', 'tinea', 'tinnitus', 'tired', 'tiredness', 'tirosint', 'tmj', 'to', 'tobramycin', 'toe', 'toenail', 'toenails', 'toes', 'tofranil', 'tone', 'tonic', 'tonsilitis', 'tonsillitis', 'too', 'took', 'tooth', 'toothache', 'toothpulled', 'topamax', 'topical', 'topicort', 'toprol', 'toradol', 'total', 'tourette', 'tract', 'tramadol', 'tramflap', 'transformation', 'transplant', 'trauma', 'traumatic', 'trazodone', 'treat', 'treating', 'treatment', 'tree', 'tremor', 'trental', 'tri', 'triamcinolone', 'triaz', 'trigeminal', 'triglycerides', 'trileptal', 'trilipix', 'trimethobenzamide', 'trimethoprim', 'triphasil', 'trochanteric', 'trouble', 'trying', 'tsh', 'tube', 'tuberculosis', 'tumour', 'tunnel', 'tussionex', 'tylenol', 'type', 'typical', 'ulcer', 'ulcerative', 'ulcers', 'ultracet', 'ultram', 'unable', 'under', 'underactive', 'undiagnosed', 'unevean', 'unrestful', 'unusual', 'up', 'upper', 'urge', 'urgency', 'urgent', 'urinary', 'urinate', 'urination', 'urldrugname', 'uterine', 'uti', 'uveitis', 'vacation', 'vagifem', 'vagina', 'vaginal', 'vaginosis', 'valium', 'valtrex', 'valve', 'vaniqa', 'variant', 'various', 'vasotec', 'vein', 'ventolin', 'ventricular', 'vertigo', 'very', 'vesicare', 'viagra', 'vicodin', 'vicoprofen', 'vigamox', 'vioxx', 'viral', 'vistaril', 'vivelle', 'voltaren', 'vomiting', 'vomitting', 'vytorin', 'vyvanse', 'waited', 'wakefulness', 'walking', 'warfarin', 'warts', 'was', 'water', 'watery', 'weight', 'weightloss', 'wellbutrin', 'went', 'while', 'whiplash', 'white', 'whiteheads', 'wilson', 'with', 'work', 'working', 'worry', 'wound', 'wrinkle', 'wrinkles', 'wrinkling', 'xalatan', 'xanax', 'xenical', 'xl', 'xr', 'xyrem', 'xyzal', 'yasmin', 'year', 'years', 'yeast', 'zantac', 'zegerid', 'zestoretic', 'ziac', 'ziana', 'zithromax', 'zmax', 'zocor', 'zofran', 'zoloft', 'zomig', 'zoster', 'zovirax', 'zyban', 'zyprexa', 'zyrtec', 'zyvox', '½gren']\n",
      "(1, 4967)\n",
      "[[742   1   1 ...  26   1   1]]\n"
     ]
    }
   ],
   "source": [
    "import pandas as pd\n",
    "from sklearn.feature_extraction.text import CountVectorizer\n",
    "cv= CountVectorizer()\n",
    "with open ('C:\\\\Users\\\\vinay\\\\Downloads\\\\drugeffects.csv','r') as file:\n",
    "    data=file.read().replace('\\n','')\n",
    "X=cv.fit([data])\n",
    "print(X.vocabulary_)\n",
    "print(X.get_feature_names())\n",
    "\n",
    "X=cv.transform([data])\n",
    "print(X.shape)\n",
    "print(X.toarray())"
   ]
  },
  {
   "cell_type": "code",
   "execution_count": 31,
   "metadata": {},
   "outputs": [
    {
     "data": {
      "image/png": "[encoded data removed]",
      "text/plain": [
       "<Figure size 432x288 with 1 Axes>"
      ]
     },
     "metadata": {
      "needs_background": "light"
     },
     "output_type": "display_data"
    }
   ],
   "source": [
    "from wordcloud import WordCloud, STOPWORDS\n",
    "text = df.sideEffects[0]\n",
    "\n",
    "# Create and generate a word cloud image:\n",
    "wordcloud = WordCloud().generate(text)\n",
    "\n",
    "# Display the generated image:\n",
    "plt.imshow(wordcloud, interpolation='bilinear')\n",
    "plt.axis(\"off\")\n",
    "plt.show()"
   ]
  },
  {
   "cell_type": "code",
   "execution_count": 32,
   "metadata": {},
   "outputs": [
    {
     "data": {
      "image/png": "[encoded data removed]",
      "text/plain": [
       "<Figure size 432x288 with 1 Axes>"
      ]
     },
     "metadata": {
      "needs_background": "light"
     },
     "output_type": "display_data"
    }
   ],
   "source": [
    "text = df.condition[0]\n",
    "\n",
    "# Create and generate a word cloud image:\n",
    "wordcloud = WordCloud().generate(text)\n",
    "\n",
    "# Display the generated image:\n",
    "plt.imshow(wordcloud, interpolation='bilinear')\n",
    "plt.axis(\"off\")\n",
    "plt.show()"
   ]
  },
  {
   "cell_type": "code",
   "execution_count": 33,
   "metadata": {},
   "outputs": [
    {
     "data": {
      "image/png": "[encoded data removed]",
      "text/plain": [
       "<Figure size 432x288 with 1 Axes>"
      ]
     },
     "metadata": {
      "needs_background": "light"
     },
     "output_type": "display_data"
    }
   ],
   "source": [
    "text = df.urlDrugName[0]\n",
    "\n",
    "# Create and generate a word cloud image:\n",
    "wordcloud = WordCloud().generate(text)\n",
    "\n",
    "# Display the generated image:\n",
    "plt.imshow(wordcloud, interpolation='bilinear')\n",
    "plt.axis(\"off\")\n",
    "plt.show()"
   ]
  },
  {
   "cell_type": "markdown",
   "metadata": {},
   "source": [
    "### importing wordcloud"
   ]
  },
  {
   "cell_type": "code",
   "execution_count": 23,
   "metadata": {},
   "outputs": [
    {
     "name": "stdout",
     "output_type": "stream",
     "text": [
      "^C\n",
      "\n",
      "Note: you may need to restart the kernel to use updated packages.\n"
     ]
    }
   ],
   "source": [
    "conda install -c conda-forge wordcloud=1.6.0 "
   ]
  },
  {
   "cell_type": "code",
   "execution_count": 28,
   "metadata": {},
   "outputs": [
    {
     "name": "stdout",
     "output_type": "stream",
     "text": [
      "Requirement already satisfied: wordcloud in c:\\users\\vinay\\anaconda3\\lib\\site-packages (1.6.0)Note: you may need to restart the kernel to use updated packages.\n",
      "\n",
      "Requirement already satisfied: pillow in c:\\users\\vinay\\anaconda3\\lib\\site-packages (from wordcloud) (7.2.0)\n",
      "Requirement already satisfied: matplotlib in c:\\users\\vinay\\anaconda3\\lib\\site-packages (from wordcloud) (3.2.2)\n",
      "Requirement already satisfied: numpy>=1.6.1 in c:\\users\\vinay\\anaconda3\\lib\\site-packages (from wordcloud) (1.18.5)\n",
      "Requirement already satisfied: kiwisolver>=1.0.1 in c:\\users\\vinay\\anaconda3\\lib\\site-packages (from matplotlib->wordcloud) (1.2.0)\n",
      "Requirement already satisfied: pyparsing!=2.0.4,!=2.1.2,!=2.1.6,>=2.0.1 in c:\\users\\vinay\\anaconda3\\lib\\site-packages (from matplotlib->wordcloud) (2.4.7)\n",
      "Requirement already satisfied: python-dateutil>=2.1 in c:\\users\\vinay\\anaconda3\\lib\\site-packages (from matplotlib->wordcloud) (2.8.1)\n",
      "Requirement already satisfied: cycler>=0.10 in c:\\users\\vinay\\anaconda3\\lib\\site-packages (from matplotlib->wordcloud) (0.10.0)\n",
      "Requirement already satisfied: six>=1.5 in c:\\users\\vinay\\anaconda3\\lib\\site-packages (from python-dateutil>=2.1->matplotlib->wordcloud) (1.15.0)\n"
     ]
    }
   ],
   "source": [
    "pip install wordcloud"
   ]
  },
  {
   "cell_type": "code",
   "execution_count": 38,
   "metadata": {},
   "outputs": [
    {
     "data": {
      "text/html": [
       "<div>\n",
       "<style scoped>\n",
       "    .dataframe tbody tr th:only-of-type {\n",
       "        vertical-align: middle;\n",
       "    }\n",
       "\n",
       "    .dataframe tbody tr th {\n",
       "        vertical-align: top;\n",
       "    }\n",
       "\n",
       "    .dataframe thead th {\n",
       "        text-align: right;\n",
       "    }\n",
       "</style>\n",
       "<table border=\"1\" class=\"dataframe\">\n",
       "  <thead>\n",
       "    <tr style=\"text-align: right;\">\n",
       "      <th></th>\n",
       "      <th>urlDrugName</th>\n",
       "      <th>rating</th>\n",
       "      <th>effectiveness</th>\n",
       "      <th>condition</th>\n",
       "      <th>sideEffects</th>\n",
       "      <th>text_lower</th>\n",
       "      <th>pre_clean_len</th>\n",
       "    </tr>\n",
       "  </thead>\n",
       "  <tbody>\n",
       "    <tr>\n",
       "      <th>0</th>\n",
       "      <td>enalapril</td>\n",
       "      <td>4</td>\n",
       "      <td>Highly Effective</td>\n",
       "      <td>management of congestive heart failure</td>\n",
       "      <td>Mild Side Effects</td>\n",
       "      <td>HIGHLY EFFECTIVE</td>\n",
       "      <td>16</td>\n",
       "    </tr>\n",
       "    <tr>\n",
       "      <th>1</th>\n",
       "      <td>ortho-tri-cyclen</td>\n",
       "      <td>1</td>\n",
       "      <td>Highly Effective</td>\n",
       "      <td>birth prevention</td>\n",
       "      <td>Severe Side Effects</td>\n",
       "      <td>HIGHLY EFFECTIVE</td>\n",
       "      <td>16</td>\n",
       "    </tr>\n",
       "    <tr>\n",
       "      <th>2</th>\n",
       "      <td>ponstel</td>\n",
       "      <td>10</td>\n",
       "      <td>Highly Effective</td>\n",
       "      <td>menstrual cramps</td>\n",
       "      <td>No Side Effects</td>\n",
       "      <td>HIGHLY EFFECTIVE</td>\n",
       "      <td>16</td>\n",
       "    </tr>\n",
       "    <tr>\n",
       "      <th>3</th>\n",
       "      <td>prilosec</td>\n",
       "      <td>3</td>\n",
       "      <td>Marginally Effective</td>\n",
       "      <td>acid reflux</td>\n",
       "      <td>Mild Side Effects</td>\n",
       "      <td>MARGINALLY EFFECTIVE</td>\n",
       "      <td>20</td>\n",
       "    </tr>\n",
       "    <tr>\n",
       "      <th>4</th>\n",
       "      <td>lyrica</td>\n",
       "      <td>2</td>\n",
       "      <td>Marginally Effective</td>\n",
       "      <td>fibromyalgia</td>\n",
       "      <td>Severe Side Effects</td>\n",
       "      <td>MARGINALLY EFFECTIVE</td>\n",
       "      <td>20</td>\n",
       "    </tr>\n",
       "  </tbody>\n",
       "</table>\n",
       "</div>"
      ],
      "text/plain": [
       "        urlDrugName  rating         effectiveness  \\\n",
       "0         enalapril       4      Highly Effective   \n",
       "1  ortho-tri-cyclen       1      Highly Effective   \n",
       "2           ponstel      10      Highly Effective   \n",
       "3          prilosec       3  Marginally Effective   \n",
       "4            lyrica       2  Marginally Effective   \n",
       "\n",
       "                                condition          sideEffects  \\\n",
       "0  management of congestive heart failure    Mild Side Effects   \n",
       "1                        birth prevention  Severe Side Effects   \n",
       "2                        menstrual cramps      No Side Effects   \n",
       "3                             acid reflux    Mild Side Effects   \n",
       "4                            fibromyalgia  Severe Side Effects   \n",
       "\n",
       "             text_lower  pre_clean_len  \n",
       "0      HIGHLY EFFECTIVE             16  \n",
       "1      HIGHLY EFFECTIVE             16  \n",
       "2      HIGHLY EFFECTIVE             16  \n",
       "3  MARGINALLY EFFECTIVE             20  \n",
       "4  MARGINALLY EFFECTIVE             20  "
      ]
     },
     "execution_count": 38,
     "metadata": {},
     "output_type": "execute_result"
    }
   ],
   "source": [
    "df.head()"
   ]
  },
  {
   "cell_type": "code",
   "execution_count": 39,
   "metadata": {},
   "outputs": [],
   "source": [
    "sam=df[['urlDrugName','sideEffects','effectiveness','condition']]"
   ]
  },
  {
   "cell_type": "code",
   "execution_count": 41,
   "metadata": {},
   "outputs": [
    {
     "data": {
      "text/plain": [
       "5"
      ]
     },
     "execution_count": 41,
     "metadata": {},
     "output_type": "execute_result"
    }
   ],
   "source": [
    "sam['sideEffects'].nunique()"
   ]
  },
  {
   "cell_type": "code",
   "execution_count": 42,
   "metadata": {},
   "outputs": [
    {
     "data": {
      "text/plain": [
       "Mild Side Effects                1019\n",
       "No Side Effects                   930\n",
       "Moderate Side Effects             614\n",
       "Severe Side Effects               369\n",
       "Extremely Severe Side Effects     175\n",
       "Name: sideEffects, dtype: int64"
      ]
     },
     "execution_count": 42,
     "metadata": {},
     "output_type": "execute_result"
    }
   ],
   "source": [
    "sam['sideEffects'].value_counts()"
   ]
  },
  {
   "cell_type": "code",
   "execution_count": 44,
   "metadata": {},
   "outputs": [],
   "source": [
    "#Split the data into  train and test\n",
    "from sklearn.model_selection import train_test_split\n",
    "\n",
    "X_train_unprocessed, X_test_unprocessed, y_train_unprocessed, y_test_unprocessed = train_test_split(sam[['effectiveness','condition']], sam['sideEffects'], test_size=0.3, random_state = 42)\n",
    "# We use test_size = 0.3 to signify the percentage of test data."
   ]
  },
  {
   "cell_type": "markdown",
   "metadata": {},
   "source": [
    "Label Encoding"
   ]
  },
  {
   "cell_type": "code",
   "execution_count": 50,
   "metadata": {},
   "outputs": [
    {
     "name": "stderr",
     "output_type": "stream",
     "text": [
      "<ipython-input-50-20482484fd18>:2: SettingWithCopyWarning: \n",
      "A value is trying to be set on a copy of a slice from a DataFrame.\n",
      "Try using .loc[row_indexer,col_indexer] = value instead\n",
      "\n",
      "See the caveats in the documentation: https://pandas.pydata.org/pandas-docs/stable/user_guide/indexing.html#returning-a-view-versus-a-copy\n",
      "  sam['sideEffects'] = sam['sideEffects'].map(side_effects_dict)\n"
     ]
    }
   ],
   "source": [
    "side_effects_dict = {'Mild Side Effects' : 1 ,'Severe Side Effects' : 4,'No Side Effects' : 3,'Moderate Side Effects' : 2,'Extremely Severe Side Effects' : 0}\n",
    "sam['sideEffects'] = sam['sideEffects'].map(side_effects_dict)"
   ]
  },
  {
   "cell_type": "code",
   "execution_count": 51,
   "metadata": {},
   "outputs": [
    {
     "data": {
      "text/html": [
       "<div>\n",
       "<style scoped>\n",
       "    .dataframe tbody tr th:only-of-type {\n",
       "        vertical-align: middle;\n",
       "    }\n",
       "\n",
       "    .dataframe tbody tr th {\n",
       "        vertical-align: top;\n",
       "    }\n",
       "\n",
       "    .dataframe thead th {\n",
       "        text-align: right;\n",
       "    }\n",
       "</style>\n",
       "<table border=\"1\" class=\"dataframe\">\n",
       "  <thead>\n",
       "    <tr style=\"text-align: right;\">\n",
       "      <th></th>\n",
       "      <th>urlDrugName</th>\n",
       "      <th>sideEffects</th>\n",
       "      <th>effectiveness</th>\n",
       "      <th>condition</th>\n",
       "    </tr>\n",
       "  </thead>\n",
       "  <tbody>\n",
       "    <tr>\n",
       "      <th>0</th>\n",
       "      <td>enalapril</td>\n",
       "      <td>1</td>\n",
       "      <td>Highly Effective</td>\n",
       "      <td>management of congestive heart failure</td>\n",
       "    </tr>\n",
       "    <tr>\n",
       "      <th>1</th>\n",
       "      <td>ortho-tri-cyclen</td>\n",
       "      <td>4</td>\n",
       "      <td>Highly Effective</td>\n",
       "      <td>birth prevention</td>\n",
       "    </tr>\n",
       "    <tr>\n",
       "      <th>2</th>\n",
       "      <td>ponstel</td>\n",
       "      <td>3</td>\n",
       "      <td>Highly Effective</td>\n",
       "      <td>menstrual cramps</td>\n",
       "    </tr>\n",
       "    <tr>\n",
       "      <th>3</th>\n",
       "      <td>prilosec</td>\n",
       "      <td>1</td>\n",
       "      <td>Marginally Effective</td>\n",
       "      <td>acid reflux</td>\n",
       "    </tr>\n",
       "    <tr>\n",
       "      <th>4</th>\n",
       "      <td>lyrica</td>\n",
       "      <td>4</td>\n",
       "      <td>Marginally Effective</td>\n",
       "      <td>fibromyalgia</td>\n",
       "    </tr>\n",
       "  </tbody>\n",
       "</table>\n",
       "</div>"
      ],
      "text/plain": [
       "        urlDrugName  sideEffects         effectiveness  \\\n",
       "0         enalapril            1      Highly Effective   \n",
       "1  ortho-tri-cyclen            4      Highly Effective   \n",
       "2           ponstel            3      Highly Effective   \n",
       "3          prilosec            1  Marginally Effective   \n",
       "4            lyrica            4  Marginally Effective   \n",
       "\n",
       "                                condition  \n",
       "0  management of congestive heart failure  \n",
       "1                        birth prevention  \n",
       "2                        menstrual cramps  \n",
       "3                             acid reflux  \n",
       "4                            fibromyalgia  "
      ]
     },
     "execution_count": 51,
     "metadata": {},
     "output_type": "execute_result"
    }
   ],
   "source": [
    "sam.head()"
   ]
  },
  {
   "cell_type": "code",
   "execution_count": 78,
   "metadata": {},
   "outputs": [],
   "source": [
    "x_train,x_test,y_train,y_test = train_test_split(sam['condition'],sam['sideEffects'], test_size=0.2, random_state=42)"
   ]
  },
  {
   "cell_type": "code",
   "execution_count": 79,
   "metadata": {
    "scrolled": true
   },
   "outputs": [
    {
     "data": {
      "text/plain": [
       "(2485,)"
      ]
     },
     "execution_count": 79,
     "metadata": {},
     "output_type": "execute_result"
    }
   ],
   "source": [
    "x_train.shape"
   ]
  },
  {
   "cell_type": "code",
   "execution_count": 80,
   "metadata": {},
   "outputs": [
    {
     "data": {
      "text/plain": [
       "(622,)"
      ]
     },
     "execution_count": 80,
     "metadata": {},
     "output_type": "execute_result"
    }
   ],
   "source": [
    "x_test.shape"
   ]
  },
  {
   "cell_type": "code",
   "execution_count": 81,
   "metadata": {},
   "outputs": [
    {
     "data": {
      "text/plain": [
       "2686                           anxiety\n",
       "1192                 to lose 30 pounds\n",
       "2738                 hyperpigmentation\n",
       "2780                     birth control\n",
       "1735             restless leg syndrome\n",
       "                     ...              \n",
       "3092                     atopic eczema\n",
       "1095    all over and various type pain\n",
       "1130                        depression\n",
       "1294                      stop smoking\n",
       "860                        cystic acne\n",
       "Name: condition, Length: 2485, dtype: object"
      ]
     },
     "execution_count": 81,
     "metadata": {},
     "output_type": "execute_result"
    }
   ],
   "source": [
    "x_train.fillna(x_train.mode([]))"
   ]
  },
  {
   "cell_type": "markdown",
   "metadata": {},
   "source": [
    "sklearn's CountVectorizer"
   ]
  },
  {
   "cell_type": "code",
   "execution_count": 84,
   "metadata": {},
   "outputs": [],
   "source": [
    "cv = CountVectorizer()\n",
    "x_train_cv = cv.fit_transform(x_train.values.astype('U'))\n",
    "x_test_cv = cv.transform(x_test.values.astype('U'))"
   ]
  },
  {
   "cell_type": "code",
   "execution_count": 85,
   "metadata": {},
   "outputs": [
    {
     "data": {
      "text/plain": [
       "((2485, 1211), (622, 1211))"
      ]
     },
     "execution_count": 85,
     "metadata": {},
     "output_type": "execute_result"
    }
   ],
   "source": [
    "x_train_cv.shape, x_test_cv.shape"
   ]
  },
  {
   "cell_type": "code",
   "execution_count": 86,
   "metadata": {},
   "outputs": [
    {
     "data": {
      "text/plain": [
       "array([[0, 0, 0, ..., 0, 0, 0],\n",
       "       [0, 0, 1, ..., 0, 0, 0],\n",
       "       [0, 0, 0, ..., 0, 0, 0],\n",
       "       ...,\n",
       "       [0, 0, 0, ..., 0, 0, 0],\n",
       "       [0, 0, 0, ..., 0, 0, 0],\n",
       "       [0, 0, 0, ..., 0, 0, 0]], dtype=int64)"
      ]
     },
     "execution_count": 86,
     "metadata": {},
     "output_type": "execute_result"
    }
   ],
   "source": [
    "x_array=x_train_cv.toarray()\n",
    "x_array"
   ]
  },
  {
   "cell_type": "code",
   "execution_count": 87,
   "metadata": {},
   "outputs": [
    {
     "data": {
      "text/plain": [
       "[array(['pain'], dtype='<U21')]"
      ]
     },
     "execution_count": 87,
     "metadata": {},
     "output_type": "execute_result"
    }
   ],
   "source": [
    "cv.inverse_transform(x_array[10])"
   ]
  },
  {
   "cell_type": "code",
   "execution_count": 88,
   "metadata": {},
   "outputs": [
    {
     "data": {
      "text/plain": [
       "dict"
      ]
     },
     "execution_count": 88,
     "metadata": {},
     "output_type": "execute_result"
    }
   ],
   "source": [
    "type(cv.vocabulary_)"
   ]
  },
  {
   "cell_type": "code",
   "execution_count": 89,
   "metadata": {},
   "outputs": [],
   "source": [
    "vocab_df = pd.Series(cv.vocabulary_).to_frame('feature_count')"
   ]
  },
  {
   "cell_type": "code",
   "execution_count": 91,
   "metadata": {},
   "outputs": [
    {
     "data": {
      "text/html": [
       "<div>\n",
       "<style scoped>\n",
       "    .dataframe tbody tr th:only-of-type {\n",
       "        vertical-align: middle;\n",
       "    }\n",
       "\n",
       "    .dataframe tbody tr th {\n",
       "        vertical-align: top;\n",
       "    }\n",
       "\n",
       "    .dataframe thead th {\n",
       "        text-align: right;\n",
       "    }\n",
       "</style>\n",
       "<table border=\"1\" class=\"dataframe\">\n",
       "  <thead>\n",
       "    <tr style=\"text-align: right;\">\n",
       "      <th></th>\n",
       "      <th>anxiety</th>\n",
       "      <th>to</th>\n",
       "      <th>lose</th>\n",
       "      <th>30</th>\n",
       "      <th>pounds</th>\n",
       "      <th>hyperpigmentation</th>\n",
       "      <th>birth</th>\n",
       "      <th>control</th>\n",
       "      <th>restless</th>\n",
       "      <th>leg</th>\n",
       "      <th>...</th>\n",
       "      <th>drugs</th>\n",
       "      <th>behavior</th>\n",
       "      <th>esophogeal</th>\n",
       "      <th>strictures</th>\n",
       "      <th>glucoma</th>\n",
       "      <th>sleepiness</th>\n",
       "      <th>menstral</th>\n",
       "      <th>fistula</th>\n",
       "      <th>ano</th>\n",
       "      <th>various</th>\n",
       "    </tr>\n",
       "  </thead>\n",
       "  <tbody>\n",
       "    <tr>\n",
       "      <th>feature_count</th>\n",
       "      <td>65</td>\n",
       "      <td>1117</td>\n",
       "      <td>658</td>\n",
       "      <td>2</td>\n",
       "      <td>857</td>\n",
       "      <td>544</td>\n",
       "      <td>127</td>\n",
       "      <td>237</td>\n",
       "      <td>936</td>\n",
       "      <td>637</td>\n",
       "      <td>...</td>\n",
       "      <td>323</td>\n",
       "      <td>112</td>\n",
       "      <td>371</td>\n",
       "      <td>1050</td>\n",
       "      <td>469</td>\n",
       "      <td>1006</td>\n",
       "      <td>687</td>\n",
       "      <td>422</td>\n",
       "      <td>58</td>\n",
       "      <td>1177</td>\n",
       "    </tr>\n",
       "  </tbody>\n",
       "</table>\n",
       "<p>1 rows × 1211 columns</p>\n",
       "</div>"
      ],
      "text/plain": [
       "               anxiety    to  lose  30  pounds  hyperpigmentation  birth  \\\n",
       "feature_count       65  1117   658   2     857                544    127   \n",
       "\n",
       "               control  restless  leg  ...  drugs  behavior  esophogeal  \\\n",
       "feature_count      237       936  637  ...    323       112         371   \n",
       "\n",
       "               strictures  glucoma  sleepiness  menstral  fistula  ano  \\\n",
       "feature_count        1050      469        1006       687      422   58   \n",
       "\n",
       "               various  \n",
       "feature_count     1177  \n",
       "\n",
       "[1 rows x 1211 columns]"
      ]
     },
     "execution_count": 91,
     "metadata": {},
     "output_type": "execute_result"
    }
   ],
   "source": [
    "vocab_df.T"
   ]
  },
  {
   "cell_type": "code",
   "execution_count": 92,
   "metadata": {},
   "outputs": [
    {
     "data": {
      "text/html": [
       "<div>\n",
       "<style scoped>\n",
       "    .dataframe tbody tr th:only-of-type {\n",
       "        vertical-align: middle;\n",
       "    }\n",
       "\n",
       "    .dataframe tbody tr th {\n",
       "        vertical-align: top;\n",
       "    }\n",
       "\n",
       "    .dataframe thead th {\n",
       "        text-align: right;\n",
       "    }\n",
       "</style>\n",
       "<table border=\"1\" class=\"dataframe\">\n",
       "  <thead>\n",
       "    <tr style=\"text-align: right;\">\n",
       "      <th></th>\n",
       "      <th>20</th>\n",
       "      <th>21</th>\n",
       "      <th>30</th>\n",
       "      <th>42</th>\n",
       "      <th>aand</th>\n",
       "      <th>abcess</th>\n",
       "      <th>abcessed</th>\n",
       "      <th>abdominal</th>\n",
       "      <th>able</th>\n",
       "      <th>abscess</th>\n",
       "      <th>...</th>\n",
       "      <th>working</th>\n",
       "      <th>worry</th>\n",
       "      <th>wound</th>\n",
       "      <th>wrinkle</th>\n",
       "      <th>wrinkles</th>\n",
       "      <th>wrinkling</th>\n",
       "      <th>year</th>\n",
       "      <th>years</th>\n",
       "      <th>yeast</th>\n",
       "      <th>zoster</th>\n",
       "    </tr>\n",
       "  </thead>\n",
       "  <tbody>\n",
       "    <tr>\n",
       "      <th>feature_count</th>\n",
       "      <td>0</td>\n",
       "      <td>1</td>\n",
       "      <td>2</td>\n",
       "      <td>3</td>\n",
       "      <td>4</td>\n",
       "      <td>5</td>\n",
       "      <td>6</td>\n",
       "      <td>7</td>\n",
       "      <td>8</td>\n",
       "      <td>9</td>\n",
       "      <td>...</td>\n",
       "      <td>1201</td>\n",
       "      <td>1202</td>\n",
       "      <td>1203</td>\n",
       "      <td>1204</td>\n",
       "      <td>1205</td>\n",
       "      <td>1206</td>\n",
       "      <td>1207</td>\n",
       "      <td>1208</td>\n",
       "      <td>1209</td>\n",
       "      <td>1210</td>\n",
       "    </tr>\n",
       "  </tbody>\n",
       "</table>\n",
       "<p>1 rows × 1211 columns</p>\n",
       "</div>"
      ],
      "text/plain": [
       "               20  21  30  42  aand  abcess  abcessed  abdominal  able  \\\n",
       "feature_count   0   1   2   3     4       5         6          7     8   \n",
       "\n",
       "               abscess  ...  working  worry  wound  wrinkle  wrinkles  \\\n",
       "feature_count        9  ...     1201   1202   1203     1204      1205   \n",
       "\n",
       "               wrinkling  year  years  yeast  zoster  \n",
       "feature_count       1206  1207   1208   1209    1210  \n",
       "\n",
       "[1 rows x 1211 columns]"
      ]
     },
     "execution_count": 92,
     "metadata": {},
     "output_type": "execute_result"
    }
   ],
   "source": [
    "vocab_df.sort_values(by='feature_count').T"
   ]
  },
  {
   "cell_type": "markdown",
   "metadata": {},
   "source": [
    "sklearn's CountVectorizer with ngram"
   ]
  },
  {
   "cell_type": "code",
   "execution_count": 94,
   "metadata": {},
   "outputs": [],
   "source": [
    "cv2 = CountVectorizer(ngram_range=(1,2))\n",
    "x_train_cv_2= cv2.fit_transform(x_train.values.astype('U'))\n",
    "x_test_cv_2 = cv2.transform(x_test.values.astype('U'))"
   ]
  },
  {
   "cell_type": "code",
   "execution_count": 95,
   "metadata": {},
   "outputs": [
    {
     "data": {
      "text/plain": [
       "((2485, 2999), (622, 2999))"
      ]
     },
     "execution_count": 95,
     "metadata": {},
     "output_type": "execute_result"
    }
   ],
   "source": [
    "x_train_cv_2.shape, x_test_cv_2.shape"
   ]
  },
  {
   "cell_type": "code",
   "execution_count": 96,
   "metadata": {},
   "outputs": [
    {
     "data": {
      "text/plain": [
       "array([[0, 0, 0, ..., 0, 0, 0],\n",
       "       [0, 0, 0, ..., 0, 0, 0],\n",
       "       [0, 0, 0, ..., 0, 0, 0],\n",
       "       ...,\n",
       "       [0, 0, 0, ..., 0, 0, 0],\n",
       "       [0, 0, 0, ..., 0, 0, 0],\n",
       "       [0, 0, 0, ..., 0, 0, 0]], dtype=int64)"
      ]
     },
     "execution_count": 96,
     "metadata": {},
     "output_type": "execute_result"
    }
   ],
   "source": [
    "x_array_2 = x_train_cv_2.toarray()\n",
    "x_array_2"
   ]
  },
  {
   "cell_type": "code",
   "execution_count": 97,
   "metadata": {},
   "outputs": [
    {
     "data": {
      "text/plain": [
       "[array(['difficulty getting'], dtype='<U30')]"
      ]
     },
     "execution_count": 97,
     "metadata": {},
     "output_type": "execute_result"
    }
   ],
   "source": [
    "cv2.inverse_transform(x_array[10])"
   ]
  },
  {
   "cell_type": "code",
   "execution_count": 98,
   "metadata": {},
   "outputs": [],
   "source": [
    "vocab_df_2 = pd.Series(cv2.vocabulary_).to_frame('feature_count')"
   ]
  },
  {
   "cell_type": "code",
   "execution_count": 99,
   "metadata": {},
   "outputs": [
    {
     "data": {
      "text/html": [
       "<div>\n",
       "<style scoped>\n",
       "    .dataframe tbody tr th:only-of-type {\n",
       "        vertical-align: middle;\n",
       "    }\n",
       "\n",
       "    .dataframe tbody tr th {\n",
       "        vertical-align: top;\n",
       "    }\n",
       "\n",
       "    .dataframe thead th {\n",
       "        text-align: right;\n",
       "    }\n",
       "</style>\n",
       "<table border=\"1\" class=\"dataframe\">\n",
       "  <thead>\n",
       "    <tr style=\"text-align: right;\">\n",
       "      <th></th>\n",
       "      <th>20</th>\n",
       "      <th>20 year</th>\n",
       "      <th>21</th>\n",
       "      <th>30</th>\n",
       "      <th>30 pounds</th>\n",
       "      <th>42</th>\n",
       "      <th>42 years</th>\n",
       "      <th>aand</th>\n",
       "      <th>aand fibromyalgia</th>\n",
       "      <th>abcess</th>\n",
       "      <th>...</th>\n",
       "      <th>year</th>\n",
       "      <th>year pack</th>\n",
       "      <th>year round</th>\n",
       "      <th>years</th>\n",
       "      <th>years quit</th>\n",
       "      <th>yeast</th>\n",
       "      <th>yeast diaper</th>\n",
       "      <th>yeast infection</th>\n",
       "      <th>yeast infections</th>\n",
       "      <th>zoster</th>\n",
       "    </tr>\n",
       "  </thead>\n",
       "  <tbody>\n",
       "    <tr>\n",
       "      <th>feature_count</th>\n",
       "      <td>0</td>\n",
       "      <td>1</td>\n",
       "      <td>2</td>\n",
       "      <td>3</td>\n",
       "      <td>4</td>\n",
       "      <td>5</td>\n",
       "      <td>6</td>\n",
       "      <td>7</td>\n",
       "      <td>8</td>\n",
       "      <td>9</td>\n",
       "      <td>...</td>\n",
       "      <td>2989</td>\n",
       "      <td>2990</td>\n",
       "      <td>2991</td>\n",
       "      <td>2992</td>\n",
       "      <td>2993</td>\n",
       "      <td>2994</td>\n",
       "      <td>2995</td>\n",
       "      <td>2996</td>\n",
       "      <td>2997</td>\n",
       "      <td>2998</td>\n",
       "    </tr>\n",
       "  </tbody>\n",
       "</table>\n",
       "<p>1 rows × 2999 columns</p>\n",
       "</div>"
      ],
      "text/plain": [
       "               20  20 year  21  30  30 pounds  42  42 years  aand  \\\n",
       "feature_count   0        1   2   3          4   5         6     7   \n",
       "\n",
       "               aand fibromyalgia  abcess  ...  year  year pack  year round  \\\n",
       "feature_count                  8       9  ...  2989       2990        2991   \n",
       "\n",
       "               years  years quit  yeast  yeast diaper  yeast infection  \\\n",
       "feature_count   2992        2993   2994          2995             2996   \n",
       "\n",
       "               yeast infections  zoster  \n",
       "feature_count              2997    2998  \n",
       "\n",
       "[1 rows x 2999 columns]"
      ]
     },
     "execution_count": 99,
     "metadata": {},
     "output_type": "execute_result"
    }
   ],
   "source": [
    "vocab_df_2.sort_values(by='feature_count').T"
   ]
  },
  {
   "cell_type": "markdown",
   "metadata": {},
   "source": [
    "sklearn's TfidfVectorizer"
   ]
  },
  {
   "cell_type": "code",
   "execution_count": 103,
   "metadata": {},
   "outputs": [],
   "source": [
    "from sklearn.feature_extraction.text import TfidfVectorizer, CountVectorizer,HashingVectorizer\n",
    "tv = TfidfVectorizer()\n",
    "x_train_tv = tv.fit_transform(x_train.values.astype('U'))\n",
    "x_test_tv = tv.transform(x_test.values.astype('U'))"
   ]
  },
  {
   "cell_type": "code",
   "execution_count": 104,
   "metadata": {},
   "outputs": [
    {
     "data": {
      "text/plain": [
       "((2485, 1211), (622, 1211))"
      ]
     },
     "execution_count": 104,
     "metadata": {},
     "output_type": "execute_result"
    }
   ],
   "source": [
    "x_train_tv.shape, x_test_tv.shape"
   ]
  },
  {
   "cell_type": "code",
   "execution_count": 105,
   "metadata": {},
   "outputs": [
    {
     "data": {
      "text/plain": [
       "array([[0.        , 0.        , 0.        , ..., 0.        , 0.        ,\n",
       "        0.        ],\n",
       "       [0.        , 0.        , 0.56093271, ..., 0.        , 0.        ,\n",
       "        0.        ],\n",
       "       [0.        , 0.        , 0.        , ..., 0.        , 0.        ,\n",
       "        0.        ],\n",
       "       ...,\n",
       "       [0.        , 0.        , 0.        , ..., 0.        , 0.        ,\n",
       "        0.        ],\n",
       "       [0.        , 0.        , 0.        , ..., 0.        , 0.        ,\n",
       "        0.        ],\n",
       "       [0.        , 0.        , 0.        , ..., 0.        , 0.        ,\n",
       "        0.        ]])"
      ]
     },
     "execution_count": 105,
     "metadata": {},
     "output_type": "execute_result"
    }
   ],
   "source": [
    "t_array = x_train_tv.toarray()\n",
    "t_array"
   ]
  },
  {
   "cell_type": "code",
   "execution_count": 106,
   "metadata": {},
   "outputs": [
    {
     "data": {
      "text/plain": [
       "[array(['pain'], dtype='<U21')]"
      ]
     },
     "execution_count": 106,
     "metadata": {},
     "output_type": "execute_result"
    }
   ],
   "source": [
    "tv.inverse_transform(t_array[10])"
   ]
  },
  {
   "cell_type": "code",
   "execution_count": 107,
   "metadata": {},
   "outputs": [
    {
     "data": {
      "text/html": [
       "<div>\n",
       "<style scoped>\n",
       "    .dataframe tbody tr th:only-of-type {\n",
       "        vertical-align: middle;\n",
       "    }\n",
       "\n",
       "    .dataframe tbody tr th {\n",
       "        vertical-align: top;\n",
       "    }\n",
       "\n",
       "    .dataframe thead th {\n",
       "        text-align: right;\n",
       "    }\n",
       "</style>\n",
       "<table border=\"1\" class=\"dataframe\">\n",
       "  <thead>\n",
       "    <tr style=\"text-align: right;\">\n",
       "      <th></th>\n",
       "      <th>0</th>\n",
       "      <th>1</th>\n",
       "      <th>2</th>\n",
       "      <th>3</th>\n",
       "      <th>4</th>\n",
       "      <th>5</th>\n",
       "      <th>6</th>\n",
       "      <th>7</th>\n",
       "      <th>8</th>\n",
       "      <th>9</th>\n",
       "      <th>...</th>\n",
       "      <th>1201</th>\n",
       "      <th>1202</th>\n",
       "      <th>1203</th>\n",
       "      <th>1204</th>\n",
       "      <th>1205</th>\n",
       "      <th>1206</th>\n",
       "      <th>1207</th>\n",
       "      <th>1208</th>\n",
       "      <th>1209</th>\n",
       "      <th>1210</th>\n",
       "    </tr>\n",
       "  </thead>\n",
       "  <tbody>\n",
       "    <tr>\n",
       "      <th>feature_count</th>\n",
       "      <td>8.125283</td>\n",
       "      <td>8.125283</td>\n",
       "      <td>8.125283</td>\n",
       "      <td>8.125283</td>\n",
       "      <td>8.125283</td>\n",
       "      <td>8.125283</td>\n",
       "      <td>8.125283</td>\n",
       "      <td>8.125283</td>\n",
       "      <td>8.125283</td>\n",
       "      <td>7.719818</td>\n",
       "      <td>...</td>\n",
       "      <td>8.125283</td>\n",
       "      <td>8.125283</td>\n",
       "      <td>7.432136</td>\n",
       "      <td>8.125283</td>\n",
       "      <td>5.560334</td>\n",
       "      <td>8.125283</td>\n",
       "      <td>7.719818</td>\n",
       "      <td>8.125283</td>\n",
       "      <td>6.738989</td>\n",
       "      <td>8.125283</td>\n",
       "    </tr>\n",
       "  </tbody>\n",
       "</table>\n",
       "<p>1 rows × 1211 columns</p>\n",
       "</div>"
      ],
      "text/plain": [
       "                   0         1         2         3         4         5     \\\n",
       "feature_count  8.125283  8.125283  8.125283  8.125283  8.125283  8.125283   \n",
       "\n",
       "                   6         7         8         9     ...      1201  \\\n",
       "feature_count  8.125283  8.125283  8.125283  7.719818  ...  8.125283   \n",
       "\n",
       "                   1202      1203      1204      1205      1206      1207  \\\n",
       "feature_count  8.125283  7.432136  8.125283  5.560334  8.125283  7.719818   \n",
       "\n",
       "                   1208      1209      1210  \n",
       "feature_count  8.125283  6.738989  8.125283  \n",
       "\n",
       "[1 rows x 1211 columns]"
      ]
     },
     "execution_count": 107,
     "metadata": {},
     "output_type": "execute_result"
    }
   ],
   "source": [
    "pd.Series(tv.idf_).to_frame('feature_count').T"
   ]
  },
  {
   "cell_type": "code",
   "execution_count": 108,
   "metadata": {},
   "outputs": [],
   "source": [
    "vocab_df_3 = pd.Series(tv.vocabulary_).to_frame('feature_count')"
   ]
  },
  {
   "cell_type": "code",
   "execution_count": 110,
   "metadata": {},
   "outputs": [
    {
     "data": {
      "text/html": [
       "<div>\n",
       "<style scoped>\n",
       "    .dataframe tbody tr th:only-of-type {\n",
       "        vertical-align: middle;\n",
       "    }\n",
       "\n",
       "    .dataframe tbody tr th {\n",
       "        vertical-align: top;\n",
       "    }\n",
       "\n",
       "    .dataframe thead th {\n",
       "        text-align: right;\n",
       "    }\n",
       "</style>\n",
       "<table border=\"1\" class=\"dataframe\">\n",
       "  <thead>\n",
       "    <tr style=\"text-align: right;\">\n",
       "      <th></th>\n",
       "      <th>anxiety</th>\n",
       "      <th>to</th>\n",
       "      <th>lose</th>\n",
       "      <th>30</th>\n",
       "      <th>pounds</th>\n",
       "      <th>hyperpigmentation</th>\n",
       "      <th>birth</th>\n",
       "      <th>control</th>\n",
       "      <th>restless</th>\n",
       "      <th>leg</th>\n",
       "      <th>...</th>\n",
       "      <th>drugs</th>\n",
       "      <th>behavior</th>\n",
       "      <th>esophogeal</th>\n",
       "      <th>strictures</th>\n",
       "      <th>glucoma</th>\n",
       "      <th>sleepiness</th>\n",
       "      <th>menstral</th>\n",
       "      <th>fistula</th>\n",
       "      <th>ano</th>\n",
       "      <th>various</th>\n",
       "    </tr>\n",
       "  </thead>\n",
       "  <tbody>\n",
       "    <tr>\n",
       "      <th>feature_count</th>\n",
       "      <td>65</td>\n",
       "      <td>1117</td>\n",
       "      <td>658</td>\n",
       "      <td>2</td>\n",
       "      <td>857</td>\n",
       "      <td>544</td>\n",
       "      <td>127</td>\n",
       "      <td>237</td>\n",
       "      <td>936</td>\n",
       "      <td>637</td>\n",
       "      <td>...</td>\n",
       "      <td>323</td>\n",
       "      <td>112</td>\n",
       "      <td>371</td>\n",
       "      <td>1050</td>\n",
       "      <td>469</td>\n",
       "      <td>1006</td>\n",
       "      <td>687</td>\n",
       "      <td>422</td>\n",
       "      <td>58</td>\n",
       "      <td>1177</td>\n",
       "    </tr>\n",
       "  </tbody>\n",
       "</table>\n",
       "<p>1 rows × 1211 columns</p>\n",
       "</div>"
      ],
      "text/plain": [
       "               anxiety    to  lose  30  pounds  hyperpigmentation  birth  \\\n",
       "feature_count       65  1117   658   2     857                544    127   \n",
       "\n",
       "               control  restless  leg  ...  drugs  behavior  esophogeal  \\\n",
       "feature_count      237       936  637  ...    323       112         371   \n",
       "\n",
       "               strictures  glucoma  sleepiness  menstral  fistula  ano  \\\n",
       "feature_count        1050      469        1006       687      422   58   \n",
       "\n",
       "               various  \n",
       "feature_count     1177  \n",
       "\n",
       "[1 rows x 1211 columns]"
      ]
     },
     "execution_count": 110,
     "metadata": {},
     "output_type": "execute_result"
    }
   ],
   "source": [
    "vocab_df_3.T"
   ]
  },
  {
   "cell_type": "code",
   "execution_count": 111,
   "metadata": {},
   "outputs": [
    {
     "data": {
      "text/html": [
       "<div>\n",
       "<style scoped>\n",
       "    .dataframe tbody tr th:only-of-type {\n",
       "        vertical-align: middle;\n",
       "    }\n",
       "\n",
       "    .dataframe tbody tr th {\n",
       "        vertical-align: top;\n",
       "    }\n",
       "\n",
       "    .dataframe thead th {\n",
       "        text-align: right;\n",
       "    }\n",
       "</style>\n",
       "<table border=\"1\" class=\"dataframe\">\n",
       "  <thead>\n",
       "    <tr style=\"text-align: right;\">\n",
       "      <th></th>\n",
       "      <th>20</th>\n",
       "      <th>21</th>\n",
       "      <th>30</th>\n",
       "      <th>42</th>\n",
       "      <th>aand</th>\n",
       "      <th>abcess</th>\n",
       "      <th>abcessed</th>\n",
       "      <th>abdominal</th>\n",
       "      <th>able</th>\n",
       "      <th>abscess</th>\n",
       "      <th>...</th>\n",
       "      <th>working</th>\n",
       "      <th>worry</th>\n",
       "      <th>wound</th>\n",
       "      <th>wrinkle</th>\n",
       "      <th>wrinkles</th>\n",
       "      <th>wrinkling</th>\n",
       "      <th>year</th>\n",
       "      <th>years</th>\n",
       "      <th>yeast</th>\n",
       "      <th>zoster</th>\n",
       "    </tr>\n",
       "  </thead>\n",
       "  <tbody>\n",
       "    <tr>\n",
       "      <th>feature_count</th>\n",
       "      <td>0</td>\n",
       "      <td>1</td>\n",
       "      <td>2</td>\n",
       "      <td>3</td>\n",
       "      <td>4</td>\n",
       "      <td>5</td>\n",
       "      <td>6</td>\n",
       "      <td>7</td>\n",
       "      <td>8</td>\n",
       "      <td>9</td>\n",
       "      <td>...</td>\n",
       "      <td>1201</td>\n",
       "      <td>1202</td>\n",
       "      <td>1203</td>\n",
       "      <td>1204</td>\n",
       "      <td>1205</td>\n",
       "      <td>1206</td>\n",
       "      <td>1207</td>\n",
       "      <td>1208</td>\n",
       "      <td>1209</td>\n",
       "      <td>1210</td>\n",
       "    </tr>\n",
       "  </tbody>\n",
       "</table>\n",
       "<p>1 rows × 1211 columns</p>\n",
       "</div>"
      ],
      "text/plain": [
       "               20  21  30  42  aand  abcess  abcessed  abdominal  able  \\\n",
       "feature_count   0   1   2   3     4       5         6          7     8   \n",
       "\n",
       "               abscess  ...  working  worry  wound  wrinkle  wrinkles  \\\n",
       "feature_count        9  ...     1201   1202   1203     1204      1205   \n",
       "\n",
       "               wrinkling  year  years  yeast  zoster  \n",
       "feature_count       1206  1207   1208   1209    1210  \n",
       "\n",
       "[1 rows x 1211 columns]"
      ]
     },
     "execution_count": 111,
     "metadata": {},
     "output_type": "execute_result"
    }
   ],
   "source": [
    "vocab_df_3.sort_values(by='feature_count').T"
   ]
  },
  {
   "cell_type": "markdown",
   "metadata": {},
   "source": [
    "Sklearn's HashingVectorizer"
   ]
  },
  {
   "cell_type": "code",
   "execution_count": 113,
   "metadata": {},
   "outputs": [],
   "source": [
    "hv = HashingVectorizer()\n",
    "x_train_hv = hv.fit_transform(x_train.values.astype('U'))\n",
    "x_test_hv = hv.transform(x_test.values.astype('U'))"
   ]
  },
  {
   "cell_type": "code",
   "execution_count": 114,
   "metadata": {},
   "outputs": [
    {
     "data": {
      "text/plain": [
       "((2485, 1048576), (622, 1048576))"
      ]
     },
     "execution_count": 114,
     "metadata": {},
     "output_type": "execute_result"
    }
   ],
   "source": [
    "x_train_hv.shape, x_test_hv.shape"
   ]
  },
  {
   "cell_type": "code",
   "execution_count": 115,
   "metadata": {},
   "outputs": [
    {
     "name": "stdout",
     "output_type": "stream",
     "text": [
      "{'alternate_sign': True, 'analyzer': 'word', 'binary': False, 'decode_error': 'strict', 'dtype': <class 'numpy.float64'>, 'encoding': 'utf-8', 'input': 'content', 'lowercase': True, 'n_features': 1048576, 'ngram_range': (1, 1), 'norm': 'l2', 'preprocessor': None, 'stop_words': None, 'strip_accents': None, 'token_pattern': '(?u)\\\\b\\\\w\\\\w+\\\\b', 'tokenizer': None}\n"
     ]
    }
   ],
   "source": [
    "print(hv.get_params())"
   ]
  },
  {
   "cell_type": "code",
   "execution_count": null,
   "metadata": {},
   "outputs": [],
   "source": []
  }
 ],
 "metadata": {
  "kernelspec": {
   "display_name": "Python 3",
   "language": "python",
   "name": "python3"
  },
  "language_info": {
   "codemirror_mode": {
    "name": "ipython",
    "version": 3
   },
   "file_extension": ".py",
   "mimetype": "text/x-python",
   "name": "python",
   "nbconvert_exporter": "python",
   "pygments_lexer": "ipython3",
   "version": "3.8.3"
  }
 },
 "nbformat": 4,
 "nbformat_minor": 4
}
