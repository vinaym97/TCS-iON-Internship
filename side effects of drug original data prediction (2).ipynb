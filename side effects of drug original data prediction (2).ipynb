{
 "cells": [
  {
   "cell_type": "markdown",
   "metadata": {},
   "source": [
    "### importing libraries"
   ]
  },
  {
   "cell_type": "code",
   "execution_count": 152,
   "metadata": {},
   "outputs": [],
   "source": [
    "import numpy as np\n",
    "import pandas as pd\n",
    "import matplotlib.pyplot as plt\n",
    "import seaborn as sns"
   ]
  },
  {
   "cell_type": "markdown",
   "metadata": {},
   "source": [
    "### importing data"
   ]
  },
  {
   "cell_type": "code",
   "execution_count": 153,
   "metadata": {},
   "outputs": [],
   "source": [
    "train=pd.read_csv(\"drugLibTrain_raw.tsv\",sep=\"\\t\")\n",
    "test=pd.read_csv(\"drugLibTest_raw.tsv\",sep=\"\\t\")"
   ]
  },
  {
   "cell_type": "code",
   "execution_count": 154,
   "metadata": {},
   "outputs": [
    {
     "data": {
      "text/html": [
       "<div>\n",
       "<style scoped>\n",
       "    .dataframe tbody tr th:only-of-type {\n",
       "        vertical-align: middle;\n",
       "    }\n",
       "\n",
       "    .dataframe tbody tr th {\n",
       "        vertical-align: top;\n",
       "    }\n",
       "\n",
       "    .dataframe thead th {\n",
       "        text-align: right;\n",
       "    }\n",
       "</style>\n",
       "<table border=\"1\" class=\"dataframe\">\n",
       "  <thead>\n",
       "    <tr style=\"text-align: right;\">\n",
       "      <th></th>\n",
       "      <th>Unnamed: 0</th>\n",
       "      <th>urlDrugName</th>\n",
       "      <th>rating</th>\n",
       "      <th>effectiveness</th>\n",
       "      <th>sideEffects</th>\n",
       "      <th>condition</th>\n",
       "      <th>benefitsReview</th>\n",
       "      <th>sideEffectsReview</th>\n",
       "      <th>commentsReview</th>\n",
       "    </tr>\n",
       "  </thead>\n",
       "  <tbody>\n",
       "    <tr>\n",
       "      <th>3102</th>\n",
       "      <td>1039</td>\n",
       "      <td>vyvanse</td>\n",
       "      <td>10</td>\n",
       "      <td>Highly Effective</td>\n",
       "      <td>Mild Side Effects</td>\n",
       "      <td>adhd</td>\n",
       "      <td>Increased focus, attention, productivity. Bett...</td>\n",
       "      <td>Restless legs at night, insomnia, headache (so...</td>\n",
       "      <td>I took adderall once as a child, and it made m...</td>\n",
       "    </tr>\n",
       "    <tr>\n",
       "      <th>3103</th>\n",
       "      <td>3281</td>\n",
       "      <td>zoloft</td>\n",
       "      <td>1</td>\n",
       "      <td>Ineffective</td>\n",
       "      <td>Extremely Severe Side Effects</td>\n",
       "      <td>depression</td>\n",
       "      <td>Emotions were somewhat blunted. Less moodiness.</td>\n",
       "      <td>Weight gain, extreme tiredness during the day,...</td>\n",
       "      <td>I was on Zoloft for about 2 years total. I am ...</td>\n",
       "    </tr>\n",
       "    <tr>\n",
       "      <th>3104</th>\n",
       "      <td>1664</td>\n",
       "      <td>climara</td>\n",
       "      <td>2</td>\n",
       "      <td>Marginally Effective</td>\n",
       "      <td>Moderate Side Effects</td>\n",
       "      <td>total hysterctomy</td>\n",
       "      <td>---</td>\n",
       "      <td>Constant issues with the patch not staying on....</td>\n",
       "      <td>---</td>\n",
       "    </tr>\n",
       "    <tr>\n",
       "      <th>3105</th>\n",
       "      <td>2621</td>\n",
       "      <td>trileptal</td>\n",
       "      <td>8</td>\n",
       "      <td>Considerably Effective</td>\n",
       "      <td>Mild Side Effects</td>\n",
       "      <td>epilepsy</td>\n",
       "      <td>Controlled complex partial seizures.</td>\n",
       "      <td>Dizziness, fatigue, nausea</td>\n",
       "      <td>Started at 2 doses of 300 mg a day and worked ...</td>\n",
       "    </tr>\n",
       "    <tr>\n",
       "      <th>3106</th>\n",
       "      <td>2748</td>\n",
       "      <td>micardis</td>\n",
       "      <td>4</td>\n",
       "      <td>Moderately Effective</td>\n",
       "      <td>Moderate Side Effects</td>\n",
       "      <td>high blood pressure</td>\n",
       "      <td>The drug Micardis did seem to alleviate my hig...</td>\n",
       "      <td>I find when I am taking Micardis that I tend t...</td>\n",
       "      <td>I take Micardis in pill form once daily.</td>\n",
       "    </tr>\n",
       "  </tbody>\n",
       "</table>\n",
       "</div>"
      ],
      "text/plain": [
       "      Unnamed: 0 urlDrugName  rating           effectiveness  \\\n",
       "3102        1039     vyvanse      10        Highly Effective   \n",
       "3103        3281      zoloft       1             Ineffective   \n",
       "3104        1664     climara       2    Marginally Effective   \n",
       "3105        2621   trileptal       8  Considerably Effective   \n",
       "3106        2748    micardis       4    Moderately Effective   \n",
       "\n",
       "                        sideEffects            condition  \\\n",
       "3102              Mild Side Effects                 adhd   \n",
       "3103  Extremely Severe Side Effects           depression   \n",
       "3104          Moderate Side Effects    total hysterctomy   \n",
       "3105              Mild Side Effects             epilepsy   \n",
       "3106          Moderate Side Effects  high blood pressure   \n",
       "\n",
       "                                         benefitsReview  \\\n",
       "3102  Increased focus, attention, productivity. Bett...   \n",
       "3103    Emotions were somewhat blunted. Less moodiness.   \n",
       "3104                                                ---   \n",
       "3105               Controlled complex partial seizures.   \n",
       "3106  The drug Micardis did seem to alleviate my hig...   \n",
       "\n",
       "                                      sideEffectsReview  \\\n",
       "3102  Restless legs at night, insomnia, headache (so...   \n",
       "3103  Weight gain, extreme tiredness during the day,...   \n",
       "3104  Constant issues with the patch not staying on....   \n",
       "3105                         Dizziness, fatigue, nausea   \n",
       "3106  I find when I am taking Micardis that I tend t...   \n",
       "\n",
       "                                         commentsReview  \n",
       "3102  I took adderall once as a child, and it made m...  \n",
       "3103  I was on Zoloft for about 2 years total. I am ...  \n",
       "3104                                                ---  \n",
       "3105  Started at 2 doses of 300 mg a day and worked ...  \n",
       "3106           I take Micardis in pill form once daily.  "
      ]
     },
     "execution_count": 154,
     "metadata": {},
     "output_type": "execute_result"
    }
   ],
   "source": [
    "train.tail()"
   ]
  },
  {
   "cell_type": "code",
   "execution_count": 155,
   "metadata": {},
   "outputs": [],
   "source": [
    "train.drop('Unnamed: 0',inplace=True,axis=1)\n",
    "test.drop('Unnamed: 0',inplace=True,axis=1)"
   ]
  },
  {
   "cell_type": "code",
   "execution_count": 156,
   "metadata": {},
   "outputs": [
    {
     "data": {
      "text/plain": [
       "((3107, 8), (1036, 8))"
      ]
     },
     "execution_count": 156,
     "metadata": {},
     "output_type": "execute_result"
    }
   ],
   "source": [
    "train.shape,test.shape"
   ]
  },
  {
   "cell_type": "code",
   "execution_count": 157,
   "metadata": {},
   "outputs": [],
   "source": [
    "df = pd.concat([train, test], axis=0)"
   ]
  },
  {
   "cell_type": "code",
   "execution_count": 158,
   "metadata": {},
   "outputs": [
    {
     "data": {
      "text/html": [
       "<div>\n",
       "<style scoped>\n",
       "    .dataframe tbody tr th:only-of-type {\n",
       "        vertical-align: middle;\n",
       "    }\n",
       "\n",
       "    .dataframe tbody tr th {\n",
       "        vertical-align: top;\n",
       "    }\n",
       "\n",
       "    .dataframe thead th {\n",
       "        text-align: right;\n",
       "    }\n",
       "</style>\n",
       "<table border=\"1\" class=\"dataframe\">\n",
       "  <thead>\n",
       "    <tr style=\"text-align: right;\">\n",
       "      <th></th>\n",
       "      <th>urlDrugName</th>\n",
       "      <th>rating</th>\n",
       "      <th>effectiveness</th>\n",
       "      <th>sideEffects</th>\n",
       "      <th>condition</th>\n",
       "      <th>benefitsReview</th>\n",
       "      <th>sideEffectsReview</th>\n",
       "      <th>commentsReview</th>\n",
       "    </tr>\n",
       "  </thead>\n",
       "  <tbody>\n",
       "    <tr>\n",
       "      <th>0</th>\n",
       "      <td>enalapril</td>\n",
       "      <td>4</td>\n",
       "      <td>Highly Effective</td>\n",
       "      <td>Mild Side Effects</td>\n",
       "      <td>management of congestive heart failure</td>\n",
       "      <td>slowed the progression of left ventricular dys...</td>\n",
       "      <td>cough, hypotension , proteinuria, impotence , ...</td>\n",
       "      <td>monitor blood pressure , weight and asses for ...</td>\n",
       "    </tr>\n",
       "    <tr>\n",
       "      <th>1</th>\n",
       "      <td>ortho-tri-cyclen</td>\n",
       "      <td>1</td>\n",
       "      <td>Highly Effective</td>\n",
       "      <td>Severe Side Effects</td>\n",
       "      <td>birth prevention</td>\n",
       "      <td>Although this type of birth control has more c...</td>\n",
       "      <td>Heavy Cycle, Cramps, Hot Flashes, Fatigue, Lon...</td>\n",
       "      <td>I Hate This Birth Control, I Would Not Suggest...</td>\n",
       "    </tr>\n",
       "    <tr>\n",
       "      <th>2</th>\n",
       "      <td>ponstel</td>\n",
       "      <td>10</td>\n",
       "      <td>Highly Effective</td>\n",
       "      <td>No Side Effects</td>\n",
       "      <td>menstrual cramps</td>\n",
       "      <td>I was used to having cramps so badly that they...</td>\n",
       "      <td>Heavier bleeding and clotting than normal.</td>\n",
       "      <td>I took 2 pills at the onset of my menstrual cr...</td>\n",
       "    </tr>\n",
       "    <tr>\n",
       "      <th>3</th>\n",
       "      <td>prilosec</td>\n",
       "      <td>3</td>\n",
       "      <td>Marginally Effective</td>\n",
       "      <td>Mild Side Effects</td>\n",
       "      <td>acid reflux</td>\n",
       "      <td>The acid reflux went away for a few months aft...</td>\n",
       "      <td>Constipation, dry mouth and some mild dizzines...</td>\n",
       "      <td>I was given Prilosec prescription at a dose of...</td>\n",
       "    </tr>\n",
       "    <tr>\n",
       "      <th>4</th>\n",
       "      <td>lyrica</td>\n",
       "      <td>2</td>\n",
       "      <td>Marginally Effective</td>\n",
       "      <td>Severe Side Effects</td>\n",
       "      <td>fibromyalgia</td>\n",
       "      <td>I think that the Lyrica was starting to help w...</td>\n",
       "      <td>I felt extremely drugged and dopey.  Could not...</td>\n",
       "      <td>See above</td>\n",
       "    </tr>\n",
       "  </tbody>\n",
       "</table>\n",
       "</div>"
      ],
      "text/plain": [
       "        urlDrugName  rating         effectiveness          sideEffects  \\\n",
       "0         enalapril       4      Highly Effective    Mild Side Effects   \n",
       "1  ortho-tri-cyclen       1      Highly Effective  Severe Side Effects   \n",
       "2           ponstel      10      Highly Effective      No Side Effects   \n",
       "3          prilosec       3  Marginally Effective    Mild Side Effects   \n",
       "4            lyrica       2  Marginally Effective  Severe Side Effects   \n",
       "\n",
       "                                condition  \\\n",
       "0  management of congestive heart failure   \n",
       "1                        birth prevention   \n",
       "2                        menstrual cramps   \n",
       "3                             acid reflux   \n",
       "4                            fibromyalgia   \n",
       "\n",
       "                                      benefitsReview  \\\n",
       "0  slowed the progression of left ventricular dys...   \n",
       "1  Although this type of birth control has more c...   \n",
       "2  I was used to having cramps so badly that they...   \n",
       "3  The acid reflux went away for a few months aft...   \n",
       "4  I think that the Lyrica was starting to help w...   \n",
       "\n",
       "                                   sideEffectsReview  \\\n",
       "0  cough, hypotension , proteinuria, impotence , ...   \n",
       "1  Heavy Cycle, Cramps, Hot Flashes, Fatigue, Lon...   \n",
       "2         Heavier bleeding and clotting than normal.   \n",
       "3  Constipation, dry mouth and some mild dizzines...   \n",
       "4  I felt extremely drugged and dopey.  Could not...   \n",
       "\n",
       "                                      commentsReview  \n",
       "0  monitor blood pressure , weight and asses for ...  \n",
       "1  I Hate This Birth Control, I Would Not Suggest...  \n",
       "2  I took 2 pills at the onset of my menstrual cr...  \n",
       "3  I was given Prilosec prescription at a dose of...  \n",
       "4                                          See above  "
      ]
     },
     "execution_count": 158,
     "metadata": {},
     "output_type": "execute_result"
    }
   ],
   "source": [
    "df.head()"
   ]
  },
  {
   "cell_type": "code",
   "execution_count": 159,
   "metadata": {},
   "outputs": [
    {
     "data": {
      "text/plain": [
       "(4143, 8)"
      ]
     },
     "execution_count": 159,
     "metadata": {},
     "output_type": "execute_result"
    }
   ],
   "source": [
    "df.shape"
   ]
  },
  {
   "cell_type": "code",
   "execution_count": 160,
   "metadata": {},
   "outputs": [
    {
     "name": "stdout",
     "output_type": "stream",
     "text": [
      "<class 'pandas.core.frame.DataFrame'>\n",
      "Int64Index: 4143 entries, 0 to 1035\n",
      "Data columns (total 8 columns):\n",
      " #   Column             Non-Null Count  Dtype \n",
      "---  ------             --------------  ----- \n",
      " 0   urlDrugName        4143 non-null   object\n",
      " 1   rating             4143 non-null   int64 \n",
      " 2   effectiveness      4143 non-null   object\n",
      " 3   sideEffects        4143 non-null   object\n",
      " 4   condition          4142 non-null   object\n",
      " 5   benefitsReview     4143 non-null   object\n",
      " 6   sideEffectsReview  4141 non-null   object\n",
      " 7   commentsReview     4135 non-null   object\n",
      "dtypes: int64(1), object(7)\n",
      "memory usage: 291.3+ KB\n"
     ]
    }
   ],
   "source": [
    "df.info()"
   ]
  },
  {
   "cell_type": "markdown",
   "metadata": {},
   "source": [
    "### checking missing values and found that  missing values are present"
   ]
  },
  {
   "cell_type": "code",
   "execution_count": 161,
   "metadata": {},
   "outputs": [
    {
     "data": {
      "text/plain": [
       "urlDrugName          0\n",
       "rating               0\n",
       "effectiveness        0\n",
       "sideEffects          0\n",
       "condition            1\n",
       "benefitsReview       0\n",
       "sideEffectsReview    2\n",
       "commentsReview       8\n",
       "dtype: int64"
      ]
     },
     "execution_count": 161,
     "metadata": {},
     "output_type": "execute_result"
    }
   ],
   "source": [
    "df.isna().sum()"
   ]
  },
  {
   "cell_type": "code",
   "execution_count": 162,
   "metadata": {},
   "outputs": [],
   "source": [
    "df['condition'] = df['condition'].fillna(df['condition'].mode()[0])"
   ]
  },
  {
   "cell_type": "code",
   "execution_count": 163,
   "metadata": {},
   "outputs": [
    {
     "data": {
      "text/plain": [
       "urlDrugName          0\n",
       "rating               0\n",
       "effectiveness        0\n",
       "sideEffects          0\n",
       "condition            0\n",
       "benefitsReview       0\n",
       "sideEffectsReview    2\n",
       "commentsReview       8\n",
       "dtype: int64"
      ]
     },
     "execution_count": 163,
     "metadata": {},
     "output_type": "execute_result"
    }
   ],
   "source": [
    "df.isna().sum()"
   ]
  },
  {
   "cell_type": "code",
   "execution_count": 164,
   "metadata": {},
   "outputs": [],
   "source": [
    "df['benefitsReview'] = df['benefitsReview'].fillna(df['benefitsReview'].mode()[0])\n",
    "df['sideEffectsReview']=df['sideEffectsReview'].fillna(df['sideEffectsReview'].mode()[0])"
   ]
  },
  {
   "cell_type": "code",
   "execution_count": 165,
   "metadata": {},
   "outputs": [
    {
     "data": {
      "text/plain": [
       "urlDrugName          0\n",
       "rating               0\n",
       "effectiveness        0\n",
       "sideEffects          0\n",
       "condition            0\n",
       "benefitsReview       0\n",
       "sideEffectsReview    0\n",
       "commentsReview       8\n",
       "dtype: int64"
      ]
     },
     "execution_count": 165,
     "metadata": {},
     "output_type": "execute_result"
    }
   ],
   "source": [
    "df.isna().sum()"
   ]
  },
  {
   "cell_type": "code",
   "execution_count": 166,
   "metadata": {
    "scrolled": true
   },
   "outputs": [
    {
     "data": {
      "text/plain": [
       "depression             303\n",
       "acne                   211\n",
       "anxiety                 90\n",
       "insomnia                75\n",
       "birth control           68\n",
       "high blood pressure     62\n",
       "allergies               49\n",
       "migraine                44\n",
       "asthma                  41\n",
       "add                     41\n",
       "Name: condition, dtype: int64"
      ]
     },
     "execution_count": 166,
     "metadata": {},
     "output_type": "execute_result"
    }
   ],
   "source": [
    "df['condition'].value_counts().head(10)"
   ]
  },
  {
   "cell_type": "markdown",
   "metadata": {},
   "source": [
    "### Major  drugs"
   ]
  },
  {
   "cell_type": "code",
   "execution_count": 167,
   "metadata": {},
   "outputs": [
    {
     "data": {
      "text/plain": [
       "lexapro       74\n",
       "paxil         58\n",
       "retin-a       55\n",
       "synthroid     53\n",
       "zoloft        52\n",
       "              ..\n",
       "flovent        1\n",
       "actos          1\n",
       "cardura        1\n",
       "tobramycin     1\n",
       "zebeta         1\n",
       "Name: urlDrugName, Length: 541, dtype: int64"
      ]
     },
     "execution_count": 167,
     "metadata": {},
     "output_type": "execute_result"
    }
   ],
   "source": [
    "df['urlDrugName'].value_counts()"
   ]
  },
  {
   "cell_type": "markdown",
   "metadata": {},
   "source": [
    "### looking unique values of important columns"
   ]
  },
  {
   "cell_type": "code",
   "execution_count": 168,
   "metadata": {},
   "outputs": [
    {
     "data": {
      "text/plain": [
       "541"
      ]
     },
     "execution_count": 168,
     "metadata": {},
     "output_type": "execute_result"
    }
   ],
   "source": [
    "df['urlDrugName'].nunique()"
   ]
  },
  {
   "cell_type": "code",
   "execution_count": 169,
   "metadata": {
    "scrolled": true
   },
   "outputs": [
    {
     "data": {
      "text/plain": [
       "1807"
      ]
     },
     "execution_count": 169,
     "metadata": {},
     "output_type": "execute_result"
    }
   ],
   "source": [
    "df['condition'].nunique()"
   ]
  },
  {
   "cell_type": "code",
   "execution_count": 170,
   "metadata": {},
   "outputs": [
    {
     "data": {
      "text/plain": [
       "Mild Side Effects                1349\n",
       "No Side Effects                  1198\n",
       "Moderate Side Effects             850\n",
       "Severe Side Effects               491\n",
       "Extremely Severe Side Effects     255\n",
       "Name: sideEffects, dtype: int64"
      ]
     },
     "execution_count": 170,
     "metadata": {},
     "output_type": "execute_result"
    }
   ],
   "source": [
    "df['sideEffects'].value_counts()"
   ]
  },
  {
   "cell_type": "markdown",
   "metadata": {},
   "source": [
    "### Data visualization"
   ]
  },
  {
   "cell_type": "code",
   "execution_count": 171,
   "metadata": {},
   "outputs": [
    {
     "data": {
      "text/html": [
       "<div>\n",
       "<style scoped>\n",
       "    .dataframe tbody tr th:only-of-type {\n",
       "        vertical-align: middle;\n",
       "    }\n",
       "\n",
       "    .dataframe tbody tr th {\n",
       "        vertical-align: top;\n",
       "    }\n",
       "\n",
       "    .dataframe thead th {\n",
       "        text-align: right;\n",
       "    }\n",
       "</style>\n",
       "<table border=\"1\" class=\"dataframe\">\n",
       "  <thead>\n",
       "    <tr style=\"text-align: right;\">\n",
       "      <th></th>\n",
       "      <th>Frequency</th>\n",
       "    </tr>\n",
       "  </thead>\n",
       "  <tbody>\n",
       "    <tr>\n",
       "      <th>Mild Side Effects</th>\n",
       "      <td>1349</td>\n",
       "    </tr>\n",
       "    <tr>\n",
       "      <th>No Side Effects</th>\n",
       "      <td>1198</td>\n",
       "    </tr>\n",
       "    <tr>\n",
       "      <th>Moderate Side Effects</th>\n",
       "      <td>850</td>\n",
       "    </tr>\n",
       "    <tr>\n",
       "      <th>Severe Side Effects</th>\n",
       "      <td>491</td>\n",
       "    </tr>\n",
       "    <tr>\n",
       "      <th>Extremely Severe Side Effects</th>\n",
       "      <td>255</td>\n",
       "    </tr>\n",
       "  </tbody>\n",
       "</table>\n",
       "</div>"
      ],
      "text/plain": [
       "                               Frequency\n",
       "Mild Side Effects                   1349\n",
       "No Side Effects                     1198\n",
       "Moderate Side Effects                850\n",
       "Severe Side Effects                  491\n",
       "Extremely Severe Side Effects        255"
      ]
     },
     "execution_count": 171,
     "metadata": {},
     "output_type": "execute_result"
    }
   ],
   "source": [
    "value=df['sideEffects'].value_counts()\n",
    "# sizes=value[:10]\n",
    "series=pd.DataFrame(value)\n",
    "#series['sideEffects']=series.index\n",
    "series.rename(columns={'sideEffects': 'Frequency'},inplace=True)\n",
    "series"
   ]
  },
  {
   "cell_type": "code",
   "execution_count": 172,
   "metadata": {},
   "outputs": [
    {
     "data": {
      "image/png": "[encoded data removed]",
      "text/plain": [
       "<Figure size 432x288 with 1 Axes>"
      ]
     },
     "metadata": {},
     "output_type": "display_data"
    }
   ],
   "source": [
    "explode = (0.05,0,0,0,0) \n",
    "fig1, ax1 = plt.subplots()\n",
    "ax1.pie(series['Frequency'], labels=series.index,explode=explode, autopct='%1.1f%%',\n",
    "        shadow=True, startangle=90,radius=2)\n",
    "#ax1.axis('equal')  # Equal aspect ratio ensures that pie is drawn as a circle.\n",
    "plt.suptitle('Pie chart - Side Effects of Drugs', x=0.525, y=1.45, ha='center', fontsize=30)\n",
    "# plt.title( \"Side Effects of Drugs\" , size = 5 ) \n",
    "plt.show()"
   ]
  },
  {
   "cell_type": "code",
   "execution_count": 173,
   "metadata": {},
   "outputs": [
    {
     "data": {
      "text/plain": [
       "<matplotlib.axes._subplots.AxesSubplot at 0x1b6cdfcf280>"
      ]
     },
     "execution_count": 173,
     "metadata": {},
     "output_type": "execute_result"
    },
    {
     "data": {
      "image/png": "[encoded data removed]",
      "text/plain": [
       "<Figure size 720x504 with 1 Axes>"
      ]
     },
     "metadata": {
      "needs_background": "light"
     },
     "output_type": "display_data"
    }
   ],
   "source": [
    "val=df['urlDrugName'].value_counts().head(10)\n",
    "# sizes=value[:10]\n",
    "series=pd.DataFrame(val)\n",
    "#series['sideEffects']=series.index\n",
    "series.rename(columns={'urlDrugName': 'Frequency'},inplace=True)\n",
    "fig, ax = plt.subplots(figsize=(10,7))\n",
    "# Set label for x-axis \n",
    "ax.set_xlabel( \"Drugs\" , size = 12 ) \n",
    "  \n",
    "# Set label for y-axis \n",
    "ax.set_ylabel( \"Frequency\" , size = 12 ) \n",
    "  \n",
    "# Set title for plot \n",
    "ax.set_title( \"Top Drugs used\" , size = 24 ) \n",
    "sns.barplot(x=series.index,y=series['Frequency'],data=series)"
   ]
  },
  {
   "cell_type": "code",
   "execution_count": 174,
   "metadata": {},
   "outputs": [
    {
     "data": {
      "text/plain": [
       "<matplotlib.axes._subplots.AxesSubplot at 0x1b6ce05a880>"
      ]
     },
     "execution_count": 174,
     "metadata": {},
     "output_type": "execute_result"
    },
    {
     "data": {
      "image/png": "[encoded data removed]",
      "text/plain": [
       "<Figure size 1080x504 with 1 Axes>"
      ]
     },
     "metadata": {
      "needs_background": "light"
     },
     "output_type": "display_data"
    }
   ],
   "source": [
    "val=df['condition'].value_counts().head(7)\n",
    "# sizes=value[:10]\n",
    "series=pd.DataFrame(val)\n",
    "#series['sideEffects']=series.index\n",
    "series.rename(columns={'condition': 'Frequency'},inplace=True)\n",
    "fig, ax = plt.subplots(figsize=(15,7))\n",
    "# Set label for x-axis \n",
    "ax.set_xlabel( \"condition\" , size = 12 ) \n",
    "  \n",
    "# Set label for y-axis \n",
    "ax.set_ylabel( \"Frequency\" , size = 12 ) \n",
    "  \n",
    "# Set title for plot \n",
    "ax.set_title( \"Major Health Conditions for Drug Use\" , size = 24 ) \n",
    "sns.barplot(x=series.index,y=series['Frequency'],data=series)"
   ]
  },
  {
   "cell_type": "code",
   "execution_count": 175,
   "metadata": {},
   "outputs": [
    {
     "data": {
      "text/plain": [
       "Text(0, 0.5, 'Frequency')"
      ]
     },
     "execution_count": 175,
     "metadata": {},
     "output_type": "execute_result"
    },
    {
     "data": {
      "image/png": "[encoded data removed]",
      "text/plain": [
       "<Figure size 720x720 with 1 Axes>"
      ]
     },
     "metadata": {
      "needs_background": "light"
     },
     "output_type": "display_data"
    }
   ],
   "source": [
    "plt.figure(figsize=(10,10))\n",
    "df['rating'].hist(bins=10,ec='k',color='purple', edgecolor='black')\n",
    "# plt.title('Drug Rating',size=10)\n",
    "plt.suptitle('Drug Rating', x=0.5, y=1.05, ha='center', fontsize=30)\n",
    "plt.xlabel(\"Ratings\")\n",
    "plt.ylabel(\"Frequency\")"
   ]
  },
  {
   "cell_type": "markdown",
   "metadata": {},
   "source": [
    "### label encoding all columns with mapping"
   ]
  },
  {
   "cell_type": "code",
   "execution_count": 176,
   "metadata": {},
   "outputs": [],
   "source": [
    "cols=['urlDrugName','effectiveness','condition','sideEffects']"
   ]
  },
  {
   "cell_type": "code",
   "execution_count": 177,
   "metadata": {},
   "outputs": [],
   "source": [
    "from sklearn.preprocessing import LabelEncoder\n",
    "mappings=list()\n",
    "labelencoder=LabelEncoder()\n",
    "for x in cols:\n",
    "    df[x]=labelencoder.fit_transform(df[x])\n",
    "    mappings_dict={index:label for index, label in enumerate(labelencoder.classes_)}\n",
    "    mappings.append(mappings_dict)"
   ]
  },
  {
   "cell_type": "code",
   "execution_count": 178,
   "metadata": {},
   "outputs": [
    {
     "data": {
      "text/plain": [
       "[{0: 'abilify',\n",
       "  1: 'acanya',\n",
       "  2: 'accolate',\n",
       "  3: 'accupril',\n",
       "  4: 'accutane',\n",
       "  5: 'aciphex',\n",
       "  6: 'actiq',\n",
       "  7: 'actonel',\n",
       "  8: 'actos',\n",
       "  9: 'acyclovir',\n",
       "  10: 'aczone',\n",
       "  11: 'adcirca',\n",
       "  12: 'adderall',\n",
       "  13: 'adderall-xr',\n",
       "  14: 'adipex-p',\n",
       "  15: 'advair-diskus',\n",
       "  16: 'advair-hfa',\n",
       "  17: 'albuterol',\n",
       "  18: 'aldactone',\n",
       "  19: 'aldara',\n",
       "  20: 'alendronate',\n",
       "  21: 'alesse',\n",
       "  22: 'allegra',\n",
       "  23: 'allegra-d',\n",
       "  24: 'aloprim',\n",
       "  25: 'alprazolam',\n",
       "  26: 'ambien',\n",
       "  27: 'ambien-cr',\n",
       "  28: 'amerge',\n",
       "  29: 'amitiza',\n",
       "  30: 'amoxil',\n",
       "  31: 'amphetamine',\n",
       "  32: 'ampicillin',\n",
       "  33: 'anafranil',\n",
       "  34: 'androgel',\n",
       "  35: 'angeliq',\n",
       "  36: 'antivert',\n",
       "  37: 'aralen',\n",
       "  38: 'arava',\n",
       "  39: 'aricept',\n",
       "  40: 'arimidex',\n",
       "  41: 'armour-thyroid',\n",
       "  42: 'aromasin',\n",
       "  43: 'arthrotec',\n",
       "  44: 'asacol',\n",
       "  45: 'asmanex',\n",
       "  46: 'atacand',\n",
       "  47: 'atarax',\n",
       "  48: 'atenolol',\n",
       "  49: 'ativan',\n",
       "  50: 'atripla',\n",
       "  51: 'augmentin',\n",
       "  52: 'avage',\n",
       "  53: 'avapro',\n",
       "  54: 'avelox',\n",
       "  55: 'avita',\n",
       "  56: 'avodart',\n",
       "  57: 'axert',\n",
       "  58: 'aygestin',\n",
       "  59: 'azasan',\n",
       "  60: 'azelex',\n",
       "  61: 'azopt',\n",
       "  62: 'azor',\n",
       "  63: 'azulfidine',\n",
       "  64: 'baciim',\n",
       "  65: 'baclofen',\n",
       "  66: 'bactrim-ds',\n",
       "  67: 'bactroban',\n",
       "  68: 'baraclude',\n",
       "  69: 'benadryl',\n",
       "  70: 'benicar',\n",
       "  71: 'benicar-hct',\n",
       "  72: 'bentyl',\n",
       "  73: 'benzaclin',\n",
       "  74: 'betamethasone',\n",
       "  75: 'betaseron',\n",
       "  76: 'biaxin',\n",
       "  77: 'biaxin-xl',\n",
       "  78: 'bisoprolol',\n",
       "  79: 'boniva',\n",
       "  80: 'botox',\n",
       "  81: 'buprenorphine',\n",
       "  82: 'buspar',\n",
       "  83: 'byetta',\n",
       "  84: 'bystolic',\n",
       "  85: 'caduet',\n",
       "  86: 'capoten',\n",
       "  87: 'carac',\n",
       "  88: 'carbamazepine',\n",
       "  89: 'cardura',\n",
       "  90: 'cardura-xl',\n",
       "  91: 'cataflam',\n",
       "  92: 'catapres',\n",
       "  93: 'ceclor',\n",
       "  94: 'cefzil',\n",
       "  95: 'celebrex',\n",
       "  96: 'celexa',\n",
       "  97: 'chantix',\n",
       "  98: 'cialis',\n",
       "  99: 'cipro',\n",
       "  100: 'citalopram',\n",
       "  101: 'clarinex',\n",
       "  102: 'claripel-cream',\n",
       "  103: 'clarithromycin',\n",
       "  104: 'claritin',\n",
       "  105: 'cleocin',\n",
       "  106: 'climara',\n",
       "  107: 'climara-pro',\n",
       "  108: 'clindamycin',\n",
       "  109: 'clindamycin-topical',\n",
       "  110: 'clobetasol',\n",
       "  111: 'clobex',\n",
       "  112: 'clomid',\n",
       "  113: 'clonazepam',\n",
       "  114: 'combipatch',\n",
       "  115: 'compazine',\n",
       "  116: 'concerta',\n",
       "  117: 'copaxone',\n",
       "  118: 'coreg',\n",
       "  119: 'corgard',\n",
       "  120: 'cosopt',\n",
       "  121: 'coumadin',\n",
       "  122: 'cozaar',\n",
       "  123: 'crestor',\n",
       "  124: 'cymbalta',\n",
       "  125: 'cyproheptadine',\n",
       "  126: 'cytomel',\n",
       "  127: 'danazol',\n",
       "  128: 'dapsone',\n",
       "  129: 'darvocet-n',\n",
       "  130: 'delestrogen',\n",
       "  131: 'deltasone',\n",
       "  132: 'depakene',\n",
       "  133: 'depakote',\n",
       "  134: 'depo-provera',\n",
       "  135: 'desmopressin',\n",
       "  136: 'desonide',\n",
       "  137: 'desyrel',\n",
       "  138: 'detrol',\n",
       "  139: 'detrol-la',\n",
       "  140: 'dexamethasone',\n",
       "  141: 'dexedrine',\n",
       "  142: 'dextroamphetamine',\n",
       "  143: 'dextrostat',\n",
       "  144: 'diazepam',\n",
       "  145: 'diclofenac',\n",
       "  146: 'dicyclomine',\n",
       "  147: 'differin',\n",
       "  148: 'diflucan',\n",
       "  149: 'dilantin',\n",
       "  150: 'dilaudid',\n",
       "  151: 'diltiazem',\n",
       "  152: 'diovan',\n",
       "  153: 'dispermox',\n",
       "  154: 'ditropan',\n",
       "  155: 'divigel',\n",
       "  156: 'doryx',\n",
       "  157: 'dostinex',\n",
       "  158: 'dovonex',\n",
       "  159: 'doxepin',\n",
       "  160: 'doxycycline',\n",
       "  161: 'duac',\n",
       "  162: 'duragesic',\n",
       "  163: 'dyazide',\n",
       "  164: 'dyrenium',\n",
       "  165: 'dysport',\n",
       "  166: 'ecotrin',\n",
       "  167: 'effexor',\n",
       "  168: 'effexor-xr',\n",
       "  169: 'efudex',\n",
       "  170: 'elavil',\n",
       "  171: 'elidel',\n",
       "  172: 'elmiron',\n",
       "  173: 'elocon',\n",
       "  174: 'emsam',\n",
       "  175: 'enablex',\n",
       "  176: 'enalapril',\n",
       "  177: 'enbrel',\n",
       "  178: 'erythra-derm',\n",
       "  179: 'erythromycin',\n",
       "  180: 'estrace',\n",
       "  181: 'estrasorb',\n",
       "  182: 'estratest',\n",
       "  183: 'estring',\n",
       "  184: 'estrostep-fe',\n",
       "  185: 'etodolac',\n",
       "  186: 'eulexin',\n",
       "  187: 'evista',\n",
       "  188: 'evoclin',\n",
       "  189: 'exelon',\n",
       "  190: 'famvir',\n",
       "  191: 'femara',\n",
       "  192: 'femhrt',\n",
       "  193: 'femring',\n",
       "  194: 'fentanyl',\n",
       "  195: 'fexofenadine',\n",
       "  196: 'finacea',\n",
       "  197: 'fioricet',\n",
       "  198: 'fiorinal',\n",
       "  199: 'flagyl',\n",
       "  200: 'flecainide',\n",
       "  201: 'flexeril',\n",
       "  202: 'flomax',\n",
       "  203: 'flonase',\n",
       "  204: 'flovent',\n",
       "  205: 'fluconazole',\n",
       "  206: 'fluvoxamine',\n",
       "  207: 'focalin-xr',\n",
       "  208: 'follistim',\n",
       "  209: 'fortaz',\n",
       "  210: 'fosamax',\n",
       "  211: 'fosamax-plus-d',\n",
       "  212: 'fosinopril',\n",
       "  213: 'frova',\n",
       "  214: 'furosemide-injection',\n",
       "  215: 'galzin',\n",
       "  216: 'genotropin',\n",
       "  217: 'geodon',\n",
       "  218: 'glucophage',\n",
       "  219: 'glucophage-xr',\n",
       "  220: 'glyquin-xm',\n",
       "  221: 'gonal-f-rff',\n",
       "  222: 'grifulvin-v',\n",
       "  223: 'halcion',\n",
       "  224: 'haldol',\n",
       "  225: 'humira',\n",
       "  226: 'hydrochlorothiazide',\n",
       "  227: 'hydrocodone-and-acetaminophen',\n",
       "  228: 'hydrocortisone',\n",
       "  229: 'hyoscyamine',\n",
       "  230: 'hytrin',\n",
       "  231: 'hyzaar',\n",
       "  232: 'imitrex',\n",
       "  233: 'imodium',\n",
       "  234: 'imuran',\n",
       "  235: 'inderal',\n",
       "  236: 'indocin',\n",
       "  237: 'innofem',\n",
       "  238: 'inspra',\n",
       "  239: 'isoniazid',\n",
       "  240: 'kapidex',\n",
       "  241: 'keflex',\n",
       "  242: 'kenalog',\n",
       "  243: 'keppra',\n",
       "  244: 'ketoconazole',\n",
       "  245: 'ketorolac',\n",
       "  246: 'klaron',\n",
       "  247: 'klonopin',\n",
       "  248: 'lac-hydrin',\n",
       "  249: 'lamictal',\n",
       "  250: 'lamisil',\n",
       "  251: 'lamotrigine',\n",
       "  252: 'lantus',\n",
       "  253: 'lasix',\n",
       "  254: 'latisse',\n",
       "  255: 'levaquin',\n",
       "  256: 'levetiracetam',\n",
       "  257: 'levitra',\n",
       "  258: 'levora',\n",
       "  259: 'levothroid',\n",
       "  260: 'levoxyl',\n",
       "  261: 'lexapro',\n",
       "  262: 'lidex',\n",
       "  263: 'lidocaine',\n",
       "  264: 'lipitor',\n",
       "  265: 'lithium-carbonate',\n",
       "  266: 'lo-ovral',\n",
       "  267: 'locoid-lipocream',\n",
       "  268: 'lodine',\n",
       "  269: 'lopressor',\n",
       "  270: 'lorazepam',\n",
       "  271: 'lortab',\n",
       "  272: 'lotrel',\n",
       "  273: 'lotronex',\n",
       "  274: 'lovenox',\n",
       "  275: 'lumigan',\n",
       "  276: 'lunesta',\n",
       "  277: 'lupron',\n",
       "  278: 'lybrel',\n",
       "  279: 'lyrica',\n",
       "  280: 'macrobid',\n",
       "  281: 'malarone',\n",
       "  282: 'maxalt',\n",
       "  283: 'medroxyprogesterone',\n",
       "  284: 'meperidine',\n",
       "  285: 'mercaptopurine',\n",
       "  286: 'meridia',\n",
       "  287: 'metformin',\n",
       "  288: 'metformin-extended-release',\n",
       "  289: 'methadone',\n",
       "  290: 'methimazole',\n",
       "  291: 'methotrexate',\n",
       "  292: 'methylphenidate',\n",
       "  293: 'metoclopramide',\n",
       "  294: 'metoprolol',\n",
       "  295: 'metrogel',\n",
       "  296: 'metrolotion',\n",
       "  297: 'metronidazole',\n",
       "  298: 'mevacor',\n",
       "  299: 'micardis',\n",
       "  300: 'minocin',\n",
       "  301: 'minocycline',\n",
       "  302: 'minoxidil',\n",
       "  303: 'miralax',\n",
       "  304: 'mirapex',\n",
       "  305: 'mirena',\n",
       "  306: 'mirtazapine',\n",
       "  307: 'mobic',\n",
       "  308: 'morphine',\n",
       "  309: 'motrin',\n",
       "  310: 'naltrexone',\n",
       "  311: 'naprosyn',\n",
       "  312: 'naproxen',\n",
       "  313: 'nardil',\n",
       "  314: 'nasacort',\n",
       "  315: 'nasacort-aq',\n",
       "  316: 'nasarel',\n",
       "  317: 'nasonex',\n",
       "  318: 'neoprofen',\n",
       "  319: 'neurontin',\n",
       "  320: 'nexium',\n",
       "  321: 'niacor',\n",
       "  322: 'niaspan',\n",
       "  323: 'nitrofurantoin',\n",
       "  324: 'nizoral',\n",
       "  325: 'nizoral-shampoo',\n",
       "  326: 'nolvadex',\n",
       "  327: 'nordette',\n",
       "  328: 'noritate',\n",
       "  329: 'noroxin',\n",
       "  330: 'norpramin',\n",
       "  331: 'nortriptyline',\n",
       "  332: 'norvasc',\n",
       "  333: 'nuvaring',\n",
       "  334: 'nuvigil',\n",
       "  335: 'nystatin',\n",
       "  336: 'olux',\n",
       "  337: 'omacor',\n",
       "  338: 'omnicef',\n",
       "  339: 'omnitrope',\n",
       "  340: 'optivar',\n",
       "  341: 'oracea',\n",
       "  342: 'ortho-evra',\n",
       "  343: 'ortho-novum',\n",
       "  344: 'ortho-tri-cyclen',\n",
       "  345: 'ortho-tri-cyclen-lo',\n",
       "  346: 'oxazepam',\n",
       "  347: 'oxybutynin',\n",
       "  348: 'oxycodone',\n",
       "  349: 'oxycodone-and-acetaminophen',\n",
       "  350: 'oxycontin',\n",
       "  351: 'pamelor',\n",
       "  352: 'panixine-disperdose',\n",
       "  353: 'parlodel',\n",
       "  354: 'pataday',\n",
       "  355: 'patanol',\n",
       "  356: 'paxil',\n",
       "  357: 'paxil-cr',\n",
       "  358: 'penicillin-v',\n",
       "  359: 'penlac',\n",
       "  360: 'pentasa',\n",
       "  361: 'pepcid',\n",
       "  362: 'percocet',\n",
       "  363: 'periogard',\n",
       "  364: 'periostat',\n",
       "  365: 'permapen',\n",
       "  366: 'phendimetrazine',\n",
       "  367: 'phenergan',\n",
       "  368: 'pilocarpine',\n",
       "  369: 'piroxicam',\n",
       "  370: 'plavix',\n",
       "  371: 'plendil',\n",
       "  372: 'polymyxin-b',\n",
       "  373: 'ponstel',\n",
       "  374: 'pravachol',\n",
       "  375: 'prednisolone',\n",
       "  376: 'prednisone',\n",
       "  377: 'premarin',\n",
       "  378: 'premarin-vaginal',\n",
       "  379: 'prempro',\n",
       "  380: 'prevacid',\n",
       "  381: 'prevalite',\n",
       "  382: 'prilosec',\n",
       "  383: 'prinivil',\n",
       "  384: 'pristiq',\n",
       "  385: 'proair-hfa',\n",
       "  386: 'prochlorperazine',\n",
       "  387: 'progesterone',\n",
       "  388: 'prograf',\n",
       "  389: 'proloprim',\n",
       "  390: 'prometrium',\n",
       "  391: 'propecia',\n",
       "  392: 'propranolol',\n",
       "  393: 'propylthiouracil',\n",
       "  394: 'proquin-xr',\n",
       "  395: 'proscar',\n",
       "  396: 'protonix',\n",
       "  397: 'protopic',\n",
       "  398: 'provera',\n",
       "  399: 'provigil',\n",
       "  400: 'prozac',\n",
       "  401: 'quibron-t',\n",
       "  402: 'qvar',\n",
       "  403: 'ranitidine',\n",
       "  404: 'rebif',\n",
       "  405: 'reclipsen',\n",
       "  406: 'reglan',\n",
       "  407: 'relafen',\n",
       "  408: 'relpax',\n",
       "  409: 'remeron',\n",
       "  410: 'remicade',\n",
       "  411: 'renova',\n",
       "  412: 'requip',\n",
       "  413: 'restasis',\n",
       "  414: 'restoril',\n",
       "  415: 'retin-a',\n",
       "  416: 'retin-a-micro',\n",
       "  417: 'rhinocort',\n",
       "  418: 'ribavirin',\n",
       "  419: 'rifadin',\n",
       "  420: 'risperdal',\n",
       "  421: 'risperdal-consta',\n",
       "  422: 'ritalin',\n",
       "  423: 'ritalin-la',\n",
       "  424: 'saizen',\n",
       "  425: 'sanctura-xr',\n",
       "  426: 'sarafem',\n",
       "  427: 'seasonale',\n",
       "  428: 'seasonique',\n",
       "  429: 'selegiline',\n",
       "  430: 'septra',\n",
       "  431: 'seroquel',\n",
       "  432: 'seroquel-xr',\n",
       "  433: 'serzone',\n",
       "  434: 'singulair',\n",
       "  435: 'skelaxin',\n",
       "  436: 'solodyn',\n",
       "  437: 'soltamox',\n",
       "  438: 'soma',\n",
       "  439: 'sonata',\n",
       "  440: 'sotret',\n",
       "  441: 'spiriva',\n",
       "  442: 'spironolactone',\n",
       "  443: 'strattera',\n",
       "  444: 'suboxone',\n",
       "  445: 'sular',\n",
       "  446: 'sulfasalazine',\n",
       "  447: 'sulindac',\n",
       "  448: 'sumatriptan',\n",
       "  449: 'sustiva',\n",
       "  450: 'symbicort',\n",
       "  451: 'symbyax',\n",
       "  452: 'synthroid',\n",
       "  453: 'taclonex',\n",
       "  454: 'tambocor',\n",
       "  455: 'tamiflu',\n",
       "  456: 'tapazole',\n",
       "  457: 'tarka',\n",
       "  458: 'taxotere',\n",
       "  459: 'tazorac',\n",
       "  460: 'tegretol',\n",
       "  461: 'tekturna',\n",
       "  462: 'tekturna-hct',\n",
       "  463: 'temovate',\n",
       "  464: 'tenormin',\n",
       "  465: 'tequin',\n",
       "  466: 'tetracycline',\n",
       "  467: 'tirosint',\n",
       "  468: 'tobramycin',\n",
       "  469: 'tofranil-pm',\n",
       "  470: 'topamax',\n",
       "  471: 'topicort',\n",
       "  472: 'toprol-xl',\n",
       "  473: 'toradol',\n",
       "  474: 'tramadol',\n",
       "  475: 'trazodone',\n",
       "  476: 'trental',\n",
       "  477: 'tri-luma',\n",
       "  478: 'triamcinolone',\n",
       "  479: 'triaz',\n",
       "  480: 'triazolam',\n",
       "  481: 'trileptal',\n",
       "  482: 'trilipix',\n",
       "  483: 'trimethobenzamide',\n",
       "  484: 'trimethoprim',\n",
       "  485: 'triphasil',\n",
       "  486: 'tussionex',\n",
       "  487: 'tylenol',\n",
       "  488: 'tylenol-with-codeine',\n",
       "  489: 'ultracet',\n",
       "  490: 'ultram',\n",
       "  491: 'ultram-er',\n",
       "  492: 'vagifem',\n",
       "  493: 'valium',\n",
       "  494: 'valtrex',\n",
       "  495: 'vaniqa',\n",
       "  496: 'vasotec',\n",
       "  497: 'ventolin-hfa',\n",
       "  498: 'vesicare',\n",
       "  499: 'viagra',\n",
       "  500: 'vicodin',\n",
       "  501: 'vicoprofen',\n",
       "  502: 'vigamox',\n",
       "  503: 'vioxx',\n",
       "  504: 'vistaril',\n",
       "  505: 'vivelle',\n",
       "  506: 'vivelle-dot',\n",
       "  507: 'voltaren',\n",
       "  508: 'vytorin',\n",
       "  509: 'vyvanse',\n",
       "  510: 'warfarin',\n",
       "  511: 'wellbutrin',\n",
       "  512: 'wellbutrin-sr',\n",
       "  513: 'wellbutrin-xl',\n",
       "  514: 'xalatan',\n",
       "  515: 'xanax',\n",
       "  516: 'xanax-xr',\n",
       "  517: 'xenical',\n",
       "  518: 'xyrem',\n",
       "  519: 'xyzal',\n",
       "  520: 'yasmin',\n",
       "  521: 'zantac',\n",
       "  522: 'zebeta',\n",
       "  523: 'zegerid',\n",
       "  524: 'zestoretic',\n",
       "  525: 'zetia',\n",
       "  526: 'ziac',\n",
       "  527: 'ziana',\n",
       "  528: 'zithromax',\n",
       "  529: 'zmax',\n",
       "  530: 'zocor',\n",
       "  531: 'zofran',\n",
       "  532: 'zoloft',\n",
       "  533: 'zomig',\n",
       "  534: 'zovirax',\n",
       "  535: 'zovirax-topical',\n",
       "  536: 'zyban',\n",
       "  537: 'zyprexa',\n",
       "  538: 'zyrtec',\n",
       "  539: 'zyrtec-d',\n",
       "  540: 'zyvox'},\n",
       " {0: 'Considerably Effective',\n",
       "  1: 'Highly Effective',\n",
       "  2: 'Ineffective',\n",
       "  3: 'Marginally Effective',\n",
       "  4: 'Moderately Effective'},\n",
       " {0: '1mg',\n",
       "  1: '2',\n",
       "  2: '2 broken arms',\n",
       "  3: '2 compressed discs in neck',\n",
       "  4: '20 year pack a day smoker',\n",
       "  5: '75 mg',\n",
       "  6: \"? 'heart failure'\",\n",
       "  7: 'a boil',\n",
       "  8: 'a little bit of osteoporosis in the hips',\n",
       "  9: 'a typical migraines',\n",
       "  10: 'abcessed tooth',\n",
       "  11: 'abdominal pain',\n",
       "  12: 'ac joint dislocation',\n",
       "  13: 'achilles tendonitis',\n",
       "  14: 'acic reflux',\n",
       "  15: 'acid reflex',\n",
       "  16: 'acid reflux',\n",
       "  17: \"acid reflux / barrett's esophagus\",\n",
       "  18: 'acid reflux, gerd',\n",
       "  19: 'acid reflux/chronic bronchitis',\n",
       "  20: 'acl reconstruction',\n",
       "  21: 'acl surgery',\n",
       "  22: 'acne',\n",
       "  23: 'acne  and scarring',\n",
       "  24: 'acne & rosacea',\n",
       "  25: 'acne & sun damaged skin',\n",
       "  26: 'acne - blackheads and acne scars',\n",
       "  27: 'acne / blackheads / oily skin',\n",
       "  28: 'acne and anti age benefits',\n",
       "  29: 'acne and birth control',\n",
       "  30: 'acne and contraception',\n",
       "  31: 'acne and perioral dermatitis',\n",
       "  32: 'acne and red marks from acne',\n",
       "  33: 'acne and sun damage',\n",
       "  34: 'acne and water retention',\n",
       "  35: 'acne and wrinkles',\n",
       "  36: 'acne cysts',\n",
       "  37: 'acne on my back',\n",
       "  38: 'acne problem',\n",
       "  39: 'acne rosacea',\n",
       "  40: 'acne scarring & hyperpigmentation',\n",
       "  41: 'acne vulgaris',\n",
       "  42: 'acne with cystic fibrosis genetic condition',\n",
       "  43: 'acne, aging',\n",
       "  44: 'acne, anti-aging',\n",
       "  45: 'acne, melasma',\n",
       "  46: 'acne, photoaging',\n",
       "  47: 'acne, wrinkles',\n",
       "  48: 'acne-i was 22 yrs old when i took it',\n",
       "  49: 'acne/anti-agin',\n",
       "  50: 'acne/dull skin',\n",
       "  51: 'acne/oily skin',\n",
       "  52: 'acne/wrinkles',\n",
       "  53: 'actinic keratoses',\n",
       "  54: 'active chronic gastritis',\n",
       "  55: 'acute and long term chronic and severe back pain',\n",
       "  56: 'acute peptic ulcer',\n",
       "  57: 'acute sinusitis',\n",
       "  58: 'acute sinusitis/bronchitis',\n",
       "  59: 'add',\n",
       "  60: 'add & anxiety',\n",
       "  61: 'add - mild depression',\n",
       "  62: 'add and depression',\n",
       "  63: 'add inattentive, delayed sleep phase syndrome',\n",
       "  64: 'add management',\n",
       "  65: 'add, depression',\n",
       "  66: 'add/adhd',\n",
       "  67: 'addh',\n",
       "  68: 'addiction',\n",
       "  69: 'adha',\n",
       "  70: 'adhd',\n",
       "  71: 'adhd (attention deficit hyperactive disorder)',\n",
       "  72: 'adhd (predominantly inattentive)',\n",
       "  73: 'adhd, depression/anxiety',\n",
       "  74: 'adhd, inattentive type',\n",
       "  75: 'adrenal burnout, chronic fatigue & premature agin',\n",
       "  76: 'adult  add',\n",
       "  77: 'adult acne',\n",
       "  78: 'adult acne/wrinkles',\n",
       "  79: 'adult add',\n",
       "  80: 'adult adhd',\n",
       "  81: 'adult moderate hormone related acne',\n",
       "  82: 'adult onset acne',\n",
       "  83: 'after 42 years, quit smoking',\n",
       "  84: 'after an angiogram',\n",
       "  85: 'after birth thyroid not working to mormal levelc',\n",
       "  86: 'age spots',\n",
       "  87: 'age spots on hand',\n",
       "  88: 'aging',\n",
       "  89: 'aging skin',\n",
       "  90: 'aging skin on face',\n",
       "  91: 'aging skin, few break-outs, hyperpigmentation',\n",
       "  92: 'aging skin, wrinkles, sag',\n",
       "  93: 'aging wrinkles',\n",
       "  94: 'agitation management r/t lewy body syndrome  demen',\n",
       "  95: 'agoraphobia, panic disorder',\n",
       "  96: 'airplane flight anxiety',\n",
       "  97: 'alcohol abuse',\n",
       "  98: 'alcohol addiction',\n",
       "  99: 'alcohol withdrawal',\n",
       "  100: 'alergies',\n",
       "  101: 'alergy',\n",
       "  102: 'all over and various type pain',\n",
       "  103: 'allegry',\n",
       "  104: 'allergic rash',\n",
       "  105: 'allergic reaction',\n",
       "  106: 'allergic reaction on face to a cosmetic',\n",
       "  107: 'allergic rhinitis',\n",
       "  108: 'allergies',\n",
       "  109: 'allergies and asthma',\n",
       "  110: 'allergies sneezing , watery runny nose',\n",
       "  111: 'allergies, congested and runny nose',\n",
       "  112: 'allergies, sinus congestion',\n",
       "  113: 'allergy',\n",
       "  114: 'allergy - pollen/food syndrome',\n",
       "  115: 'allergy induced asthma',\n",
       "  116: 'allergy reaction on the face incl swollen face',\n",
       "  117: 'allergy to trauma to the face.',\n",
       "  118: 'allergy, runny nose, hay fever',\n",
       "  119: 'allergy/asthma',\n",
       "  120: 'alopecia',\n",
       "  121: 'always crying',\n",
       "  122: \"alzheimer's\",\n",
       "  123: \"alzheimer's disease\",\n",
       "  124: \"alzheimer's/dementia\",\n",
       "  125: 'alzheimers',\n",
       "  126: 'amputee, constant sores on stump',\n",
       "  127: 'an unknown ekg wave abnormality',\n",
       "  128: 'ankle sprain',\n",
       "  129: 'ankylosing spondalytis',\n",
       "  130: 'ankylosing spondylitis',\n",
       "  131: 'anti ageing',\n",
       "  132: 'anti aging',\n",
       "  133: 'anti inflamatory',\n",
       "  134: 'anti malarial',\n",
       "  135: 'anti seizure',\n",
       "  136: 'anti-aging',\n",
       "  137: 'anti-aging prophilatic',\n",
       "  138: 'anti-aging, acne',\n",
       "  139: 'anti-depressant',\n",
       "  140: 'anti-inflammatory/pain',\n",
       "  141: 'anti-malarial',\n",
       "  142: 'anti-rejection',\n",
       "  143: 'anti-wrinkle',\n",
       "  144: 'antiaging',\n",
       "  145: 'antianxiety/depression',\n",
       "  146: 'antibiotic to treat oral infection',\n",
       "  147: 'anticonvulsant',\n",
       "  148: 'antidepressant',\n",
       "  149: 'anxeity',\n",
       "  150: 'anxety / depression',\n",
       "  151: 'anxiety',\n",
       "  152: 'anxiety & depression',\n",
       "  153: 'anxiety / restlessness',\n",
       "  154: 'anxiety and depression',\n",
       "  155: 'anxiety and mild depression',\n",
       "  156: 'anxiety and panic diorder',\n",
       "  157: 'anxiety and to avoid feeling misrable',\n",
       "  158: 'anxiety attacks',\n",
       "  159: 'anxiety attacks when driving',\n",
       "  160: 'anxiety depression',\n",
       "  161: 'anxiety disorder',\n",
       "  162: 'anxiety due to relationship stress',\n",
       "  163: 'anxiety from a reaction',\n",
       "  164: 'anxiety induced palpitations',\n",
       "  165: 'anxiety insomnia',\n",
       "  166: 'anxiety rapid onset',\n",
       "  167: 'anxiety related to severe pms',\n",
       "  168: 'anxiety, depresion',\n",
       "  169: 'anxiety, depression',\n",
       "  170: 'anxiety, depression, panic attacks',\n",
       "  171: 'anxiety, hopelessness',\n",
       "  172: 'anxiety, mild depression',\n",
       "  173: 'anxiety, ocd',\n",
       "  174: 'anxiety, panic attack',\n",
       "  175: 'anxiety, panic attck, nervousness',\n",
       "  176: 'anxiety, panic disorder',\n",
       "  177: 'anxiety, stress',\n",
       "  178: 'anxiety,depression',\n",
       "  179: 'anxiety,insomnia',\n",
       "  180: 'anxiety/ depression',\n",
       "  181: 'anxiety/ mild depression',\n",
       "  182: 'anxiety/ ocpd /depression',\n",
       "  183: 'anxiety/ pain',\n",
       "  184: 'anxiety/ panic attacks',\n",
       "  185: 'anxiety/ panic attacks/ insomnia',\n",
       "  186: 'anxiety/depreesion',\n",
       "  187: 'anxiety/depression',\n",
       "  188: 'anxiety/ibs',\n",
       "  189: 'anxiety/insomnia',\n",
       "  190: 'anxiety/insomnia/',\n",
       "  191: 'anxiety/mild ptsd',\n",
       "  192: 'anxiety/panic attacks',\n",
       "  193: 'anxiety/panic attacks/',\n",
       "  194: 'anxiety/trouble sleeping',\n",
       "  195: 'anxiety/worry',\n",
       "  196: 'appetite control',\n",
       "  197: 'appetite suppression',\n",
       "  198: 'arthritic joint pain/carpal tunnel',\n",
       "  199: 'arthritis',\n",
       "  200: 'arthritis in knees',\n",
       "  201: 'arthritis pain',\n",
       "  202: 'arthritis pain, neck injury',\n",
       "  203: 'arthritis/knee pain',\n",
       "  204: 'astham',\n",
       "  205: 'asthma',\n",
       "  206: 'asthma - repeated chest infections',\n",
       "  207: 'asthma \\\\ allergies',\n",
       "  208: 'asthma flares',\n",
       "  209: 'asthma, allergies',\n",
       "  210: 'asthma, emphysema',\n",
       "  211: 'asthma/allergies',\n",
       "  212: 'asthma/copd',\n",
       "  213: 'asthmas/ rhinitis',\n",
       "  214: 'asthmatic bronchitis',\n",
       "  215: 'athletes foot',\n",
       "  216: 'atopic dernatitis',\n",
       "  217: 'atopic eczema',\n",
       "  218: 'atrial fib',\n",
       "  219: 'atrial fibrillation',\n",
       "  220: 'atrial fibulation',\n",
       "  221: 'atrial frbulation',\n",
       "  222: 'attention deficit disorder',\n",
       "  223: 'attention deficit disorder (inattentive type)',\n",
       "  224: 'attention deficit problems, concentration difficul',\n",
       "  225: 'attention issues, to much to do/ too little time',\n",
       "  226: 'atypical breast biopsy',\n",
       "  227: 'atypical hyperplasia in breast and hypothyrodism',\n",
       "  228: 'auto accident, severe whiplash',\n",
       "  229: 'avod bacterial infection',\n",
       "  230: 'b.p.p.v. (benign proxysmal positional vertigo)',\n",
       "  231: 'back',\n",
       "  232: 'back acne',\n",
       "  233: 'back injury',\n",
       "  234: 'back pain',\n",
       "  235: 'back pain slipped disk',\n",
       "  236: 'back pain/depression',\n",
       "  237: 'back pain; restlessness',\n",
       "  238: 'back spasm',\n",
       "  239: 'back spasm/pain',\n",
       "  240: 'back stiffness',\n",
       "  241: 'bacterial growth',\n",
       "  242: 'bacterial infection',\n",
       "  243: 'bacterial infection in patient with copd',\n",
       "  244: 'bacterial infectoin',\n",
       "  245: 'bacterial lung infection',\n",
       "  246: 'bacterial vaginosis',\n",
       "  247: \"baker's cysts behind both knees\",\n",
       "  248: 'baldness',\n",
       "  249: 'ballanitis',\n",
       "  250: 'barretts disease',\n",
       "  251: 'basal cell and squamous cancer',\n",
       "  252: 'basal cell carcinoma',\n",
       "  253: 'beginning of osteoporosis of the hip',\n",
       "  254: \"behcet's disease\",\n",
       "  255: 'being stressed and nervous but yet confident',\n",
       "  256: 'bi-polar',\n",
       "  257: 'bi-polar / anxiety',\n",
       "  258: 'bi-polar 2',\n",
       "  259: 'bi-polar disorder',\n",
       "  260: 'bi-polar mania with anger issues',\n",
       "  261: 'bi-polar, depression',\n",
       "  262: 'bipolar',\n",
       "  263: 'bipolar 2',\n",
       "  264: 'bipolar 2-extreme moods swings',\n",
       "  265: 'bipolar depression',\n",
       "  266: 'bipolar disorder',\n",
       "  267: 'bipolar disorder / insomnia',\n",
       "  268: 'bipolar disorder 2',\n",
       "  269: 'bipolar disorder and depression',\n",
       "  270: 'bipolar disorder ii',\n",
       "  271: 'bipolar disorder type ii',\n",
       "  272: 'bipolar disorder with severe lows & fatigue,',\n",
       "  273: 'bipolar disorder, hypomania.',\n",
       "  274: 'bipolar disorder, ocd behaviors',\n",
       "  275: 'bipolar disorder/panic attacks',\n",
       "  276: 'bipolar i',\n",
       "  277: 'bipolar ii',\n",
       "  278: 'bipolar mania',\n",
       "  279: 'bipolar/mixed manic episodes/severe depression',\n",
       "  280: 'bipolar/raciness/insomnia',\n",
       "  281: 'birth control',\n",
       "  282: 'birth control method',\n",
       "  283: 'birth control pill',\n",
       "  284: 'birth control, acne control',\n",
       "  285: 'birth control, heavy periods',\n",
       "  286: 'birth control, menstrual cramps',\n",
       "  287: 'birth control. prevention of pregnacy',\n",
       "  288: 'birth control/ regular periods.',\n",
       "  289: 'birth control/control of menstrual cycle',\n",
       "  290: 'birth control/period regularity',\n",
       "  291: 'birth prevention',\n",
       "  292: 'birthcontrol',\n",
       "  293: 'blackheads',\n",
       "  294: 'blackheads,large pores,sun damage',\n",
       "  295: 'bladder control',\n",
       "  296: 'bladder infection',\n",
       "  297: 'bladder infections',\n",
       "  298: 'bladder infecton',\n",
       "  299: 'bladder pressure',\n",
       "  300: 'blepharospasm',\n",
       "  301: 'blood clot as a cause of early stage misscarriage',\n",
       "  302: 'blood clots',\n",
       "  303: 'blood pressure',\n",
       "  304: 'blood thinning/ circulation during pregnancy',\n",
       "  305: 'bone density tests showed early osteo.',\n",
       "  306: 'bone loss',\n",
       "  307: 'borderline personality disorder',\n",
       "  308: 'borderline personality disorder, bi polar',\n",
       "  309: 'borreliosis',\n",
       "  310: 'bowens cancer on tip of nose',\n",
       "  311: 'bph',\n",
       "  312: 'breast cancer',\n",
       "  313: 'broken collarbone',\n",
       "  314: 'broken ribs',\n",
       "  315: 'bronchial infection',\n",
       "  316: 'bronchitis',\n",
       "  317: 'bronchitis infectiion',\n",
       "  318: 'bronchitus',\n",
       "  319: 'bronkitis',\n",
       "  320: 'brow wrinkles',\n",
       "  321: 'brown spots',\n",
       "  322: 'budging disk in neck',\n",
       "  323: 'buldging/ruptured disc',\n",
       "  324: 'burn from motorcycle accident',\n",
       "  325: 'burning feeling in throat and chest',\n",
       "  326: 'bursitis',\n",
       "  327: 'bursitis and tennis elbow',\n",
       "  328: 'cad',\n",
       "  329: \"can't sleep\",\n",
       "  330: 'cancer',\n",
       "  331: 'cancer prevention',\n",
       "  332: 'cancer related pain',\n",
       "  333: 'cancer/constant pain',\n",
       "  334: 'candida caused yeast infection',\n",
       "  335: 'candida rashes',\n",
       "  336: 'capsuar contracture of breast implant',\n",
       "  337: 'cardiomyopathy',\n",
       "  338: 'carpal tunnel',\n",
       "  339: 'cat bite',\n",
       "  340: 'cat bite infection',\n",
       "  341: 'cellulitis',\n",
       "  342: 'cellulitis (skin infection on my leg)',\n",
       "  343: 'central sleep apnea related fatigue',\n",
       "  344: 'cervical disk degeneration and lower back pain',\n",
       "  345: 'cervical osteoarthritis',\n",
       "  346: 'cervical spondylitis',\n",
       "  347: 'cervical spondylosis',\n",
       "  348: 'cesarean',\n",
       "  349: 'chest infection',\n",
       "  350: 'chest infection (viral)',\n",
       "  351: 'chest infections',\n",
       "  352: 'chest pain',\n",
       "  353: 'chf',\n",
       "  354: 'cholesterol',\n",
       "  355: 'cholesterol levels',\n",
       "  356: 'cholesterol problems',\n",
       "  357: 'cholesterol slightly elevated',\n",
       "  358: 'cholesterol/high blood pressure',\n",
       "  359: 'choloesterol',\n",
       "  360: 'chonic pain',\n",
       "  361: 'chronic \"atypical\" depression',\n",
       "  362: 'chronic back pain',\n",
       "  363: 'chronic back pain/depression/anxiety',\n",
       "  364: 'chronic bronch/asthma',\n",
       "  365: 'chronic cold sores',\n",
       "  366: 'chronic cough and allergies',\n",
       "  367: 'chronic cystitis',\n",
       "  368: 'chronic daily headache',\n",
       "  369: 'chronic depression',\n",
       "  370: 'chronic dry eyes',\n",
       "  371: 'chronic fatigue',\n",
       "  372: 'chronic fatigue - epstein barr virus',\n",
       "  373: 'chronic fatigue syndrome',\n",
       "  374: 'chronic headaches',\n",
       "  375: 'chronic heartburn',\n",
       "  376: 'chronic hives',\n",
       "  377: 'chronic idiopathic urthicaria with pruritis',\n",
       "  378: 'chronic insomnia',\n",
       "  379: 'chronic leg pain due to trauma & surgeries',\n",
       "  380: 'chronic musculoskeletal pain (neck/back)',\n",
       "  381: 'chronic neck/back pain, chronic tension headache',\n",
       "  382: 'chronic nerve pain from back surgery',\n",
       "  383: 'chronic pain',\n",
       "  384: 'chronic pain (neck and migraines)',\n",
       "  385: 'chronic pain due to neck injury and surgeries',\n",
       "  386: 'chronic pain from degenerative lumbar disc disease',\n",
       "  387: 'chronic pain from disk hernia in cervical spine',\n",
       "  388: 'chronic pain, fibromyalgia',\n",
       "  389: 'chronic pelvic pain',\n",
       "  390: 'chronic regional pain syndrome',\n",
       "  391: 'chronic rhinitis and allergies',\n",
       "  392: 'chronic severe insomnia',\n",
       "  393: 'chronic sinus congestion',\n",
       "  394: 'chronic sinus infection (long term), post nasal dr',\n",
       "  395: 'chronic sinus infections',\n",
       "  396: 'chronic sinusitis',\n",
       "  397: 'chronic tension headache',\n",
       "  398: 'chronic tension headaches/ mild depression',\n",
       "  399: 'chronic urinary and yeast infections due to drynes',\n",
       "  400: 'clamydia',\n",
       "  401: 'clearing skin',\n",
       "  402: 'clinical depression',\n",
       "  403: 'cluster headache',\n",
       "  404: 'cocaine dependency',\n",
       "  405: 'cognitive enhancement',\n",
       "  406: 'cold',\n",
       "  407: 'cold / flu',\n",
       "  408: 'cold chills and hot flashes',\n",
       "  409: 'cold sore',\n",
       "  410: 'cold sore below lip',\n",
       "  411: 'cold sore on side of face',\n",
       "  412: 'cold sore, fever blister',\n",
       "  413: 'cold sore/fever blister (herpes-simplex)',\n",
       "  414: 'cold sores',\n",
       "  415: 'cold sores/ herpes i',\n",
       "  416: 'cold sores/fever blisters',\n",
       "  417: 'coldsores',\n",
       "  418: 'colestrol',\n",
       "  419: 'colitis',\n",
       "  420: 'collar bone injury',\n",
       "  421: 'complete hysterectomy',\n",
       "  422: 'complex regional pain sydrome',\n",
       "  423: 'congested sinuses',\n",
       "  424: 'congestion',\n",
       "  425: 'congestive heart failure and edema',\n",
       "  426: 'conjunctivitis',\n",
       "  427: 'conjunctivitus',\n",
       "  428: \"conn's syndrome\",\n",
       "  429: 'constant coughing due to mucous',\n",
       "  430: 'contact dermatitis',\n",
       "  431: 'contraception',\n",
       "  432: 'contraception pill',\n",
       "  433: 'contraceptive',\n",
       "  434: 'controceptive; help with pmsd',\n",
       "  435: 'control of menstrual periods',\n",
       "  436: 'copd',\n",
       "  437: 'cornea transplant rejection',\n",
       "  438: 'cosmetic longer lashes',\n",
       "  439: 'cosmetic/frown lines',\n",
       "  440: 'costochondritis/ inflammation of the chest wall',\n",
       "  441: 'cough',\n",
       "  442: 'cramps, birth control',\n",
       "  443: 'crashing fatigue, hot flashes, mood swings',\n",
       "  444: \"crohn's\",\n",
       "  445: \"crohn's abcess\",\n",
       "  446: \"crohn's disease\",\n",
       "  447: \"crohn's with fistula in ano\",\n",
       "  448: \"crohn's/colitis\",\n",
       "  449: 'crohns',\n",
       "  450: 'crohns disease',\n",
       "  451: 'crohns disease  & colitis',\n",
       "  452: 'crohns disease, psoriatic arthritis',\n",
       "  453: 'cure for acne',\n",
       "  454: 'cut on knee from fall,waited too long to get stmus',\n",
       "  455: 'cyclic vomiting syndrome',\n",
       "  456: 'cystic acne',\n",
       "  457: 'cystic acne on chin and jaw',\n",
       "  458: 'cystic fibrosis',\n",
       "  459: 'cystitis',\n",
       "  460: 'daily migraines 2-3 times a day',\n",
       "  461: 'dandruff',\n",
       "  462: 'dark skin spots on face',\n",
       "  463: 'dark spots',\n",
       "  464: 'daytime drowsiness',\n",
       "  465: 'daytime sleepiness',\n",
       "  466: 'deep gum pockets',\n",
       "  467: 'degenerative disc disorder, spinal stenosis l1-s1',\n",
       "  468: 'delayed gastric emptying-nausea',\n",
       "  469: \"dementia (altzheimer's diesease)\",\n",
       "  470: 'dental surgery',\n",
       "  471: 'depresion anxiety obsessive behavior',\n",
       "  472: 'depressio',\n",
       "  473: 'depression',\n",
       "  474: 'depression & anxiety',\n",
       "  475: 'depression (atypical)',\n",
       "  476: 'depression -- anxiety -- insominia',\n",
       "  477: 'depression and anxiety',\n",
       "  478: 'depression and anxiety.',\n",
       "  479: 'depression and generalized anxiety',\n",
       "  480: 'depression anxiety',\n",
       "  481: 'depression not resolved with antidepressant drugs',\n",
       "  482: 'depression pain',\n",
       "  483: 'depression with anxiety',\n",
       "  484: 'depression, a.d.d., mood instability',\n",
       "  485: 'depression, anixety?',\n",
       "  486: 'depression, anxiety',\n",
       "  487: 'depression, anxiety & pain',\n",
       "  488: 'depression, anxiety, ocd, nausea',\n",
       "  489: 'depression, axiety',\n",
       "  490: 'depression, clinical level',\n",
       "  491: 'depression, fatigue',\n",
       "  492: 'depression, insomnia, rx induced insomnia',\n",
       "  493: 'depression, irritability',\n",
       "  494: 'depression, lack of motivation',\n",
       "  495: 'depression, ptsd',\n",
       "  496: 'depression, ptsd fatigue',\n",
       "  497: 'depression, rumination, anxiety',\n",
       "  498: 'depression, social anxiety disorder',\n",
       "  499: 'depression, tension headache',\n",
       "  500: 'depression-anxiety',\n",
       "  501: 'depression/ anxiety',\n",
       "  502: 'depression/ cfs',\n",
       "  503: 'depression/add',\n",
       "  504: 'depression/anxiety',\n",
       "  505: 'depression/anxiety/ptsd',\n",
       "  506: 'depression/binge eating',\n",
       "  507: 'depression/bipolar affective component',\n",
       "  508: 'depression/difficulty sleeping',\n",
       "  509: 'depression/dysthymia',\n",
       "  510: 'depression/insomnia',\n",
       "  511: 'depression/panic disorder',\n",
       "  512: 'depression/post-partum',\n",
       "  513: 'depression/stress',\n",
       "  514: 'depression;',\n",
       "  515: 'depression; intrusive suicidal impulses',\n",
       "  516: 'depresson/anxiety',\n",
       "  517: 'dermagraphia, hives',\n",
       "  518: 'dermatitis',\n",
       "  519: 'dermatitis ( peri-oral)',\n",
       "  520: 'dermatitis herpetiformis',\n",
       "  521: 'diabetes',\n",
       "  522: 'diabetes type 2',\n",
       "  523: 'diabetes type ii',\n",
       "  524: 'diabetese',\n",
       "  525: 'diabetic',\n",
       "  526: 'diaheria assc. w/ chemo',\n",
       "  527: 'diareaha',\n",
       "  528: 'diarreah',\n",
       "  529: 'diarrhea',\n",
       "  530: 'diarrhoea/ibs',\n",
       "  531: 'diet',\n",
       "  532: 'difficulty getting/holding erection',\n",
       "  533: 'difficulty sleeping',\n",
       "  534: 'difficulty sleeping because of nervous system prob',\n",
       "  535: 'discoloration',\n",
       "  536: 'diverticulitis',\n",
       "  537: 'diverticulitis / kidney infection',\n",
       "  538: 'dizzyness,, vertigo, nausea,',\n",
       "  539: 'doctor said my blood pressure was somewhat high 14',\n",
       "  540: 'dog bite prophylaxis',\n",
       "  541: 'drug addiction',\n",
       "  542: 'dry eye',\n",
       "  543: 'dry eyes',\n",
       "  544: 'dry, allergic eyes',\n",
       "  545: 'dust allergy',\n",
       "  546: 'dvt',\n",
       "  547: 'dyshidrosis',\n",
       "  548: 'dyspepsia',\n",
       "  549: 'dysthymia',\n",
       "  550: 'dysthymia ( chronic, low grade depression )',\n",
       "  551: 'dystimia',\n",
       "  552: 'ear and throat infection',\n",
       "  553: 'ear infection',\n",
       "  554: 'ear infection and upper respiratory infection',\n",
       "  555: 'earache',\n",
       "  556: 'earache/sinusitis',\n",
       "  557: 'early onset osteoporosis',\n",
       "  558: 'ease breathing/fast heart rate',\n",
       "  559: 'eczema',\n",
       "  560: 'eczema/allergies',\n",
       "  561: 'eczyma',\n",
       "  562: 'ed',\n",
       "  563: 'elarge pores blackheads around nose & cheeks',\n",
       "  564: 'elevated cholesterol',\n",
       "  565: 'elevated cholesterol level',\n",
       "  566: 'elevated glucose',\n",
       "  567: 'endometrial hyperplasia',\n",
       "  568: 'endometriosis',\n",
       "  569: 'environmental allergies',\n",
       "  570: 'eosinophilic esophagitis',\n",
       "  571: 'eostrogen-positive breast cancer',\n",
       "  572: 'epididymitus',\n",
       "  573: 'epidimytis',\n",
       "  574: 'epilepsy',\n",
       "  575: 'epilepsy, depression and pain',\n",
       "  576: 'epilpsy',\n",
       "  577: 'erectile disfunction',\n",
       "  578: 'erectile dysfunction',\n",
       "  579: 'erictile dysfunction',\n",
       "  580: 'eryhema nodosum',\n",
       "  581: 'esophogeal strictures',\n",
       "  582: 'essential tremor',\n",
       "  583: 'estrogen replacement therapy',\n",
       "  584: 'eustachian tube pain',\n",
       "  585: 'excess acidity',\n",
       "  586: 'excess stomach acid.',\n",
       "  587: 'excessive coughing, later diagnosed as pneumonia',\n",
       "  588: 'excessive fatigue',\n",
       "  589: 'excessive fears',\n",
       "  590: 'excessive testosterone levels',\n",
       "  591: 'extra heartbeat',\n",
       "  592: 'extreme hot flashes',\n",
       "  593: 'extremely dry skin',\n",
       "  594: 'extremely severe anxiety',\n",
       "  595: 'extrinsic aging',\n",
       "  596: 'exzema of the face',\n",
       "  597: 'eye allergies',\n",
       "  598: 'eye infection',\n",
       "  599: 'eyelash growth',\n",
       "  600: 'eyelash loss',\n",
       "  601: 'ezcema',\n",
       "  602: 'ezema on my hands',\n",
       "  603: 'facial',\n",
       "  604: 'facial acne',\n",
       "  605: 'facial hair',\n",
       "  606: 'facial herpes simplex',\n",
       "  607: 'facial hyperpigmentation',\n",
       "  608: 'facial lines',\n",
       "  609: 'facial skin',\n",
       "  610: 'familial hypercholesterolaemia',\n",
       "  611: 'family flu outbreak',\n",
       "  612: 'fatigue',\n",
       "  613: 'fatigue / malaise due to infections',\n",
       "  614: 'fatigue from neurological and heart cond.',\n",
       "  615: 'fatigue from rheumatoid arthiritis',\n",
       "  616: 'fatigue not being able to get up in am',\n",
       "  617: 'fatigue, weight gain, depression',\n",
       "  618: 'fatique, depression',\n",
       "  619: 'female problems, trying to get pregnant, ovulation',\n",
       "  620: 'fertility',\n",
       "  621: 'fever',\n",
       "  622: 'fever and tonsilitis',\n",
       "  623: 'fever blisters',\n",
       "  624: 'fibromyalgia',\n",
       "  625: 'fibromyalgia and depression',\n",
       "  626: 'fibromyalgia and myofacial pain',\n",
       "  627: 'fibromyalgia pain',\n",
       "  628: 'fibromyalgia, failed back syndrome',\n",
       "  629: 'fibromylgia',\n",
       "  630: 'fine lines',\n",
       "  631: 'fine lines around eyes and mouth. between the brow',\n",
       "  632: 'fine lines/wrinkles',\n",
       "  633: 'fine wrinkles',\n",
       "  634: 'fingernail fungus',\n",
       "  635: 'flat warts',\n",
       "  636: 'flu',\n",
       "  637: 'flu symptoms',\n",
       "  638: 'fluid retention increased bp',\n",
       "  639: 'focus',\n",
       "  640: 'folliculitis of scalp',\n",
       "  641: 'foot surgery',\n",
       "  642: 'for  back pain',\n",
       "  643: 'for allergic condition and there after begning of',\n",
       "  644: 'for epilepsy',\n",
       "  645: 'for tramflap surgery,implant removal',\n",
       "  646: 'for treating wrinkles',\n",
       "  647: 'for wrinkle (line) reduction',\n",
       "  648: 'forehead frown lines',\n",
       "  649: 'frequent and urgent  urination',\n",
       "  650: 'frequent urination',\n",
       "  651: 'frozen shoulder',\n",
       "  652: 'fun',\n",
       "  653: 'functional dyspepsia',\n",
       "  654: 'fungal growth on feet',\n",
       "  655: 'fungal toenails',\n",
       "  656: 'fungus',\n",
       "  657: 'fungus on big toes',\n",
       "  658: 'fybromyalgia',\n",
       "  659: 'gad',\n",
       "  660: 'gad - generalised anxiety disorder.',\n",
       "  661: 'gastric esophageal reflux',\n",
       "  662: 'gastric esophogeal reflux disease',\n",
       "  663: 'gastritis',\n",
       "  664: 'gastritis, nausea, fullness',\n",
       "  665: 'gastro esophageal reflux disease (gerd)',\n",
       "  666: 'gastroenteritis',\n",
       "  667: 'gastrointestinal disorder',\n",
       "  668: 'general depression/perimenopause',\n",
       "  669: 'general fluid retention',\n",
       "  670: 'generalized anxiety disorder',\n",
       "  671: 'genital herpes',\n",
       "  672: 'genitofemoral nerve damage',\n",
       "  673: 'gerd',\n",
       "  674: 'gerd (gastroesophogeal reflux disease)',\n",
       "  675: 'gerd - gastroesophageal reflux disease',\n",
       "  676: 'gerd with laryngeal spasms',\n",
       "  677: 'gerd/acid reflux',\n",
       "  678: \"gerd/barret's esophogus\",\n",
       "  679: 'gi irritation',\n",
       "  680: 'giant cell arteritis',\n",
       "  681: 'giardiasis',\n",
       "  682: 'glacoma',\n",
       "  683: 'glandular fever',\n",
       "  684: 'glaucoma',\n",
       "  685: 'glucoma',\n",
       "  686: 'gonorrhea',\n",
       "  687: 'gout',\n",
       "  688: 'grand mal seizures',\n",
       "  689: \"grave's disease\",\n",
       "  690: 'greater depression',\n",
       "  691: 'grow lashes',\n",
       "  692: 'gum infection',\n",
       "  693: 'h-pylori',\n",
       "  694: 'h1n1',\n",
       "  695: 'hair growth',\n",
       "  696: 'hair less',\n",
       "  697: 'hair lose',\n",
       "  698: 'hair loss',\n",
       "  699: 'hair loss, receding hairline',\n",
       "  700: 'hair loss/ facial hair',\n",
       "  701: 'hair regrowth',\n",
       "  702: 'hair thinning',\n",
       "  703: 'hairloss',\n",
       "  704: 'hallucinations',\n",
       "  705: 'hand dermatitis',\n",
       "  706: 'hand pain',\n",
       "  707: 'hard time getting asleep',\n",
       "  708: \"hashimoto's hypothyroidism\",\n",
       "  709: \"hashimoto's thyroiditis\",\n",
       "  710: 'hashimotos disease',\n",
       "  711: 'hashimotos syndrome - hypothyroid symptoms',\n",
       "  712: 'have not stop bleeding',\n",
       "  713: 'hay fever',\n",
       "  714: 'hay fever type allergy reactions',\n",
       "  715: 'hay fever, allergies',\n",
       "  716: 'hbp',\n",
       "  717: 'head injuries',\n",
       "  718: 'head injury',\n",
       "  719: 'head injury  / brain trauma',\n",
       "  720: 'head injury/concussion',\n",
       "  721: 'headache',\n",
       "  722: 'headache/migrain',\n",
       "  723: 'headaches',\n",
       "  724: 'headaches, menstrual aches/cramps, fever',\n",
       "  725: 'headake',\n",
       "  726: 'heart',\n",
       "  727: 'heart burn',\n",
       "  728: 'heart condition',\n",
       "  729: 'heart murmer',\n",
       "  730: 'heart murmur/dental procedures',\n",
       "  731: 'heart palpitations',\n",
       "  732: 'heart problem',\n",
       "  733: 'heart racing and fluttering',\n",
       "  734: 'heartburn',\n",
       "  735: 'heartburn/gerd',\n",
       "  736: 'heavy menses',\n",
       "  737: 'heavy menstrual bleeding',\n",
       "  738: 'heavy period',\n",
       "  739: 'heavy periods',\n",
       "  740: 'heavy periods, thickened endometrium',\n",
       "  741: 'heavy periods/cramping',\n",
       "  742: 'hemorrhagic cystitis',\n",
       "  743: 'hepatitis b',\n",
       "  744: 'hepatitis c',\n",
       "  745: 'heratburn',\n",
       "  746: 'herniated disc',\n",
       "  747: 'herniated disk in my lower back',\n",
       "  748: 'herpes',\n",
       "  749: 'herpes cold sores around mouth and nose',\n",
       "  750: 'herpes zoster',\n",
       "  751: 'hgh deficiency & hiv',\n",
       "  752: 'hiatal hernia',\n",
       "  753: 'hiatal hernia and ileocecal valve syndrome',\n",
       "  754: 'hiatus hernia, indigestion, acid reflux',\n",
       "  755: 'high  cholesterol',\n",
       "  756: 'high blood cholesterol',\n",
       "  757: 'high blood cholesterol levels',\n",
       "  758: 'high blood levels of thrombisin',\n",
       "  759: 'high blood preasure',\n",
       "  760: 'high blood pressue --  diuretic',\n",
       "  761: 'high blood pressure',\n",
       "  762: 'high blood pressure & left ventricular hypertrophy',\n",
       "  763: 'high blood pressure after prewgnancy',\n",
       "  764: 'high blood pressure and',\n",
       "  765: 'high blood presure',\n",
       "  766: 'high bloodpressure',\n",
       "  767: 'high bp',\n",
       "  768: 'high c',\n",
       "  769: 'high chloresteral',\n",
       "  770: 'high cholerterol',\n",
       "  771: 'high cholesteol',\n",
       "  772: 'high cholesteral',\n",
       "  773: 'high cholesterol',\n",
       "  774: 'high cholesterol and triglycerides (21.1!)',\n",
       "  775: 'high cholestoral',\n",
       "  776: 'high cholestral',\n",
       "  777: 'high cholestrol',\n",
       "  778: 'high colesteral',\n",
       "  779: 'high colesterol',\n",
       "  780: 'high colesterol level',\n",
       "  781: 'high colestrol',\n",
       "  782: 'high colorestoral',\n",
       "  783: 'high interoccular pressure',\n",
       "  784: 'high intraocular pressure (glaucoma)',\n",
       "  785: 'high ldl',\n",
       "  786: 'high level anxiety/depression',\n",
       "  787: 'high level of prolactin',\n",
       "  788: 'high lpa',\n",
       "  789: 'high total cholesterol',\n",
       "  790: 'high-normal hypertension',\n",
       "  791: 'hip flexor & back pain',\n",
       "  792: 'hiv',\n",
       "  793: 'hives',\n",
       "  794: 'hives, itching, swelling due to allergies',\n",
       "  795: 'hormonal acne',\n",
       "  796: 'hormonal acne/sun damage',\n",
       "  797: 'hormonal imbalances and pregnancy prevention',\n",
       "  798: 'hormone and for prevention of osteoporosis',\n",
       "  799: 'hormone balance',\n",
       "  800: 'hormone replacement',\n",
       "  801: 'hormone replacement therapy',\n",
       "  802: 'hormones',\n",
       "  803: 'hot flash sleep problems',\n",
       "  804: 'hot flashes',\n",
       "  805: 'hot flashes / night sweats',\n",
       "  806: 'hot flashes, depression',\n",
       "  807: 'hot flashes, headaches, fatigue, dry vagina',\n",
       "  808: 'hot flashes, unable to sleep',\n",
       "  809: 'hot flashes/ over all feel better',\n",
       "  810: 'hrt',\n",
       "  811: 'hrt (hormone replacement therapy)',\n",
       "  812: 'hrt hysterectomy',\n",
       "  813: 'hsv 2',\n",
       "  814: 'hsv1',\n",
       "  815: 'htn',\n",
       "  816: 'hyhpothyroidism',\n",
       "  817: 'hyper pigmentation, wrinkles',\n",
       "  818: 'hyperactive nerves and chronic small seizures',\n",
       "  819: 'hypercholesteremia',\n",
       "  820: 'hypercholesterolemia',\n",
       "  821: 'hypercholesterolemia w/ low ldl',\n",
       "  822: 'hypercholestremia',\n",
       "  823: 'hyperhidrosis',\n",
       "  824: 'hyperlipidemia',\n",
       "  825: 'hyperpigmatation',\n",
       "  826: 'hyperpigmentation',\n",
       "  827: 'hyperpigmentation all over face',\n",
       "  828: 'hyperpigmentation, light breakouts, fine lines',\n",
       "  829: 'hyperpigmentation, photoaging, mild hormonal acne',\n",
       "  830: 'hypertension',\n",
       "  831: 'hypertension (high blood pressure)',\n",
       "  832: 'hypertension/high blood pressure',\n",
       "  833: 'hypertention',\n",
       "  834: 'hyperthyroid - graves disease',\n",
       "  835: 'hyperthyroidism',\n",
       "  836: 'hypothroidism',\n",
       "  837: 'hypothroidism after radioactive iodine',\n",
       "  838: 'hypothryoid-related dry skin',\n",
       "  839: 'hypothryroid',\n",
       "  840: 'hypothyriod',\n",
       "  841: \"hypothyriodism--hashimoto's thyroiditis\",\n",
       "  842: 'hypothyroid',\n",
       "  843: \"hypothyroid - hashimoto's disease\",\n",
       "  844: 'hypothyroid deficiency',\n",
       "  845: 'hypothyroid problem',\n",
       "  846: 'hypothyroid, hashimoto',\n",
       "  847: 'hypothyroidism',\n",
       "  848: 'hypothyroidism after thyroidectomy',\n",
       "  849: 'hypothyroidsim',\n",
       "  850: 'hypothyroidsm',\n",
       "  851: 'hypthyroidism',\n",
       "  852: 'hypthyroidsim',\n",
       "  853: 'hysterectomy',\n",
       "  854: 'hysterectomy/cessation of menses',\n",
       "  855: 'hysterectomy/menopause',\n",
       "  856: 'i got my toothpulled',\n",
       "  857: 'i had blotchy skin in the form of freckles and sun',\n",
       "  858: 'i kept getting pregnant. no more stairs.... please',\n",
       "  859: 'i took seasonique just  to prevent pregnancy',\n",
       "  860: 'i was in a risk group - frontline pharmacist',\n",
       "  861: 'ibs',\n",
       "  862: 'ibs, panic attacks, depression',\n",
       "  863: 'ibs/anxiety',\n",
       "  864: 'idiopathic excema',\n",
       "  865: 'illiotibital tibital syndrom',\n",
       "  866: 'impetigo',\n",
       "  867: 'impotence',\n",
       "  868: 'improve bone density',\n",
       "  869: 'improvement of skin appearance, very very mild acn',\n",
       "  870: 'improvement of skin appearance/health',\n",
       "  871: 'inability to fall asleep',\n",
       "  872: 'inability to fall asleep easily',\n",
       "  873: 'inattention  and disorganization',\n",
       "  874: 'incontinence',\n",
       "  875: 'increase dopmaine levels',\n",
       "  876: 'increase follicle production prior to iui',\n",
       "  877: 'indigestion',\n",
       "  878: 'indigestion and check pain',\n",
       "  879: 'indoor allergies',\n",
       "  880: 'infected lymph node',\n",
       "  881: 'infected site of oreal surgery',\n",
       "  882: 'infected throat and lung',\n",
       "  883: 'infection',\n",
       "  884: 'infection (in ear)',\n",
       "  885: 'infection from grazing an ankle on coral',\n",
       "  886: 'infection in mandible',\n",
       "  887: 'infertility',\n",
       "  888: 'inflamation 10 years after surgery',\n",
       "  889: 'inflamation at the femoral nerve',\n",
       "  890: 'inflamation resulting from damage to knee during s',\n",
       "  891: 'inflamed neck muscles',\n",
       "  892: 'inflammation of throat during bacteria bronchitis',\n",
       "  893: 'inflammatory arthritis',\n",
       "  894: 'ingrown toenails',\n",
       "  895: 'initially, acne; later, anti-wrinkle',\n",
       "  896: 'inner ear infection',\n",
       "  897: 'insomia',\n",
       "  898: 'insomina',\n",
       "  899: 'insommnia',\n",
       "  900: 'insomnia',\n",
       "  901: 'insomnia - early awakening',\n",
       "  902: 'insomnia and anxiety',\n",
       "  903: 'insomnia due to peri-menopause',\n",
       "  904: 'insomnia, and arthrtis',\n",
       "  905: 'insomnia, anxiety',\n",
       "  906: 'insomnia, bipolar',\n",
       "  907: 'insomnia, chronic pain',\n",
       "  908: 'insomnia, headaches',\n",
       "  909: 'insomnia, migraines',\n",
       "  910: 'insomnia, night sweats, hot flashes',\n",
       "  911: 'insomnia/ a bit of depression',\n",
       "  912: 'insomnia/difficulty sleeping',\n",
       "  913: 'insomnia/poor sleep quality',\n",
       "  914: 'insulin dependent diabetes mellitus',\n",
       "  915: 'insulin resistance',\n",
       "  916: 'interstital cystitis',\n",
       "  917: 'interstitial cystitis',\n",
       "  918: 'irregular cycles',\n",
       "  919: 'irregular menses',\n",
       "  920: 'irregular periods',\n",
       "  921: 'irregularity/no babies!',\n",
       "  922: 'irritability,anxiety',\n",
       "  923: 'irritable bowel syndrom',\n",
       "  924: 'irritable bowel syndrome',\n",
       "  925: 'irritated and sore throat,nose,eyes and sneezing.',\n",
       "  926: 'itching',\n",
       "  927: 'itching body rash',\n",
       "  928: 'itching/psosiasis',\n",
       "  929: 'itchy and irritated skin',\n",
       "  930: 'itchy watery eyes',\n",
       "  931: 'itchy, red, irritated skin',\n",
       "  932: 'jaw abscess',\n",
       "  933: 'jaw/tooth pain',\n",
       "  934: 'joint pain',\n",
       "  935: 'joint/muscular issues - fibro',\n",
       "  936: 'juvenile idiopathic arthritis',\n",
       "  937: 'juvenile rheumatoid arthritis',\n",
       "  938: 'keratosis pilaris',\n",
       "  939: 'kidney infection',\n",
       "  940: 'kidney pain, difficult urination',\n",
       "  941: 'kidney stones',\n",
       "  942: 'klebsiella pneumonia infection',\n",
       "  943: 'knee pain',\n",
       "  944: 'knee pain/inflamation',\n",
       "  945: 'labyrinthitis',\n",
       "  946: 'lack of attention for studying/school',\n",
       "  947: 'lactation',\n",
       "  948: 'laryngopharyngeal reflux',\n",
       "  949: 'lashes',\n",
       "  950: 'ldl cholesterol',\n",
       "  951: 'leg blood clot, dvt',\n",
       "  952: 'leg pain from compressed spinal cord',\n",
       "  953: 'lessen periods due to pain with adenomyosis',\n",
       "  954: 'lethergy',\n",
       "  955: 'lingering infection - ear, sinus, throat',\n",
       "  956: 'localized acne',\n",
       "  957: 'longer eyelashes',\n",
       "  958: 'loose weight',\n",
       "  959: 'lose weight',\n",
       "  960: 'loss of bone density',\n",
       "  961: 'loss of bone density in spine',\n",
       "  962: 'loss of bone mass',\n",
       "  963: 'low back pain due to car accident',\n",
       "  964: 'low back pain, radiating to left leg',\n",
       "  965: 'low back pain/herniated disk/sciatic pain',\n",
       "  966: 'low energy',\n",
       "  967: 'low energy and depression',\n",
       "  968: 'low estragen',\n",
       "  969: 'low hdl',\n",
       "  970: 'low thyroid',\n",
       "  971: 'low thyroid levels',\n",
       "  972: 'low thyroid production',\n",
       "  973: 'low under active thyroid',\n",
       "  974: 'lower back pain',\n",
       "  975: 'lower back pain and migraine',\n",
       "  976: 'lower respiratory tract infection',\n",
       "  977: 'lupus',\n",
       "  978: 'lupus-like systemic autoimmune condition',\n",
       "  979: 'lyme ? or unknown',\n",
       "  980: 'lyme disease',\n",
       "  981: 'm to f transformation',\n",
       "  982: 'm.r.s.a.',\n",
       "  983: 'maigrains',\n",
       "  984: 'major chronic depressive disorder',\n",
       "  985: 'major clinical depression',\n",
       "  986: 'major depression',\n",
       "  987: 'major depression/anxiety',\n",
       "  988: 'major depressive disorder',\n",
       "  989: 'major depressive disorder/ anxiety',\n",
       "  990: 'major depressive disorder/anxiety',\n",
       "  991: 'major depressive episode',\n",
       "  992: 'major sinus infection',\n",
       "  993: 'malaria',\n",
       "  994: 'malaria prevention',\n",
       "  995: 'male andropause',\n",
       "  996: 'male pattern baldness',\n",
       "  997: 'male pattern bladness',\n",
       "  998: 'male pattern hair loss',\n",
       "  999: 'male-pattern baldness',\n",
       "  ...},\n",
       " {0: 'Extremely Severe Side Effects',\n",
       "  1: 'Mild Side Effects',\n",
       "  2: 'Moderate Side Effects',\n",
       "  3: 'No Side Effects',\n",
       "  4: 'Severe Side Effects'}]"
      ]
     },
     "execution_count": 178,
     "metadata": {},
     "output_type": "execute_result"
    }
   ],
   "source": [
    "mappings"
   ]
  },
  {
   "cell_type": "markdown",
   "metadata": {},
   "source": [
    "### Checking Correlation"
   ]
  },
  {
   "cell_type": "code",
   "execution_count": 179,
   "metadata": {},
   "outputs": [
    {
     "data": {
      "text/plain": [
       "<matplotlib.axes._subplots.AxesSubplot at 0x1b6ce05eaf0>"
      ]
     },
     "execution_count": 179,
     "metadata": {},
     "output_type": "execute_result"
    },
    {
     "data": {
      "image/png": "[encoded data removed]",
      "text/plain": [
       "<Figure size 432x288 with 2 Axes>"
      ]
     },
     "metadata": {
      "needs_background": "light"
     },
     "output_type": "display_data"
    }
   ],
   "source": [
    "corr=df.corr()\n",
    "sns.heatmap(corr)"
   ]
  },
  {
   "cell_type": "code",
   "execution_count": 180,
   "metadata": {},
   "outputs": [
    {
     "data": {
      "text/plain": [
       "Index(['urlDrugName', 'rating', 'effectiveness', 'sideEffects', 'condition',\n",
       "       'benefitsReview', 'sideEffectsReview', 'commentsReview'],\n",
       "      dtype='object')"
      ]
     },
     "execution_count": 180,
     "metadata": {},
     "output_type": "execute_result"
    }
   ],
   "source": [
    "df.columns"
   ]
  },
  {
   "cell_type": "markdown",
   "metadata": {},
   "source": [
    "### Selecting Dependent and independent values"
   ]
  },
  {
   "cell_type": "code",
   "execution_count": 181,
   "metadata": {},
   "outputs": [],
   "source": [
    "x=df.drop(['sideEffects','benefitsReview', 'sideEffectsReview', 'commentsReview'],axis=1)\n",
    "y=df['sideEffects']"
   ]
  },
  {
   "cell_type": "markdown",
   "metadata": {},
   "source": [
    "### Standard scaling the data"
   ]
  },
  {
   "cell_type": "code",
   "execution_count": 182,
   "metadata": {},
   "outputs": [],
   "source": [
    "from sklearn.preprocessing import StandardScaler\n",
    "scaler=StandardScaler()\n",
    "x=scaler.fit_transform(x)"
   ]
  },
  {
   "cell_type": "code",
   "execution_count": 189,
   "metadata": {},
   "outputs": [],
   "source": [
    "X_train=x[:3107]\n",
    "X_test=x[3107:]\n",
    "y_train=y[:3107]\n",
    "y_test=y[3107:]"
   ]
  },
  {
   "cell_type": "code",
   "execution_count": 190,
   "metadata": {},
   "outputs": [],
   "source": [
    "# dtale.show(x)"
   ]
  },
  {
   "cell_type": "markdown",
   "metadata": {},
   "source": [
    "## Data modeling"
   ]
  },
  {
   "cell_type": "code",
   "execution_count": 191,
   "metadata": {},
   "outputs": [],
   "source": [
    "from sklearn.naive_bayes import GaussianNB\n",
    "from sklearn.naive_bayes import BernoulliNB\n",
    "from sklearn.linear_model import LogisticRegression\n",
    "from sklearn.svm import SVC\n",
    "from sklearn.ensemble import RandomForestClassifier\n",
    "from sklearn.tree import DecisionTreeClassifier\n",
    "from sklearn.neighbors import KNeighborsClassifier\n",
    "from sklearn.metrics import confusion_matrix,accuracy_score,classification_report\n",
    "from sklearn.ensemble import GradientBoostingClassifier\n",
    "from xgboost import XGBClassifier"
   ]
  },
  {
   "cell_type": "markdown",
   "metadata": {},
   "source": [
    "### Logistic regression"
   ]
  },
  {
   "cell_type": "code",
   "execution_count": 192,
   "metadata": {},
   "outputs": [],
   "source": [
    "#logistic regression\n",
    "from sklearn.linear_model import LogisticRegression\n",
    "logit_model = LogisticRegression()\n",
    "logit_model.fit(X_train,y_train)\n",
    "y_pred = logit_model.predict(X_test)"
   ]
  },
  {
   "cell_type": "code",
   "execution_count": 193,
   "metadata": {},
   "outputs": [
    {
     "name": "stdout",
     "output_type": "stream",
     "text": [
      "Classification report :\n",
      "               precision    recall  f1-score   support\n",
      "\n",
      "           0       0.62      0.39      0.48        80\n",
      "           1       0.43      0.55      0.48       330\n",
      "           2       0.46      0.27      0.34       236\n",
      "           3       0.51      0.57      0.54       268\n",
      "           4       0.39      0.42      0.40       122\n",
      "\n",
      "    accuracy                           0.46      1036\n",
      "   macro avg       0.48      0.44      0.45      1036\n",
      "weighted avg       0.47      0.46      0.46      1036\n",
      "\n"
     ]
    }
   ],
   "source": [
    "from sklearn.metrics import confusion_matrix,accuracy_score,classification_report\n",
    "# print('Confusion_matrix is :\\n',confusion_matrix(y_test,y_pred))\n",
    "print('Classification report :\\n' ,classification_report(y_test,y_pred))"
   ]
  },
  {
   "cell_type": "markdown",
   "metadata": {},
   "source": [
    "### Gussian Naive Bayes Classifier"
   ]
  },
  {
   "cell_type": "code",
   "execution_count": 194,
   "metadata": {},
   "outputs": [
    {
     "data": {
      "text/plain": [
       "GaussianNB()"
      ]
     },
     "execution_count": 194,
     "metadata": {},
     "output_type": "execute_result"
    }
   ],
   "source": [
    "classifier=GaussianNB()\n",
    "classifier.fit(X_train,y_train)"
   ]
  },
  {
   "cell_type": "code",
   "execution_count": 195,
   "metadata": {},
   "outputs": [
    {
     "name": "stdout",
     "output_type": "stream",
     "text": [
      "Classification report :\n",
      "               precision    recall  f1-score   support\n",
      "\n",
      "           0       0.52      0.64      0.57        80\n",
      "           1       0.46      0.52      0.49       330\n",
      "           2       0.40      0.29      0.34       236\n",
      "           3       0.53      0.54      0.53       268\n",
      "           4       0.34      0.33      0.33       122\n",
      "\n",
      "    accuracy                           0.46      1036\n",
      "   macro avg       0.45      0.46      0.45      1036\n",
      "weighted avg       0.45      0.46      0.45      1036\n",
      "\n"
     ]
    }
   ],
   "source": [
    "y_pred=classifier.predict(X_test)\n",
    "print('Classification report :\\n' ,classification_report(y_test,y_pred))"
   ]
  },
  {
   "cell_type": "markdown",
   "metadata": {},
   "source": [
    "**Bernouli Naive Bayes Classifier**"
   ]
  },
  {
   "cell_type": "code",
   "execution_count": 196,
   "metadata": {},
   "outputs": [
    {
     "name": "stdout",
     "output_type": "stream",
     "text": [
      "classification report : \n",
      "               precision    recall  f1-score   support\n",
      "\n",
      "           0       0.00      0.00      0.00        80\n",
      "           1       0.43      0.67      0.53       330\n",
      "           2       0.35      0.17      0.22       236\n",
      "           3       0.42      0.24      0.31       268\n",
      "           4       0.25      0.51      0.33       122\n",
      "\n",
      "    accuracy                           0.37      1036\n",
      "   macro avg       0.29      0.32      0.28      1036\n",
      "weighted avg       0.35      0.37      0.34      1036\n",
      "\n"
     ]
    },
    {
     "name": "stderr",
     "output_type": "stream",
     "text": [
      "C:\\Users\\Vinay\\anaconda3\\lib\\site-packages\\sklearn\\metrics\\_classification.py:1221: UndefinedMetricWarning: Precision and F-score are ill-defined and being set to 0.0 in labels with no predicted samples. Use `zero_division` parameter to control this behavior.\n",
      "  _warn_prf(average, modifier, msg_start, len(result))\n"
     ]
    }
   ],
   "source": [
    "classifier=BernoulliNB()\n",
    "classifier.fit(X_train,y_train)\n",
    "y_pred=classifier.predict(X_test)\n",
    "print(\"classification report : \\n\",classification_report(y_test,y_pred))"
   ]
  },
  {
   "cell_type": "markdown",
   "metadata": {},
   "source": [
    "**SVM**"
   ]
  },
  {
   "cell_type": "markdown",
   "metadata": {},
   "source": [
    "**Linear SVM**"
   ]
  },
  {
   "cell_type": "code",
   "execution_count": 210,
   "metadata": {},
   "outputs": [
    {
     "name": "stdout",
     "output_type": "stream",
     "text": [
      "Classification report:\n",
      "               precision    recall  f1-score   support\n",
      "\n",
      "           0       0.00      0.00      0.00        80\n",
      "           1       0.42      0.52      0.47       330\n",
      "           2       0.45      0.22      0.29       236\n",
      "           3       0.49      0.57      0.53       268\n",
      "           4       0.35      0.61      0.44       122\n",
      "\n",
      "    accuracy                           0.43      1036\n",
      "   macro avg       0.34      0.38      0.35      1036\n",
      "weighted avg       0.41      0.43      0.40      1036\n",
      "\n"
     ]
    },
    {
     "name": "stderr",
     "output_type": "stream",
     "text": [
      "C:\\Users\\Vinay\\anaconda3\\lib\\site-packages\\sklearn\\metrics\\_classification.py:1221: UndefinedMetricWarning: Precision and F-score are ill-defined and being set to 0.0 in labels with no predicted samples. Use `zero_division` parameter to control this behavior.\n",
      "  _warn_prf(average, modifier, msg_start, len(result))\n"
     ]
    }
   ],
   "source": [
    "classifier=SVC(kernel=\"linear\",random_state=123)\n",
    "classifier.fit(X_train,y_train)\n",
    "y_pred=classifier.predict(X_test)\n",
    "print(\"Classification report:\\n\",classification_report(y_test,y_pred))"
   ]
  },
  {
   "cell_type": "markdown",
   "metadata": {},
   "source": [
    "**POLYNOMIAL SVM**"
   ]
  },
  {
   "cell_type": "code",
   "execution_count": 217,
   "metadata": {},
   "outputs": [
    {
     "name": "stdout",
     "output_type": "stream",
     "text": [
      "Classification report :\n",
      "               precision    recall  f1-score   support\n",
      "\n",
      "           0       0.59      0.46      0.52        80\n",
      "           1       0.40      0.72      0.52       330\n",
      "           2       0.44      0.22      0.29       236\n",
      "           3       0.50      0.33      0.40       268\n",
      "           4       0.41      0.31      0.36       122\n",
      "\n",
      "    accuracy                           0.44      1036\n",
      "   macro avg       0.47      0.41      0.42      1036\n",
      "weighted avg       0.45      0.44      0.42      1036\n",
      "\n"
     ]
    }
   ],
   "source": [
    "svm_po=SVC(kernel='poly',degree=3,random_state=123)\n",
    "svm_po.fit(X_train,y_train)\n",
    "y_pred=svm_po.predict(X_test)\n",
    "print(\"Classification report :\\n\",classification_report(y_test,y_pred))"
   ]
  },
  {
   "cell_type": "markdown",
   "metadata": {},
   "source": [
    "**Radial SVM**"
   ]
  },
  {
   "cell_type": "code",
   "execution_count": 212,
   "metadata": {},
   "outputs": [
    {
     "name": "stdout",
     "output_type": "stream",
     "text": [
      "Classification report \n",
      "               precision    recall  f1-score   support\n",
      "\n",
      "           0       0.57      0.35      0.43        80\n",
      "           1       0.45      0.62      0.52       330\n",
      "           2       0.45      0.30      0.36       236\n",
      "           3       0.59      0.54      0.57       268\n",
      "           4       0.37      0.42      0.39       122\n",
      "\n",
      "    accuracy                           0.48      1036\n",
      "   macro avg       0.49      0.44      0.45      1036\n",
      "weighted avg       0.49      0.48      0.47      1036\n",
      "\n"
     ]
    }
   ],
   "source": [
    "svm_ra=SVC(kernel='rbf',random_state=123)\n",
    "svm_ra.fit(X_train,y_train)\n",
    "y_pred=svm_ra.predict(X_test)\n",
    "print(\"Classification report \\n\",classification_report(y_test,y_pred))"
   ]
  },
  {
   "cell_type": "markdown",
   "metadata": {},
   "source": [
    "**KNN algorithm**"
   ]
  },
  {
   "cell_type": "code",
   "execution_count": 197,
   "metadata": {},
   "outputs": [],
   "source": [
    "acc_values=[]\n",
    "neighbors=np.arange(1,16)\n",
    "for i in neighbors:\n",
    "    classifier=KNeighborsClassifier(n_neighbors=i,metric='minkowski')\n",
    "    classifier.fit(X_train,y_train)\n",
    "    y_pred=classifier.predict(X_test)\n",
    "    acc=accuracy_score(y_test,y_pred)\n",
    "    acc_values.append(acc)"
   ]
  },
  {
   "cell_type": "code",
   "execution_count": 198,
   "metadata": {},
   "outputs": [
    {
     "data": {
      "image/png": "[encoded data removed]",
      "text/plain": [
       "<Figure size 432x288 with 1 Axes>"
      ]
     },
     "metadata": {
      "needs_background": "light"
     },
     "output_type": "display_data"
    }
   ],
   "source": [
    "plt.plot(range(1,16),acc_values,'-o')\n",
    "plt.show()"
   ]
  },
  {
   "cell_type": "code",
   "execution_count": 199,
   "metadata": {},
   "outputs": [
    {
     "name": "stdout",
     "output_type": "stream",
     "text": [
      "Classification report\n",
      "               precision    recall  f1-score   support\n",
      "\n",
      "           0       0.47      0.50      0.48        80\n",
      "           1       0.45      0.59      0.51       330\n",
      "           2       0.39      0.30      0.34       236\n",
      "           3       0.59      0.52      0.56       268\n",
      "           4       0.33      0.25      0.29       122\n",
      "\n",
      "    accuracy                           0.46      1036\n",
      "   macro avg       0.45      0.43      0.43      1036\n",
      "weighted avg       0.46      0.46      0.45      1036\n",
      "\n"
     ]
    }
   ],
   "source": [
    "classifier=KNeighborsClassifier(n_neighbors=5,metric='minkowski')\n",
    "classifier.fit(X_train,y_train)\n",
    "y_pred=classifier.predict(X_test)\n",
    "print(\"Classification report\\n\",classification_report(y_test,y_pred))"
   ]
  },
  {
   "cell_type": "markdown",
   "metadata": {},
   "source": [
    "**Decision Tree**"
   ]
  },
  {
   "cell_type": "code",
   "execution_count": 200,
   "metadata": {},
   "outputs": [
    {
     "name": "stdout",
     "output_type": "stream",
     "text": [
      "Classification report: \n",
      "               precision    recall  f1-score   support\n",
      "\n",
      "           0       0.54      0.46      0.50        80\n",
      "           1       0.44      0.44      0.44       330\n",
      "           2       0.38      0.36      0.37       236\n",
      "           3       0.49      0.51      0.50       268\n",
      "           4       0.32      0.35      0.33       122\n",
      "\n",
      "    accuracy                           0.43      1036\n",
      "   macro avg       0.43      0.43      0.43      1036\n",
      "weighted avg       0.43      0.43      0.43      1036\n",
      "\n"
     ]
    }
   ],
   "source": [
    "clf=DecisionTreeClassifier(random_state=123)\n",
    "clf.fit(X_train,y_train)\n",
    "y_pred=clf.predict(X_test)\n",
    "print(\"Classification report: \\n\",classification_report(y_test,y_pred))"
   ]
  },
  {
   "cell_type": "code",
   "execution_count": 201,
   "metadata": {},
   "outputs": [
    {
     "name": "stdout",
     "output_type": "stream",
     "text": [
      "Classification matrix: \n",
      "               precision    recall  f1-score   support\n",
      "\n",
      "           0       0.55      0.68      0.60        80\n",
      "           1       0.46      0.50      0.48       330\n",
      "           2       0.43      0.34      0.38       236\n",
      "           3       0.53      0.57      0.55       268\n",
      "           4       0.41      0.34      0.37       122\n",
      "\n",
      "    accuracy                           0.47      1036\n",
      "   macro avg       0.47      0.48      0.47      1036\n",
      "weighted avg       0.47      0.47      0.47      1036\n",
      "\n"
     ]
    }
   ],
   "source": [
    "clf=DecisionTreeClassifier(criterion='entropy',random_state=123,min_samples_split=30,max_depth=300)\n",
    "clf.fit(X_train,y_train)\n",
    "y_pred=clf.predict(X_test)\n",
    "print(\"Classification matrix: \\n\",classification_report(y_test,y_pred))"
   ]
  },
  {
   "cell_type": "markdown",
   "metadata": {},
   "source": [
    "**Random forest Classifier**"
   ]
  },
  {
   "cell_type": "code",
   "execution_count": 202,
   "metadata": {},
   "outputs": [
    {
     "name": "stdout",
     "output_type": "stream",
     "text": [
      "Classification report : \n",
      "               precision    recall  f1-score   support\n",
      "\n",
      "           0       0.58      0.50      0.54        80\n",
      "           1       0.48      0.47      0.47       330\n",
      "           2       0.38      0.37      0.38       236\n",
      "           3       0.56      0.58      0.57       268\n",
      "           4       0.34      0.39      0.36       122\n",
      "\n",
      "    accuracy                           0.47      1036\n",
      "   macro avg       0.47      0.46      0.46      1036\n",
      "weighted avg       0.47      0.47      0.47      1036\n",
      "\n"
     ]
    }
   ],
   "source": [
    "rf=RandomForestClassifier(random_state=123)\n",
    "rf.fit(X_train,y_train)\n",
    "y_pred=rf.predict(X_test)\n",
    "print(\"Classification report : \\n\",classification_report(y_test,y_pred))"
   ]
  },
  {
   "cell_type": "markdown",
   "metadata": {},
   "source": [
    "### **Gradient Boosting**"
   ]
  },
  {
   "cell_type": "code",
   "execution_count": 203,
   "metadata": {},
   "outputs": [
    {
     "name": "stdout",
     "output_type": "stream",
     "text": [
      "Classification report :\n",
      "               precision    recall  f1-score   support\n",
      "\n",
      "           0       0.55      0.53      0.54        80\n",
      "           1       0.52      0.62      0.56       330\n",
      "           2       0.49      0.42      0.45       236\n",
      "           3       0.65      0.59      0.62       268\n",
      "           4       0.36      0.34      0.35       122\n",
      "\n",
      "    accuracy                           0.53      1036\n",
      "   macro avg       0.51      0.50      0.50      1036\n",
      "weighted avg       0.53      0.53      0.53      1036\n",
      "\n"
     ]
    }
   ],
   "source": [
    "classifier=GradientBoostingClassifier(random_state=123,n_estimators =58,min_samples_split=0.07)\n",
    "classifier.fit(X_train,y_train)\n",
    "y_pred=classifier.predict(X_test)\n",
    "print(\"Classification report :\\n\",classification_report(y_test,y_pred))"
   ]
  },
  {
   "cell_type": "markdown",
   "metadata": {},
   "source": [
    "### Evaluating using kFold Crossvalidation"
   ]
  },
  {
   "cell_type": "code",
   "execution_count": 204,
   "metadata": {},
   "outputs": [],
   "source": [
    "seed = 123\n",
    "num_trees = 58"
   ]
  },
  {
   "cell_type": "code",
   "execution_count": 205,
   "metadata": {},
   "outputs": [
    {
     "name": "stderr",
     "output_type": "stream",
     "text": [
      "C:\\Users\\Vinay\\anaconda3\\lib\\site-packages\\sklearn\\model_selection\\_split.py:293: FutureWarning: Setting a random_state has no effect since shuffle is False. This will raise an error in 0.24. You should leave random_state to its default (None), or set shuffle=True.\n",
      "  warnings.warn(\n"
     ]
    }
   ],
   "source": [
    "from sklearn import model_selection\n",
    "kfold = model_selection.KFold(n_splits=7, random_state=seed)\n",
    "model = GradientBoostingClassifier(n_estimators=num_trees, random_state=seed,min_samples_split=0.07)\n",
    "results = model_selection.cross_val_score(model, x, y, cv=kfold)"
   ]
  },
  {
   "cell_type": "code",
   "execution_count": 206,
   "metadata": {},
   "outputs": [
    {
     "name": "stdout",
     "output_type": "stream",
     "text": [
      "0.515090416740163\n"
     ]
    }
   ],
   "source": [
    "print(results.mean())"
   ]
  },
  {
   "cell_type": "markdown",
   "metadata": {},
   "source": [
    "**Xg Boost**"
   ]
  },
  {
   "cell_type": "code",
   "execution_count": 207,
   "metadata": {},
   "outputs": [
    {
     "name": "stderr",
     "output_type": "stream",
     "text": [
      "C:\\Users\\Vinay\\anaconda3\\lib\\site-packages\\xgboost\\sklearn.py:888: UserWarning: The use of label encoder in XGBClassifier is deprecated and will be removed in a future release. To remove this warning, do the following: 1) Pass option use_label_encoder=False when constructing XGBClassifier object; and 2) Encode your labels (y) as integers starting with 0, i.e. 0, 1, 2, ..., [num_class - 1].\n",
      "  warnings.warn(label_encoder_deprecation_msg, UserWarning)\n"
     ]
    },
    {
     "name": "stdout",
     "output_type": "stream",
     "text": [
      "[11:30:52] WARNING: C:/Users/Administrator/workspace/xgboost-win64_release_1.3.0/src/learner.cc:1061: Starting in XGBoost 1.3.0, the default evaluation metric used with the objective 'multi:softprob' was changed from 'merror' to 'mlogloss'. Explicitly set eval_metric if you'd like to restore the old behavior.\n",
      "Classification report : \n",
      "               precision    recall  f1-score   support\n",
      "\n",
      "           0       0.57      0.46      0.51        80\n",
      "           1       0.51      0.52      0.51       330\n",
      "           2       0.43      0.43      0.43       236\n",
      "           3       0.58      0.57      0.57       268\n",
      "           4       0.33      0.36      0.34       122\n",
      "\n",
      "    accuracy                           0.49      1036\n",
      "   macro avg       0.48      0.47      0.47      1036\n",
      "weighted avg       0.49      0.49      0.49      1036\n",
      "\n"
     ]
    }
   ],
   "source": [
    "xgbc=XGBClassifier(random_state=123)\n",
    "xgbc.fit(X_train,y_train)\n",
    "y_pred=xgbc.predict(X_test)\n",
    "print(\"Classification report : \\n\",classification_report(y_test,y_pred))"
   ]
  },
  {
   "cell_type": "markdown",
   "metadata": {},
   "source": [
    "### Extra Tree Classifier"
   ]
  },
  {
   "cell_type": "code",
   "execution_count": 208,
   "metadata": {},
   "outputs": [
    {
     "name": "stdout",
     "output_type": "stream",
     "text": [
      "Classification report \n",
      "               precision    recall  f1-score   support\n",
      "\n",
      "           0       0.53      0.49      0.51        80\n",
      "           1       0.48      0.50      0.49       330\n",
      "           2       0.37      0.34      0.35       236\n",
      "           3       0.57      0.58      0.58       268\n",
      "           4       0.31      0.34      0.32       122\n",
      "\n",
      "    accuracy                           0.46      1036\n",
      "   macro avg       0.45      0.45      0.45      1036\n",
      "weighted avg       0.46      0.46      0.46      1036\n",
      "\n"
     ]
    }
   ],
   "source": [
    "from sklearn.ensemble import ExtraTreesClassifier\n",
    "model = ExtraTreesClassifier(n_estimators=100,max_features=3)\n",
    "model.fit(X_train,y_train)\n",
    "y_pred=model.predict(X_test)\n",
    "print(\"Classification report \\n\",classification_report(y_test,y_pred))"
   ]
  },
  {
   "cell_type": "markdown",
   "metadata": {},
   "source": [
    "### AdaBoost Classifier"
   ]
  },
  {
   "cell_type": "code",
   "execution_count": 209,
   "metadata": {},
   "outputs": [
    {
     "name": "stdout",
     "output_type": "stream",
     "text": [
      "Classification report \n",
      "               precision    recall  f1-score   support\n",
      "\n",
      "           0       0.49      0.44      0.46        80\n",
      "           1       0.47      0.61      0.53       330\n",
      "           2       0.48      0.46      0.47       236\n",
      "           3       0.56      0.42      0.48       268\n",
      "           4       0.32      0.29      0.30       122\n",
      "\n",
      "    accuracy                           0.47      1036\n",
      "   macro avg       0.46      0.44      0.45      1036\n",
      "weighted avg       0.48      0.47      0.47      1036\n",
      "\n"
     ]
    }
   ],
   "source": [
    "from sklearn.ensemble import AdaBoostClassifier\n",
    "model = AdaBoostClassifier(n_estimators=100, random_state=123)\n",
    "model.fit(X_train,y_train)\n",
    "y_pred=model.predict(X_test)\n",
    "print(\"Classification report \\n\",classification_report(y_test,y_pred))"
   ]
  },
  {
   "cell_type": "markdown",
   "metadata": {},
   "source": [
    "## Model splitting and parameter tuning -- Gradient Search CV"
   ]
  },
  {
   "cell_type": "code",
   "execution_count": null,
   "metadata": {},
   "outputs": [],
   "source": []
  },
  {
   "cell_type": "code",
   "execution_count": 232,
   "metadata": {},
   "outputs": [],
   "source": [
    "model_params={\n",
    "     'Gradient': {\n",
    "         'model':GradientBoostingClassifier(),\n",
    "         'params':{\n",
    "             'n_estimators':[58,60,57,59,56,54,52,62],\n",
    "             'min_samples_split':[0.07,0.08,0.09,0.06,0.05]\n",
    "          }\n",
    "     },\n",
    "     'svm_rad': {\n",
    "        'model':SVC(kernel='rbf'),\n",
    "        'params':{\n",
    "            'C':[1,2,3,4,5,10,20],\n",
    "            'gamma' : [1,2,3,4,5,6,7,8,9]\n",
    "         }\n",
    "        \n",
    "    },\n",
    "    'random_forest':{\n",
    "        'model':RandomForestClassifier(),\n",
    "        'params':{\n",
    "            'n_estimators':[1,5,10]\n",
    "        }\n",
    "    },\n",
    "    'xg':{\n",
    "         'model':XGBClassifier(),\n",
    "         'params':{\n",
    "             'n_estimators':[0,1,2,3,4],\n",
    "         }\n",
    "     },\n",
    "    'DecisionTree':{\n",
    "        'model':DecisionTreeClassifier(),\n",
    "        'params':{\n",
    "            'criterion':['gini','entropy'],\n",
    "            'min_samples_split':[10,20,30,31,29,35,40],\n",
    "            'max_depth':[200,300,310,290,250,350]\n",
    "        }\n",
    "    }\n",
    "}"
   ]
  },
  {
   "cell_type": "code",
   "execution_count": 233,
   "metadata": {
    "scrolled": true
   },
   "outputs": [
    {
     "name": "stderr",
     "output_type": "stream",
     "text": [
      "C:\\Users\\Vinay\\anaconda3\\lib\\site-packages\\xgboost\\sklearn.py:888: UserWarning: The use of label encoder in XGBClassifier is deprecated and will be removed in a future release. To remove this warning, do the following: 1) Pass option use_label_encoder=False when constructing XGBClassifier object; and 2) Encode your labels (y) as integers starting with 0, i.e. 0, 1, 2, ..., [num_class - 1].\n",
      "  warnings.warn(label_encoder_deprecation_msg, UserWarning)\n"
     ]
    },
    {
     "name": "stdout",
     "output_type": "stream",
     "text": [
      "[12:16:20] WARNING: C:/Users/Administrator/workspace/xgboost-win64_release_1.3.0/src/learner.cc:1061: Starting in XGBoost 1.3.0, the default evaluation metric used with the objective 'multi:softprob' was changed from 'merror' to 'mlogloss'. Explicitly set eval_metric if you'd like to restore the old behavior.\n",
      "[12:16:20] WARNING: C:/Users/Administrator/workspace/xgboost-win64_release_1.3.0/src/learner.cc:1061: Starting in XGBoost 1.3.0, the default evaluation metric used with the objective 'multi:softprob' was changed from 'merror' to 'mlogloss'. Explicitly set eval_metric if you'd like to restore the old behavior.\n",
      "[12:16:20] WARNING: C:/Users/Administrator/workspace/xgboost-win64_release_1.3.0/src/learner.cc:1061: Starting in XGBoost 1.3.0, the default evaluation metric used with the objective 'multi:softprob' was changed from 'merror' to 'mlogloss'. Explicitly set eval_metric if you'd like to restore the old behavior.\n",
      "[12:16:20] WARNING: C:/Users/Administrator/workspace/xgboost-win64_release_1.3.0/src/learner.cc:1061: Starting in XGBoost 1.3.0, the default evaluation metric used with the objective 'multi:softprob' was changed from 'merror' to 'mlogloss'. Explicitly set eval_metric if you'd like to restore the old behavior.\n",
      "[12:16:20] WARNING: C:/Users/Administrator/workspace/xgboost-win64_release_1.3.0/src/learner.cc:1061: Starting in XGBoost 1.3.0, the default evaluation metric used with the objective 'multi:softprob' was changed from 'merror' to 'mlogloss'. Explicitly set eval_metric if you'd like to restore the old behavior.\n",
      "[12:16:21] WARNING: C:/Users/Administrator/workspace/xgboost-win64_release_1.3.0/src/learner.cc:1061: Starting in XGBoost 1.3.0, the default evaluation metric used with the objective 'multi:softprob' was changed from 'merror' to 'mlogloss'. Explicitly set eval_metric if you'd like to restore the old behavior.\n",
      "[12:16:21] WARNING: C:/Users/Administrator/workspace/xgboost-win64_release_1.3.0/src/learner.cc:1061: Starting in XGBoost 1.3.0, the default evaluation metric used with the objective 'multi:softprob' was changed from 'merror' to 'mlogloss'. Explicitly set eval_metric if you'd like to restore the old behavior.\n",
      "[12:16:21] WARNING: C:/Users/Administrator/workspace/xgboost-win64_release_1.3.0/src/learner.cc:1061: Starting in XGBoost 1.3.0, the default evaluation metric used with the objective 'multi:softprob' was changed from 'merror' to 'mlogloss'. Explicitly set eval_metric if you'd like to restore the old behavior.\n",
      "[12:16:21] WARNING: C:/Users/Administrator/workspace/xgboost-win64_release_1.3.0/src/learner.cc:1061: Starting in XGBoost 1.3.0, the default evaluation metric used with the objective 'multi:softprob' was changed from 'merror' to 'mlogloss'. Explicitly set eval_metric if you'd like to restore the old behavior.\n",
      "[12:16:21] WARNING: C:/Users/Administrator/workspace/xgboost-win64_release_1.3.0/src/learner.cc:1061: Starting in XGBoost 1.3.0, the default evaluation metric used with the objective 'multi:softprob' was changed from 'merror' to 'mlogloss'. Explicitly set eval_metric if you'd like to restore the old behavior.\n",
      "[12:16:21] WARNING: C:/Users/Administrator/workspace/xgboost-win64_release_1.3.0/src/learner.cc:1061: Starting in XGBoost 1.3.0, the default evaluation metric used with the objective 'multi:softprob' was changed from 'merror' to 'mlogloss'. Explicitly set eval_metric if you'd like to restore the old behavior.\n",
      "[12:16:21] WARNING: C:/Users/Administrator/workspace/xgboost-win64_release_1.3.0/src/learner.cc:1061: Starting in XGBoost 1.3.0, the default evaluation metric used with the objective 'multi:softprob' was changed from 'merror' to 'mlogloss'. Explicitly set eval_metric if you'd like to restore the old behavior.\n",
      "[12:16:21] WARNING: C:/Users/Administrator/workspace/xgboost-win64_release_1.3.0/src/learner.cc:1061: Starting in XGBoost 1.3.0, the default evaluation metric used with the objective 'multi:softprob' was changed from 'merror' to 'mlogloss'. Explicitly set eval_metric if you'd like to restore the old behavior.\n"
     ]
    }
   ],
   "source": [
    "from sklearn.model_selection import GridSearchCV\n",
    "\n",
    "scores=[]\n",
    "\n",
    "for model_name,mp in model_params.items():\n",
    "    clf=GridSearchCV(mp['model'],mp['params'],cv=3,return_train_score=False)\n",
    "    clf.fit(x,y)\n",
    "    scores.append({\n",
    "    'model':model_name,\n",
    "    'best_score':clf.best_score_,\n",
    "    'best_params':clf.best_params_\n",
    "})\n"
   ]
  },
  {
   "cell_type": "code",
   "execution_count": 234,
   "metadata": {},
   "outputs": [
    {
     "data": {
      "text/html": [
       "<div>\n",
       "<style scoped>\n",
       "    .dataframe tbody tr th:only-of-type {\n",
       "        vertical-align: middle;\n",
       "    }\n",
       "\n",
       "    .dataframe tbody tr th {\n",
       "        vertical-align: top;\n",
       "    }\n",
       "\n",
       "    .dataframe thead th {\n",
       "        text-align: right;\n",
       "    }\n",
       "</style>\n",
       "<table border=\"1\" class=\"dataframe\">\n",
       "  <thead>\n",
       "    <tr style=\"text-align: right;\">\n",
       "      <th></th>\n",
       "      <th>model</th>\n",
       "      <th>best_score</th>\n",
       "      <th>best_params</th>\n",
       "    </tr>\n",
       "  </thead>\n",
       "  <tbody>\n",
       "    <tr>\n",
       "      <th>0</th>\n",
       "      <td>Gradient</td>\n",
       "      <td>0.514844</td>\n",
       "      <td>{'min_samples_split': 0.05, 'n_estimators': 56}</td>\n",
       "    </tr>\n",
       "    <tr>\n",
       "      <th>1</th>\n",
       "      <td>svm_rad</td>\n",
       "      <td>0.482742</td>\n",
       "      <td>{'C': 1, 'gamma': 1}</td>\n",
       "    </tr>\n",
       "    <tr>\n",
       "      <th>2</th>\n",
       "      <td>random_forest</td>\n",
       "      <td>0.461019</td>\n",
       "      <td>{'n_estimators': 10}</td>\n",
       "    </tr>\n",
       "    <tr>\n",
       "      <th>3</th>\n",
       "      <td>xg</td>\n",
       "      <td>0.513396</td>\n",
       "      <td>{'n_estimators': 4}</td>\n",
       "    </tr>\n",
       "    <tr>\n",
       "      <th>4</th>\n",
       "      <td>DecisionTree</td>\n",
       "      <td>0.481776</td>\n",
       "      <td>{'criterion': 'entropy', 'max_depth': 300, 'mi...</td>\n",
       "    </tr>\n",
       "  </tbody>\n",
       "</table>\n",
       "</div>"
      ],
      "text/plain": [
       "           model  best_score  \\\n",
       "0       Gradient    0.514844   \n",
       "1        svm_rad    0.482742   \n",
       "2  random_forest    0.461019   \n",
       "3             xg    0.513396   \n",
       "4   DecisionTree    0.481776   \n",
       "\n",
       "                                         best_params  \n",
       "0    {'min_samples_split': 0.05, 'n_estimators': 56}  \n",
       "1                               {'C': 1, 'gamma': 1}  \n",
       "2                               {'n_estimators': 10}  \n",
       "3                                {'n_estimators': 4}  \n",
       "4  {'criterion': 'entropy', 'max_depth': 300, 'mi...  "
      ]
     },
     "execution_count": 234,
     "metadata": {},
     "output_type": "execute_result"
    }
   ],
   "source": [
    "df=pd.DataFrame(scores,columns=['model','best_score','best_params'])\n",
    "df"
   ]
  },
  {
   "cell_type": "code",
   "execution_count": 238,
   "metadata": {},
   "outputs": [],
   "source": [
    "#  clf.best_estimator_"
   ]
  },
  {
   "cell_type": "code",
   "execution_count": 239,
   "metadata": {},
   "outputs": [],
   "source": [
    "#  clf.best_params_"
   ]
  },
  {
   "cell_type": "markdown",
   "metadata": {},
   "source": [
    "### fitting by best estimator with best parameters"
   ]
  },
  {
   "cell_type": "code",
   "execution_count": 240,
   "metadata": {},
   "outputs": [
    {
     "name": "stdout",
     "output_type": "stream",
     "text": [
      "Classification report :\n",
      "               precision    recall  f1-score   support\n",
      "\n",
      "           0       0.56      0.54      0.55        80\n",
      "           1       0.51      0.62      0.56       330\n",
      "           2       0.50      0.43      0.46       236\n",
      "           3       0.66      0.59      0.62       268\n",
      "           4       0.36      0.34      0.35       122\n",
      "\n",
      "    accuracy                           0.53      1036\n",
      "   macro avg       0.52      0.50      0.51      1036\n",
      "weighted avg       0.53      0.53      0.53      1036\n",
      "\n"
     ]
    }
   ],
   "source": [
    "classifier=GradientBoostingClassifier(random_state=123,n_estimators =56,min_samples_split=0.05)\n",
    "classifier.fit(X_train,y_train)\n",
    "y_pred=classifier.predict(X_test)\n",
    "print(\"Classification report :\\n\",classification_report(y_test,y_pred))"
   ]
  },
  {
   "cell_type": "markdown",
   "metadata": {},
   "source": [
    "## end"
   ]
  },
  {
   "cell_type": "code",
   "execution_count": null,
   "metadata": {},
   "outputs": [],
   "source": []
  },
  {
   "cell_type": "code",
   "execution_count": null,
   "metadata": {},
   "outputs": [],
   "source": []
  },
  {
   "cell_type": "code",
   "execution_count": null,
   "metadata": {},
   "outputs": [],
   "source": []
  }
 ],
 "metadata": {
  "kernelspec": {
   "display_name": "Python 3",
   "language": "python",
   "name": "python3"
  },
  "language_info": {
   "codemirror_mode": {
    "name": "ipython",
    "version": 3
   },
   "file_extension": ".py",
   "mimetype": "text/x-python",
   "name": "python",
   "nbconvert_exporter": "python",
   "pygments_lexer": "ipython3",
   "version": "3.8.3"
  }
 },
 "nbformat": 4,
 "nbformat_minor": 4
}
